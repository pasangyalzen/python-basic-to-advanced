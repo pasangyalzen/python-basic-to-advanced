{
 "cells": [
  {
   "cell_type": "markdown",
   "id": "2c1fd907",
   "metadata": {},
   "source": [
    "Basic Arihtmetic and Type Identification"
   ]
  },
  {
   "cell_type": "markdown",
   "id": "807849a2",
   "metadata": {},
   "source": [
    "•\tCreate three variables: one integer, one float, and one complex number.\n",
    "\n",
    "•\tPrint each variable and use the type() function to confirm their data types.\n"
   ]
  },
  {
   "cell_type": "code",
   "execution_count": 11,
   "id": "9ab53ec1",
   "metadata": {},
   "outputs": [],
   "source": [
    "int_num = 10\n",
    "float_num = 5.6\n",
    "complex_num = 3 + 2j\n",
    "\n"
   ]
  },
  {
   "cell_type": "code",
   "execution_count": null,
   "id": "649ea81f",
   "metadata": {},
   "outputs": [
    {
     "name": "stdout",
     "output_type": "stream",
     "text": [
      "10 <class 'int'>\n",
      "5.6 <class 'float'>\n",
      "(3+2j) <class 'complex'>\n"
     ]
    }
   ],
   "source": [
    "print(int_num,  type(int_num))\n",
    "print(float_num, type(float_num))\n",
    "print(complex_num, type(complex_num))"
   ]
  },
  {
   "cell_type": "markdown",
   "id": "e7331f40",
   "metadata": {},
   "source": [
    "Arithmetic with mixed type"
   ]
  },
  {
   "cell_type": "markdown",
   "id": "c3b4a624",
   "metadata": {},
   "source": [
    "•\tCreate one int variable (a) and one float variable (b).\n",
    "\n",
    "•\tPrint the sum, difference, product, and quotient of a and b.\n",
    "\n",
    "•\tPrint the type() of each result (notice how types may change).\n"
   ]
  },
  {
   "cell_type": "code",
   "execution_count": 17,
   "id": "7aa0a5bd",
   "metadata": {},
   "outputs": [],
   "source": [
    "a = 10\n",
    "b = 8.9"
   ]
  },
  {
   "cell_type": "code",
   "execution_count": 18,
   "id": "d91ed05d",
   "metadata": {},
   "outputs": [
    {
     "name": "stdout",
     "output_type": "stream",
     "text": [
      "Sum : 18.9\n",
      "Difference : 1.0999999999999996\n",
      "Produce :  89.0\n",
      "Quotient :  1.1235955056179774\n"
     ]
    }
   ],
   "source": [
    "print(\"Sum :\", a + b)\n",
    "print(\"Difference :\", a - b)\n",
    "print(\"Produce : \", a  * b)\n",
    "print(\"Quotient : \", a / b)"
   ]
  },
  {
   "cell_type": "code",
   "execution_count": 20,
   "id": "203f9315",
   "metadata": {},
   "outputs": [
    {
     "name": "stdout",
     "output_type": "stream",
     "text": [
      "Sum : 18.9 <class 'float'>\n",
      "Difference : 1.0999999999999996 <class 'float'>\n",
      "Produce :  89.0 <class 'float'>\n",
      "Quotient :  1.1235955056179774 <class 'float'>\n"
     ]
    }
   ],
   "source": [
    "print(\"Sum :\", a + b, type(a+b))\n",
    "print(\"Difference :\", a - b, type(a - b))\n",
    "print(\"Produce : \", a  * b, type(a * b))\n",
    "print(\"Quotient : \", a / b, type(a / b))"
   ]
  },
  {
   "cell_type": "markdown",
   "id": "40b409aa",
   "metadata": {},
   "source": [
    "Comparision Operators "
   ]
  },
  {
   "cell_type": "markdown",
   "id": "c19c9d7b",
   "metadata": {},
   "source": [
    "•\tLet x = 10 and y = 7.\n",
    "\n",
    "•\tPrint the results of x > y, x < y, x == y, and x != y.\n",
    "\n",
    "•\tAfter observing the output, explain why each result is True or False in comments.\n"
   ]
  },
  {
   "cell_type": "code",
   "execution_count": 21,
   "id": "989c8456",
   "metadata": {},
   "outputs": [],
   "source": [
    "x = 10 \n",
    "y =7"
   ]
  },
  {
   "cell_type": "code",
   "execution_count": 22,
   "id": "f84290dd",
   "metadata": {},
   "outputs": [
    {
     "name": "stdout",
     "output_type": "stream",
     "text": [
      "True\n",
      "False\n",
      "False\n",
      "True\n"
     ]
    }
   ],
   "source": [
    "print(x>y)\n",
    "print(x<y)\n",
    "print(x==y)\n",
    "print(x!=y)"
   ]
  },
  {
   "cell_type": "markdown",
   "id": "2bf67143",
   "metadata": {},
   "source": [
    "x > y is true because the x is greater than y.\n",
    "x < y is false because the x is greater than y.\n",
    "X == y is false because the two numbers are not equal.\n",
    "x != y is True because x and y are not equal."
   ]
  },
  {
   "cell_type": "markdown",
   "id": "517202a3",
   "metadata": {},
   "source": [
    "Boolean Varaibles "
   ]
  },
  {
   "cell_type": "markdown",
   "id": "0402d79a",
   "metadata": {},
   "source": [
    "•\tDefine a variable status = True.\n",
    "\n",
    "•\tPrint the value of status and confirm it is a boolean using type(status).\n",
    "\n",
    "•\tReassign status to False and confirm its type again.\n"
   ]
  },
  {
   "cell_type": "code",
   "execution_count": 23,
   "id": "c34032e7",
   "metadata": {},
   "outputs": [
    {
     "name": "stdout",
     "output_type": "stream",
     "text": [
      "True <class 'bool'>\n"
     ]
    }
   ],
   "source": [
    "status = True \n",
    "print(status, type(status))"
   ]
  },
  {
   "cell_type": "code",
   "execution_count": 25,
   "id": "0f75a9e0",
   "metadata": {},
   "outputs": [
    {
     "name": "stdout",
     "output_type": "stream",
     "text": [
      "False <class 'bool'>\n"
     ]
    }
   ],
   "source": [
    "status = False \n",
    "print(status, type(status))"
   ]
  },
  {
   "cell_type": "markdown",
   "id": "6d888cd2",
   "metadata": {},
   "source": [
    "String Creation and Length"
   ]
  },
  {
   "cell_type": "markdown",
   "id": "12e27f02",
   "metadata": {},
   "source": [
    "•\tCreate a string variable, for example text = \"Hello World\".\n",
    "\n",
    "•\tUse len(text) to print its length.\n",
    "\n",
    "•\tUse type(text) to verify it is a string.\n"
   ]
  },
  {
   "cell_type": "code",
   "execution_count": 27,
   "id": "6d02129a",
   "metadata": {},
   "outputs": [
    {
     "name": "stdout",
     "output_type": "stream",
     "text": [
      "Length of Text 11\n"
     ]
    }
   ],
   "source": [
    "text = \"Hello World\"\n",
    "print(\"Length of Text\", len(text))"
   ]
  },
  {
   "cell_type": "code",
   "execution_count": 28,
   "id": "54634750",
   "metadata": {},
   "outputs": [
    {
     "name": "stdout",
     "output_type": "stream",
     "text": [
      "<class 'str'>\n"
     ]
    }
   ],
   "source": [
    "print(type(text))"
   ]
  },
  {
   "cell_type": "markdown",
   "id": "0129470c",
   "metadata": {},
   "source": [
    "String Indexing"
   ]
  },
  {
   "cell_type": "markdown",
   "id": "bdc6c887",
   "metadata": {},
   "source": [
    "•\tWith the string s = \"Python\", print each character. Then print just the first and last characters using negative indexing."
   ]
  },
  {
   "cell_type": "code",
   "execution_count": 30,
   "id": "f46b12c6",
   "metadata": {},
   "outputs": [],
   "source": [
    "s = \"Python\"\n"
   ]
  },
  {
   "cell_type": "code",
   "execution_count": 32,
   "id": "b93374a9",
   "metadata": {},
   "outputs": [
    {
     "name": "stdout",
     "output_type": "stream",
     "text": [
      "P\n",
      "y\n",
      "t\n",
      "h\n",
      "o\n",
      "n\n"
     ]
    }
   ],
   "source": [
    "for i in range(len(s)):\n",
    "    print(s[i])"
   ]
  },
  {
   "cell_type": "code",
   "execution_count": 33,
   "id": "a66aa88d",
   "metadata": {},
   "outputs": [
    {
     "name": "stdout",
     "output_type": "stream",
     "text": [
      "P\n",
      "n\n"
     ]
    }
   ],
   "source": [
    "print(s[-6])\n",
    "\n",
    "print(s[-1])"
   ]
  },
  {
   "cell_type": "markdown",
   "id": "76053a16",
   "metadata": {},
   "source": [
    "String Slicing"
   ]
  },
  {
   "cell_type": "markdown",
   "id": "80b83f62",
   "metadata": {},
   "source": [
    "•\tLet lang = \"Programming\".\n",
    "\n",
    "•\tPrint the substring from index 0 to index 4.\n",
    "\n",
    "•\tPrint the substring from index 3 to the end.\n",
    "\n",
    "•\tPrint the substring that omits the first 2 and last 2 characters.\n"
   ]
  },
  {
   "cell_type": "code",
   "execution_count": 35,
   "id": "995b41bf",
   "metadata": {},
   "outputs": [],
   "source": [
    "lang = \"Programming\""
   ]
  },
  {
   "cell_type": "code",
   "execution_count": 37,
   "id": "7fa2c5e2",
   "metadata": {},
   "outputs": [
    {
     "name": "stdout",
     "output_type": "stream",
     "text": [
      "Pyth\n"
     ]
    }
   ],
   "source": [
    "print(s[0:4])"
   ]
  },
  {
   "cell_type": "code",
   "execution_count": 39,
   "id": "b6b8f8dc",
   "metadata": {},
   "outputs": [
    {
     "name": "stdout",
     "output_type": "stream",
     "text": [
      "hon\n"
     ]
    }
   ],
   "source": [
    "print(s[3:])"
   ]
  },
  {
   "cell_type": "code",
   "execution_count": 41,
   "id": "37fba81f",
   "metadata": {},
   "outputs": [
    {
     "name": "stdout",
     "output_type": "stream",
     "text": [
      "th\n"
     ]
    }
   ],
   "source": [
    "print(s[2:-2])"
   ]
  },
  {
   "cell_type": "markdown",
   "id": "c1cf1ab9",
   "metadata": {},
   "source": [
    "Exploring len() on Slices"
   ]
  },
  {
   "cell_type": "markdown",
   "id": "459847ca",
   "metadata": {},
   "source": [
    "•\tContinue using lang = \"Programming\".\n",
    "\n",
    "•\tSlice lang to get \"Program\" and store it in a variable part1.\n",
    "\n",
    "•\tPrint len(part1) and comment how it differs from len(lang).\n"
   ]
  },
  {
   "cell_type": "code",
   "execution_count": 42,
   "id": "bc65b814",
   "metadata": {},
   "outputs": [],
   "source": [
    "part1 = lang[:7]"
   ]
  },
  {
   "cell_type": "code",
   "execution_count": 44,
   "id": "930a77f2",
   "metadata": {},
   "outputs": [
    {
     "name": "stdout",
     "output_type": "stream",
     "text": [
      "length of Programming 7\n",
      "Length of full string 11\n"
     ]
    }
   ],
   "source": [
    "print(\"length of Programming\", len(part1))\n",
    "print(\"Length of full string\", len(lang))\n",
    "\n"
   ]
  },
  {
   "cell_type": "markdown",
   "id": "fb1f2122",
   "metadata": {},
   "source": [
    "String Methods - Case Conversion"
   ]
  },
  {
   "cell_type": "markdown",
   "id": "48455c5f",
   "metadata": {},
   "source": [
    "•\tLet phrase = \"Hello, Python!\".\n",
    "\n",
    "•\tPrint phrase.upper() and phrase.lower().\n",
    "\n",
    "•\tPrint the original phrase to show it remains unchanged (strings are immutable).\n"
   ]
  },
  {
   "cell_type": "code",
   "execution_count": 47,
   "id": "9f1a97e9",
   "metadata": {},
   "outputs": [],
   "source": [
    "phrase = \"Hello, Python\""
   ]
  },
  {
   "cell_type": "code",
   "execution_count": 48,
   "id": "94e8f7bb",
   "metadata": {},
   "outputs": [
    {
     "name": "stdout",
     "output_type": "stream",
     "text": [
      "HELLO, PYTHON\n",
      "hello, python\n",
      "Original Phrase:  Hello, Python\n"
     ]
    }
   ],
   "source": [
    "print(phrase.upper())\n",
    "print(phrase.lower())\n",
    "print(\"Original Phrase: \", phrase)"
   ]
  },
  {
   "cell_type": "markdown",
   "id": "2911c363",
   "metadata": {},
   "source": [
    "Combining Strings\n"
   ]
  },
  {
   "cell_type": "markdown",
   "id": "f3cf1a5e",
   "metadata": {},
   "source": [
    "•\tCreate two strings, str1 = \"Data\" and str2 = \"Science\".\n",
    "\n",
    "•\tCombine them into a single string with a space in between and print it.\n",
    "\n",
    "•\tPrint the length of the combined string.\n"
   ]
  },
  {
   "cell_type": "markdown",
   "id": "ebf4a837",
   "metadata": {},
   "source": []
  },
  {
   "cell_type": "code",
   "execution_count": 50,
   "id": "e549fa55",
   "metadata": {},
   "outputs": [],
   "source": [
    "str1 = \"Data\"\n",
    "str2 = \"Science\"\n"
   ]
  },
  {
   "cell_type": "code",
   "execution_count": 53,
   "id": "7272e9cd",
   "metadata": {},
   "outputs": [
    {
     "name": "stdout",
     "output_type": "stream",
     "text": [
      "Data Science\n"
     ]
    }
   ],
   "source": [
    "combined = str1 + \" \" + str2 \n",
    "print(combined)"
   ]
  },
  {
   "cell_type": "code",
   "execution_count": 55,
   "id": "efe423cc",
   "metadata": {},
   "outputs": [
    {
     "name": "stdout",
     "output_type": "stream",
     "text": [
      "Length of the combined string : 12\n"
     ]
    }
   ],
   "source": [
    "print(\"Length of the combined string :\", len(combined))"
   ]
  },
  {
   "cell_type": "markdown",
   "id": "5d014176",
   "metadata": {},
   "source": [
    "In-Place vs Reassignments with String Methods"
   ]
  },
  {
   "cell_type": "markdown",
   "id": "104b847a",
   "metadata": {},
   "source": [
    "•\tLet word = \"example\".\n",
    "\n",
    "•\tCall word.upper() but do not store it, then print word.\n",
    "\n",
    "•\tNow set word = word.upper(), then print word.\n",
    "\n",
    "•\tComment on why the second print is different from the first.\n"
   ]
  },
  {
   "cell_type": "code",
   "execution_count": 58,
   "id": "0a9e3575",
   "metadata": {},
   "outputs": [],
   "source": [
    "word  = \"example\""
   ]
  },
  {
   "cell_type": "code",
   "execution_count": 60,
   "id": "e5e10564",
   "metadata": {},
   "outputs": [
    {
     "name": "stdout",
     "output_type": "stream",
     "text": [
      "example\n"
     ]
    }
   ],
   "source": [
    "word.upper()\n",
    "print(word)"
   ]
  },
  {
   "cell_type": "code",
   "execution_count": 63,
   "id": "b96bafe0",
   "metadata": {},
   "outputs": [
    {
     "name": "stdout",
     "output_type": "stream",
     "text": [
      "EXAMPLE\n"
     ]
    }
   ],
   "source": [
    "word = word.upper()\n",
    "print(word)\n",
    "#Here the value is assigned after changing it to Upper Case where as in the first one the value is not assigned.\n"
   ]
  },
  {
   "cell_type": "markdown",
   "id": "0151ad5d",
   "metadata": {},
   "source": [
    "Arithmentic Operator Precedence"
   ]
  },
  {
   "cell_type": "markdown",
   "id": "8958e24d",
   "metadata": {},
   "source": [
    "•\tDefine a = 5, b = 3, c = 2.\n",
    "\n",
    "•\tPrint the result of the expression a + b * c.\n",
    "\n",
    "•\tPrint the result of (a + b) * c.\n",
    "\n",
    "•\tIn comments, explain how operator precedence affects the outcome.\n"
   ]
  },
  {
   "cell_type": "code",
   "execution_count": 65,
   "id": "d0f2a950",
   "metadata": {},
   "outputs": [],
   "source": [
    "a = 5\n",
    "b = 3 \n",
    "c = 2 \n"
   ]
  },
  {
   "cell_type": "code",
   "execution_count": 67,
   "id": "750fba84",
   "metadata": {},
   "outputs": [
    {
     "name": "stdout",
     "output_type": "stream",
     "text": [
      "a + b * c :  11\n"
     ]
    }
   ],
   "source": [
    "print(\"a + b * c : \", a + b * c)"
   ]
  },
  {
   "cell_type": "code",
   "execution_count": 70,
   "id": "a433d961",
   "metadata": {},
   "outputs": [
    {
     "name": "stdout",
     "output_type": "stream",
     "text": [
      "(a + b) * c : 16\n"
     ]
    }
   ],
   "source": [
    "print(\"(a + b) * c :\", (a + b) * c)        \n",
    "#Here just like in BODMAS the operation inside the bracket are given importance and hence that results in the differences in the result "
   ]
  },
  {
   "cell_type": "markdown",
   "id": "b821a724",
   "metadata": {},
   "source": [
    "String Index Out of Range"
   ]
  },
  {
   "cell_type": "markdown",
   "id": "82315910",
   "metadata": {},
   "source": [
    "•\tLet text = \"Hello\".\n",
    "\n",
    "•\tAttempt to access an index that doesn’t exist, like text[10].\n",
    "\n",
    "•\tObserve the error message (IndexError) and explain why it happens in comments.\n"
   ]
  },
  {
   "cell_type": "code",
   "execution_count": 72,
   "id": "bca48aff",
   "metadata": {},
   "outputs": [],
   "source": [
    "text = \"Hello\""
   ]
  },
  {
   "cell_type": "code",
   "execution_count": 74,
   "id": "bb617795",
   "metadata": {},
   "outputs": [
    {
     "ename": "IndexError",
     "evalue": "string index out of range",
     "output_type": "error",
     "traceback": [
      "\u001b[0;31m---------------------------------------------------------------------------\u001b[0m",
      "\u001b[0;31mIndexError\u001b[0m                                Traceback (most recent call last)",
      "Cell \u001b[0;32mIn[74], line 1\u001b[0m\n\u001b[0;32m----> 1\u001b[0m \u001b[38;5;28mprint\u001b[39m(\u001b[43mtext\u001b[49m\u001b[43m[\u001b[49m\u001b[38;5;241;43m10\u001b[39;49m\u001b[43m]\u001b[49m)\n",
      "\u001b[0;31mIndexError\u001b[0m: string index out of range"
     ]
    }
   ],
   "source": [
    "print(text[10])    \n",
    "#The error that occured here that is Index error occured because the index we are accessing is out of range that is it doesn't exist."
   ]
  },
  {
   "cell_type": "markdown",
   "id": "6aa6647f",
   "metadata": {},
   "source": [
    "Equality vs Identity check"
   ]
  },
  {
   "cell_type": "markdown",
   "id": "6d60a940",
   "metadata": {},
   "source": [
    "•\tCreate two variables with the same string value, s1 = \"test\" and s2 = \"test\".\n",
    "\n",
    "•\tUse the == operator to compare them, then use the is operator.\n",
    "\n",
    "•\tExplain in comments what each comparison checks.\n"
   ]
  },
  {
   "cell_type": "code",
   "execution_count": 76,
   "id": "ca8e5881",
   "metadata": {},
   "outputs": [],
   "source": [
    "s1 = \"text\"\n",
    "s2 = \"text\""
   ]
  },
  {
   "cell_type": "code",
   "execution_count": null,
   "id": "9e2b3a54",
   "metadata": {},
   "outputs": [
    {
     "name": "stdout",
     "output_type": "stream",
     "text": [
      "True\n"
     ]
    }
   ],
   "source": [
    "print(s1 == s2)\n",
    "# True: values are equal"
   ]
  },
  {
   "cell_type": "code",
   "execution_count": null,
   "id": "68589bf6",
   "metadata": {},
   "outputs": [
    {
     "name": "stdout",
     "output_type": "stream",
     "text": [
      "True\n"
     ]
    }
   ],
   "source": [
    "print(s1 is s2)\n",
    "# True: Python caches small strings, so they refer to same object\n",
    "# == compares values; 'is' checks memory location identity"
   ]
  },
  {
   "cell_type": "markdown",
   "id": "f30f1af1",
   "metadata": {},
   "source": [
    "Creating and Checking a Complex Number"
   ]
  },
  {
   "cell_type": "markdown",
   "id": "396099a5",
   "metadata": {},
   "source": [
    "•\tDefine z = 3 + 4j.\n",
    "\n",
    "•\tPrint the real part (z.real) and the imaginary part (z.imag).\n",
    "\n",
    "•\tConfirm that its type is complex using type(z).\n"
   ]
  },
  {
   "cell_type": "code",
   "execution_count": 85,
   "id": "e2dbb4d9",
   "metadata": {},
   "outputs": [],
   "source": [
    "z = 3 + 4j"
   ]
  },
  {
   "cell_type": "markdown",
   "id": "5dc51560",
   "metadata": {},
   "source": []
  },
  {
   "cell_type": "code",
   "execution_count": null,
   "id": "634f5a35",
   "metadata": {},
   "outputs": [
    {
     "name": "stdout",
     "output_type": "stream",
     "text": [
      "Real Number 3.0\n",
      "Imaginary Number 4.0\n"
     ]
    }
   ],
   "source": [
    "print(\"Real Number\",z.real)\n",
    "print(\"Imaginary Number\",z.imag)\n",
    "#Here the real number is the 3 and the imaginary number is one that comes with j in the end\n"
   ]
  },
  {
   "cell_type": "code",
   "execution_count": 88,
   "id": "0c5b61e9",
   "metadata": {},
   "outputs": [
    {
     "name": "stdout",
     "output_type": "stream",
     "text": [
      "<class 'complex'>\n"
     ]
    }
   ],
   "source": [
    "print(type(z))"
   ]
  },
  {
   "cell_type": "markdown",
   "id": "78f5d979",
   "metadata": {},
   "source": [
    "Comparision with floats"
   ]
  },
  {
   "cell_type": "markdown",
   "id": "8b6ca985",
   "metadata": {},
   "source": [
    "•\tLet f1 = 0.1 + 0.2 and f2 = 0.3.\n",
    "\n",
    "•\tPrint f1 == f2.\n",
    "\n",
    "•\tPrint the actual values of f1 and f2 to explain any difference in the comparison outcome (floating-point precision).\n"
   ]
  },
  {
   "cell_type": "code",
   "execution_count": 90,
   "id": "b552dac6",
   "metadata": {},
   "outputs": [],
   "source": [
    "f1 = 0.1 + 0.2\n",
    "f2 = 0.3"
   ]
  },
  {
   "cell_type": "code",
   "execution_count": 92,
   "id": "cb18f7c0",
   "metadata": {},
   "outputs": [
    {
     "name": "stdout",
     "output_type": "stream",
     "text": [
      "False\n"
     ]
    }
   ],
   "source": [
    "print(f1 == f2)"
   ]
  },
  {
   "cell_type": "code",
   "execution_count": 95,
   "id": "ead5ea55",
   "metadata": {},
   "outputs": [
    {
     "name": "stdout",
     "output_type": "stream",
     "text": [
      "f1 : 0.30000000000000004\n",
      "f2 : 0.3\n"
     ]
    }
   ],
   "source": [
    "print(\"f1 :\",f1)\n",
    "print(\"f2 :\",f2)\n",
    "#Our computer doesn’t always handle decimals perfectly. It’s like using a ruler with tiny errors. So when comparing decimals, you need to help it out a little with rounding or tolerance."
   ]
  }
 ],
 "metadata": {
  "kernelspec": {
   "display_name": "modelprep",
   "language": "python",
   "name": "python3"
  },
  "language_info": {
   "codemirror_mode": {
    "name": "ipython",
    "version": 3
   },
   "file_extension": ".py",
   "mimetype": "text/x-python",
   "name": "python",
   "nbconvert_exporter": "python",
   "pygments_lexer": "ipython3",
   "version": "3.10.18"
  }
 },
 "nbformat": 4,
 "nbformat_minor": 5
}
