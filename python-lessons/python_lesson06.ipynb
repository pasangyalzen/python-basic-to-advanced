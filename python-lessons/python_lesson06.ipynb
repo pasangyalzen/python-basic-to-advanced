{
  "cells": [
    {
      "cell_type": "markdown",
      "metadata": {},
      "source": [
        "## SET"
      ]
    },
    {
      "cell_type": "markdown",
      "metadata": {
        "id": "78gtbHxkZbd_"
      },
      "source": [
        "- Set in Python is a collection of items where each item is unique, meaning no duplicates are allowed.\n",
        "- Set is written using curly braces {} containing at least one element, like this: my_set = {1, 2, 3, \"apple\"}.\n",
        "- The items in a set are unordered, so they don’t have a specific position, and we can’t access them using an index like in a list."
      ]
    },
    {
      "cell_type": "markdown",
      "metadata": {
        "id": "NlEpV_3TXl8s"
      },
      "source": [
        "- We can do indexing and slicing in list and tuple but we can't do indexing and slicing in set.\n",
        "- Duplicate data are allowed in list and tuple but not in set."
      ]
    },
    {
      "cell_type": "code",
      "execution_count": 3,
      "metadata": {
        "id": "UV-oucyuaaQ0"
      },
      "outputs": [],
      "source": [
        "s1 = {}\n",
        "\n",
        "# Set is also bounded by curly braces as well but it wont have a key value pair and thats what it seperates out from a dictionary. Sets only contain unique values"
      ]
    },
    {
      "cell_type": "code",
      "execution_count": 4,
      "metadata": {
        "colab": {
          "base_uri": "https://localhost:8080/"
        },
        "id": "OlvNEH-zadVq",
        "outputId": "262d9605-9db5-4933-ec12-ca09de300f17"
      },
      "outputs": [
        {
          "data": {
            "text/plain": [
              "dict"
            ]
          },
          "execution_count": 4,
          "metadata": {},
          "output_type": "execute_result"
        }
      ],
      "source": [
        "type(s1)\n",
        "\n",
        "# If we look at the type of the s1, it says dictionary"
      ]
    },
    {
      "cell_type": "code",
      "execution_count": 5,
      "metadata": {
        "colab": {
          "base_uri": "https://localhost:8080/"
        },
        "id": "OeAZBWoradbU",
        "outputId": "1427f731-d766-4c1f-9a51-ca3407583d8f"
      },
      "outputs": [
        {
          "data": {
            "text/plain": [
              "list"
            ]
          },
          "execution_count": 5,
          "metadata": {},
          "output_type": "execute_result"
        }
      ],
      "source": [
        "l1 = []\n",
        "type(l1)\n",
        "# Lists are bounded by [ ]"
      ]
    },
    {
      "cell_type": "code",
      "execution_count": 6,
      "metadata": {
        "colab": {
          "base_uri": "https://localhost:8080/"
        },
        "id": "Gim590Z3adhw",
        "outputId": "bce9749f-b0ae-4bfd-f046-393f344fab78"
      },
      "outputs": [
        {
          "data": {
            "text/plain": [
              "tuple"
            ]
          },
          "execution_count": 6,
          "metadata": {},
          "output_type": "execute_result"
        }
      ],
      "source": [
        "t1 = ()\n",
        "type(t1)\n",
        "\n",
        "# Tuples are bounded by paranthesis"
      ]
    },
    {
      "cell_type": "code",
      "execution_count": 7,
      "metadata": {
        "colab": {
          "base_uri": "https://localhost:8080/"
        },
        "id": "rTDRXkvNad0s",
        "outputId": "eea52a73-658b-43ca-d1c5-3fc12a3b3e9b"
      },
      "outputs": [
        {
          "data": {
            "text/plain": [
              "set"
            ]
          },
          "execution_count": 7,
          "metadata": {},
          "output_type": "execute_result"
        }
      ],
      "source": [
        "s = set()\n",
        "type(s)\n",
        "\n"
      ]
    },
    {
      "cell_type": "code",
      "execution_count": 8,
      "metadata": {
        "id": "jQVynkc6ad7R"
      },
      "outputs": [],
      "source": [
        "s = {1,2,3,4,1,1,1,2,2,3,3,4,2,1,4,4,3}"
      ]
    },
    {
      "cell_type": "code",
      "execution_count": null,
      "metadata": {
        "colab": {
          "base_uri": "https://localhost:8080/"
        },
        "id": "S_dUnBJlaaVM",
        "outputId": "42b2b8e1-26d8-47a1-90d5-0782b354f9f8"
      },
      "outputs": [
        {
          "data": {
            "text/plain": [
              "{1, 2, 3, 4}"
            ]
          },
          "execution_count": 8,
          "metadata": {},
          "output_type": "execute_result"
        }
      ],
      "source": [
        "s"
      ]
    },
    {
      "cell_type": "markdown",
      "metadata": {
        "id": "Q9WIGzC1bUu_"
      },
      "source": [
        "The elements in the set should not be mutable because sets are implemented as hash tables."
      ]
    },
    {
      "cell_type": "code",
      "execution_count": 10,
      "metadata": {
        "colab": {
          "base_uri": "https://localhost:8080/",
          "height": 141
        },
        "id": "s971GjGJaavK",
        "outputId": "784da9eb-3fde-45f1-d244-4ecf1a3cbf3c"
      },
      "outputs": [
        {
          "ename": "TypeError",
          "evalue": "unhashable type: 'list'",
          "output_type": "error",
          "traceback": [
            "\u001b[0;31m---------------------------------------------------------------------------\u001b[0m",
            "\u001b[0;31mTypeError\u001b[0m                                 Traceback (most recent call last)",
            "Cell \u001b[0;32mIn[10], line 1\u001b[0m\n\u001b[0;32m----> 1\u001b[0m s \u001b[38;5;241m=\u001b[39m {\u001b[38;5;241m1\u001b[39m,\u001b[38;5;241m2.33\u001b[39m,\u001b[38;5;28;01mTrue\u001b[39;00m,\u001b[38;5;241m8\u001b[39m\u001b[38;5;241m+\u001b[39m\u001b[38;5;241m2\u001b[39mj,\u001b[38;5;124m'\u001b[39m\u001b[38;5;124mhello\u001b[39m\u001b[38;5;124m'\u001b[39m,[\u001b[38;5;241m1\u001b[39m,\u001b[38;5;241m2\u001b[39m,\u001b[38;5;241m3\u001b[39m],(\u001b[38;5;241m4\u001b[39m,\u001b[38;5;241m5\u001b[39m),{\u001b[38;5;241m4\u001b[39m,\u001b[38;5;241m7\u001b[39m,\u001b[38;5;241m8\u001b[39m}}\n",
            "\u001b[0;31mTypeError\u001b[0m: unhashable type: 'list'"
          ]
        }
      ],
      "source": [
        "s = {1,2.33,True,8+2j,'hello',[1,2,3],(4,5),{4,7,8}}\n",
        "\n",
        "# lists are mutable, so [1,2,3] cannot be an element of a set.\n",
        "# Sets cannot contain other sets (like {4,7,8}) either, because sets themselves are mutable.\n",
        "# The error occurs due to both the list and the nested set being unhashable."
      ]
    },
    {
      "cell_type": "markdown",
      "metadata": {},
      "source": [
        "Why This Fails:\n",
        "\n",
        "• Lists ([1, 2, 3]) and sets ({4, 7, 8}) are mutable, meaning their contents can change.\n",
        "\n",
        "• Sets require all elements to be immutable (hashable) for fast lookup using hash tables.\n",
        "\n",
        "• Immutable elements like 1, 2.33, True, 8+2j, 'hello', and (4, 5) are fine.\n",
        "\n",
        "• But list and set cause TypeError: unhashable type."
      ]
    },
    {
      "cell_type": "code",
      "execution_count": null,
      "metadata": {
        "colab": {
          "base_uri": "https://localhost:8080/",
          "height": 141
        },
        "id": "V8AU5d8naazB",
        "outputId": "2daf40ea-49d8-4bac-8cf6-042e580ea92f"
      },
      "outputs": [
        {
          "ename": "TypeError",
          "evalue": "unhashable type: 'set'",
          "output_type": "error",
          "traceback": [
            "\u001b[0;31m---------------------------------------------------------------------------\u001b[0m",
            "\u001b[0;31mTypeError\u001b[0m                                 Traceback (most recent call last)",
            "\u001b[0;32m/tmp/ipython-input-12-2525351378.py\u001b[0m in \u001b[0;36m<cell line: 0>\u001b[0;34m()\u001b[0m\n\u001b[0;32m----> 1\u001b[0;31m \u001b[0ms\u001b[0m \u001b[0;34m=\u001b[0m \u001b[0;34m{\u001b[0m\u001b[0;36m1\u001b[0m\u001b[0;34m,\u001b[0m\u001b[0;36m2\u001b[0m\u001b[0;34m,\u001b[0m\u001b[0;36m3\u001b[0m\u001b[0;34m,\u001b[0m\u001b[0;34m{\u001b[0m\u001b[0;36m4\u001b[0m\u001b[0;34m,\u001b[0m\u001b[0;36m5\u001b[0m\u001b[0;34m}\u001b[0m\u001b[0;34m}\u001b[0m\u001b[0;34m\u001b[0m\u001b[0;34m\u001b[0m\u001b[0m\n\u001b[0m",
            "\u001b[0;31mTypeError\u001b[0m: unhashable type: 'set'"
          ]
        }
      ],
      "source": [
        "s = {1,2,3,{4,5}}\n",
        "\n",
        "# Set cannot contain another set"
      ]
    },
    {
      "cell_type": "markdown",
      "metadata": {},
      "source": [
        "# The important thing is that set itself is mutable but the element inside it must be immutable "
      ]
    },
    {
      "cell_type": "code",
      "execution_count": 11,
      "metadata": {
        "id": "t7_VrtI2aa2m"
      },
      "outputs": [],
      "source": [
        "s4 = {1,2,2,2,3,3,3,1,1,1,4,3,3,4,4,2,1,4,4,3}"
      ]
    },
    {
      "cell_type": "code",
      "execution_count": 13,
      "metadata": {
        "colab": {
          "base_uri": "https://localhost:8080/"
        },
        "id": "mH6xcLMIHS3L",
        "outputId": "3aac1bfb-3bd4-4b79-a821-82f168a42e71"
      },
      "outputs": [
        {
          "data": {
            "text/plain": [
              "{1, 2, 3, 4}"
            ]
          },
          "execution_count": 13,
          "metadata": {},
          "output_type": "execute_result"
        }
      ],
      "source": [
        "s4\n",
        "\n",
        "# The elements in the set must be unique cant have repeated elements"
      ]
    },
    {
      "cell_type": "code",
      "execution_count": 15,
      "metadata": {
        "colab": {
          "base_uri": "https://localhost:8080/"
        },
        "id": "UVSvp0uCIBb4",
        "outputId": "e1976f1b-b16a-468b-e56c-b28549df192b"
      },
      "outputs": [
        {
          "data": {
            "text/plain": [
              "[1, 2, 3, 4]"
            ]
          },
          "execution_count": 15,
          "metadata": {},
          "output_type": "execute_result"
        }
      ],
      "source": [
        "list(s4)\n",
        "#Changing sets into list "
      ]
    },
    {
      "cell_type": "code",
      "execution_count": 18,
      "metadata": {
        "colab": {
          "base_uri": "https://localhost:8080/"
        },
        "id": "UCk_jwjpbfgP",
        "outputId": "631470dc-da27-44cb-d1a6-d7b62e0fd2b5"
      },
      "outputs": [
        {
          "data": {
            "text/plain": [
              "{1, 2, 3, 4}"
            ]
          },
          "execution_count": 18,
          "metadata": {},
          "output_type": "execute_result"
        }
      ],
      "source": [
        "set(list(s4))"
      ]
    },
    {
      "cell_type": "code",
      "execution_count": 19,
      "metadata": {
        "colab": {
          "base_uri": "https://localhost:8080/"
        },
        "id": "qwYAaLxgHS3L",
        "outputId": "757e10b9-fca8-40fc-b609-d405cd715f7d"
      },
      "outputs": [
        {
          "data": {
            "text/plain": [
              "[2, 3, 4, 5, 6, 2, 2, 3, 2, 1, 'nepal']"
            ]
          },
          "execution_count": 19,
          "metadata": {},
          "output_type": "execute_result"
        }
      ],
      "source": [
        "l6 = [2, 3, 4, 5, 6, 2, 2, 3, 2, 1, 'nepal']\n",
        "l6"
      ]
    },
    {
      "cell_type": "code",
      "execution_count": 20,
      "metadata": {
        "id": "O5r7GYdJHS3M"
      },
      "outputs": [],
      "source": [
        "l6 = set(l6)"
      ]
    },
    {
      "cell_type": "code",
      "execution_count": 21,
      "metadata": {
        "colab": {
          "base_uri": "https://localhost:8080/"
        },
        "id": "OkY91VZa7U9S",
        "outputId": "be942798-5781-4151-8387-e8301e43a7d5"
      },
      "outputs": [
        {
          "data": {
            "text/plain": [
              "{1, 2, 3, 4, 5, 6, 'nepal'}"
            ]
          },
          "execution_count": 21,
          "metadata": {},
          "output_type": "execute_result"
        }
      ],
      "source": [
        "l6\n",
        "\n",
        "#When converted to set the repeated elemenmts are made one and only unique elements are left out"
      ]
    },
    {
      "cell_type": "code",
      "execution_count": 24,
      "metadata": {
        "id": "RxTM0S-iHS3M"
      },
      "outputs": [],
      "source": [
        "l6 = list(l6)\n",
        "# When further changed to list its previous value are not retained "
      ]
    },
    {
      "cell_type": "code",
      "execution_count": 25,
      "metadata": {
        "colab": {
          "base_uri": "https://localhost:8080/"
        },
        "id": "SVuj9DUTHqA3",
        "outputId": "f0cb2f21-4b8e-4393-8f74-2fdcf1698637"
      },
      "outputs": [
        {
          "data": {
            "text/plain": [
              "[1, 2, 3, 4, 5, 6, 'nepal']"
            ]
          },
          "execution_count": 25,
          "metadata": {},
          "output_type": "execute_result"
        }
      ],
      "source": [
        "l6"
      ]
    },
    {
      "cell_type": "code",
      "execution_count": 26,
      "metadata": {
        "id": "K_FYE61MI5Zr"
      },
      "outputs": [],
      "source": [
        "l6 = [1,2,3,2,1,2,3,4,5,4,5,5,6,7,6,6,8,8,9,8,9,0,9,0]"
      ]
    },
    {
      "cell_type": "code",
      "execution_count": 27,
      "metadata": {
        "colab": {
          "base_uri": "https://localhost:8080/"
        },
        "id": "Ttq7Pru6b4XW",
        "outputId": "331bd8aa-99c4-4e50-8173-82ba722e0f03"
      },
      "outputs": [
        {
          "data": {
            "text/plain": [
              "[1, 2, 3, 2, 1, 2, 3, 4, 5, 4, 5, 5, 6, 7, 6, 6, 8, 8, 9, 8, 9, 0, 9, 0]"
            ]
          },
          "execution_count": 27,
          "metadata": {},
          "output_type": "execute_result"
        }
      ],
      "source": [
        "l6"
      ]
    },
    {
      "cell_type": "code",
      "execution_count": 28,
      "metadata": {
        "colab": {
          "base_uri": "https://localhost:8080/"
        },
        "id": "_tNHvvREb9h8",
        "outputId": "571dedd1-c7ac-47f0-c53a-7c02b0543bc5"
      },
      "outputs": [
        {
          "data": {
            "text/plain": [
              "{0, 1, 2, 3, 4, 5, 6, 7, 8, 9}"
            ]
          },
          "execution_count": 28,
          "metadata": {},
          "output_type": "execute_result"
        }
      ],
      "source": [
        "set(l6)"
      ]
    },
    {
      "cell_type": "code",
      "execution_count": 29,
      "metadata": {
        "id": "cASTOBjtHS3M"
      },
      "outputs": [],
      "source": [
        "l6 = list(set(l6))"
      ]
    },
    {
      "cell_type": "code",
      "execution_count": 30,
      "metadata": {
        "colab": {
          "base_uri": "https://localhost:8080/"
        },
        "id": "THjQ_8xqHS3N",
        "outputId": "00f70ffc-2d29-411b-aa3c-ab4f68ba3dad"
      },
      "outputs": [
        {
          "data": {
            "text/plain": [
              "[0, 1, 2, 3, 4, 5, 6, 7, 8, 9]"
            ]
          },
          "execution_count": 30,
          "metadata": {},
          "output_type": "execute_result"
        }
      ],
      "source": [
        "l6"
      ]
    },
    {
      "cell_type": "code",
      "execution_count": null,
      "metadata": {
        "colab": {
          "base_uri": "https://localhost:8080/"
        },
        "id": "l1KrvPBCcgoA",
        "outputId": "5dd92ab8-1f9d-466f-a363-f4f13da0d7a5"
      },
      "outputs": [
        {
          "data": {
            "text/plain": [
              "[1, 2.4, True, (3-4j), 'string', [1, 2, 3], (4, 5, 6), {7, 8, 9}]"
            ]
          },
          "execution_count": 31,
          "metadata": {},
          "output_type": "execute_result"
        }
      ],
      "source": [
        "l = [1,2.4,True,3-4J,'string',[1,2,3],(4,5,6),{7,8,9}]\n",
        "l\n",
        "\n",
        "# Heterogeneous List"
      ]
    },
    {
      "cell_type": "code",
      "execution_count": 33,
      "metadata": {
        "colab": {
          "base_uri": "https://localhost:8080/"
        },
        "id": "a-XHEUlLcuLe",
        "outputId": "328445e9-4ac8-4822-fdfb-9062dfab4970"
      },
      "outputs": [
        {
          "data": {
            "text/plain": [
              "(1, 2.4, True, (3-4j), 'string', [1, 2, 3], (4, 5, 6), {7, 8, 9})"
            ]
          },
          "execution_count": 33,
          "metadata": {},
          "output_type": "execute_result"
        }
      ],
      "source": [
        "t = (1,2.4,True,3-4J,'string',[1,2,3],(4,5,6),{7,8,9})\n",
        "t\n",
        "\n",
        "# The tuple is immutable that is it cannot be changed after the creation"
      ]
    },
    {
      "cell_type": "code",
      "execution_count": 34,
      "metadata": {
        "colab": {
          "base_uri": "https://localhost:8080/",
          "height": 141
        },
        "id": "MPqR4OF2HS3N",
        "outputId": "1f965d47-11f7-4662-dff0-a86eeb83ceb3"
      },
      "outputs": [
        {
          "ename": "TypeError",
          "evalue": "unhashable type: 'list'",
          "output_type": "error",
          "traceback": [
            "\u001b[0;31m---------------------------------------------------------------------------\u001b[0m",
            "\u001b[0;31mTypeError\u001b[0m                                 Traceback (most recent call last)",
            "Cell \u001b[0;32mIn[34], line 1\u001b[0m\n\u001b[0;32m----> 1\u001b[0m set_1 \u001b[38;5;241m=\u001b[39m {[\u001b[38;5;241m4\u001b[39m,\u001b[38;5;241m5\u001b[39m,\u001b[38;5;241m6\u001b[39m], \u001b[38;5;241m1\u001b[39m, \u001b[38;5;241m2\u001b[39m}\n",
            "\u001b[0;31mTypeError\u001b[0m: unhashable type: 'list'"
          ]
        }
      ],
      "source": [
        "set_1 = {[4,5,6], 1, 2} # set accepts only immutable element"
      ]
    },
    {
      "cell_type": "code",
      "execution_count": 35,
      "metadata": {
        "id": "lIffXun7HS3N"
      },
      "outputs": [],
      "source": [
        "s5 = {234, 45, 23, 12, 567, 45, 2, '123', 456.45, 342, (1,2,3)}"
      ]
    },
    {
      "cell_type": "code",
      "execution_count": 36,
      "metadata": {
        "colab": {
          "base_uri": "https://localhost:8080/"
        },
        "id": "jxbde7VSHS3O",
        "outputId": "7ae4c415-6f26-44b5-8490-36b03f8b0f43"
      },
      "outputs": [
        {
          "data": {
            "text/plain": [
              "{(1, 2, 3), 12, '123', 2, 23, 234, 342, 45, 456.45, 567}"
            ]
          },
          "execution_count": 36,
          "metadata": {},
          "output_type": "execute_result"
        }
      ],
      "source": [
        "s5"
      ]
    },
    {
      "cell_type": "code",
      "execution_count": 38,
      "metadata": {
        "colab": {
          "base_uri": "https://localhost:8080/",
          "height": 141
        },
        "id": "ACKDtjIMHS3O",
        "outputId": "63127c46-50e0-4486-95fe-4ecf95e4d723"
      },
      "outputs": [
        {
          "ename": "TypeError",
          "evalue": "'set' object is not subscriptable",
          "output_type": "error",
          "traceback": [
            "\u001b[0;31m---------------------------------------------------------------------------\u001b[0m",
            "\u001b[0;31mTypeError\u001b[0m                                 Traceback (most recent call last)",
            "Cell \u001b[0;32mIn[38], line 1\u001b[0m\n\u001b[0;32m----> 1\u001b[0m \u001b[43ms5\u001b[49m\u001b[43m[\u001b[49m\u001b[38;5;241;43m0\u001b[39;49m\u001b[43m]\u001b[49m\n",
            "\u001b[0;31mTypeError\u001b[0m: 'set' object is not subscriptable"
          ]
        }
      ],
      "source": [
        "s5[0]"
      ]
    },
    {
      "cell_type": "code",
      "execution_count": 39,
      "metadata": {
        "colab": {
          "base_uri": "https://localhost:8080/",
          "height": 141
        },
        "id": "HzgPtp8sHS3O",
        "outputId": "7f4064f1-f223-4f0d-f376-ccc1bb9a187b"
      },
      "outputs": [
        {
          "ename": "TypeError",
          "evalue": "'set' object is not subscriptable",
          "output_type": "error",
          "traceback": [
            "\u001b[0;31m---------------------------------------------------------------------------\u001b[0m",
            "\u001b[0;31mTypeError\u001b[0m                                 Traceback (most recent call last)",
            "Cell \u001b[0;32mIn[39], line 1\u001b[0m\n\u001b[0;32m----> 1\u001b[0m \u001b[43ms5\u001b[49m\u001b[43m[\u001b[49m\u001b[38;5;241;43m2\u001b[39;49m\u001b[43m:\u001b[49m\u001b[38;5;241;43m5\u001b[39;49m\u001b[43m:\u001b[49m\u001b[38;5;241;43m2\u001b[39;49m\u001b[43m]\u001b[49m\n",
            "\u001b[0;31mTypeError\u001b[0m: 'set' object is not subscriptable"
          ]
        }
      ],
      "source": [
        "s5[2:5:2]\n",
        "# Neither the slicing is possible for the Set"
      ]
    },
    {
      "cell_type": "code",
      "execution_count": 40,
      "metadata": {
        "colab": {
          "base_uri": "https://localhost:8080/"
        },
        "id": "iYhNqt5ds4hx",
        "outputId": "afa6c672-5a1c-4a1e-f64c-48cd93264d93"
      },
      "outputs": [
        {
          "data": {
            "text/plain": [
              "{(1, 2, 3), 12, '123', 2, 23, 234, 342, 45, 456.45, 567}"
            ]
          },
          "execution_count": 40,
          "metadata": {},
          "output_type": "execute_result"
        }
      ],
      "source": [
        "s5"
      ]
    },
    {
      "cell_type": "code",
      "execution_count": 41,
      "metadata": {
        "id": "gOmr87aFcuTh"
      },
      "outputs": [],
      "source": [
        "s = {6,7,1,2,100,98}"
      ]
    },
    {
      "cell_type": "code",
      "execution_count": 42,
      "metadata": {
        "colab": {
          "base_uri": "https://localhost:8080/"
        },
        "id": "CJEPHzAvcuXj",
        "outputId": "4688754f-3031-4173-e8ad-3f13b8163f39"
      },
      "outputs": [
        {
          "data": {
            "text/plain": [
              "{1, 2, 6, 7, 98, 100}"
            ]
          },
          "execution_count": 42,
          "metadata": {},
          "output_type": "execute_result"
        }
      ],
      "source": [
        "s"
      ]
    },
    {
      "cell_type": "code",
      "execution_count": 43,
      "metadata": {
        "colab": {
          "base_uri": "https://localhost:8080/"
        },
        "id": "3tKCthmht_ZC",
        "outputId": "23cfd32e-d1f4-487d-f3bb-363af35b1b0c"
      },
      "outputs": [
        {
          "name": "stdout",
          "output_type": "stream",
          "text": [
            "5 4 3\n"
          ]
        }
      ],
      "source": [
        "a = 5\n",
        "b = 4\n",
        "c = 3\n",
        "print(a,b,c)"
      ]
    },
    {
      "cell_type": "code",
      "execution_count": 44,
      "metadata": {
        "colab": {
          "base_uri": "https://localhost:8080/"
        },
        "id": "jnI9mqGNIW1j",
        "outputId": "94b4de01-8f23-411d-f2e8-628118850048"
      },
      "outputs": [
        {
          "name": "stdout",
          "output_type": "stream",
          "text": [
            "4 3 5\n"
          ]
        }
      ],
      "source": [
        "a,b,c = 5,4,3\n",
        "print(b,c,a)"
      ]
    },
    {
      "cell_type": "code",
      "execution_count": 45,
      "metadata": {
        "colab": {
          "base_uri": "https://localhost:8080/"
        },
        "id": "jAETmRBi8K2p",
        "outputId": "8df759f0-75b8-4b40-ec06-877632b7c074"
      },
      "outputs": [
        {
          "data": {
            "text/plain": [
              "{(1, 2, 3), 12, '123', 2, 23, 234, 342, 45, 456.45, 567}"
            ]
          },
          "execution_count": 45,
          "metadata": {},
          "output_type": "execute_result"
        }
      ],
      "source": [
        "s5"
      ]
    },
    {
      "cell_type": "code",
      "execution_count": 48,
      "metadata": {
        "id": "bbwRvU7rHS3O"
      },
      "outputs": [],
      "source": [
        "s5.add(5)\n",
        "# Adding an element 5 in a set. We won't know where the element will be ordered"
      ]
    },
    {
      "cell_type": "code",
      "execution_count": 49,
      "metadata": {
        "colab": {
          "base_uri": "https://localhost:8080/"
        },
        "id": "-RW307I_KQLR",
        "outputId": "2a6722ab-c4a0-48c7-fa58-cc6b2bef6daf"
      },
      "outputs": [
        {
          "data": {
            "text/plain": [
              "{(1, 2, 3), 12, '123', 2, 23, 234, 342, 45, 456.45, 5, 567}"
            ]
          },
          "execution_count": 49,
          "metadata": {},
          "output_type": "execute_result"
        }
      ],
      "source": [
        "s5"
      ]
    },
    {
      "cell_type": "code",
      "execution_count": 50,
      "metadata": {
        "id": "PZtTeulPuKfq"
      },
      "outputs": [],
      "source": [
        "s5.add(5)"
      ]
    },
    {
      "cell_type": "code",
      "execution_count": 51,
      "metadata": {
        "colab": {
          "base_uri": "https://localhost:8080/"
        },
        "id": "vFJ4urISW36h",
        "outputId": "8ed4361a-5aa7-4038-cfd0-6e8bc847b888"
      },
      "outputs": [
        {
          "data": {
            "text/plain": [
              "{(1, 2, 3), 12, '123', 2, 23, 234, 342, 45, 456.45, 5, 567}"
            ]
          },
          "execution_count": 51,
          "metadata": {},
          "output_type": "execute_result"
        }
      ],
      "source": [
        "s5"
      ]
    },
    {
      "cell_type": "code",
      "execution_count": 73,
      "metadata": {
        "id": "QFr7T0ni6cFd"
      },
      "outputs": [],
      "source": [
        "s5 = {(1, 2, 3), 12, '123', 2, 2, 2, 23, 234, 342, 4, 4, 45, 45, 456.45, 567}"
      ]
    },
    {
      "cell_type": "code",
      "execution_count": 74,
      "metadata": {
        "colab": {
          "base_uri": "https://localhost:8080/"
        },
        "id": "lx6w-fHZXCDo",
        "outputId": "6eeab974-3811-41ce-fc32-703cec570022"
      },
      "outputs": [
        {
          "data": {
            "text/plain": [
              "{(1, 2, 3), 12, '123', 2, 23, 234, 342, 4, 45, 456.45, 567}"
            ]
          },
          "execution_count": 74,
          "metadata": {},
          "output_type": "execute_result"
        }
      ],
      "source": [
        "s5"
      ]
    },
    {
      "cell_type": "code",
      "execution_count": 75,
      "metadata": {
        "colab": {
          "base_uri": "https://localhost:8080/",
          "height": 141
        },
        "id": "H3XNCHHg6nDg",
        "outputId": "9a58b3d0-eb89-44b0-c702-7181f6759dbe"
      },
      "outputs": [
        {
          "ename": "TypeError",
          "evalue": "unhashable type: 'list'",
          "output_type": "error",
          "traceback": [
            "\u001b[0;31m---------------------------------------------------------------------------\u001b[0m",
            "\u001b[0;31mTypeError\u001b[0m                                 Traceback (most recent call last)",
            "Cell \u001b[0;32mIn[75], line 1\u001b[0m\n\u001b[0;32m----> 1\u001b[0m \u001b[43ms5\u001b[49m\u001b[38;5;241;43m.\u001b[39;49m\u001b[43madd\u001b[49m\u001b[43m(\u001b[49m\u001b[43m[\u001b[49m\u001b[38;5;241;43m1\u001b[39;49m\u001b[43m,\u001b[49m\u001b[38;5;241;43m2\u001b[39;49m\u001b[43m,\u001b[49m\u001b[38;5;241;43m3\u001b[39;49m\u001b[43m]\u001b[49m\u001b[43m)\u001b[49m\n",
            "\u001b[0;31mTypeError\u001b[0m: unhashable type: 'list'"
          ]
        }
      ],
      "source": [
        "s5.add([1,2,3])\n",
        "\n",
        "#Can't add a list because list is mutable"
      ]
    },
    {
      "cell_type": "code",
      "execution_count": 76,
      "metadata": {
        "colab": {
          "base_uri": "https://localhost:8080/"
        },
        "id": "cExwoH1Dut1H",
        "outputId": "7b99a19e-12b9-4513-952a-e75e929c111b"
      },
      "outputs": [
        {
          "data": {
            "text/plain": [
              "{(1, 2, 3), 12, '123', 2, 23, 234, 342, 4, 45, 456.45, 567}"
            ]
          },
          "execution_count": 76,
          "metadata": {},
          "output_type": "execute_result"
        }
      ],
      "source": [
        "s5"
      ]
    },
    {
      "cell_type": "code",
      "execution_count": 77,
      "metadata": {
        "id": "9eEF4ML1e1pN"
      },
      "outputs": [],
      "source": [
        "s5.add(5)"
      ]
    },
    {
      "cell_type": "code",
      "execution_count": 78,
      "metadata": {
        "colab": {
          "base_uri": "https://localhost:8080/"
        },
        "id": "GuL0d-L3e3sd",
        "outputId": "603d1819-e017-4e7d-f0f6-2e506dc20f7e"
      },
      "outputs": [
        {
          "data": {
            "text/plain": [
              "{(1, 2, 3), 12, '123', 2, 23, 234, 342, 4, 45, 456.45, 5, 567}"
            ]
          },
          "execution_count": 78,
          "metadata": {},
          "output_type": "execute_result"
        }
      ],
      "source": [
        "s5"
      ]
    },
    {
      "cell_type": "code",
      "execution_count": 79,
      "metadata": {
        "colab": {
          "base_uri": "https://localhost:8080/",
          "height": 141
        },
        "id": "n32VICUjHS3O",
        "outputId": "dbed6230-4f1c-4dfa-b01d-2055bda25a99"
      },
      "outputs": [
        {
          "ename": "KeyError",
          "evalue": "100",
          "output_type": "error",
          "traceback": [
            "\u001b[0;31m---------------------------------------------------------------------------\u001b[0m",
            "\u001b[0;31mKeyError\u001b[0m                                  Traceback (most recent call last)",
            "Cell \u001b[0;32mIn[79], line 1\u001b[0m\n\u001b[0;32m----> 1\u001b[0m \u001b[43ms5\u001b[49m\u001b[38;5;241;43m.\u001b[39;49m\u001b[43mremove\u001b[49m\u001b[43m(\u001b[49m\u001b[38;5;241;43m100\u001b[39;49m\u001b[43m)\u001b[49m\n",
            "\u001b[0;31mKeyError\u001b[0m: 100"
          ]
        }
      ],
      "source": [
        "s5.remove(100)\n",
        "# When removing an element if the given element is not present it will raise a Key Error "
      ]
    },
    {
      "cell_type": "code",
      "execution_count": 80,
      "metadata": {
        "id": "UNd68vTGqGFb"
      },
      "outputs": [],
      "source": [
        "s5.remove(23)\n",
        "\n",
        "# 23 is present so this removed the 23 from the set"
      ]
    },
    {
      "cell_type": "code",
      "execution_count": 81,
      "metadata": {
        "colab": {
          "base_uri": "https://localhost:8080/"
        },
        "id": "Ioz00wZ-HS3P",
        "outputId": "3c827b2d-a769-4a68-86f1-937658f9e3be"
      },
      "outputs": [
        {
          "data": {
            "text/plain": [
              "{(1, 2, 3), 12, '123', 2, 234, 342, 4, 45, 456.45, 5, 567}"
            ]
          },
          "execution_count": 81,
          "metadata": {},
          "output_type": "execute_result"
        }
      ],
      "source": [
        "s5"
      ]
    },
    {
      "cell_type": "code",
      "execution_count": 82,
      "metadata": {
        "id": "p6rW0WjHfFSG"
      },
      "outputs": [],
      "source": [
        "s5.remove(45)"
      ]
    },
    {
      "cell_type": "code",
      "execution_count": 83,
      "metadata": {
        "colab": {
          "base_uri": "https://localhost:8080/"
        },
        "id": "2dj9mA1HfHiJ",
        "outputId": "9dbb974a-a9ea-4e94-c796-f21715fbcfd9"
      },
      "outputs": [
        {
          "data": {
            "text/plain": [
              "{(1, 2, 3), 12, '123', 2, 234, 342, 4, 456.45, 5, 567}"
            ]
          },
          "execution_count": 83,
          "metadata": {},
          "output_type": "execute_result"
        }
      ],
      "source": [
        "s5"
      ]
    },
    {
      "cell_type": "code",
      "execution_count": 84,
      "metadata": {
        "id": "st5I3GP3fTE8"
      },
      "outputs": [],
      "source": [
        "s5.remove('123')"
      ]
    },
    {
      "cell_type": "code",
      "execution_count": 85,
      "metadata": {
        "colab": {
          "base_uri": "https://localhost:8080/"
        },
        "id": "hU6bClLNfayA",
        "outputId": "0e879966-fa8a-4441-a41e-46b4c1f427af"
      },
      "outputs": [
        {
          "data": {
            "text/plain": [
              "{(1, 2, 3), 12, 2, 234, 342, 4, 456.45, 5, 567}"
            ]
          },
          "execution_count": 85,
          "metadata": {},
          "output_type": "execute_result"
        }
      ],
      "source": [
        "s5"
      ]
    },
    {
      "cell_type": "code",
      "execution_count": 87,
      "metadata": {
        "colab": {
          "base_uri": "https://localhost:8080/",
          "height": 141
        },
        "id": "5rhcgqeNXxFD",
        "outputId": "6f55d3c7-e807-4b8c-a1be-3a0f963675f3"
      },
      "outputs": [
        {
          "ename": "TypeError",
          "evalue": "unhashable type: 'set'",
          "output_type": "error",
          "traceback": [
            "\u001b[0;31m---------------------------------------------------------------------------\u001b[0m",
            "\u001b[0;31mTypeError\u001b[0m                                 Traceback (most recent call last)",
            "Cell \u001b[0;32mIn[87], line 1\u001b[0m\n\u001b[0;32m----> 1\u001b[0m \u001b[43ms5\u001b[49m\u001b[38;5;241;43m.\u001b[39;49m\u001b[43madd\u001b[49m\u001b[43m(\u001b[49m\u001b[43m{\u001b[49m\u001b[38;5;241;43m1\u001b[39;49m\u001b[43m,\u001b[49m\u001b[38;5;241;43m2\u001b[39;49m\u001b[43m,\u001b[49m\u001b[38;5;241;43m3\u001b[39;49m\u001b[43m,\u001b[49m\u001b[38;5;241;43m4\u001b[39;49m\u001b[43m}\u001b[49m\u001b[43m)\u001b[49m\n",
            "\u001b[0;31mTypeError\u001b[0m: unhashable type: 'set'"
          ]
        }
      ],
      "source": [
        "s5.add({1,2,3,4})\n",
        "\n",
        "# Since sest itself is mutable we cant add set inside a set"
      ]
    },
    {
      "cell_type": "code",
      "execution_count": 88,
      "metadata": {
        "id": "zYp7_2harFw_"
      },
      "outputs": [],
      "source": [
        "A = {3, 4, 5, 6, 7, 2, 1}"
      ]
    },
    {
      "cell_type": "code",
      "execution_count": 89,
      "metadata": {
        "id": "zYD1a2xHrJD5"
      },
      "outputs": [],
      "source": [
        "B = {5, 6, 7, 8, 9, 10}"
      ]
    },
    {
      "cell_type": "code",
      "execution_count": 90,
      "metadata": {
        "colab": {
          "base_uri": "https://localhost:8080/"
        },
        "id": "IXeO_FRnrKwf",
        "outputId": "1502498d-36d9-4df3-9a5d-dff93a0f097a"
      },
      "outputs": [
        {
          "name": "stdout",
          "output_type": "stream",
          "text": [
            "{1, 2, 3, 4, 5, 6, 7, 8, 9, 10}\n",
            "{1, 2, 3, 4, 5, 6, 7, 8, 9, 10}\n"
          ]
        }
      ],
      "source": [
        "union_result = A.union(B)\n",
        "print(union_result)\n",
        "union_result2 = B.union(A)\n",
        "print(union_result2)"
      ]
    },
    {
      "cell_type": "code",
      "execution_count": 91,
      "metadata": {
        "colab": {
          "base_uri": "https://localhost:8080/"
        },
        "id": "ltyZ5BhgrN_V",
        "outputId": "cbebcfa5-1d91-4fb7-a5a8-833c5e89191a"
      },
      "outputs": [
        {
          "name": "stdout",
          "output_type": "stream",
          "text": [
            "{5, 6, 7}\n"
          ]
        }
      ],
      "source": [
        "intersection_result = A.intersection(B)\n",
        "print(intersection_result)"
      ]
    },
    {
      "cell_type": "code",
      "execution_count": 92,
      "metadata": {
        "colab": {
          "base_uri": "https://localhost:8080/"
        },
        "id": "QYR6qJmPrR3-",
        "outputId": "0ac38093-6d82-4536-b97b-59a2417bfafc"
      },
      "outputs": [
        {
          "name": "stdout",
          "output_type": "stream",
          "text": [
            "{1, 2, 3, 4}\n"
          ]
        }
      ],
      "source": [
        "difference = A.difference(B)\n",
        "print(difference)"
      ]
    },
    {
      "cell_type": "code",
      "execution_count": 93,
      "metadata": {
        "colab": {
          "base_uri": "https://localhost:8080/"
        },
        "id": "SnY8K9e7rWBs",
        "outputId": "f8a42b67-f018-4fb2-a42c-0020a63bfcec"
      },
      "outputs": [
        {
          "name": "stdout",
          "output_type": "stream",
          "text": [
            "{8, 9, 10}\n"
          ]
        }
      ],
      "source": [
        "difference = B.difference(A)\n",
        "print(difference)"
      ]
    },
    {
      "cell_type": "markdown",
      "metadata": {},
      "source": [
        "The symmetric difference between two sets A and B refers to the elements that are in either A or B, but not in both."
      ]
    },
    {
      "cell_type": "code",
      "execution_count": 94,
      "metadata": {
        "colab": {
          "base_uri": "https://localhost:8080/"
        },
        "id": "yEIS_P8-ra0W",
        "outputId": "b7e09201-9f83-4681-be1e-ff59cb3480b0"
      },
      "outputs": [
        {
          "name": "stdout",
          "output_type": "stream",
          "text": [
            "{1, 2, 3, 4, 8, 9, 10}\n"
          ]
        }
      ],
      "source": [
        "symmetric_difference_result = A.symmetric_difference(B)\n",
        "print(symmetric_difference_result)"
      ]
    },
    {
      "cell_type": "code",
      "execution_count": 95,
      "metadata": {
        "colab": {
          "base_uri": "https://localhost:8080/"
        },
        "id": "7dj-oFnw2RO9",
        "outputId": "4fc204a6-1b79-429b-df77-371f8c30dd38"
      },
      "outputs": [
        {
          "name": "stdout",
          "output_type": "stream",
          "text": [
            "{1, 2, 3, 4, 8, 9, 10}\n"
          ]
        }
      ],
      "source": [
        "print(B.symmetric_difference(A))"
      ]
    },
    {
      "cell_type": "code",
      "execution_count": 96,
      "metadata": {
        "colab": {
          "base_uri": "https://localhost:8080/"
        },
        "id": "Tz0GT5AXTtZS",
        "outputId": "bb8fbfaf-0429-4ead-cd30-041401f71e47"
      },
      "outputs": [
        {
          "name": "stdout",
          "output_type": "stream",
          "text": [
            "{'Nepal', 'India', 'USA', 'UK'}\n",
            "{'Nepal', 'Egypt', 'UK', 'USA', 'India', 'South Africa', 'Nigeria'}\n",
            "{'Nepal', 'Germany', 'Egypt', 'Italy', 'UK', 'USA', 'India', 'South Africa', 'France', 'Nigeria'}\n"
          ]
        }
      ],
      "source": [
        "countries = {'Nepal', 'India', 'USA', 'UK'}\n",
        "print(countries)\n",
        "\n",
        "african_countries = ('South Africa', 'Nigeria', 'Egypt')\n",
        "countries.update(african_countries)\n",
        "print(countries)\n",
        "\n",
        "european_countries = ['Germany', 'France', 'Italy']\n",
        "countries.update(european_countries)\n",
        "print(countries)"
      ]
    },
    {
      "cell_type": "markdown",
      "metadata": {},
      "source": [
        "## update()\n",
        "\n",
        "• Adds multiple elements from an iterable (list, tuple, set, etc.).\n",
        "\n",
        "• It unpacks the elements of the iterable and adds them one by one to the set."
      ]
    },
    {
      "cell_type": "markdown",
      "metadata": {},
      "source": [
        "# Frozenset\n",
        "\n",
        "Frozenset are set that are immutable.\n",
        "\n",
        "\n",
        "Because it’s immutable, a frozenset can be used as a key in dictionaries or as an element in other sets, unlike regular sets which are unhashable."
      ]
    },
    {
      "cell_type": "code",
      "execution_count": 98,
      "metadata": {
        "colab": {
          "base_uri": "https://localhost:8080/"
        },
        "id": "LSD1tVK3nkFk",
        "outputId": "1bd1f0ed-e167-4d45-c8c0-5d6da9f5aa60"
      },
      "outputs": [
        {
          "name": "stdout",
          "output_type": "stream",
          "text": [
            "frozenset({1, 2, 3, 4, 5})\n"
          ]
        }
      ],
      "source": [
        "# Creating a frozenset\n",
        "my_frozenset = frozenset({1, 2, 3, 4, 5, 5, 5, 2, 2, 1, 3, 4})\n",
        "print(my_frozenset)"
      ]
    },
    {
      "cell_type": "code",
      "execution_count": 99,
      "metadata": {
        "colab": {
          "base_uri": "https://localhost:8080/"
        },
        "id": "3ZsWlhFKg4wu",
        "outputId": "53b9c605-43b4-4a89-d4d2-dc838ff64b70"
      },
      "outputs": [
        {
          "data": {
            "text/plain": [
              "frozenset"
            ]
          },
          "execution_count": 99,
          "metadata": {},
          "output_type": "execute_result"
        }
      ],
      "source": [
        "type(my_frozenset)"
      ]
    },
    {
      "cell_type": "code",
      "execution_count": 100,
      "metadata": {
        "colab": {
          "base_uri": "https://localhost:8080/"
        },
        "id": "37LeFQ3_g9w_",
        "outputId": "f0b29b39-fa7b-460a-8481-25a3ee06e7aa"
      },
      "outputs": [
        {
          "data": {
            "text/plain": [
              "frozenset({1, 2, 3, 4, 5})"
            ]
          },
          "execution_count": 100,
          "metadata": {},
          "output_type": "execute_result"
        }
      ],
      "source": [
        "my_frozenset"
      ]
    },
    {
      "cell_type": "code",
      "execution_count": 104,
      "metadata": {
        "colab": {
          "base_uri": "https://localhost:8080/",
          "height": 141
        },
        "id": "_JAT8mB7ysVp",
        "outputId": "77b2cbf2-bdda-4b50-80e6-82d1897f099d"
      },
      "outputs": [
        {
          "ename": "AttributeError",
          "evalue": "'frozenset' object has no attribute 'add'",
          "output_type": "error",
          "traceback": [
            "\u001b[0;31m---------------------------------------------------------------------------\u001b[0m",
            "\u001b[0;31mAttributeError\u001b[0m                            Traceback (most recent call last)",
            "Cell \u001b[0;32mIn[104], line 1\u001b[0m\n\u001b[0;32m----> 1\u001b[0m \u001b[43mmy_frozenset\u001b[49m\u001b[38;5;241;43m.\u001b[39;49m\u001b[43madd\u001b[49m(\u001b[38;5;241m6\u001b[39m)\n",
            "\u001b[0;31mAttributeError\u001b[0m: 'frozenset' object has no attribute 'add'"
          ]
        }
      ],
      "source": [
        "my_frozenset.add(6)\n",
        "\n",
        "# Its immutable "
      ]
    },
    {
      "cell_type": "code",
      "execution_count": 105,
      "metadata": {
        "colab": {
          "base_uri": "https://localhost:8080/",
          "height": 141
        },
        "id": "pO3URjSVyu5R",
        "outputId": "3a5c572a-ce7b-41fc-cf66-88fa9cb5e83b"
      },
      "outputs": [
        {
          "ename": "AttributeError",
          "evalue": "'frozenset' object has no attribute 'remove'",
          "output_type": "error",
          "traceback": [
            "\u001b[0;31m---------------------------------------------------------------------------\u001b[0m",
            "\u001b[0;31mAttributeError\u001b[0m                            Traceback (most recent call last)",
            "Cell \u001b[0;32mIn[105], line 1\u001b[0m\n\u001b[0;32m----> 1\u001b[0m \u001b[43mmy_frozenset\u001b[49m\u001b[38;5;241;43m.\u001b[39;49m\u001b[43mremove\u001b[49m(\u001b[38;5;241m2\u001b[39m)\n",
            "\u001b[0;31mAttributeError\u001b[0m: 'frozenset' object has no attribute 'remove'"
          ]
        }
      ],
      "source": [
        "my_frozenset.remove(2)\n",
        "# Its immutable"
      ]
    },
    {
      "cell_type": "code",
      "execution_count": 106,
      "metadata": {
        "colab": {
          "base_uri": "https://localhost:8080/"
        },
        "id": "uKybWt3syz5L",
        "outputId": "84f46b94-4708-4b75-ef28-438323aaec8b"
      },
      "outputs": [
        {
          "data": {
            "text/plain": [
              "frozenset"
            ]
          },
          "execution_count": 106,
          "metadata": {},
          "output_type": "execute_result"
        }
      ],
      "source": [
        "type(my_frozenset)"
      ]
    },
    {
      "cell_type": "code",
      "execution_count": 107,
      "metadata": {
        "id": "uNxwGnsthFWo"
      },
      "outputs": [],
      "source": [
        "my = frozenset([1,2,3,4])"
      ]
    },
    {
      "cell_type": "code",
      "execution_count": 108,
      "metadata": {
        "colab": {
          "base_uri": "https://localhost:8080/"
        },
        "id": "fli_cHTNhHwo",
        "outputId": "b6754d36-1d4f-4417-8b0a-f6cfdab197ed"
      },
      "outputs": [
        {
          "data": {
            "text/plain": [
              "frozenset"
            ]
          },
          "execution_count": 108,
          "metadata": {},
          "output_type": "execute_result"
        }
      ],
      "source": [
        "type(my)"
      ]
    },
    {
      "cell_type": "code",
      "execution_count": 109,
      "metadata": {
        "colab": {
          "base_uri": "https://localhost:8080/"
        },
        "id": "05QVWmbchIjd",
        "outputId": "e8889343-157e-4611-a05e-d74b7438340e"
      },
      "outputs": [
        {
          "data": {
            "text/plain": [
              "frozenset({1, 2, 3, 4})"
            ]
          },
          "execution_count": 109,
          "metadata": {},
          "output_type": "execute_result"
        }
      ],
      "source": [
        "my"
      ]
    }
  ],
  "metadata": {
    "colab": {
      "provenance": []
    },
    "kernelspec": {
      "display_name": "modelprep",
      "language": "python",
      "name": "python3"
    },
    "language_info": {
      "codemirror_mode": {
        "name": "ipython",
        "version": 3
      },
      "file_extension": ".py",
      "mimetype": "text/x-python",
      "name": "python",
      "nbconvert_exporter": "python",
      "pygments_lexer": "ipython3",
      "version": "3.10.18"
    }
  },
  "nbformat": 4,
  "nbformat_minor": 0
}
