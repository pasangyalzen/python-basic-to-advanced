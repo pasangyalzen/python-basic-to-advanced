{
  "cells": [
    {
      "cell_type": "markdown",
      "metadata": {},
      "source": [
        "## TUPLE"
      ]
    },
    {
      "cell_type": "markdown",
      "metadata": {
        "id": "801k1Nio-p3o"
      },
      "source": [
        "- List is mutable and Tuple is immutable.\n",
        "- List is a group of elements enclosed inside [] whereas Tuple is a group of elements enclosed inside ()."
      ]
    },
    {
      "cell_type": "markdown",
      "metadata": {
        "id": "LyuQd_OsZEDM"
      },
      "source": [
        "- Tuple in Python is like a list, but we cannot change its items once it is created.\n",
        "- Tuple is written using round brackets (), with items separated by commas, like this: my_tuple = (1, 2, \"banana\", 4).\n",
        "- They are useful when we want to store a group of items that should stay the same and not be modified."
      ]
    },
    {
      "cell_type": "code",
      "execution_count": null,
      "metadata": {
        "id": "QEpz18kbUn1Z"
      },
      "outputs": [],
      "source": [
        "t1 = (1,2.33,True,4-7J,'nepal',[1,2,3],(4,5,6))\n",
        "\n",
        "#Tuple can contain differnt datatypes within itself but we cannot make any changes to the element inside a tuple"
      ]
    },
    {
      "cell_type": "markdown",
      "metadata": {},
      "source": [
        "## \tBut, if a tuple contains a mutable element (like a list), the content of that mutable element can be modified."
      ]
    },
    {
      "cell_type": "code",
      "execution_count": 3,
      "metadata": {
        "colab": {
          "base_uri": "https://localhost:8080/"
        },
        "id": "rLH3EVCFUnyZ",
        "outputId": "225ed2d6-8fd8-4fcc-89b1-94512025f17d"
      },
      "outputs": [
        {
          "data": {
            "text/plain": [
              "(1, 2.33, True, (4-7j), 'nepal', [1, 2, 3], (4, 5, 6))"
            ]
          },
          "execution_count": 3,
          "metadata": {},
          "output_type": "execute_result"
        }
      ],
      "source": [
        "t1"
      ]
    },
    {
      "cell_type": "code",
      "execution_count": 4,
      "metadata": {
        "colab": {
          "base_uri": "https://localhost:8080/"
        },
        "id": "8_EuTEt_Unvx",
        "outputId": "cc07aa57-f1c9-41a6-eacd-411c4ff44888"
      },
      "outputs": [
        {
          "data": {
            "text/plain": [
              "tuple"
            ]
          },
          "execution_count": 4,
          "metadata": {},
          "output_type": "execute_result"
        }
      ],
      "source": [
        "type(t1)"
      ]
    },
    {
      "cell_type": "code",
      "execution_count": 6,
      "metadata": {
        "colab": {
          "base_uri": "https://localhost:8080/"
        },
        "id": "rv8L-gLzUns_",
        "outputId": "43ae6f95-d875-4d55-895e-8398b848fd65"
      },
      "outputs": [
        {
          "data": {
            "text/plain": [
              "1"
            ]
          },
          "execution_count": 6,
          "metadata": {},
          "output_type": "execute_result"
        }
      ],
      "source": [
        "# The elements inside a tuple can be accessed using the index\n",
        "t1[0]"
      ]
    },
    {
      "cell_type": "code",
      "execution_count": 7,
      "metadata": {
        "colab": {
          "base_uri": "https://localhost:8080/"
        },
        "id": "SNa49NvuUnqI",
        "outputId": "7337711e-1c70-41ed-bc40-029e40e086b4"
      },
      "outputs": [
        {
          "data": {
            "text/plain": [
              "(1, 2.33, True, (4-7j), 'nepal', [1, 2, 3], (4, 5, 6))"
            ]
          },
          "execution_count": 7,
          "metadata": {},
          "output_type": "execute_result"
        }
      ],
      "source": [
        "t1"
      ]
    },
    {
      "cell_type": "code",
      "execution_count": 8,
      "metadata": {
        "colab": {
          "base_uri": "https://localhost:8080/"
        },
        "id": "uNqQMqh0UnnX",
        "outputId": "4e2b693f-4b53-431e-f711-364b4751c441"
      },
      "outputs": [
        {
          "data": {
            "text/plain": [
              "[1, 2, 3]"
            ]
          },
          "execution_count": 8,
          "metadata": {},
          "output_type": "execute_result"
        }
      ],
      "source": [
        "t1[5]"
      ]
    },
    {
      "cell_type": "code",
      "execution_count": 10,
      "metadata": {
        "colab": {
          "base_uri": "https://localhost:8080/"
        },
        "id": "OIndyiIqWrRs",
        "outputId": "7e5a5e3b-ccd6-4f3c-ad19-8adf82eebc5d"
      },
      "outputs": [
        {
          "data": {
            "text/plain": [
              "2"
            ]
          },
          "execution_count": 10,
          "metadata": {},
          "output_type": "execute_result"
        }
      ],
      "source": [
        "[1,2,3][1]\n",
        "\n",
        "# Accessing the element inside the list that is inside the tuple"
      ]
    },
    {
      "cell_type": "code",
      "execution_count": 11,
      "metadata": {
        "colab": {
          "base_uri": "https://localhost:8080/"
        },
        "id": "si9-qQVJUnkn",
        "outputId": "d06fdf0e-9c89-4d6c-8104-bbe0aa663c9b"
      },
      "outputs": [
        {
          "data": {
            "text/plain": [
              "2"
            ]
          },
          "execution_count": 11,
          "metadata": {},
          "output_type": "execute_result"
        }
      ],
      "source": [
        "t1[5][1]"
      ]
    },
    {
      "cell_type": "code",
      "execution_count": 13,
      "metadata": {
        "colab": {
          "base_uri": "https://localhost:8080/",
          "height": 141
        },
        "id": "04dxe8DxUnh4",
        "outputId": "1c66a922-6c9a-4659-85ca-37ab104a9e30"
      },
      "outputs": [
        {
          "ename": "IndexError",
          "evalue": "tuple index out of range",
          "output_type": "error",
          "traceback": [
            "\u001b[0;31m---------------------------------------------------------------------------\u001b[0m",
            "\u001b[0;31mIndexError\u001b[0m                                Traceback (most recent call last)",
            "Cell \u001b[0;32mIn[13], line 1\u001b[0m\n\u001b[0;32m----> 1\u001b[0m \u001b[43mt1\u001b[49m\u001b[43m[\u001b[49m\u001b[38;5;241;43m7\u001b[39;49m\u001b[43m]\u001b[49m\n",
            "\u001b[0;31mIndexError\u001b[0m: tuple index out of range"
          ]
        }
      ],
      "source": [
        "t1[7]\n",
        "\n",
        "# Like other if we pass the index that is out of range in the tuple, it will return IndexError as well"
      ]
    },
    {
      "cell_type": "code",
      "execution_count": 14,
      "metadata": {
        "colab": {
          "base_uri": "https://localhost:8080/"
        },
        "id": "sYDM0DmKUnfA",
        "outputId": "f1cf7ab9-e011-44c6-8396-23b7384e7ebb"
      },
      "outputs": [
        {
          "data": {
            "text/plain": [
              "7"
            ]
          },
          "execution_count": 14,
          "metadata": {},
          "output_type": "execute_result"
        }
      ],
      "source": [
        "len(t1)"
      ]
    },
    {
      "cell_type": "code",
      "execution_count": 15,
      "metadata": {
        "colab": {
          "base_uri": "https://localhost:8080/"
        },
        "id": "RlJduUwiUnch",
        "outputId": "4b8484ac-e8c9-40c5-d8a8-907368c4f17f"
      },
      "outputs": [
        {
          "data": {
            "text/plain": [
              "(4, 5, 6)"
            ]
          },
          "execution_count": 15,
          "metadata": {},
          "output_type": "execute_result"
        }
      ],
      "source": [
        "t1[6]"
      ]
    },
    {
      "cell_type": "code",
      "execution_count": 17,
      "metadata": {
        "colab": {
          "base_uri": "https://localhost:8080/"
        },
        "id": "qLyDI_d_UnZ5",
        "outputId": "c8ffd68e-076d-49ec-f777-2c69f6f3a884"
      },
      "outputs": [
        {
          "data": {
            "text/plain": [
              "6"
            ]
          },
          "execution_count": 17,
          "metadata": {},
          "output_type": "execute_result"
        }
      ],
      "source": [
        "t1[6][2]\n",
        "\n",
        "# Accessing the element inside a list that is inside the tuple"
      ]
    },
    {
      "cell_type": "code",
      "execution_count": 18,
      "metadata": {
        "colab": {
          "base_uri": "https://localhost:8080/"
        },
        "id": "TTEE1vZ-UnXJ",
        "outputId": "abf31643-f7a9-45e8-935f-bf4ce798f53d"
      },
      "outputs": [
        {
          "data": {
            "text/plain": [
              "(4, 5, 6)"
            ]
          },
          "execution_count": 18,
          "metadata": {},
          "output_type": "execute_result"
        }
      ],
      "source": [
        "t1[-1]\n",
        "# Use of negative indexing to access the desired element"
      ]
    },
    {
      "cell_type": "code",
      "execution_count": 19,
      "metadata": {
        "colab": {
          "base_uri": "https://localhost:8080/"
        },
        "id": "cNmGCtqQUnUg",
        "outputId": "069c1889-198d-4481-de45-fc61ee6a82d3"
      },
      "outputs": [
        {
          "data": {
            "text/plain": [
              "True"
            ]
          },
          "execution_count": 19,
          "metadata": {},
          "output_type": "execute_result"
        }
      ],
      "source": [
        "t1[-5]"
      ]
    },
    {
      "cell_type": "code",
      "execution_count": null,
      "metadata": {
        "colab": {
          "base_uri": "https://localhost:8080/"
        },
        "id": "oMgDAunXW9p4",
        "outputId": "7169bed7-f27b-48ee-a6d4-976487ab9c38"
      },
      "outputs": [
        {
          "data": {
            "text/plain": [
              "((4, 5, 6), [1, 2, 3], 'nepal', (4-7j), True, 2.33, 1)"
            ]
          },
          "execution_count": 22,
          "metadata": {},
          "output_type": "execute_result"
        }
      ],
      "source": [
        "t1[::-1]\n",
        "\n",
        "# Reversing using the slicing technique that is reversing the tuple by passing the negative step"
      ]
    },
    {
      "cell_type": "code",
      "execution_count": 20,
      "metadata": {
        "colab": {
          "base_uri": "https://localhost:8080/"
        },
        "id": "ThqBmz0eW9th",
        "outputId": "1f4c7116-cb81-4539-c288-6496cd3f4561"
      },
      "outputs": [
        {
          "data": {
            "text/plain": [
              "(1, 2.33, True, (4-7j), 'nepal', [1, 2, 3], (4, 5, 6))"
            ]
          },
          "execution_count": 20,
          "metadata": {},
          "output_type": "execute_result"
        }
      ],
      "source": [
        "t1\n",
        "# Still the tuple is not being changed that is why its immutable "
      ]
    },
    {
      "cell_type": "code",
      "execution_count": 22,
      "metadata": {
        "colab": {
          "base_uri": "https://localhost:8080/"
        },
        "id": "Ov_tjxEdXC-0",
        "outputId": "264d875f-b9ce-4007-a360-206999d4c398"
      },
      "outputs": [
        {
          "data": {
            "text/plain": [
              "()"
            ]
          },
          "execution_count": 22,
          "metadata": {},
          "output_type": "execute_result"
        }
      ],
      "source": [
        "t1[2:7:-2]\n",
        "# This returns an empty tuple because the step is negative (-2), which means \n",
        "# Python tries to move from right to left, but the start (index 2) is on the left \n",
        "# and the end (index 7) is on the right, making the slice direction invalid."
      ]
    },
    {
      "cell_type": "code",
      "execution_count": 23,
      "metadata": {
        "colab": {
          "base_uri": "https://localhost:8080/"
        },
        "id": "F5nXLYKwXDCU",
        "outputId": "e03a47e9-07e9-47ce-9eb3-27f1502d4bea"
      },
      "outputs": [
        {
          "data": {
            "text/plain": [
              "(True, 'nepal', (4, 5, 6))"
            ]
          },
          "execution_count": 23,
          "metadata": {},
          "output_type": "execute_result"
        }
      ],
      "source": [
        "t1[2:7:2]"
      ]
    },
    {
      "cell_type": "code",
      "execution_count": 24,
      "metadata": {
        "colab": {
          "base_uri": "https://localhost:8080/"
        },
        "id": "D4mvNYdKXDF8",
        "outputId": "4f0f5cfa-862d-4b7f-e972-5edd14068503"
      },
      "outputs": [
        {
          "data": {
            "text/plain": [
              "()"
            ]
          },
          "execution_count": 24,
          "metadata": {},
          "output_type": "execute_result"
        }
      ],
      "source": [
        "t1[7:2:1]\n",
        "#The step want to move from left to right\n",
        "# The start is greater than stop so cant move from left to right and hence this will return empty tuple"
      ]
    },
    {
      "cell_type": "code",
      "execution_count": 25,
      "metadata": {
        "colab": {
          "base_uri": "https://localhost:8080/"
        },
        "id": "bbDWQTFCXQ6t",
        "outputId": "628b5487-bc70-45b7-96a1-842b1f612f88"
      },
      "outputs": [
        {
          "data": {
            "text/plain": [
              "(True, 'nepal', (4, 5, 6))"
            ]
          },
          "execution_count": 25,
          "metadata": {},
          "output_type": "execute_result"
        }
      ],
      "source": [
        "t1[2::2]\n",
        "# Slicing the elements from start 2 to end 2 and by default the step is 1"
      ]
    },
    {
      "cell_type": "code",
      "execution_count": 26,
      "metadata": {
        "colab": {
          "base_uri": "https://localhost:8080/"
        },
        "id": "nxp7ZN6iXQ-C",
        "outputId": "c5d8d834-ec03-455e-9f02-c3e8c1edbed1"
      },
      "outputs": [
        {
          "data": {
            "text/plain": [
              "((4, 5, 6), [1, 2, 3])"
            ]
          },
          "execution_count": 26,
          "metadata": {},
          "output_type": "execute_result"
        }
      ],
      "source": [
        "t1[6:4:-1]"
      ]
    },
    {
      "cell_type": "code",
      "execution_count": 27,
      "metadata": {
        "colab": {
          "base_uri": "https://localhost:8080/"
        },
        "id": "AhLQKZG-XRBd",
        "outputId": "5af4883f-cf2a-472d-ed7a-c64b6af35d68"
      },
      "outputs": [
        {
          "data": {
            "text/plain": [
              "((4, 5, 6), [1, 2, 3], 'nepal', (4-7j), True, 2.33)"
            ]
          },
          "execution_count": 27,
          "metadata": {},
          "output_type": "execute_result"
        }
      ],
      "source": [
        "t1[-1:-7:-1]"
      ]
    },
    {
      "cell_type": "code",
      "execution_count": 28,
      "metadata": {
        "colab": {
          "base_uri": "https://localhost:8080/"
        },
        "id": "SdmYagpFXRFE",
        "outputId": "798fe1a8-dc04-4a59-8dbe-eb193dbdcee6"
      },
      "outputs": [
        {
          "data": {
            "text/plain": [
              "()"
            ]
          },
          "execution_count": 28,
          "metadata": {},
          "output_type": "execute_result"
        }
      ],
      "source": [
        "t1[-4:-8:1]"
      ]
    },
    {
      "cell_type": "markdown",
      "metadata": {
        "id": "3e1_D2gKW9wU"
      },
      "source": [
        "# Functions in Tuple"
      ]
    },
    {
      "cell_type": "markdown",
      "metadata": {
        "id": "oexEl3ACYUjz"
      },
      "source": [
        "count function"
      ]
    },
    {
      "cell_type": "code",
      "execution_count": 29,
      "metadata": {
        "colab": {
          "base_uri": "https://localhost:8080/"
        },
        "id": "m2C6hzaYW92j",
        "outputId": "fc75ad0d-d60c-4979-c699-649a5c83d022"
      },
      "outputs": [
        {
          "data": {
            "text/plain": [
              "(1, 2.33, True, (4-7j), 'nepal', [1, 2, 3], (4, 5, 6))"
            ]
          },
          "execution_count": 29,
          "metadata": {},
          "output_type": "execute_result"
        }
      ],
      "source": [
        "t1"
      ]
    },
    {
      "cell_type": "code",
      "execution_count": 31,
      "metadata": {
        "colab": {
          "base_uri": "https://localhost:8080/"
        },
        "id": "dFv7-BDZW96E",
        "outputId": "df50a666-6b59-4933-95b7-22addd21fd49"
      },
      "outputs": [
        {
          "data": {
            "text/plain": [
              "2"
            ]
          },
          "execution_count": 31,
          "metadata": {},
          "output_type": "execute_result"
        }
      ],
      "source": [
        "t1.count(1)\n",
        "# Counts the total number of repititon of the passed number"
      ]
    },
    {
      "cell_type": "code",
      "execution_count": 32,
      "metadata": {
        "colab": {
          "base_uri": "https://localhost:8080/"
        },
        "id": "mJ4yhhzRW99f",
        "outputId": "70228998-67ab-4001-d164-173fbe395af3"
      },
      "outputs": [
        {
          "data": {
            "text/plain": [
              "0"
            ]
          },
          "execution_count": 32,
          "metadata": {},
          "output_type": "execute_result"
        }
      ],
      "source": [
        "t1.count(0)"
      ]
    },
    {
      "cell_type": "code",
      "execution_count": 33,
      "metadata": {
        "id": "NvC1NCFOW-FT"
      },
      "outputs": [],
      "source": [
        "t = (1,1,1,2,3,4,5,5,5)"
      ]
    },
    {
      "cell_type": "code",
      "execution_count": 34,
      "metadata": {
        "colab": {
          "base_uri": "https://localhost:8080/"
        },
        "id": "s6w5HA3PW-Ia",
        "outputId": "ecb0f178-95f9-4d90-a4a2-e5818e184f2c"
      },
      "outputs": [
        {
          "data": {
            "text/plain": [
              "3"
            ]
          },
          "execution_count": 34,
          "metadata": {},
          "output_type": "execute_result"
        }
      ],
      "source": [
        "t.count(1)"
      ]
    },
    {
      "cell_type": "code",
      "execution_count": 35,
      "metadata": {
        "colab": {
          "base_uri": "https://localhost:8080/"
        },
        "id": "VwX9BAvLW-Li",
        "outputId": "9923dba2-a5c2-4dba-baf8-5b60dc51de24"
      },
      "outputs": [
        {
          "data": {
            "text/plain": [
              "3"
            ]
          },
          "execution_count": 35,
          "metadata": {},
          "output_type": "execute_result"
        }
      ],
      "source": [
        "t.count(5)"
      ]
    },
    {
      "cell_type": "code",
      "execution_count": 36,
      "metadata": {
        "colab": {
          "base_uri": "https://localhost:8080/"
        },
        "id": "2KJ0ST3XW-O0",
        "outputId": "7bc8b3ca-0389-4dc8-890b-4ef05f83c8ee"
      },
      "outputs": [
        {
          "data": {
            "text/plain": [
              "1"
            ]
          },
          "execution_count": 36,
          "metadata": {},
          "output_type": "execute_result"
        }
      ],
      "source": [
        "t.count(2)"
      ]
    },
    {
      "cell_type": "code",
      "execution_count": 37,
      "metadata": {
        "colab": {
          "base_uri": "https://localhost:8080/"
        },
        "id": "aWAPDg_yW-R4",
        "outputId": "c6b8dce7-12eb-49a2-e4c5-faee656674cc"
      },
      "outputs": [
        {
          "data": {
            "text/plain": [
              "1"
            ]
          },
          "execution_count": 37,
          "metadata": {},
          "output_type": "execute_result"
        }
      ],
      "source": [
        "t.count(3)"
      ]
    },
    {
      "cell_type": "code",
      "execution_count": 38,
      "metadata": {
        "colab": {
          "base_uri": "https://localhost:8080/"
        },
        "id": "6mgrm0QnW-VO",
        "outputId": "2354b372-fb49-43a6-9fc0-8b0da22d2256"
      },
      "outputs": [
        {
          "data": {
            "text/plain": [
              "1"
            ]
          },
          "execution_count": 38,
          "metadata": {},
          "output_type": "execute_result"
        }
      ],
      "source": [
        "t.count(4)"
      ]
    },
    {
      "cell_type": "markdown",
      "metadata": {
        "id": "gRmktRGeYXWn"
      },
      "source": [
        "index function"
      ]
    },
    {
      "cell_type": "code",
      "execution_count": 39,
      "metadata": {
        "colab": {
          "base_uri": "https://localhost:8080/"
        },
        "id": "wf8bOZV7W-Yc",
        "outputId": "005c69da-7c50-415f-b489-7e9b890370ce"
      },
      "outputs": [
        {
          "data": {
            "text/plain": [
              "(1, 2.33, True, (4-7j), 'nepal', [1, 2, 3], (4, 5, 6))"
            ]
          },
          "execution_count": 39,
          "metadata": {},
          "output_type": "execute_result"
        }
      ],
      "source": [
        "t1"
      ]
    },
    {
      "cell_type": "markdown",
      "metadata": {},
      "source": [
        "Index function simply returns the index of the passed element in the tuple."
      ]
    },
    {
      "cell_type": "code",
      "execution_count": 43,
      "metadata": {
        "colab": {
          "base_uri": "https://localhost:8080/"
        },
        "id": "8Dazrg_LYRgu",
        "outputId": "a0cdeb75-5af4-4a48-eca5-b6001611d60a"
      },
      "outputs": [
        {
          "data": {
            "text/plain": [
              "0"
            ]
          },
          "execution_count": 43,
          "metadata": {},
          "output_type": "execute_result"
        }
      ],
      "source": [
        "t1.index(True)\n",
        "# Since 1 refers to True it has returned the index of 1 instead of True"
      ]
    },
    {
      "cell_type": "code",
      "execution_count": 44,
      "metadata": {
        "colab": {
          "base_uri": "https://localhost:8080/"
        },
        "id": "WgJngKEDYRmO",
        "outputId": "9b8de578-7d2b-4a29-87e4-c660c8e03220"
      },
      "outputs": [
        {
          "data": {
            "text/plain": [
              "4"
            ]
          },
          "execution_count": 44,
          "metadata": {},
          "output_type": "execute_result"
        }
      ],
      "source": [
        "t1.index('nepal')"
      ]
    },
    {
      "cell_type": "code",
      "execution_count": 45,
      "metadata": {
        "colab": {
          "base_uri": "https://localhost:8080/"
        },
        "id": "BxOPevL4YRpc",
        "outputId": "12fbf42d-b2f6-4fc2-b740-f027d91e8c0b"
      },
      "outputs": [
        {
          "data": {
            "text/plain": [
              "5"
            ]
          },
          "execution_count": 45,
          "metadata": {},
          "output_type": "execute_result"
        }
      ],
      "source": [
        "t1.index([1,2,3])"
      ]
    },
    {
      "cell_type": "code",
      "execution_count": 47,
      "metadata": {
        "colab": {
          "base_uri": "https://localhost:8080/",
          "height": 141
        },
        "id": "iXC5G-3hYRsi",
        "outputId": "c3be1567-881c-4a33-aff0-13f1f97e5d09"
      },
      "outputs": [
        {
          "ename": "ValueError",
          "evalue": "tuple.index(x): x not in tuple",
          "output_type": "error",
          "traceback": [
            "\u001b[0;31m---------------------------------------------------------------------------\u001b[0m",
            "\u001b[0;31mValueError\u001b[0m                                Traceback (most recent call last)",
            "Cell \u001b[0;32mIn[47], line 1\u001b[0m\n\u001b[0;32m----> 1\u001b[0m \u001b[43mt1\u001b[49m\u001b[38;5;241;43m.\u001b[39;49m\u001b[43mindex\u001b[49m\u001b[43m(\u001b[49m\u001b[38;5;241;43m0\u001b[39;49m\u001b[43m)\u001b[49m\n",
            "\u001b[0;31mValueError\u001b[0m: tuple.index(x): x not in tuple"
          ]
        }
      ],
      "source": [
        "t1.index(0)\n",
        "# This returns the Value Error because the wrong value is being passed which is 0."
      ]
    },
    {
      "cell_type": "code",
      "execution_count": 49,
      "metadata": {
        "colab": {
          "base_uri": "https://localhost:8080/"
        },
        "id": "QickQsPSquc3",
        "outputId": "3e081ced-6ba5-435b-f338-2c87d9ccd32e"
      },
      "outputs": [
        {
          "data": {
            "text/plain": [
              "False"
            ]
          },
          "execution_count": 49,
          "metadata": {},
          "output_type": "execute_result"
        }
      ],
      "source": [
        "l1 = [1,2,3]\n",
        "l2 = [1,2,3]\n",
        "\n",
        "l1 is l2\n",
        "\n",
        "# This is false because it is not comparing the list it is comparing the memory address"
      ]
    },
    {
      "cell_type": "code",
      "execution_count": 50,
      "metadata": {
        "colab": {
          "base_uri": "https://localhost:8080/"
        },
        "id": "Iq12tEv7EkTK",
        "outputId": "cf42d237-fba9-418b-eeba-ce63d14f3d96"
      },
      "outputs": [
        {
          "data": {
            "text/plain": [
              "True"
            ]
          },
          "execution_count": 50,
          "metadata": {},
          "output_type": "execute_result"
        }
      ],
      "source": [
        "# string interning\n",
        "\n",
        "s1 = \"hello\"\n",
        "s2 = \"hello\"\n",
        "\n",
        "s1 is s2\n",
        "\n",
        "# But the case is different here , its only because python reuses the memory address when storing small strings and integers"
      ]
    },
    {
      "cell_type": "code",
      "execution_count": 51,
      "metadata": {
        "colab": {
          "base_uri": "https://localhost:8080/"
        },
        "id": "ELXnlUjTZQiu",
        "outputId": "1c75e3b6-a333-4487-db0d-307cb915165f"
      },
      "outputs": [
        {
          "data": {
            "text/plain": [
              "False"
            ]
          },
          "execution_count": 51,
          "metadata": {},
          "output_type": "execute_result"
        }
      ],
      "source": [
        "a = 4\n",
        "b = 5\n",
        "a is b"
      ]
    }
  ],
  "metadata": {
    "colab": {
      "provenance": []
    },
    "kernelspec": {
      "display_name": "modelprep",
      "language": "python",
      "name": "python3"
    },
    "language_info": {
      "codemirror_mode": {
        "name": "ipython",
        "version": 3
      },
      "file_extension": ".py",
      "mimetype": "text/x-python",
      "name": "python",
      "nbconvert_exporter": "python",
      "pygments_lexer": "ipython3",
      "version": "3.10.18"
    }
  },
  "nbformat": 4,
  "nbformat_minor": 0
}
