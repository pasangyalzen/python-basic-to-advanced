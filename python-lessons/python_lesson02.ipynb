{
  "cells": [
    {
      "cell_type": "markdown",
      "metadata": {
        "id": "0eb4eTSKmTni"
      },
      "source": [
        "Print Function"
      ]
    },
    {
      "cell_type": "markdown",
      "metadata": {},
      "source": [
        "Print function is a built in function in Python which helps us to display information (such as text,  numbers variables, or results or expression) on the screen or console."
      ]
    },
    {
      "cell_type": "code",
      "execution_count": 66,
      "metadata": {
        "colab": {
          "base_uri": "https://localhost:8080/"
        },
        "id": "0F79tZrltBn_",
        "outputId": "fa7d8c2d-dfa4-42c0-efb4-f0846b6bd3a2"
      },
      "outputs": [
        {
          "name": "stdout",
          "output_type": "stream",
          "text": [
            "This is a print function\n"
          ]
        }
      ],
      "source": [
        "print('This is a print function')\n",
        "#Display string"
      ]
    },
    {
      "cell_type": "code",
      "execution_count": 67,
      "metadata": {
        "colab": {
          "base_uri": "https://localhost:8080/"
        },
        "id": "vHGVDdIEtM4F",
        "outputId": "92a8cfc3-6b64-4b83-a555-bb879d004b85"
      },
      "outputs": [
        {
          "name": "stdout",
          "output_type": "stream",
          "text": [
            "5\n"
          ]
        }
      ],
      "source": [
        "print(5)\n",
        "#Display integer "
      ]
    },
    {
      "cell_type": "code",
      "execution_count": 68,
      "metadata": {
        "colab": {
          "base_uri": "https://localhost:8080/"
        },
        "id": "5EF0NG1CtNbv",
        "outputId": "5cccbe9b-375e-432a-eb42-13d3e18bcad2"
      },
      "outputs": [
        {
          "name": "stdout",
          "output_type": "stream",
          "text": [
            "4\n"
          ]
        }
      ],
      "source": [
        "print(4)"
      ]
    },
    {
      "cell_type": "code",
      "execution_count": 69,
      "metadata": {
        "colab": {
          "base_uri": "https://localhost:8080/"
        },
        "id": "gwPkSAbDtNi2",
        "outputId": "bd912557-38f9-4683-a668-34374cee2163"
      },
      "outputs": [
        {
          "name": "stdout",
          "output_type": "stream",
          "text": [
            "9\n"
          ]
        }
      ],
      "source": [
        "print(4+5)\n",
        "#Displays the result after the addition of the 4 and 5"
      ]
    },
    {
      "cell_type": "markdown",
      "metadata": {
        "id": "CuZeMPSfq8EQ"
      },
      "source": [
        "Type Function"
      ]
    },
    {
      "cell_type": "markdown",
      "metadata": {},
      "source": [
        "Type function is a builtin function in Python that helps us to know the dtype of a given argument. Dtype refer to the data type. "
      ]
    },
    {
      "cell_type": "code",
      "execution_count": 70,
      "metadata": {
        "colab": {
          "base_uri": "https://localhost:8080/"
        },
        "id": "DzUh615Nqne5",
        "outputId": "094c9bb5-2889-4a4b-bb16-984bb740c5fb"
      },
      "outputs": [
        {
          "data": {
            "text/plain": [
              "int"
            ]
          },
          "execution_count": 70,
          "metadata": {},
          "output_type": "execute_result"
        }
      ],
      "source": [
        "type(5)\n",
        "#Showing the type of the given integer that is 5 , hence int is displayed for the type of 5 whcih represents integer."
      ]
    },
    {
      "cell_type": "code",
      "execution_count": 71,
      "metadata": {
        "colab": {
          "base_uri": "https://localhost:8080/"
        },
        "id": "pKLOkFesqoQV",
        "outputId": "91fab5dc-d86c-4673-e32b-a66c2c2c56b9"
      },
      "outputs": [
        {
          "data": {
            "text/plain": [
              "float"
            ]
          },
          "execution_count": 71,
          "metadata": {},
          "output_type": "execute_result"
        }
      ],
      "source": [
        "type(3.44)"
      ]
    },
    {
      "cell_type": "code",
      "execution_count": 72,
      "metadata": {
        "colab": {
          "base_uri": "https://localhost:8080/"
        },
        "id": "dmUoqOamqoV-",
        "outputId": "ecfa0b7d-abb1-402b-cad6-5d8f72313ed2"
      },
      "outputs": [
        {
          "data": {
            "text/plain": [
              "str"
            ]
          },
          "execution_count": 72,
          "metadata": {},
          "output_type": "execute_result"
        }
      ],
      "source": [
        "type('123')\n",
        "# Number is being passed but keeping it under the quotes changes it. So, this is no more a number. Its a string now because string are closed under the quotes."
      ]
    },
    {
      "cell_type": "code",
      "execution_count": 73,
      "metadata": {
        "colab": {
          "base_uri": "https://localhost:8080/"
        },
        "id": "2KbicCk7qoaQ",
        "outputId": "8d1815a2-2112-44d7-dd75-d78ce333cd4f"
      },
      "outputs": [
        {
          "data": {
            "text/plain": [
              "str"
            ]
          },
          "execution_count": 73,
          "metadata": {},
          "output_type": "execute_result"
        }
      ],
      "source": [
        "type(\"This is 1233 @3434j329u\")\n"
      ]
    },
    {
      "cell_type": "code",
      "execution_count": 74,
      "metadata": {
        "colab": {
          "base_uri": "https://localhost:8080/"
        },
        "id": "1FqgYZH4qoed",
        "outputId": "1adfa51f-8101-42fa-de0f-95e0a5312b7c"
      },
      "outputs": [
        {
          "data": {
            "text/plain": [
              "bool"
            ]
          },
          "execution_count": 74,
          "metadata": {},
          "output_type": "execute_result"
        }
      ],
      "source": [
        "type(True)\n",
        "# This is a boolean data type. Boolean refer to a 1 or 2 values. Its either 1(True) or 0(False)."
      ]
    },
    {
      "cell_type": "code",
      "execution_count": 75,
      "metadata": {
        "colab": {
          "base_uri": "https://localhost:8080/"
        },
        "id": "ryI00ZsVqoip",
        "outputId": "d8acef63-7108-4f21-bb4d-5cfaa0e1a208"
      },
      "outputs": [
        {
          "data": {
            "text/plain": [
              "bool"
            ]
          },
          "execution_count": 75,
          "metadata": {},
          "output_type": "execute_result"
        }
      ],
      "source": [
        "type(False)"
      ]
    },
    {
      "cell_type": "markdown",
      "metadata": {
        "id": "gC1HrPBwEIff"
      },
      "source": [
        "len function"
      ]
    },
    {
      "cell_type": "markdown",
      "metadata": {},
      "source": [
        "The len() function is a built-in Python function that returns the total number of items (length) in a variable, such as a string, list, tuple, dictionary, or other iterable objects."
      ]
    },
    {
      "cell_type": "code",
      "execution_count": 76,
      "metadata": {
        "id": "-LtRdr76EJ3z"
      },
      "outputs": [],
      "source": [
        "a = 'hello nepal hello world'"
      ]
    },
    {
      "cell_type": "code",
      "execution_count": 77,
      "metadata": {
        "colab": {
          "base_uri": "https://localhost:8080/"
        },
        "id": "DxZMIwqMEKCE",
        "outputId": "b6b27788-2e3d-4d49-a029-a53a87c8e80a"
      },
      "outputs": [
        {
          "data": {
            "text/plain": [
              "23"
            ]
          },
          "execution_count": 77,
          "metadata": {},
          "output_type": "execute_result"
        }
      ],
      "source": [
        "len(a)"
      ]
    },
    {
      "cell_type": "code",
      "execution_count": 78,
      "metadata": {
        "id": "2iA5JkxdEKMj"
      },
      "outputs": [],
      "source": [
        "b = 123"
      ]
    },
    {
      "cell_type": "code",
      "execution_count": 79,
      "metadata": {
        "colab": {
          "base_uri": "https://localhost:8080/",
          "height": 141
        },
        "id": "PnriLxZtEKWb",
        "outputId": "313cfea0-b84f-43f2-fdda-897eede19478"
      },
      "outputs": [],
      "source": [
        "# len(b)\n",
        "#Since a single number is not iterable len function is not applicable for the integer"
      ]
    },
    {
      "cell_type": "markdown",
      "metadata": {
        "id": "Vxq1q3l72xo7"
      },
      "source": [
        "## Data Types"
      ]
    },
    {
      "cell_type": "markdown",
      "metadata": {},
      "source": [
        "Data types define the type of value a variable can hold. Python is dynamically typed, meaning you don’t have to declare the type of a variable explicitly.It’s determined automatically when a value is assigned."
      ]
    },
    {
      "cell_type": "markdown",
      "metadata": {},
      "source": [
        "The different data types in Python are mentioned below with proper examples:"
      ]
    },
    {
      "cell_type": "markdown",
      "metadata": {
        "id": "0lXbTzOlrVnR"
      },
      "source": [
        "int"
      ]
    },
    {
      "cell_type": "code",
      "execution_count": 80,
      "metadata": {
        "id": "ZUaCKScurXpb"
      },
      "outputs": [],
      "source": [
        "a = 4"
      ]
    },
    {
      "cell_type": "code",
      "execution_count": 81,
      "metadata": {
        "colab": {
          "base_uri": "https://localhost:8080/"
        },
        "id": "xsXRtIw9rXig",
        "outputId": "8cb09563-d1f8-4d22-aae2-b89932a1e7f8"
      },
      "outputs": [
        {
          "data": {
            "text/plain": [
              "int"
            ]
          },
          "execution_count": 81,
          "metadata": {},
          "output_type": "execute_result"
        }
      ],
      "source": [
        "type(a)"
      ]
    },
    {
      "cell_type": "code",
      "execution_count": 82,
      "metadata": {
        "id": "UH4aFBVHrXe_"
      },
      "outputs": [],
      "source": [
        "b = 44"
      ]
    },
    {
      "cell_type": "code",
      "execution_count": 83,
      "metadata": {
        "colab": {
          "base_uri": "https://localhost:8080/"
        },
        "id": "enrVqKhDrXb3",
        "outputId": "81fce22b-b0bc-46fe-913c-c6f30644ac8e"
      },
      "outputs": [
        {
          "data": {
            "text/plain": [
              "int"
            ]
          },
          "execution_count": 83,
          "metadata": {},
          "output_type": "execute_result"
        }
      ],
      "source": [
        "type(b)"
      ]
    },
    {
      "cell_type": "code",
      "execution_count": 84,
      "metadata": {
        "colab": {
          "base_uri": "https://localhost:8080/"
        },
        "id": "qzg5mxoxrXYw",
        "outputId": "0653add5-1eef-493e-f030-a3b7d9fb5f8b"
      },
      "outputs": [
        {
          "data": {
            "text/plain": [
              "48"
            ]
          },
          "execution_count": 84,
          "metadata": {},
          "output_type": "execute_result"
        }
      ],
      "source": [
        "a + b"
      ]
    },
    {
      "cell_type": "code",
      "execution_count": 85,
      "metadata": {
        "colab": {
          "base_uri": "https://localhost:8080/"
        },
        "id": "ceIwKXyprXU-",
        "outputId": "f37e4997-6bed-4a88-dd90-5ae4e99cbd60"
      },
      "outputs": [
        {
          "data": {
            "text/plain": [
              "20"
            ]
          },
          "execution_count": 85,
          "metadata": {},
          "output_type": "execute_result"
        }
      ],
      "source": [
        "a * 5"
      ]
    },
    {
      "cell_type": "markdown",
      "metadata": {
        "id": "xX-6KC7ErpS2"
      },
      "source": [
        "float"
      ]
    },
    {
      "cell_type": "code",
      "execution_count": 86,
      "metadata": {
        "colab": {
          "base_uri": "https://localhost:8080/"
        },
        "id": "1Auyf0Dmrq7e",
        "outputId": "bebc7668-707c-417c-995c-efbd8b09134c"
      },
      "outputs": [
        {
          "data": {
            "text/plain": [
              "float"
            ]
          },
          "execution_count": 86,
          "metadata": {},
          "output_type": "execute_result"
        }
      ],
      "source": [
        "type(3.0)"
      ]
    },
    {
      "cell_type": "code",
      "execution_count": 87,
      "metadata": {
        "colab": {
          "base_uri": "https://localhost:8080/"
        },
        "id": "4O7Qw6zhruZz",
        "outputId": "40f6cadc-6839-48d2-c198-bce45a944ada"
      },
      "outputs": [
        {
          "data": {
            "text/plain": [
              "int"
            ]
          },
          "execution_count": 87,
          "metadata": {},
          "output_type": "execute_result"
        }
      ],
      "source": [
        "type(3)"
      ]
    },
    {
      "cell_type": "code",
      "execution_count": 88,
      "metadata": {
        "id": "jPfJn6FQruhQ"
      },
      "outputs": [],
      "source": [
        "c = 5.67"
      ]
    },
    {
      "cell_type": "code",
      "execution_count": 89,
      "metadata": {
        "colab": {
          "base_uri": "https://localhost:8080/"
        },
        "id": "TyU07omdrun_",
        "outputId": "dffe5825-3fae-40b1-a46f-5fa859453582"
      },
      "outputs": [
        {
          "data": {
            "text/plain": [
              "28.35"
            ]
          },
          "execution_count": 89,
          "metadata": {},
          "output_type": "execute_result"
        }
      ],
      "source": [
        "c * 5"
      ]
    },
    {
      "cell_type": "code",
      "execution_count": 90,
      "metadata": {
        "colab": {
          "base_uri": "https://localhost:8080/"
        },
        "id": "p26W9osmruul",
        "outputId": "1202a49a-d979-4332-ccf5-4cee46b0a155"
      },
      "outputs": [
        {
          "data": {
            "text/plain": [
              "float"
            ]
          },
          "execution_count": 90,
          "metadata": {},
          "output_type": "execute_result"
        }
      ],
      "source": [
        "type(c * 3)"
      ]
    },
    {
      "cell_type": "markdown",
      "metadata": {
        "id": "qbqgUkXmr-l5"
      },
      "source": [
        "string\n",
        "- string is a group of characters enclosed inside single or double quotes."
      ]
    },
    {
      "cell_type": "code",
      "execution_count": 91,
      "metadata": {
        "id": "ZvjgaDnlr_vy"
      },
      "outputs": [],
      "source": [
        "g = 'This is a string data type'"
      ]
    },
    {
      "cell_type": "code",
      "execution_count": 92,
      "metadata": {
        "colab": {
          "base_uri": "https://localhost:8080/"
        },
        "id": "Pe9n9LH_r_0t",
        "outputId": "3b6c5b37-0214-46f4-d85c-6d7451697d35"
      },
      "outputs": [
        {
          "data": {
            "text/plain": [
              "str"
            ]
          },
          "execution_count": 92,
          "metadata": {},
          "output_type": "execute_result"
        }
      ],
      "source": [
        "type(g)"
      ]
    },
    {
      "cell_type": "code",
      "execution_count": 93,
      "metadata": {
        "id": "7OLC8OLnsAAq"
      },
      "outputs": [],
      "source": [
        "a = \"nepal \""
      ]
    },
    {
      "cell_type": "code",
      "execution_count": 94,
      "metadata": {
        "id": "eDioAJEwsKNp"
      },
      "outputs": [],
      "source": [
        "b = 'kathmandu'"
      ]
    },
    {
      "cell_type": "code",
      "execution_count": 95,
      "metadata": {
        "colab": {
          "base_uri": "https://localhost:8080/"
        },
        "id": "4cT1XBX4sKhC",
        "outputId": "3708da4f-d317-4659-981b-3910052ce5e6"
      },
      "outputs": [
        {
          "data": {
            "text/plain": [
              "str"
            ]
          },
          "execution_count": 95,
          "metadata": {},
          "output_type": "execute_result"
        }
      ],
      "source": [
        "type(b)"
      ]
    },
    {
      "cell_type": "code",
      "execution_count": 96,
      "metadata": {
        "colab": {
          "base_uri": "https://localhost:8080/"
        },
        "id": "a18vY0musKq4",
        "outputId": "900057d3-28c9-4ac5-cc75-bda917130067"
      },
      "outputs": [
        {
          "data": {
            "text/plain": [
              "str"
            ]
          },
          "execution_count": 96,
          "metadata": {},
          "output_type": "execute_result"
        }
      ],
      "source": [
        "type(a)"
      ]
    },
    {
      "cell_type": "code",
      "execution_count": 97,
      "metadata": {
        "colab": {
          "base_uri": "https://localhost:8080/",
          "height": 35
        },
        "id": "wOflNUJwsKzH",
        "outputId": "0f57ab5f-628a-4d29-bfd4-8b3770e13090"
      },
      "outputs": [
        {
          "data": {
            "text/plain": [
              "'nepal kathmandu'"
            ]
          },
          "execution_count": 97,
          "metadata": {},
          "output_type": "execute_result"
        }
      ],
      "source": [
        "a + b # concatenation"
      ]
    },
    {
      "cell_type": "code",
      "execution_count": 98,
      "metadata": {
        "colab": {
          "base_uri": "https://localhost:8080/",
          "height": 35
        },
        "id": "LJfMid0zsQ4U",
        "outputId": "081e08b2-ab3d-4ca1-b469-969f9a938ab0"
      },
      "outputs": [
        {
          "data": {
            "text/plain": [
              "'kathmandunepal '"
            ]
          },
          "execution_count": 98,
          "metadata": {},
          "output_type": "execute_result"
        }
      ],
      "source": [
        "b + a"
      ]
    },
    {
      "cell_type": "code",
      "execution_count": 99,
      "metadata": {
        "colab": {
          "base_uri": "https://localhost:8080/",
          "height": 35
        },
        "id": "rSGPJMTysRC0",
        "outputId": "fefb80cf-50d2-4902-aca1-ccb31a9ced3b"
      },
      "outputs": [
        {
          "data": {
            "text/plain": [
              "'nepal '"
            ]
          },
          "execution_count": 99,
          "metadata": {},
          "output_type": "execute_result"
        }
      ],
      "source": [
        "a"
      ]
    },
    {
      "cell_type": "code",
      "execution_count": 100,
      "metadata": {
        "colab": {
          "base_uri": "https://localhost:8080/",
          "height": 35
        },
        "id": "l4sfxZpDsRL2",
        "outputId": "58827264-4ee0-4f35-a1ee-4e28fd077356"
      },
      "outputs": [
        {
          "data": {
            "text/plain": [
              "'nepal nepal nepal nepal nepal nepal nepal nepal nepal nepal '"
            ]
          },
          "execution_count": 100,
          "metadata": {},
          "output_type": "execute_result"
        }
      ],
      "source": [
        "a * 10"
      ]
    },
    {
      "cell_type": "code",
      "execution_count": 101,
      "metadata": {
        "colab": {
          "base_uri": "https://localhost:8080/",
          "height": 141
        },
        "id": "Rs4TCDM1sRaO",
        "outputId": "efd4f8c6-2592-4be1-d4d9-4f021476865a"
      },
      "outputs": [],
      "source": [
        "# a - 4\n",
        "#You cannot subtract (-) a string and an integer because subtraction is a numeric operation that only works with numbers (like integers or floats), not with strings.\n"
      ]
    },
    {
      "cell_type": "code",
      "execution_count": 102,
      "metadata": {
        "colab": {
          "base_uri": "https://localhost:8080/",
          "height": 141
        },
        "id": "9FlmvTIUtEAz",
        "outputId": "03334803-a258-4acd-9fd3-e9a2ab268154"
      },
      "outputs": [],
      "source": [
        "# a / 10\n",
        "# You cannot divide a string and an integer because division is a numeric operation as well"
      ]
    },
    {
      "cell_type": "code",
      "execution_count": 103,
      "metadata": {
        "colab": {
          "base_uri": "https://localhost:8080/",
          "height": 35
        },
        "id": "2AM_jfe8tEHZ",
        "outputId": "d4fe56a2-5436-422b-fa60-3ea05014378d"
      },
      "outputs": [
        {
          "data": {
            "text/plain": [
              "'nepal '"
            ]
          },
          "execution_count": 103,
          "metadata": {},
          "output_type": "execute_result"
        }
      ],
      "source": [
        "a"
      ]
    },
    {
      "cell_type": "code",
      "execution_count": 104,
      "metadata": {
        "colab": {
          "base_uri": "https://localhost:8080/",
          "height": 35
        },
        "id": "clAc-se2tEN7",
        "outputId": "1c24b49e-c5e1-4734-8893-938cec475c1a"
      },
      "outputs": [
        {
          "data": {
            "text/plain": [
              "'kathmandu'"
            ]
          },
          "execution_count": 104,
          "metadata": {},
          "output_type": "execute_result"
        }
      ],
      "source": [
        "b"
      ]
    },
    {
      "cell_type": "markdown",
      "metadata": {
        "id": "JyptQY00tueC"
      },
      "source": [
        "bool"
      ]
    },
    {
      "cell_type": "markdown",
      "metadata": {},
      "source": [
        "Before going into the bool we should know that the True and False can be represented in number as 1 and 0. By knowing this you can understand and make some sense out of the operations that feels like a magic."
      ]
    },
    {
      "cell_type": "code",
      "execution_count": 105,
      "metadata": {
        "id": "1iAQO4Uhtv9O"
      },
      "outputs": [],
      "source": [
        "r = True"
      ]
    },
    {
      "cell_type": "code",
      "execution_count": 106,
      "metadata": {
        "colab": {
          "base_uri": "https://localhost:8080/"
        },
        "id": "gH3LmoiNtwec",
        "outputId": "879a8663-697e-4a81-d0ff-68c28e8ed039"
      },
      "outputs": [
        {
          "data": {
            "text/plain": [
              "bool"
            ]
          },
          "execution_count": 106,
          "metadata": {},
          "output_type": "execute_result"
        }
      ],
      "source": [
        "type(r)"
      ]
    },
    {
      "cell_type": "code",
      "execution_count": 107,
      "metadata": {
        "colab": {
          "base_uri": "https://localhost:8080/"
        },
        "id": "VHUqKF_VtwkE",
        "outputId": "85b5b536-24be-450b-d31e-17f933a91b15"
      },
      "outputs": [
        {
          "data": {
            "text/plain": [
              "bool"
            ]
          },
          "execution_count": 107,
          "metadata": {},
          "output_type": "execute_result"
        }
      ],
      "source": [
        "type(False)"
      ]
    },
    {
      "cell_type": "code",
      "execution_count": 108,
      "metadata": {
        "colab": {
          "base_uri": "https://localhost:8080/"
        },
        "id": "R2XcxLgVtwpG",
        "outputId": "fc17e5e9-2f91-4c6e-d57e-eeae78bcc04d"
      },
      "outputs": [
        {
          "data": {
            "text/plain": [
              "2"
            ]
          },
          "execution_count": 108,
          "metadata": {},
          "output_type": "execute_result"
        }
      ],
      "source": [
        "True + True"
      ]
    },
    {
      "cell_type": "code",
      "execution_count": 109,
      "metadata": {
        "colab": {
          "base_uri": "https://localhost:8080/"
        },
        "id": "axVcwXFYtwtV",
        "outputId": "849ae499-0838-4742-b708-587c391bdf83"
      },
      "outputs": [
        {
          "data": {
            "text/plain": [
              "1"
            ]
          },
          "execution_count": 109,
          "metadata": {},
          "output_type": "execute_result"
        }
      ],
      "source": [
        "True + False"
      ]
    },
    {
      "cell_type": "code",
      "execution_count": 110,
      "metadata": {
        "colab": {
          "base_uri": "https://localhost:8080/"
        },
        "id": "YzInMChctww2",
        "outputId": "478cd8dd-9dbe-4435-d49b-6022034362b9"
      },
      "outputs": [
        {
          "data": {
            "text/plain": [
              "0"
            ]
          },
          "execution_count": 110,
          "metadata": {},
          "output_type": "execute_result"
        }
      ],
      "source": [
        "True * False # 1 * 0"
      ]
    },
    {
      "cell_type": "code",
      "execution_count": 111,
      "metadata": {
        "colab": {
          "base_uri": "https://localhost:8080/",
          "height": 141
        },
        "id": "1tSwY30uuRLI",
        "outputId": "c68264be-d590-4dde-dbf9-d66973831c6c"
      },
      "outputs": [
        {
          "data": {
            "text/plain": [
              "0.0"
            ]
          },
          "execution_count": 111,
          "metadata": {},
          "output_type": "execute_result"
        }
      ],
      "source": [
        "False / True # 0 / 1 which results to 0"
      ]
    },
    {
      "cell_type": "code",
      "execution_count": 112,
      "metadata": {},
      "outputs": [],
      "source": [
        "# True / False \n",
        "# 1 / 0 which results to undefined"
      ]
    },
    {
      "cell_type": "code",
      "execution_count": 113,
      "metadata": {
        "colab": {
          "base_uri": "https://localhost:8080/"
        },
        "id": "xws9l6IyuRTM",
        "outputId": "4e4cf350-5f3b-456c-fa74-6a470335e1a3"
      },
      "outputs": [
        {
          "data": {
            "text/plain": [
              "1"
            ]
          },
          "execution_count": 113,
          "metadata": {},
          "output_type": "execute_result"
        }
      ],
      "source": [
        "True * True"
      ]
    },
    {
      "cell_type": "code",
      "execution_count": 114,
      "metadata": {
        "colab": {
          "base_uri": "https://localhost:8080/"
        },
        "id": "JnbtDj62uRZ0",
        "outputId": "a37b319a-6a02-4f12-9503-0f141572c7e4"
      },
      "outputs": [
        {
          "data": {
            "text/plain": [
              "0"
            ]
          },
          "execution_count": 114,
          "metadata": {},
          "output_type": "execute_result"
        }
      ],
      "source": [
        "False * False"
      ]
    },
    {
      "cell_type": "markdown",
      "metadata": {
        "id": "49UKgdtSwaTF"
      },
      "source": [
        "complex"
      ]
    },
    {
      "cell_type": "markdown",
      "metadata": {},
      "source": [
        "A complex number is a number that has two parts:\n",
        "\n",
        "• A real part (like regular numbers)\n",
        "• An imaginary part, which is a multiple of i, where i is the square root of -1 (written as j in Python).\n",
        "\n",
        "It looks like this:\n",
        "a + bj\n",
        "where\n",
        "\n",
        "• a = real part\n",
        "\n",
        "• b = imaginary part\n",
        "\n",
        "• j = imaginary unit (Python uses j instead of i)"
      ]
    },
    {
      "cell_type": "code",
      "execution_count": 115,
      "metadata": {
        "id": "RUYQQMuVwejx"
      },
      "outputs": [],
      "source": [
        "a = 3 + 4j"
      ]
    },
    {
      "cell_type": "code",
      "execution_count": 116,
      "metadata": {
        "colab": {
          "base_uri": "https://localhost:8080/"
        },
        "id": "t9rlw0HmwvBh",
        "outputId": "56aa8bd9-006b-4248-dc7f-043149746f99"
      },
      "outputs": [
        {
          "data": {
            "text/plain": [
              "(3+4j)"
            ]
          },
          "execution_count": 116,
          "metadata": {},
          "output_type": "execute_result"
        }
      ],
      "source": [
        "a"
      ]
    },
    {
      "cell_type": "code",
      "execution_count": 117,
      "metadata": {
        "colab": {
          "base_uri": "https://localhost:8080/"
        },
        "id": "fpdYskKzwvJg",
        "outputId": "e43e6b49-91ff-49f9-9997-f9a6a1e40df5"
      },
      "outputs": [
        {
          "data": {
            "text/plain": [
              "complex"
            ]
          },
          "execution_count": 117,
          "metadata": {},
          "output_type": "execute_result"
        }
      ],
      "source": [
        "type(a)"
      ]
    },
    {
      "cell_type": "code",
      "execution_count": 118,
      "metadata": {
        "colab": {
          "base_uri": "https://localhost:8080/"
        },
        "id": "RaGaFs5Iwf6p",
        "outputId": "fa3676a4-90ac-4113-f148-6ad4f74a7226"
      },
      "outputs": [
        {
          "data": {
            "text/plain": [
              "(3-4j)"
            ]
          },
          "execution_count": 118,
          "metadata": {},
          "output_type": "execute_result"
        }
      ],
      "source": [
        "a.conjugate()\n",
        "\n",
        "# For a complex number a + bj, its conjugate is a - bj.\n",
        "# This means you keep the real part the same but change the sign of the imaginary part.\n",
        "\n"
      ]
    },
    {
      "cell_type": "code",
      "execution_count": 119,
      "metadata": {
        "colab": {
          "base_uri": "https://localhost:8080/"
        },
        "id": "LvypU1HwwgIZ",
        "outputId": "e0161dc1-fa92-4883-b720-74507a236a63"
      },
      "outputs": [
        {
          "data": {
            "text/plain": [
              "4.0"
            ]
          },
          "execution_count": 119,
          "metadata": {},
          "output_type": "execute_result"
        }
      ],
      "source": [
        "a.imag"
      ]
    },
    {
      "cell_type": "code",
      "execution_count": 120,
      "metadata": {
        "colab": {
          "base_uri": "https://localhost:8080/"
        },
        "id": "TVFfA6ZCwgRX",
        "outputId": "b4698cfa-3610-4a8d-d5dd-0a6e23d77328"
      },
      "outputs": [
        {
          "data": {
            "text/plain": [
              "3.0"
            ]
          },
          "execution_count": 120,
          "metadata": {},
          "output_type": "execute_result"
        }
      ],
      "source": [
        "a.real"
      ]
    },
    {
      "cell_type": "code",
      "execution_count": 121,
      "metadata": {
        "id": "tHFZ207uwga2"
      },
      "outputs": [],
      "source": [
        "b = 5 - 8J"
      ]
    },
    {
      "cell_type": "code",
      "execution_count": 122,
      "metadata": {
        "colab": {
          "base_uri": "https://localhost:8080/"
        },
        "id": "S3UrZd44yLY6",
        "outputId": "c7794de2-fa39-4f89-a35a-90f20be15395"
      },
      "outputs": [
        {
          "data": {
            "text/plain": [
              "(5+8j)"
            ]
          },
          "execution_count": 122,
          "metadata": {},
          "output_type": "execute_result"
        }
      ],
      "source": [
        "b.conjugate()"
      ]
    },
    {
      "cell_type": "code",
      "execution_count": 123,
      "metadata": {
        "colab": {
          "base_uri": "https://localhost:8080/"
        },
        "id": "zOdvgKylyLhS",
        "outputId": "4250d0ed-9783-421d-9569-0891dc20f38f"
      },
      "outputs": [
        {
          "data": {
            "text/plain": [
              "-8.0"
            ]
          },
          "execution_count": 123,
          "metadata": {},
          "output_type": "execute_result"
        }
      ],
      "source": [
        "b.imag"
      ]
    },
    {
      "cell_type": "code",
      "execution_count": 124,
      "metadata": {
        "colab": {
          "base_uri": "https://localhost:8080/"
        },
        "id": "OD6OkJ7KyLow",
        "outputId": "d1e85d1f-2a7e-494f-9623-1ab42bddc269"
      },
      "outputs": [
        {
          "data": {
            "text/plain": [
              "5.0"
            ]
          },
          "execution_count": 124,
          "metadata": {},
          "output_type": "execute_result"
        }
      ],
      "source": [
        "b.real"
      ]
    },
    {
      "cell_type": "markdown",
      "metadata": {
        "id": "e-_8IXK_NsPr"
      },
      "source": [
        "Type Conversion"
      ]
    },
    {
      "cell_type": "markdown",
      "metadata": {},
      "source": [
        "Type conversion, also called type casting, is the process of changing a variable from one data type to another. This is useful when you need to perform operations between different data types or when input data needs to be converted to a specific type."
      ]
    },
    {
      "cell_type": "code",
      "execution_count": 125,
      "metadata": {
        "id": "dws2pTMEuQQh"
      },
      "outputs": [],
      "source": [
        "# int, float, bool, str, complex"
      ]
    },
    {
      "cell_type": "code",
      "execution_count": 126,
      "metadata": {
        "colab": {
          "base_uri": "https://localhost:8080/"
        },
        "id": "PE1Nvg4My12Q",
        "outputId": "07e12b8d-d5c0-4c59-bd99-b85424456845"
      },
      "outputs": [
        {
          "data": {
            "text/plain": [
              "3"
            ]
          },
          "execution_count": 126,
          "metadata": {},
          "output_type": "execute_result"
        }
      ],
      "source": [
        "int(3.44)"
      ]
    },
    {
      "cell_type": "code",
      "execution_count": 127,
      "metadata": {
        "colab": {
          "base_uri": "https://localhost:8080/"
        },
        "id": "4V8pfjDSy18m",
        "outputId": "a8eae070-303c-489f-d7b2-31b04d84d936"
      },
      "outputs": [
        {
          "data": {
            "text/plain": [
              "3"
            ]
          },
          "execution_count": 127,
          "metadata": {},
          "output_type": "execute_result"
        }
      ],
      "source": [
        "int(3.99)"
      ]
    },
    {
      "cell_type": "code",
      "execution_count": 128,
      "metadata": {
        "colab": {
          "base_uri": "https://localhost:8080/"
        },
        "id": "9ADHxewly2Du",
        "outputId": "8b4994ca-7755-4631-d055-6895b2759b3a"
      },
      "outputs": [
        {
          "data": {
            "text/plain": [
              "4.0"
            ]
          },
          "execution_count": 128,
          "metadata": {},
          "output_type": "execute_result"
        }
      ],
      "source": [
        "float(4)"
      ]
    },
    {
      "cell_type": "code",
      "execution_count": 129,
      "metadata": {
        "colab": {
          "base_uri": "https://localhost:8080/"
        },
        "id": "gb70CzYyy2Js",
        "outputId": "1fb2cd21-47aa-456d-c7f8-8af5edfc6aa8"
      },
      "outputs": [
        {
          "data": {
            "text/plain": [
              "123.0"
            ]
          },
          "execution_count": 129,
          "metadata": {},
          "output_type": "execute_result"
        }
      ],
      "source": [
        "float('123')"
      ]
    },
    {
      "cell_type": "code",
      "execution_count": 130,
      "metadata": {
        "colab": {
          "base_uri": "https://localhost:8080/"
        },
        "id": "ERivrfJHy2UJ",
        "outputId": "88c66162-4f3f-4be1-a125-ed43072c1148"
      },
      "outputs": [
        {
          "data": {
            "text/plain": [
              "456"
            ]
          },
          "execution_count": 130,
          "metadata": {},
          "output_type": "execute_result"
        }
      ],
      "source": [
        "int('456')"
      ]
    },
    {
      "cell_type": "code",
      "execution_count": 132,
      "metadata": {
        "colab": {
          "base_uri": "https://localhost:8080/",
          "height": 141
        },
        "id": "AFzuWbBkuQWH",
        "outputId": "a5998e93-49c5-44d9-8665-7fc95f18816b"
      },
      "outputs": [],
      "source": [
        "# int('12345hello')\n",
        "# If the string is there including numbers it cannot be converted to integer because integer is a number."
      ]
    },
    {
      "cell_type": "code",
      "execution_count": 133,
      "metadata": {
        "colab": {
          "base_uri": "https://localhost:8080/"
        },
        "id": "hJMaLsgRuQbu",
        "outputId": "01b09d4e-aaec-4cd3-cd44-17803c0302de"
      },
      "outputs": [
        {
          "data": {
            "text/plain": [
              "1"
            ]
          },
          "execution_count": 133,
          "metadata": {},
          "output_type": "execute_result"
        }
      ],
      "source": [
        "int(True)"
      ]
    },
    {
      "cell_type": "code",
      "execution_count": 134,
      "metadata": {
        "colab": {
          "base_uri": "https://localhost:8080/"
        },
        "id": "z_7tb9bwz7bQ",
        "outputId": "3070a30d-c8e4-4b8e-ad68-3c09e0067a6e"
      },
      "outputs": [
        {
          "data": {
            "text/plain": [
              "0"
            ]
          },
          "execution_count": 134,
          "metadata": {},
          "output_type": "execute_result"
        }
      ],
      "source": [
        "int(False)"
      ]
    },
    {
      "cell_type": "markdown",
      "metadata": {},
      "source": [
        "Bool of any number other than 0 gives us True. Whether its a positive or a negative number wont create any problem."
      ]
    },
    {
      "cell_type": "code",
      "execution_count": 139,
      "metadata": {
        "colab": {
          "base_uri": "https://localhost:8080/"
        },
        "id": "Qy0oHW60z7kh",
        "outputId": "367b2968-3b17-4d28-f9de-438526746c92"
      },
      "outputs": [
        {
          "data": {
            "text/plain": [
              "True"
            ]
          },
          "execution_count": 139,
          "metadata": {},
          "output_type": "execute_result"
        }
      ],
      "source": [
        "bool(100)"
      ]
    },
    {
      "cell_type": "code",
      "execution_count": 140,
      "metadata": {
        "colab": {
          "base_uri": "https://localhost:8080/"
        },
        "id": "Qr7TeaW8z7tV",
        "outputId": "6d83dc17-71ea-451b-f95b-cac43d9f7cd3"
      },
      "outputs": [
        {
          "data": {
            "text/plain": [
              "True"
            ]
          },
          "execution_count": 140,
          "metadata": {},
          "output_type": "execute_result"
        }
      ],
      "source": [
        "bool(-99)"
      ]
    },
    {
      "cell_type": "code",
      "execution_count": 141,
      "metadata": {
        "colab": {
          "base_uri": "https://localhost:8080/"
        },
        "id": "0pvZwDXw0OIJ",
        "outputId": "bb6fd927-fb37-4814-9778-cbfcbc2506cf"
      },
      "outputs": [
        {
          "data": {
            "text/plain": [
              "False"
            ]
          },
          "execution_count": 141,
          "metadata": {},
          "output_type": "execute_result"
        }
      ],
      "source": [
        "bool(0)"
      ]
    },
    {
      "cell_type": "code",
      "execution_count": 142,
      "metadata": {
        "colab": {
          "base_uri": "https://localhost:8080/",
          "height": 35
        },
        "id": "aWS1-GG10OQt",
        "outputId": "4ab6a412-f7b9-40f2-ac2a-d7accf88b9f7"
      },
      "outputs": [
        {
          "data": {
            "text/plain": [
              "'True'"
            ]
          },
          "execution_count": 142,
          "metadata": {},
          "output_type": "execute_result"
        }
      ],
      "source": [
        "str(True)"
      ]
    },
    {
      "cell_type": "code",
      "execution_count": 143,
      "metadata": {
        "colab": {
          "base_uri": "https://localhost:8080/",
          "height": 35
        },
        "id": "_rpLfNSH0VwB",
        "outputId": "12e3d39e-c0b8-4940-b532-df81df245804"
      },
      "outputs": [
        {
          "data": {
            "text/plain": [
              "'3.45667'"
            ]
          },
          "execution_count": 143,
          "metadata": {},
          "output_type": "execute_result"
        }
      ],
      "source": [
        "str(3.45667)"
      ]
    },
    {
      "cell_type": "code",
      "execution_count": 144,
      "metadata": {
        "colab": {
          "base_uri": "https://localhost:8080/"
        },
        "id": "uJTv7N4u0V2L",
        "outputId": "5b4da052-ae11-421a-cf1c-e261d00a5e19"
      },
      "outputs": [
        {
          "data": {
            "text/plain": [
              "(4+0j)"
            ]
          },
          "execution_count": 144,
          "metadata": {},
          "output_type": "execute_result"
        }
      ],
      "source": [
        "complex(4)"
      ]
    },
    {
      "cell_type": "code",
      "execution_count": 145,
      "metadata": {
        "colab": {
          "base_uri": "https://localhost:8080/"
        },
        "id": "WyB5JuAU0gPm",
        "outputId": "2ad475af-4f8a-49fc-c33a-aec9967c0317"
      },
      "outputs": [
        {
          "data": {
            "text/plain": [
              "(3.45+0j)"
            ]
          },
          "execution_count": 145,
          "metadata": {},
          "output_type": "execute_result"
        }
      ],
      "source": [
        "complex(3.45)"
      ]
    },
    {
      "cell_type": "code",
      "execution_count": null,
      "metadata": {
        "colab": {
          "base_uri": "https://localhost:8080/"
        },
        "id": "2xcXbSVM0gUp",
        "outputId": "9447eed0-50d8-4ba9-e389-beacbf77dff3"
      },
      "outputs": [
        {
          "data": {
            "text/plain": [
              "3"
            ]
          },
          "execution_count": 146,
          "metadata": {},
          "output_type": "execute_result"
        }
      ],
      "source": [
        "int(3.45)\n",
        "# When changing the type of float to integer the decimal numbers are omitted"
      ]
    },
    {
      "cell_type": "markdown",
      "metadata": {
        "id": "oozA4r6KQ6_F"
      },
      "source": [
        "Indexing in string"
      ]
    },
    {
      "cell_type": "code",
      "execution_count": 147,
      "metadata": {
        "id": "XyxNpdE_0qWp"
      },
      "outputs": [],
      "source": [
        "a = 'nepal'"
      ]
    },
    {
      "cell_type": "markdown",
      "metadata": {
        "id": "N61d3XA0GqX_"
      },
      "source": [
        "There are two types of indexing in\n",
        "python programming language. They are:\n",
        "- Positive Indexing\n",
        "- Negative Indexing"
      ]
    },
    {
      "cell_type": "code",
      "execution_count": 148,
      "metadata": {
        "colab": {
          "base_uri": "https://localhost:8080/",
          "height": 35
        },
        "id": "7Pcke8ze04MO",
        "outputId": "324d9033-bac3-478c-99b1-f1eea53660b8"
      },
      "outputs": [
        {
          "data": {
            "text/plain": [
              "'nepal'"
            ]
          },
          "execution_count": 148,
          "metadata": {},
          "output_type": "execute_result"
        }
      ],
      "source": [
        "a"
      ]
    },
    {
      "cell_type": "code",
      "execution_count": 149,
      "metadata": {
        "colab": {
          "base_uri": "https://localhost:8080/",
          "height": 35
        },
        "id": "Jv-M7Eqb04Ir",
        "outputId": "90891f09-f071-4c8d-a2e3-624dd6449a81"
      },
      "outputs": [
        {
          "data": {
            "text/plain": [
              "'p'"
            ]
          },
          "execution_count": 149,
          "metadata": {},
          "output_type": "execute_result"
        }
      ],
      "source": [
        "a[2]"
      ]
    },
    {
      "cell_type": "code",
      "execution_count": 150,
      "metadata": {
        "colab": {
          "base_uri": "https://localhost:8080/",
          "height": 35
        },
        "id": "UUVzVZPo04Ea",
        "outputId": "9e2da337-ee3e-4cdf-c83d-91d6b4c340ab"
      },
      "outputs": [
        {
          "data": {
            "text/plain": [
              "'l'"
            ]
          },
          "execution_count": 150,
          "metadata": {},
          "output_type": "execute_result"
        }
      ],
      "source": [
        "a[4]"
      ]
    },
    {
      "cell_type": "code",
      "execution_count": 151,
      "metadata": {
        "colab": {
          "base_uri": "https://localhost:8080/",
          "height": 35
        },
        "id": "z85io9ms03_9",
        "outputId": "e600b25d-3564-4c8b-af4c-891e4ae01fac"
      },
      "outputs": [
        {
          "data": {
            "text/plain": [
              "'n'"
            ]
          },
          "execution_count": 151,
          "metadata": {},
          "output_type": "execute_result"
        }
      ],
      "source": [
        "a[0]"
      ]
    },
    {
      "cell_type": "code",
      "execution_count": 152,
      "metadata": {
        "colab": {
          "base_uri": "https://localhost:8080/",
          "height": 35
        },
        "id": "B57fuqPS037d",
        "outputId": "ac64d9f5-65e0-4b13-f198-a722bd018464"
      },
      "outputs": [
        {
          "data": {
            "text/plain": [
              "'a'"
            ]
          },
          "execution_count": 152,
          "metadata": {},
          "output_type": "execute_result"
        }
      ],
      "source": [
        "a[3]"
      ]
    },
    {
      "cell_type": "code",
      "execution_count": 153,
      "metadata": {
        "colab": {
          "base_uri": "https://localhost:8080/",
          "height": 35
        },
        "id": "hM_0iLdT033e",
        "outputId": "7bb9d284-656d-469e-c787-1fe451cb22ce"
      },
      "outputs": [
        {
          "data": {
            "text/plain": [
              "'l'"
            ]
          },
          "execution_count": 153,
          "metadata": {},
          "output_type": "execute_result"
        }
      ],
      "source": [
        "a[-1]"
      ]
    },
    {
      "cell_type": "code",
      "execution_count": 154,
      "metadata": {
        "colab": {
          "base_uri": "https://localhost:8080/",
          "height": 35
        },
        "id": "LH2ogbzz1_dL",
        "outputId": "7f4fe61e-24f9-48dd-e1ba-bfb94c0a5701"
      },
      "outputs": [
        {
          "data": {
            "text/plain": [
              "'p'"
            ]
          },
          "execution_count": 154,
          "metadata": {},
          "output_type": "execute_result"
        }
      ],
      "source": [
        "a[-3]"
      ]
    },
    {
      "cell_type": "code",
      "execution_count": 156,
      "metadata": {
        "colab": {
          "base_uri": "https://localhost:8080/",
          "height": 141
        },
        "id": "LBb5iR6u1_mH",
        "outputId": "92d46bca-cf22-4aeb-c87f-0f8e6d70cbf7"
      },
      "outputs": [],
      "source": [
        "# a[5]\n",
        "# when you try to pass the index that is out of range it will result to IndexError saying index out of range."
      ]
    },
    {
      "cell_type": "code",
      "execution_count": 157,
      "metadata": {
        "colab": {
          "base_uri": "https://localhost:8080/",
          "height": 141
        },
        "id": "InPsGnjI1_xU",
        "outputId": "5b4ebf1b-726b-4ede-8012-2b843b2c23aa"
      },
      "outputs": [],
      "source": [
        "# a[-10]\n",
        "# Same goes here, index is out of range"
      ]
    },
    {
      "cell_type": "markdown",
      "metadata": {
        "id": "Q5FkWmsDQ9nB"
      },
      "source": [
        "Slicing in string"
      ]
    },
    {
      "cell_type": "markdown",
      "metadata": {},
      "source": [
        "Slicing is a technique in Python used to extract a specific portion (subsequence) of a sequence such as strings, lists, tuples, etc., using a range of indices."
      ]
    },
    {
      "cell_type": "markdown",
      "metadata": {
        "id": "quBjAmT5PoVt"
      },
      "source": [
        "variable[start:end]"
      ]
    },
    {
      "cell_type": "code",
      "execution_count": 158,
      "metadata": {
        "colab": {
          "base_uri": "https://localhost:8080/",
          "height": 35
        },
        "id": "8lE0I_a_CB4n",
        "outputId": "81cf7be0-03ed-4f4d-d4e7-f33b8e81fc12"
      },
      "outputs": [
        {
          "data": {
            "text/plain": [
              "'nepal'"
            ]
          },
          "execution_count": 158,
          "metadata": {},
          "output_type": "execute_result"
        }
      ],
      "source": [
        "a"
      ]
    },
    {
      "cell_type": "code",
      "execution_count": 159,
      "metadata": {
        "colab": {
          "base_uri": "https://localhost:8080/",
          "height": 35
        },
        "id": "es3X6LvwCB_D",
        "outputId": "0ffdc71f-41fd-4468-cdc5-ffa9f012dbf7"
      },
      "outputs": [
        {
          "data": {
            "text/plain": [
              "'nep'"
            ]
          },
          "execution_count": 159,
          "metadata": {},
          "output_type": "execute_result"
        }
      ],
      "source": [
        "a[0:3] # starting index is inclusive and ending index is exclusive"
      ]
    },
    {
      "cell_type": "code",
      "execution_count": 160,
      "metadata": {
        "colab": {
          "base_uri": "https://localhost:8080/",
          "height": 35
        },
        "id": "yAK8p3uzCCEK",
        "outputId": "061bf363-cf37-4756-e6c2-ea32cf122781"
      },
      "outputs": [
        {
          "data": {
            "text/plain": [
              "'nepa'"
            ]
          },
          "execution_count": 160,
          "metadata": {},
          "output_type": "execute_result"
        }
      ],
      "source": [
        "a[0:4]"
      ]
    },
    {
      "cell_type": "code",
      "execution_count": 161,
      "metadata": {
        "colab": {
          "base_uri": "https://localhost:8080/",
          "height": 35
        },
        "id": "2mx8y2oWCCJu",
        "outputId": "2dd1e018-6501-44ba-bad1-1f2333c6b934"
      },
      "outputs": [
        {
          "data": {
            "text/plain": [
              "'pa'"
            ]
          },
          "execution_count": 161,
          "metadata": {},
          "output_type": "execute_result"
        }
      ],
      "source": [
        "a[2:4]"
      ]
    },
    {
      "cell_type": "code",
      "execution_count": 162,
      "metadata": {
        "colab": {
          "base_uri": "https://localhost:8080/",
          "height": 35
        },
        "id": "FndQOvErCCNy",
        "outputId": "476b1ad0-e352-40dd-e557-87b1183059eb"
      },
      "outputs": [
        {
          "data": {
            "text/plain": [
              "'nepal'"
            ]
          },
          "execution_count": 162,
          "metadata": {},
          "output_type": "execute_result"
        }
      ],
      "source": [
        "a"
      ]
    },
    {
      "cell_type": "code",
      "execution_count": 163,
      "metadata": {
        "colab": {
          "base_uri": "https://localhost:8080/",
          "height": 35
        },
        "id": "kl7ediHhCCR_",
        "outputId": "78d7830e-18f6-43b0-b64a-6f6f3b90a591"
      },
      "outputs": [
        {
          "data": {
            "text/plain": [
              "'epa'"
            ]
          },
          "execution_count": 163,
          "metadata": {},
          "output_type": "execute_result"
        }
      ],
      "source": [
        "a[-4:-1]"
      ]
    },
    {
      "cell_type": "code",
      "execution_count": 164,
      "metadata": {
        "colab": {
          "base_uri": "https://localhost:8080/",
          "height": 35
        },
        "id": "mALsSalCCCXD",
        "outputId": "9067a518-5c17-45df-b9ba-d649ea37f99e"
      },
      "outputs": [
        {
          "data": {
            "text/plain": [
              "'pal'"
            ]
          },
          "execution_count": 164,
          "metadata": {},
          "output_type": "execute_result"
        }
      ],
      "source": [
        "a[2:5000]"
      ]
    },
    {
      "cell_type": "code",
      "execution_count": 165,
      "metadata": {
        "colab": {
          "base_uri": "https://localhost:8080/",
          "height": 35
        },
        "id": "A_IH8dbwCCcH",
        "outputId": "7607e701-d712-42b6-eae9-3542c9c2214d"
      },
      "outputs": [
        {
          "data": {
            "text/plain": [
              "'epal'"
            ]
          },
          "execution_count": 165,
          "metadata": {},
          "output_type": "execute_result"
        }
      ],
      "source": [
        "a[1:]"
      ]
    },
    {
      "cell_type": "code",
      "execution_count": 166,
      "metadata": {
        "id": "0GK9-bHyCCgK"
      },
      "outputs": [],
      "source": [
        "b = 'kathmandu'"
      ]
    },
    {
      "cell_type": "code",
      "execution_count": 167,
      "metadata": {
        "colab": {
          "base_uri": "https://localhost:8080/",
          "height": 35
        },
        "id": "-BvWb7FZDbHe",
        "outputId": "a76db684-a0fb-4798-f49b-da6ee8d7ee77"
      },
      "outputs": [
        {
          "data": {
            "text/plain": [
              "'kath'"
            ]
          },
          "execution_count": 167,
          "metadata": {},
          "output_type": "execute_result"
        }
      ],
      "source": [
        "b[:4]"
      ]
    },
    {
      "cell_type": "code",
      "execution_count": 168,
      "metadata": {
        "colab": {
          "base_uri": "https://localhost:8080/",
          "height": 35
        },
        "id": "v_roZjAKDbNJ",
        "outputId": "fab710de-dd29-4132-b8c6-590f74068083"
      },
      "outputs": [
        {
          "data": {
            "text/plain": [
              "'kathmandu'"
            ]
          },
          "execution_count": 168,
          "metadata": {},
          "output_type": "execute_result"
        }
      ],
      "source": [
        "b[::]"
      ]
    },
    {
      "cell_type": "code",
      "execution_count": 169,
      "metadata": {
        "colab": {
          "base_uri": "https://localhost:8080/",
          "height": 35
        },
        "id": "wcxX9ix8DbRQ",
        "outputId": "e829d078-3284-4d30-91eb-b662c08e5821"
      },
      "outputs": [
        {
          "data": {
            "text/plain": [
              "'kath'"
            ]
          },
          "execution_count": 169,
          "metadata": {},
          "output_type": "execute_result"
        }
      ],
      "source": [
        "b[:4]"
      ]
    },
    {
      "cell_type": "code",
      "execution_count": 170,
      "metadata": {
        "colab": {
          "base_uri": "https://localhost:8080/",
          "height": 35
        },
        "id": "0vqZijJmDbVV",
        "outputId": "c9169bfb-754f-4aab-ddfc-e1a94d43c91e"
      },
      "outputs": [
        {
          "data": {
            "text/plain": [
              "'athm'"
            ]
          },
          "execution_count": 170,
          "metadata": {},
          "output_type": "execute_result"
        }
      ],
      "source": [
        "b[1:5]"
      ]
    },
    {
      "cell_type": "markdown",
      "metadata": {
        "id": "V6PA84oVRrq4"
      },
      "source": [
        "Syntax:\n",
        "- variable[start:end:step]\n",
        "- default value of step is 1"
      ]
    },
    {
      "cell_type": "code",
      "execution_count": 171,
      "metadata": {
        "id": "xJ1aNbtBFSDV"
      },
      "outputs": [],
      "source": [
        "g = 'hello world nepal'"
      ]
    },
    {
      "cell_type": "code",
      "execution_count": 172,
      "metadata": {
        "colab": {
          "base_uri": "https://localhost:8080/",
          "height": 35
        },
        "id": "Xe9m01HbFSJn",
        "outputId": "0359dc4b-2667-4195-9aab-79adb8afa529"
      },
      "outputs": [
        {
          "data": {
            "text/plain": [
              "'hello '"
            ]
          },
          "execution_count": 172,
          "metadata": {},
          "output_type": "execute_result"
        }
      ],
      "source": [
        "g[0:6]"
      ]
    },
    {
      "cell_type": "code",
      "execution_count": 173,
      "metadata": {
        "colab": {
          "base_uri": "https://localhost:8080/",
          "height": 35
        },
        "id": "8-DCyN66HM5f",
        "outputId": "99064ceb-93ef-4868-947f-ca936e3b1c9d"
      },
      "outputs": [
        {
          "data": {
            "text/plain": [
              "'hello '"
            ]
          },
          "execution_count": 173,
          "metadata": {},
          "output_type": "execute_result"
        }
      ],
      "source": [
        "g[0:6:1]"
      ]
    },
    {
      "cell_type": "code",
      "execution_count": 174,
      "metadata": {
        "colab": {
          "base_uri": "https://localhost:8080/",
          "height": 35
        },
        "id": "3IFj83b1FSO2",
        "outputId": "063bfc00-ec4e-4453-e299-97025fb2e899"
      },
      "outputs": [
        {
          "data": {
            "text/plain": [
              "'hlowrd'"
            ]
          },
          "execution_count": 174,
          "metadata": {},
          "output_type": "execute_result"
        }
      ],
      "source": [
        "g[0:12:2]"
      ]
    },
    {
      "cell_type": "code",
      "execution_count": 175,
      "metadata": {
        "id": "KxVpzy6tFSTo"
      },
      "outputs": [],
      "source": [
        "r = 'i am interested in data analysis and data science'"
      ]
    },
    {
      "cell_type": "code",
      "execution_count": 176,
      "metadata": {
        "colab": {
          "base_uri": "https://localhost:8080/",
          "height": 35
        },
        "id": "TuOulYONGGQD",
        "outputId": "0b8a4a61-385e-44da-c22d-a80d102ced14"
      },
      "outputs": [
        {
          "data": {
            "text/plain": [
              "'i eti'"
            ]
          },
          "execution_count": 176,
          "metadata": {},
          "output_type": "execute_result"
        }
      ],
      "source": [
        "r[0:20:4]"
      ]
    },
    {
      "cell_type": "code",
      "execution_count": 177,
      "metadata": {
        "colab": {
          "base_uri": "https://localhost:8080/",
          "height": 35
        },
        "id": "MD_xUtgxGGVI",
        "outputId": "e92368cc-3564-498e-98e2-8a6eceb0fe3d"
      },
      "outputs": [
        {
          "data": {
            "text/plain": [
              "'ecneics atad dna sisylana atad ni detseretni ma i'"
            ]
          },
          "execution_count": 177,
          "metadata": {},
          "output_type": "execute_result"
        }
      ],
      "source": [
        "r[::-1]"
      ]
    },
    {
      "cell_type": "code",
      "execution_count": 178,
      "metadata": {
        "id": "io3XDOt3GGaf"
      },
      "outputs": [],
      "source": [
        "f = 'nepal'"
      ]
    },
    {
      "cell_type": "code",
      "execution_count": 179,
      "metadata": {
        "colab": {
          "base_uri": "https://localhost:8080/",
          "height": 35
        },
        "id": "P3PBmtwKGicW",
        "outputId": "27047279-63ad-45d8-c32b-21f16c06bb70"
      },
      "outputs": [
        {
          "data": {
            "text/plain": [
              "'lapen'"
            ]
          },
          "execution_count": 179,
          "metadata": {},
          "output_type": "execute_result"
        }
      ],
      "source": [
        "f[::-1]"
      ]
    },
    {
      "cell_type": "code",
      "execution_count": 180,
      "metadata": {
        "id": "7-4nvbOsGii6"
      },
      "outputs": [],
      "source": [
        "f = 'kathmandu'"
      ]
    },
    {
      "cell_type": "code",
      "execution_count": 181,
      "metadata": {
        "colab": {
          "base_uri": "https://localhost:8080/",
          "height": 35
        },
        "id": "yKTWMnf3Gisq",
        "outputId": "88071fc3-dfa2-43cc-d85a-50dba5740994"
      },
      "outputs": [
        {
          "data": {
            "text/plain": [
              "'man'"
            ]
          },
          "execution_count": 181,
          "metadata": {},
          "output_type": "execute_result"
        }
      ],
      "source": [
        "f[4:7]"
      ]
    },
    {
      "cell_type": "code",
      "execution_count": 182,
      "metadata": {
        "colab": {
          "base_uri": "https://localhost:8080/",
          "height": 35
        },
        "id": "OLl2zsemGgYc",
        "outputId": "1bea063e-e656-4d5f-f35d-6c2bbb3f3234"
      },
      "outputs": [
        {
          "data": {
            "text/plain": [
              "''"
            ]
          },
          "execution_count": 182,
          "metadata": {},
          "output_type": "execute_result"
        }
      ],
      "source": [
        "f[-3:-6]"
      ]
    },
    {
      "cell_type": "code",
      "execution_count": 183,
      "metadata": {
        "colab": {
          "base_uri": "https://localhost:8080/",
          "height": 35
        },
        "id": "Y8iv_ZedGgd9",
        "outputId": "000b38ad-1b1e-40ee-cb7f-14cbd80bbce3"
      },
      "outputs": [
        {
          "data": {
            "text/plain": [
              "''"
            ]
          },
          "execution_count": 183,
          "metadata": {},
          "output_type": "execute_result"
        }
      ],
      "source": [
        "f[-3:-6:1]"
      ]
    },
    {
      "cell_type": "code",
      "execution_count": 184,
      "metadata": {
        "colab": {
          "base_uri": "https://localhost:8080/",
          "height": 35
        },
        "id": "3-ALsHoJHeXn",
        "outputId": "b2ab0506-3c45-47c3-ac62-1df86736c6ef"
      },
      "outputs": [
        {
          "data": {
            "text/plain": [
              "'nam'"
            ]
          },
          "execution_count": 184,
          "metadata": {},
          "output_type": "execute_result"
        }
      ],
      "source": [
        "f[-3:-6:-1]"
      ]
    },
    {
      "cell_type": "code",
      "execution_count": 185,
      "metadata": {
        "colab": {
          "base_uri": "https://localhost:8080/",
          "height": 35
        },
        "id": "F0NfslhiHefD",
        "outputId": "44dd37f1-6387-41f8-8801-710bc1d5a5a5"
      },
      "outputs": [
        {
          "data": {
            "text/plain": [
              "'tm'"
            ]
          },
          "execution_count": 185,
          "metadata": {},
          "output_type": "execute_result"
        }
      ],
      "source": [
        "f[2:5:2]"
      ]
    },
    {
      "cell_type": "code",
      "execution_count": 186,
      "metadata": {
        "colab": {
          "base_uri": "https://localhost:8080/",
          "height": 35
        },
        "id": "OZD5s-OUHem2",
        "outputId": "c5541d73-dcaa-4f2d-c0f4-df1195ebf0ab"
      },
      "outputs": [
        {
          "data": {
            "text/plain": [
              "''"
            ]
          },
          "execution_count": 186,
          "metadata": {},
          "output_type": "execute_result"
        }
      ],
      "source": [
        "f[2:5:-1]"
      ]
    },
    {
      "cell_type": "code",
      "execution_count": 187,
      "metadata": {
        "id": "BgRRi5g5HeuX"
      },
      "outputs": [
        {
          "data": {
            "text/plain": [
              "''"
            ]
          },
          "execution_count": 187,
          "metadata": {},
          "output_type": "execute_result"
        }
      ],
      "source": [
        "f[2:5:-2]"
      ]
    },
    {
      "cell_type": "markdown",
      "metadata": {
        "id": "6cXfO3UcRGo5"
      },
      "source": [
        "Functions in string"
      ]
    },
    {
      "cell_type": "code",
      "execution_count": 188,
      "metadata": {
        "colab": {
          "base_uri": "https://localhost:8080/",
          "height": 35
        },
        "id": "I09oZkFXK5DR",
        "outputId": "5a36cdb1-8246-434a-a1d8-fb0a71d77957"
      },
      "outputs": [
        {
          "data": {
            "text/plain": [
              "'kathmandu'"
            ]
          },
          "execution_count": 188,
          "metadata": {},
          "output_type": "execute_result"
        }
      ],
      "source": [
        "f"
      ]
    },
    {
      "cell_type": "markdown",
      "metadata": {
        "id": "8LxohUeMmTnn"
      },
      "source": [
        "Built-in function"
      ]
    },
    {
      "cell_type": "code",
      "execution_count": 189,
      "metadata": {
        "colab": {
          "base_uri": "https://localhost:8080/"
        },
        "id": "h99lywYoLEuF",
        "outputId": "5f8e1921-cc07-4ec7-9428-a9fb869b7173"
      },
      "outputs": [
        {
          "data": {
            "text/plain": [
              "9"
            ]
          },
          "execution_count": 189,
          "metadata": {},
          "output_type": "execute_result"
        }
      ],
      "source": [
        "len(f)"
      ]
    },
    {
      "cell_type": "code",
      "execution_count": 190,
      "metadata": {
        "colab": {
          "base_uri": "https://localhost:8080/"
        },
        "id": "4tTNbYsJLE2e",
        "outputId": "9ebe5ccd-7816-4365-c017-dcfb17b21040"
      },
      "outputs": [
        {
          "data": {
            "text/plain": [
              "str"
            ]
          },
          "execution_count": 190,
          "metadata": {},
          "output_type": "execute_result"
        }
      ],
      "source": [
        "type(f)"
      ]
    },
    {
      "cell_type": "markdown",
      "metadata": {
        "id": "p99NaHlbmTno"
      },
      "source": [
        "String Methods"
      ]
    },
    {
      "cell_type": "markdown",
      "metadata": {
        "id": "FltdW5NumTno"
      },
      "source": [
        "Find Method"
      ]
    },
    {
      "cell_type": "markdown",
      "metadata": {},
      "source": [
        "The find functon is used to find the index of the passed string and if the string is not found it will return \"-1\""
      ]
    },
    {
      "cell_type": "code",
      "execution_count": 196,
      "metadata": {
        "id": "nGlGHEnnLmA4"
      },
      "outputs": [],
      "source": [
        "h = 'hello nepal'"
      ]
    },
    {
      "cell_type": "code",
      "execution_count": 197,
      "metadata": {
        "colab": {
          "base_uri": "https://localhost:8080/"
        },
        "id": "no8PSnHgLmGL",
        "outputId": "d23d7cbb-7933-44f9-f626-8e459ecdd204"
      },
      "outputs": [
        {
          "data": {
            "text/plain": [
              "4"
            ]
          },
          "execution_count": 197,
          "metadata": {},
          "output_type": "execute_result"
        }
      ],
      "source": [
        "h.find('o')"
      ]
    },
    {
      "cell_type": "code",
      "execution_count": 198,
      "metadata": {
        "colab": {
          "base_uri": "https://localhost:8080/"
        },
        "id": "bN-WSSIWLmKd",
        "outputId": "18f2feab-c535-47eb-980d-c397dc26cddd"
      },
      "outputs": [
        {
          "data": {
            "text/plain": [
              "6"
            ]
          },
          "execution_count": 198,
          "metadata": {},
          "output_type": "execute_result"
        }
      ],
      "source": [
        "h.find('n')"
      ]
    },
    {
      "cell_type": "code",
      "execution_count": 199,
      "metadata": {
        "colab": {
          "base_uri": "https://localhost:8080/"
        },
        "id": "BhFWFZN5LmOb",
        "outputId": "6c0a39bc-02aa-4dc2-e581-31aa1690baba"
      },
      "outputs": [
        {
          "data": {
            "text/plain": [
              "8"
            ]
          },
          "execution_count": 199,
          "metadata": {},
          "output_type": "execute_result"
        }
      ],
      "source": [
        "h.find('p')"
      ]
    },
    {
      "cell_type": "code",
      "execution_count": 200,
      "metadata": {
        "colab": {
          "base_uri": "https://localhost:8080/"
        },
        "id": "U8UZgTXjMG9e",
        "outputId": "d4164d09-4739-4434-dc66-02f6ac621b09"
      },
      "outputs": [
        {
          "data": {
            "text/plain": [
              "-1"
            ]
          },
          "execution_count": 200,
          "metadata": {},
          "output_type": "execute_result"
        }
      ],
      "source": [
        "h.find('z')"
      ]
    },
    {
      "cell_type": "markdown",
      "metadata": {
        "id": "iGoABuWMmTnp"
      },
      "source": [
        "Count Method"
      ]
    },
    {
      "cell_type": "markdown",
      "metadata": {},
      "source": [
        "Count method counts the occurences of a certain character across the string\n",
        "\n",
        "Syntax :\n",
        ".count( substring, start, end)"
      ]
    },
    {
      "cell_type": "code",
      "execution_count": 201,
      "metadata": {
        "colab": {
          "base_uri": "https://localhost:8080/",
          "height": 35
        },
        "id": "ryGw7GF8MFIk",
        "outputId": "7a0b8e17-f62a-40ca-c6ff-1c5c24a34bf1"
      },
      "outputs": [
        {
          "data": {
            "text/plain": [
              "'hello nepal'"
            ]
          },
          "execution_count": 201,
          "metadata": {},
          "output_type": "execute_result"
        }
      ],
      "source": [
        "h"
      ]
    },
    {
      "cell_type": "code",
      "execution_count": 202,
      "metadata": {
        "colab": {
          "base_uri": "https://localhost:8080/"
        },
        "id": "j4UxOdk-MFU-",
        "outputId": "0fa8dfc8-9522-42aa-9298-4b9bfb11cd7c"
      },
      "outputs": [
        {
          "data": {
            "text/plain": [
              "3"
            ]
          },
          "execution_count": 202,
          "metadata": {},
          "output_type": "execute_result"
        }
      ],
      "source": [
        "h.count('l')"
      ]
    },
    {
      "cell_type": "code",
      "execution_count": 203,
      "metadata": {
        "colab": {
          "base_uri": "https://localhost:8080/"
        },
        "id": "AucXSXucMVCk",
        "outputId": "54b2573b-e722-4c3e-9145-249ffa032b10"
      },
      "outputs": [
        {
          "data": {
            "text/plain": [
              "2"
            ]
          },
          "execution_count": 203,
          "metadata": {},
          "output_type": "execute_result"
        }
      ],
      "source": [
        "h.count('e')"
      ]
    },
    {
      "cell_type": "code",
      "execution_count": 204,
      "metadata": {
        "colab": {
          "base_uri": "https://localhost:8080/"
        },
        "id": "A9jjJ3czMVGx",
        "outputId": "c9ece890-55b1-4e7b-cc61-be884a543147"
      },
      "outputs": [
        {
          "data": {
            "text/plain": [
              "0"
            ]
          },
          "execution_count": 204,
          "metadata": {},
          "output_type": "execute_result"
        }
      ],
      "source": [
        "h.count('q')"
      ]
    },
    {
      "cell_type": "markdown",
      "metadata": {
        "id": "QTGd7E6nmTnp"
      },
      "source": [
        "Upper Method"
      ]
    },
    {
      "cell_type": "markdown",
      "metadata": {},
      "source": [
        "Converts the string to UPPERCASE that means Capitaliozed form "
      ]
    },
    {
      "cell_type": "code",
      "execution_count": 207,
      "metadata": {
        "colab": {
          "base_uri": "https://localhost:8080/",
          "height": 35
        },
        "id": "-Vhp9u3RMpPN",
        "outputId": "dcb52de2-0e01-480b-ded8-c62867bda9a6"
      },
      "outputs": [
        {
          "data": {
            "text/plain": [
              "'hello nepal'"
            ]
          },
          "execution_count": 207,
          "metadata": {},
          "output_type": "execute_result"
        }
      ],
      "source": [
        "h"
      ]
    },
    {
      "cell_type": "code",
      "execution_count": 208,
      "metadata": {
        "colab": {
          "base_uri": "https://localhost:8080/",
          "height": 35
        },
        "id": "jctM4gLTMpWN",
        "outputId": "c2fdb814-e463-4342-abbb-9544e9d0d515"
      },
      "outputs": [
        {
          "data": {
            "text/plain": [
              "'HELLO NEPAL'"
            ]
          },
          "execution_count": 208,
          "metadata": {},
          "output_type": "execute_result"
        }
      ],
      "source": [
        "h.upper()"
      ]
    },
    {
      "cell_type": "code",
      "execution_count": 209,
      "metadata": {
        "colab": {
          "base_uri": "https://localhost:8080/",
          "height": 35
        },
        "id": "kxLUq_n0Mphr",
        "outputId": "77a8e489-c122-45c7-abe3-bd7f9be5a0a8"
      },
      "outputs": [
        {
          "data": {
            "text/plain": [
              "'HELLO123'"
            ]
          },
          "execution_count": 209,
          "metadata": {},
          "output_type": "execute_result"
        }
      ],
      "source": [
        "'hello123'.upper()"
      ]
    },
    {
      "cell_type": "markdown",
      "metadata": {
        "id": "1AfPOaLAmTnq"
      },
      "source": [
        "Lower Method"
      ]
    },
    {
      "cell_type": "markdown",
      "metadata": {},
      "source": [
        "Converts the string to lowercase that means small letters"
      ]
    },
    {
      "cell_type": "code",
      "execution_count": 210,
      "metadata": {
        "id": "54ui7eN2MvSe"
      },
      "outputs": [],
      "source": [
        "i = \"KATHMANDUNEPAL\""
      ]
    },
    {
      "cell_type": "code",
      "execution_count": 211,
      "metadata": {
        "colab": {
          "base_uri": "https://localhost:8080/",
          "height": 35
        },
        "id": "zGk0yEtPMvYW",
        "outputId": "fd00cf82-e15f-481b-e8ad-410dade0ce90"
      },
      "outputs": [
        {
          "data": {
            "text/plain": [
              "'kathmandunepal'"
            ]
          },
          "execution_count": 211,
          "metadata": {},
          "output_type": "execute_result"
        }
      ],
      "source": [
        "i.lower()"
      ]
    },
    {
      "cell_type": "code",
      "execution_count": 212,
      "metadata": {
        "colab": {
          "base_uri": "https://localhost:8080/",
          "height": 35
        },
        "id": "mkPwJjP3Mvde",
        "outputId": "d6482f90-4518-468b-c69c-965eecd0aa91"
      },
      "outputs": [
        {
          "data": {
            "text/plain": [
              "'123hello'"
            ]
          },
          "execution_count": 212,
          "metadata": {},
          "output_type": "execute_result"
        }
      ],
      "source": [
        "'123HELLO'.lower()"
      ]
    },
    {
      "cell_type": "markdown",
      "metadata": {
        "id": "WcuhMql3mTnq"
      },
      "source": [
        "Title Method"
      ]
    },
    {
      "cell_type": "markdown",
      "metadata": {},
      "source": [
        "The title() method is used with strings to convert the first character of every word to uppercase and the rest of the characters to lowercase.\n"
      ]
    },
    {
      "cell_type": "code",
      "execution_count": 216,
      "metadata": {
        "id": "3vmpEVQnM1qh"
      },
      "outputs": [],
      "source": [
        "i = 'hello i like to solve data related problems'"
      ]
    },
    {
      "cell_type": "code",
      "execution_count": 217,
      "metadata": {
        "colab": {
          "base_uri": "https://localhost:8080/",
          "height": 35
        },
        "id": "aqeuGJUCM1zM",
        "outputId": "44b3a160-0abf-46ef-dac0-6789fa424c36"
      },
      "outputs": [
        {
          "data": {
            "text/plain": [
              "'Hello I Like To Solve Data Related Problems'"
            ]
          },
          "execution_count": 217,
          "metadata": {},
          "output_type": "execute_result"
        }
      ],
      "source": [
        "i.title()"
      ]
    },
    {
      "cell_type": "markdown",
      "metadata": {
        "id": "Fy6Xs4xhmTnr"
      },
      "source": [
        "Capitalize Method"
      ]
    },
    {
      "cell_type": "markdown",
      "metadata": {},
      "source": [
        "The capitalize() method converts the first character of the entire string to uppercase and makes all other characters lowercase."
      ]
    },
    {
      "cell_type": "code",
      "execution_count": 218,
      "metadata": {
        "id": "kAiCP_UhNA01"
      },
      "outputs": [],
      "source": [
        "i = 'this is data science and analysis class. WE are learning python programming language'"
      ]
    },
    {
      "cell_type": "code",
      "execution_count": 219,
      "metadata": {
        "colab": {
          "base_uri": "https://localhost:8080/",
          "height": 35
        },
        "id": "yXoMcsvtNA78",
        "outputId": "3061a200-9a74-4e43-8266-49d848f0ed42"
      },
      "outputs": [
        {
          "data": {
            "text/plain": [
              "'This is data science and analysis class. we are learning python programming language'"
            ]
          },
          "execution_count": 219,
          "metadata": {},
          "output_type": "execute_result"
        }
      ],
      "source": [
        "i.capitalize()"
      ]
    },
    {
      "cell_type": "markdown",
      "metadata": {
        "id": "15ZlF-YOmTnr"
      },
      "source": [
        "Operations in String and Integers"
      ]
    },
    {
      "cell_type": "code",
      "execution_count": 223,
      "metadata": {
        "id": "UZ_NrlbdYa76"
      },
      "outputs": [],
      "source": [
        "s1 = \"mindrisers \"\n",
        "s2 = \"                       technologies\"\n",
        "\n",
        "# Boom whitespace is also considered as a string in Python"
      ]
    },
    {
      "cell_type": "code",
      "execution_count": 224,
      "metadata": {
        "colab": {
          "base_uri": "https://localhost:8080/",
          "height": 35
        },
        "id": "q1bozWbNYa4M",
        "outputId": "65297f91-0f17-4bdd-e288-2e7006249c2e"
      },
      "outputs": [
        {
          "data": {
            "text/plain": [
              "'mindrisers mindrisers mindrisers mindrisers mindrisers mindrisers '"
            ]
          },
          "execution_count": 224,
          "metadata": {},
          "output_type": "execute_result"
        }
      ],
      "source": [
        "s1 * 6"
      ]
    },
    {
      "cell_type": "code",
      "execution_count": 225,
      "metadata": {
        "colab": {
          "base_uri": "https://localhost:8080/",
          "height": 35
        },
        "id": "ppPwWSV2blpJ",
        "outputId": "731e9388-7958-429c-a4c4-c8d7410f1321"
      },
      "outputs": [
        {
          "data": {
            "text/plain": [
              "'                       technologies                       technologies                       technologies                       technologies'"
            ]
          },
          "execution_count": 225,
          "metadata": {},
          "output_type": "execute_result"
        }
      ],
      "source": [
        "s2 * 4"
      ]
    },
    {
      "cell_type": "code",
      "execution_count": 226,
      "metadata": {
        "colab": {
          "base_uri": "https://localhost:8080/",
          "height": 35
        },
        "id": "R6Fk1jKjYax1",
        "outputId": "6dc00400-632e-4a19-e37b-ef4f785cf977"
      },
      "outputs": [
        {
          "data": {
            "text/plain": [
              "'mindrisers                        technologies'"
            ]
          },
          "execution_count": 226,
          "metadata": {},
          "output_type": "execute_result"
        }
      ],
      "source": [
        "s1 + s2 # concatenation"
      ]
    },
    {
      "cell_type": "code",
      "execution_count": 227,
      "metadata": {
        "colab": {
          "base_uri": "https://localhost:8080/"
        },
        "id": "3ku3xmAYYckD",
        "outputId": "7a9ca3db-53d3-4b85-bf23-cff2b13a8091"
      },
      "outputs": [
        {
          "data": {
            "text/plain": [
              "9"
            ]
          },
          "execution_count": 227,
          "metadata": {},
          "output_type": "execute_result"
        }
      ],
      "source": [
        "4 + 5"
      ]
    },
    {
      "cell_type": "code",
      "execution_count": 229,
      "metadata": {
        "colab": {
          "base_uri": "https://localhost:8080/",
          "height": 106
        },
        "id": "6TSgzrj7iKJw",
        "outputId": "6f14b348-ce69-48bc-e009-baef0ac1db11"
      },
      "outputs": [],
      "source": [
        "# 'don't try to memorize code instead understand logic and practice as much as you can'\n",
        "\n",
        "# We unknowinlgly close the string quote because of the use of the ' . \n",
        " "
      ]
    },
    {
      "cell_type": "code",
      "execution_count": 230,
      "metadata": {
        "colab": {
          "base_uri": "https://localhost:8080/",
          "height": 35
        },
        "id": "eUDT5Op2DWQk",
        "outputId": "5c5c46b8-6621-4e8d-9e5e-a64756505bb8"
      },
      "outputs": [
        {
          "data": {
            "text/plain": [
              "\"don't try to memorize code instead understand logic and practice as much as you can\""
            ]
          },
          "execution_count": 230,
          "metadata": {},
          "output_type": "execute_result"
        }
      ],
      "source": [
        "'don\\'t try to memorize code instead understand logic and practice as much as you can'"
      ]
    },
    {
      "cell_type": "code",
      "execution_count": 231,
      "metadata": {
        "colab": {
          "base_uri": "https://localhost:8080/",
          "height": 35
        },
        "id": "T5MnnPcmiKGU",
        "outputId": "2f812a06-f08d-4413-9308-1de8435194bb"
      },
      "outputs": [
        {
          "data": {
            "text/plain": [
              "'don\"t try to memorize code instead understand logic and practice as much as you can'"
            ]
          },
          "execution_count": 231,
          "metadata": {},
          "output_type": "execute_result"
        }
      ],
      "source": [
        "'don\"t try to memorize code instead understand logic and practice as much as you can'"
      ]
    },
    {
      "cell_type": "code",
      "execution_count": 232,
      "metadata": {
        "colab": {
          "base_uri": "https://localhost:8080/",
          "height": 35
        },
        "id": "6VbnXA3uiKCV",
        "outputId": "7e23c8b2-721b-456e-898e-3164ca285858"
      },
      "outputs": [
        {
          "data": {
            "text/plain": [
              "\"don't try to memorize code instead understand logic and practice as much as you can\""
            ]
          },
          "execution_count": 232,
          "metadata": {},
          "output_type": "execute_result"
        }
      ],
      "source": [
        "\"don't try to memorize code instead understand logic and practice as much as you can\""
      ]
    },
    {
      "cell_type": "code",
      "execution_count": 233,
      "metadata": {
        "colab": {
          "base_uri": "https://localhost:8080/"
        },
        "id": "IitqmBWLiJ_G",
        "outputId": "6999e7f6-3f90-42aa-ff92-c0840bb7a85b"
      },
      "outputs": [
        {
          "data": {
            "text/plain": [
              "str"
            ]
          },
          "execution_count": 233,
          "metadata": {},
          "output_type": "execute_result"
        }
      ],
      "source": [
        "a = '''This is\n",
        "the basics class\n",
        "of python programming'''\n",
        "type(a)"
      ]
    },
    {
      "cell_type": "code",
      "execution_count": 234,
      "metadata": {
        "id": "AeaipESqN-xP"
      },
      "outputs": [],
      "source": [
        "b = 4"
      ]
    },
    {
      "cell_type": "code",
      "execution_count": 238,
      "metadata": {
        "colab": {
          "base_uri": "https://localhost:8080/"
        },
        "id": "jd0SmHGLaXFF",
        "outputId": "08e81c1c-a8f3-402c-91e9-1c7a7009a740"
      },
      "outputs": [
        {
          "data": {
            "text/plain": [
              "int"
            ]
          },
          "execution_count": 238,
          "metadata": {},
          "output_type": "execute_result"
        }
      ],
      "source": [
        "type(b)"
      ]
    },
    {
      "cell_type": "code",
      "execution_count": 242,
      "metadata": {
        "colab": {
          "base_uri": "https://localhost:8080/"
        },
        "id": "z-xlC9TXi7bk",
        "outputId": "389c250a-84ac-4347-da3e-7c821be871b3"
      },
      "outputs": [
        {
          "data": {
            "text/plain": [
              "str"
            ]
          },
          "execution_count": 242,
          "metadata": {},
          "output_type": "execute_result"
        }
      ],
      "source": [
        "type(a)"
      ]
    },
    {
      "cell_type": "markdown",
      "metadata": {},
      "source": [
        "Some information related to Markdown for increasing its font size"
      ]
    },
    {
      "cell_type": "markdown",
      "metadata": {
        "id": "EtMU5C8-DhCB"
      },
      "source": [
        "# Python"
      ]
    },
    {
      "cell_type": "markdown",
      "metadata": {
        "id": "_NQx7zF6DkLW"
      },
      "source": [
        "## Python"
      ]
    },
    {
      "cell_type": "markdown",
      "metadata": {
        "id": "aKk9fMv5DmHW"
      },
      "source": [
        "### Python"
      ]
    },
    {
      "cell_type": "markdown",
      "metadata": {
        "id": "uI-2N7u3DkHq"
      },
      "source": [
        "##### Python"
      ]
    },
    {
      "cell_type": "code",
      "execution_count": 243,
      "metadata": {
        "colab": {
          "base_uri": "https://localhost:8080/"
        },
        "id": "cCGQe61hiJ6-",
        "outputId": "233cd096-f11d-4ab0-e203-9628dc42c0a0"
      },
      "outputs": [
        {
          "name": "stdout",
          "output_type": "stream",
          "text": [
            "5\n"
          ]
        }
      ],
      "source": [
        "print(5)"
      ]
    },
    {
      "cell_type": "code",
      "execution_count": 244,
      "metadata": {
        "colab": {
          "base_uri": "https://localhost:8080/"
        },
        "id": "nX5yvcpxa7H1",
        "outputId": "fc888b54-50e9-4362-981c-ba44095c3669"
      },
      "outputs": [
        {
          "name": "stdout",
          "output_type": "stream",
          "text": [
            "this is a print function\n",
            "this is another print function\n",
            "45\n",
            "54\n"
          ]
        }
      ],
      "source": [
        "print('this is a print function')\n",
        "print('this is another print function')\n",
        "print(45)\n",
        "print(54)"
      ]
    },
    {
      "cell_type": "code",
      "execution_count": 245,
      "metadata": {
        "colab": {
          "base_uri": "https://localhost:8080/",
          "height": 53
        },
        "id": "Jhe1AOrMiJ33",
        "outputId": "39f4946e-0f7c-4ee8-9a34-067ad6c1ee66"
      },
      "outputs": [
        {
          "data": {
            "text/plain": [
              "'\\nWe have learnt operations, constant, variable declaration\\ndata type, string, int, float, boolean, complex number, type conversion,\\npython functions\\nWe have seen example of string indexing and slicing\\nWe have also gone through some of string inbuilt function\\n'"
            ]
          },
          "execution_count": 245,
          "metadata": {},
          "output_type": "execute_result"
        }
      ],
      "source": [
        "\"\"\"\n",
        "We have learnt operations, constant, variable declaration\n",
        "data type, string, int, float, boolean, complex number, type conversion,\n",
        "python functions\n",
        "We have seen example of string indexing and slicing\n",
        "We have also gone through some of string inbuilt function\n",
        "\"\"\""
      ]
    },
    {
      "cell_type": "code",
      "execution_count": 246,
      "metadata": {
        "colab": {
          "base_uri": "https://localhost:8080/"
        },
        "id": "-TMdXbWPD-FC",
        "outputId": "f979bae1-41af-4408-edff-2a20a4bcebe5"
      },
      "outputs": [
        {
          "data": {
            "text/plain": [
              "str"
            ]
          },
          "execution_count": 246,
          "metadata": {},
          "output_type": "execute_result"
        }
      ],
      "source": [
        "type(a)"
      ]
    },
    {
      "cell_type": "code",
      "execution_count": 247,
      "metadata": {
        "colab": {
          "base_uri": "https://localhost:8080/",
          "height": 35
        },
        "id": "QyJlYufU9xS_",
        "outputId": "c8a60a5b-0eb6-4080-8346-bc81787ebf24"
      },
      "outputs": [
        {
          "data": {
            "text/plain": [
              "'\\nNumbers, Strings, Comments,\\n Variables, Output,\\nArithmetic Operators, Comparison Operators,\\n Data Conversion, Get User Input,\\n'"
            ]
          },
          "execution_count": 247,
          "metadata": {},
          "output_type": "execute_result"
        }
      ],
      "source": [
        "'''\n",
        "Numbers, Strings, Comments,\n",
        " Variables, Output,\n",
        "Arithmetic Operators, Comparison Operators,\n",
        " Data Conversion, Get User Input,\n",
        "'''"
      ]
    },
    {
      "cell_type": "code",
      "execution_count": 248,
      "metadata": {
        "colab": {
          "base_uri": "https://localhost:8080/"
        },
        "id": "nIt4anFBjRJ5",
        "outputId": "a3b8b9d4-bc60-45df-fd77-380b3b7eb84d"
      },
      "outputs": [
        {
          "data": {
            "text/plain": [
              "10"
            ]
          },
          "execution_count": 248,
          "metadata": {},
          "output_type": "execute_result"
        }
      ],
      "source": [
        "int('10')"
      ]
    },
    {
      "cell_type": "markdown",
      "metadata": {},
      "source": [
        "Input function is a builtin function in Python that takes input from the users "
      ]
    },
    {
      "cell_type": "code",
      "execution_count": 250,
      "metadata": {
        "colab": {
          "base_uri": "https://localhost:8080/",
          "height": 53
        },
        "id": "Kjzy19MfOSM0",
        "outputId": "356ec142-28ed-46c5-be8c-b0e28d2f0409"
      },
      "outputs": [
        {
          "data": {
            "text/plain": [
              "''"
            ]
          },
          "execution_count": 250,
          "metadata": {},
          "output_type": "execute_result"
        }
      ],
      "source": [
        "input()"
      ]
    },
    {
      "cell_type": "code",
      "execution_count": 252,
      "metadata": {
        "colab": {
          "base_uri": "https://localhost:8080/"
        },
        "id": "p99avgTdOT2H",
        "outputId": "0a9eaf84-58d4-41d2-9b75-6e702e3f8bfb"
      },
      "outputs": [
        {
          "name": "stdout",
          "output_type": "stream",
          "text": [
            "\n"
          ]
        }
      ],
      "source": [
        "a = input()\n",
        "print(a)"
      ]
    },
    {
      "cell_type": "code",
      "execution_count": 253,
      "metadata": {
        "colab": {
          "base_uri": "https://localhost:8080/"
        },
        "id": "L_xx-KfzOT5z",
        "outputId": "fa4bc2e5-50ef-4915-cd1b-2a72b5876932"
      },
      "outputs": [
        {
          "data": {
            "text/plain": [
              "str"
            ]
          },
          "execution_count": 253,
          "metadata": {},
          "output_type": "execute_result"
        }
      ],
      "source": [
        "type(a)"
      ]
    },
    {
      "cell_type": "code",
      "execution_count": 254,
      "metadata": {
        "colab": {
          "base_uri": "https://localhost:8080/"
        },
        "id": "PNqDgIYmOT9h",
        "outputId": "b0e42e0b-0d84-42d6-d0b0-9dc1fa324ba0"
      },
      "outputs": [],
      "source": [
        "c = input('Enter the number: ')"
      ]
    },
    {
      "cell_type": "code",
      "execution_count": 255,
      "metadata": {
        "colab": {
          "base_uri": "https://localhost:8080/"
        },
        "id": "jHX0e5OPOmXD",
        "outputId": "dec38e4c-4b43-4ced-f01b-06628a299b4b"
      },
      "outputs": [
        {
          "data": {
            "text/plain": [
              "str"
            ]
          },
          "execution_count": 255,
          "metadata": {},
          "output_type": "execute_result"
        }
      ],
      "source": [
        "type(c)"
      ]
    },
    {
      "cell_type": "code",
      "execution_count": 262,
      "metadata": {
        "colab": {
          "base_uri": "https://localhost:8080/"
        },
        "id": "Nk7dME5COmbp",
        "outputId": "39e589bb-72d9-4c13-9819-265444ff74ef"
      },
      "outputs": [
        {
          "data": {
            "text/plain": [
              "int"
            ]
          },
          "execution_count": 262,
          "metadata": {},
          "output_type": "execute_result"
        }
      ],
      "source": [
        "c = int(input('Enter the number: '))\n",
        "type(c)"
      ]
    },
    {
      "cell_type": "code",
      "execution_count": 263,
      "metadata": {
        "colab": {
          "base_uri": "https://localhost:8080/"
        },
        "id": "c1FV4FrMO4Md",
        "outputId": "25a033a6-2444-4537-85c9-d4dd693d7f3d"
      },
      "outputs": [
        {
          "data": {
            "text/plain": [
              "59"
            ]
          },
          "execution_count": 263,
          "metadata": {},
          "output_type": "execute_result"
        }
      ],
      "source": [
        "c + 55"
      ]
    },
    {
      "cell_type": "code",
      "execution_count": 265,
      "metadata": {
        "colab": {
          "base_uri": "https://localhost:8080/"
        },
        "id": "8j8k9uUZO9rz",
        "outputId": "16252af5-f2f1-465f-928b-25b961f21a36"
      },
      "outputs": [],
      "source": [
        "f = float(input('Enter the decimal value: '))"
      ]
    },
    {
      "cell_type": "code",
      "execution_count": 266,
      "metadata": {
        "colab": {
          "base_uri": "https://localhost:8080/"
        },
        "id": "kaD_kNy4O96R",
        "outputId": "953cd43f-d73d-4c86-b5a6-07bf42e20687"
      },
      "outputs": [
        {
          "data": {
            "text/plain": [
              "2.5"
            ]
          },
          "execution_count": 266,
          "metadata": {},
          "output_type": "execute_result"
        }
      ],
      "source": [
        "f"
      ]
    },
    {
      "cell_type": "code",
      "execution_count": 267,
      "metadata": {
        "colab": {
          "base_uri": "https://localhost:8080/"
        },
        "id": "856S8ZAMPGz5",
        "outputId": "bdf13fa2-04ce-44d7-85ae-6209888d3aea"
      },
      "outputs": [
        {
          "data": {
            "text/plain": [
              "float"
            ]
          },
          "execution_count": 267,
          "metadata": {},
          "output_type": "execute_result"
        }
      ],
      "source": [
        "type(f)"
      ]
    }
  ],
  "metadata": {
    "colab": {
      "provenance": []
    },
    "kernelspec": {
      "display_name": "modelprep",
      "language": "python",
      "name": "python3"
    },
    "language_info": {
      "codemirror_mode": {
        "name": "ipython",
        "version": 3
      },
      "file_extension": ".py",
      "mimetype": "text/x-python",
      "name": "python",
      "nbconvert_exporter": "python",
      "pygments_lexer": "ipython3",
      "version": "3.10.18"
    }
  },
  "nbformat": 4,
  "nbformat_minor": 0
}
