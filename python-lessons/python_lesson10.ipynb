{
  "cells": [
    {
      "cell_type": "code",
      "execution_count": null,
      "metadata": {
        "_cell_guid": "b1076dfc-b9ad-4769-8c92-a6c4dae69d19",
        "_uuid": "8f2839f25d086af736a60e9eeb907d3b93b6e0e5",
        "colab": {
          "base_uri": "https://localhost:8080/"
        },
        "execution": {
          "iopub.execute_input": "2024-01-19T06:33:32.490931Z",
          "iopub.status.busy": "2024-01-19T06:33:32.490457Z",
          "iopub.status.idle": "2024-01-19T06:33:32.495945Z",
          "shell.execute_reply": "2024-01-19T06:33:32.494817Z",
          "shell.execute_reply.started": "2024-01-19T06:33:32.490903Z"
        },
        "id": "ECvUY809wSxz",
        "outputId": "fd8b6875-bfe4-43ec-a02e-d4bab54c2247",
        "trusted": true
      },
      "outputs": [
        {
          "name": "stdout",
          "output_type": "stream",
          "text": [
            "This is my print function\n"
          ]
        }
      ],
      "source": [
        "print('This is my print function')"
      ]
    },
    {
      "cell_type": "code",
      "execution_count": null,
      "metadata": {
        "colab": {
          "base_uri": "https://localhost:8080/"
        },
        "id": "JMCMWb0XOiOR",
        "outputId": "e2c81c0a-b485-45f8-d029-4e66eea48c62"
      },
      "outputs": [
        {
          "data": {
            "text/plain": [
              "25"
            ]
          },
          "execution_count": 2,
          "metadata": {},
          "output_type": "execute_result"
        }
      ],
      "source": [
        "len('This is my print function')"
      ]
    },
    {
      "cell_type": "code",
      "execution_count": null,
      "metadata": {
        "colab": {
          "base_uri": "https://localhost:8080/"
        },
        "id": "qGbiddLvOnCg",
        "outputId": "19bf0e06-d365-4a0e-f540-828f908f52fc"
      },
      "outputs": [
        {
          "data": {
            "text/plain": [
              "str"
            ]
          },
          "execution_count": 3,
          "metadata": {},
          "output_type": "execute_result"
        }
      ],
      "source": [
        "type('This is my print function')"
      ]
    },
    {
      "cell_type": "code",
      "execution_count": null,
      "metadata": {
        "execution": {
          "iopub.execute_input": "2024-01-19T06:33:32.497499Z",
          "iopub.status.busy": "2024-01-19T06:33:32.497205Z",
          "iopub.status.idle": "2024-01-19T06:33:32.506989Z",
          "shell.execute_reply": "2024-01-19T06:33:32.506209Z",
          "shell.execute_reply.started": "2024-01-19T06:33:32.497474Z"
        },
        "id": "chViFl83wSx0",
        "trusted": true
      },
      "outputs": [],
      "source": [
        "l = [1,33,444,322,32,3,2]"
      ]
    },
    {
      "cell_type": "code",
      "execution_count": null,
      "metadata": {
        "colab": {
          "base_uri": "https://localhost:8080/"
        },
        "id": "1zAQ_eGA2ads",
        "outputId": "0108a06b-bebf-4f48-ae2c-20ddca2afd11"
      },
      "outputs": [
        {
          "data": {
            "text/plain": [
              "7"
            ]
          },
          "execution_count": 5,
          "metadata": {},
          "output_type": "execute_result"
        }
      ],
      "source": [
        "len(l)"
      ]
    },
    {
      "cell_type": "code",
      "execution_count": null,
      "metadata": {
        "colab": {
          "base_uri": "https://localhost:8080/"
        },
        "id": "cWlPOFlP2dSP",
        "outputId": "7ec7a8ba-ad4b-4d23-b580-c88242cff379"
      },
      "outputs": [
        {
          "data": {
            "text/plain": [
              "11"
            ]
          },
          "execution_count": 6,
          "metadata": {},
          "output_type": "execute_result"
        }
      ],
      "source": [
        "len('hello nepal')"
      ]
    },
    {
      "cell_type": "code",
      "execution_count": null,
      "metadata": {
        "colab": {
          "base_uri": "https://localhost:8080/"
        },
        "execution": {
          "iopub.execute_input": "2024-01-19T06:33:41.473371Z",
          "iopub.status.busy": "2024-01-19T06:33:41.472833Z",
          "iopub.status.idle": "2024-01-19T06:33:41.481189Z",
          "shell.execute_reply": "2024-01-19T06:33:41.480195Z",
          "shell.execute_reply.started": "2024-01-19T06:33:41.473317Z"
        },
        "id": "IRWmdi2rwSx1",
        "outputId": "a01b0dca-a44d-448d-daa9-64411dc9242a",
        "trusted": true
      },
      "outputs": [
        {
          "data": {
            "text/plain": [
              "7"
            ]
          },
          "execution_count": 7,
          "metadata": {},
          "output_type": "execute_result"
        }
      ],
      "source": [
        "len(l)"
      ]
    },
    {
      "cell_type": "code",
      "execution_count": null,
      "metadata": {
        "colab": {
          "base_uri": "https://localhost:8080/"
        },
        "execution": {
          "iopub.execute_input": "2024-01-19T06:33:48.627418Z",
          "iopub.status.busy": "2024-01-19T06:33:48.626889Z",
          "iopub.status.idle": "2024-01-19T06:33:48.634503Z",
          "shell.execute_reply": "2024-01-19T06:33:48.633548Z",
          "shell.execute_reply.started": "2024-01-19T06:33:48.627383Z"
        },
        "id": "Msz0iht3wSx1",
        "outputId": "11f1fdda-bc8c-460c-83cb-de0d2174f8d1",
        "trusted": true
      },
      "outputs": [
        {
          "data": {
            "text/plain": [
              "list"
            ]
          },
          "execution_count": 8,
          "metadata": {},
          "output_type": "execute_result"
        }
      ],
      "source": [
        "type(l)"
      ]
    },
    {
      "cell_type": "code",
      "execution_count": null,
      "metadata": {
        "colab": {
          "base_uri": "https://localhost:8080/",
          "height": 35
        },
        "id": "92QdjsB1ya17",
        "outputId": "cf91cd44-7069-44f5-ed1e-9cc6515f9a0a"
      },
      "outputs": [
        {
          "data": {
            "application/vnd.google.colaboratory.intrinsic+json": {
              "type": "string"
            },
            "text/plain": [
              "'\\ndef function_name():\\n    code\\n'"
            ]
          },
          "execution_count": 9,
          "metadata": {},
          "output_type": "execute_result"
        }
      ],
      "source": [
        "'''\n",
        "def function_name():\n",
        "    code\n",
        "'''"
      ]
    },
    {
      "cell_type": "code",
      "execution_count": null,
      "metadata": {
        "colab": {
          "base_uri": "https://localhost:8080/",
          "height": 106
        },
        "id": "Ao5aWPkQicxF",
        "outputId": "caf4afbb-ad46-42a2-8082-267fdf81a59a"
      },
      "outputs": [
        {
          "ename": "SyntaxError",
          "evalue": "incomplete input (ipython-input-10-3861551224.py, line 1)",
          "output_type": "error",
          "traceback": [
            "\u001b[0;36m  File \u001b[0;32m\"/tmp/ipython-input-10-3861551224.py\"\u001b[0;36m, line \u001b[0;32m1\u001b[0m\n\u001b[0;31m    def test():\u001b[0m\n\u001b[0m               ^\u001b[0m\n\u001b[0;31mSyntaxError\u001b[0m\u001b[0;31m:\u001b[0m incomplete input\n"
          ]
        }
      ],
      "source": [
        "def test():"
      ]
    },
    {
      "cell_type": "code",
      "execution_count": null,
      "metadata": {
        "id": "CjuBlmFDwSx1"
      },
      "outputs": [],
      "source": [
        "def test():\n",
        "  pass"
      ]
    },
    {
      "cell_type": "code",
      "execution_count": null,
      "metadata": {
        "id": "3-YpnYVt3HQz"
      },
      "outputs": [],
      "source": [
        "def test():\n",
        "  pass"
      ]
    },
    {
      "cell_type": "code",
      "execution_count": null,
      "metadata": {
        "id": "S0F-djuEzOsW"
      },
      "outputs": [],
      "source": [
        "print(5)"
      ]
    },
    {
      "cell_type": "code",
      "execution_count": null,
      "metadata": {
        "id": "AxadTR_MzQQ7"
      },
      "outputs": [],
      "source": [
        "print(\"This is a string \")"
      ]
    },
    {
      "cell_type": "code",
      "execution_count": null,
      "metadata": {
        "id": "bEIqYNn-zeRw"
      },
      "outputs": [],
      "source": [
        "type(print(\"print\"))"
      ]
    },
    {
      "cell_type": "code",
      "execution_count": null,
      "metadata": {
        "id": "r9wHkVfBPGVO"
      },
      "outputs": [],
      "source": [
        "print(5)"
      ]
    },
    {
      "cell_type": "code",
      "execution_count": null,
      "metadata": {
        "id": "u6c8t7BhPH2g"
      },
      "outputs": [],
      "source": [
        "type(print(5))"
      ]
    },
    {
      "cell_type": "code",
      "execution_count": null,
      "metadata": {
        "execution": {
          "iopub.execute_input": "2024-01-19T06:37:10.072787Z",
          "iopub.status.busy": "2024-01-19T06:37:10.072389Z",
          "iopub.status.idle": "2024-01-19T06:37:10.078524Z",
          "shell.execute_reply": "2024-01-19T06:37:10.077204Z",
          "shell.execute_reply.started": "2024-01-19T06:37:10.072757Z"
        },
        "id": "jNOF4kU9wSx2",
        "trusted": true
      },
      "outputs": [],
      "source": [
        "def print_function():\n",
        "    print('first function')"
      ]
    },
    {
      "cell_type": "code",
      "execution_count": null,
      "metadata": {
        "id": "calrxpXuzzmB"
      },
      "outputs": [],
      "source": [
        "print_function()"
      ]
    },
    {
      "cell_type": "code",
      "execution_count": null,
      "metadata": {
        "execution": {
          "iopub.execute_input": "2024-01-19T06:37:44.238731Z",
          "iopub.status.busy": "2024-01-19T06:37:44.238301Z",
          "iopub.status.idle": "2024-01-19T06:37:44.244656Z",
          "shell.execute_reply": "2024-01-19T06:37:44.243486Z",
          "shell.execute_reply.started": "2024-01-19T06:37:44.238697Z"
        },
        "id": "NomsCw4SwSx2",
        "trusted": true
      },
      "outputs": [],
      "source": [
        "print_function()\n",
        "print_function()\n",
        "print_function()\n",
        "print_function()"
      ]
    },
    {
      "cell_type": "code",
      "execution_count": null,
      "metadata": {
        "id": "qU-CVYSjPc6x"
      },
      "outputs": [],
      "source": [
        "print_function() + print_function()"
      ]
    },
    {
      "cell_type": "code",
      "execution_count": null,
      "metadata": {
        "colab": {
          "base_uri": "https://localhost:8080/",
          "height": 159
        },
        "execution": {
          "iopub.execute_input": "2024-01-19T06:38:34.553311Z",
          "iopub.status.busy": "2024-01-19T06:38:34.552859Z",
          "iopub.status.idle": "2024-01-19T06:38:34.944694Z",
          "shell.execute_reply": "2024-01-19T06:38:34.943248Z",
          "shell.execute_reply.started": "2024-01-19T06:38:34.553274Z"
        },
        "id": "I3eDASBOwSx2",
        "outputId": "18b6982b-7172-4568-c37d-b8c2e88ab065",
        "trusted": true
      },
      "outputs": [
        {
          "ename": "NameError",
          "evalue": "name 'print_function' is not defined",
          "output_type": "error",
          "traceback": [
            "\u001b[0;31m---------------------------------------------------------------------------\u001b[0m",
            "\u001b[0;31mNameError\u001b[0m                                 Traceback (most recent call last)",
            "\u001b[0;32m/tmp/ipython-input-11-19551411.py\u001b[0m in \u001b[0;36m<cell line: 0>\u001b[0;34m()\u001b[0m\n\u001b[1;32m      1\u001b[0m \u001b[0;31m# print returns none data type so typeerror occurs\u001b[0m\u001b[0;34m\u001b[0m\u001b[0;34m\u001b[0m\u001b[0m\n\u001b[0;32m----> 2\u001b[0;31m \u001b[0mprint_function\u001b[0m\u001b[0;34m(\u001b[0m\u001b[0;34m)\u001b[0m \u001b[0;34m+\u001b[0m \u001b[0;34m' nepal'\u001b[0m\u001b[0;34m\u001b[0m\u001b[0;34m\u001b[0m\u001b[0m\n\u001b[0m",
            "\u001b[0;31mNameError\u001b[0m: name 'print_function' is not defined"
          ]
        }
      ],
      "source": [
        "# print returns none data type so typeerror occurs\n",
        "print_function() + ' nepal'"
      ]
    },
    {
      "cell_type": "code",
      "execution_count": null,
      "metadata": {
        "execution": {
          "iopub.execute_input": "2024-01-19T06:42:09.476080Z",
          "iopub.status.busy": "2024-01-19T06:42:09.475658Z",
          "iopub.status.idle": "2024-01-19T06:42:09.480979Z",
          "shell.execute_reply": "2024-01-19T06:42:09.480152Z",
          "shell.execute_reply.started": "2024-01-19T06:42:09.476046Z"
        },
        "id": "n8CEUnMSwSx2",
        "trusted": true
      },
      "outputs": [],
      "source": [
        "#return returns data type as it is\n",
        "def test2():\n",
        "    return 'first return'"
      ]
    },
    {
      "cell_type": "code",
      "execution_count": null,
      "metadata": {
        "colab": {
          "base_uri": "https://localhost:8080/",
          "height": 35
        },
        "execution": {
          "iopub.execute_input": "2024-01-19T06:40:22.183819Z",
          "iopub.status.busy": "2024-01-19T06:40:22.183425Z",
          "iopub.status.idle": "2024-01-19T06:40:22.191494Z",
          "shell.execute_reply": "2024-01-19T06:40:22.190192Z",
          "shell.execute_reply.started": "2024-01-19T06:40:22.183787Z"
        },
        "id": "jEmq62vhwSx3",
        "outputId": "b89b701d-6c53-40b0-d2d7-5dba522e1c3a",
        "trusted": true
      },
      "outputs": [
        {
          "data": {
            "application/vnd.google.colaboratory.intrinsic+json": {
              "type": "string"
            },
            "text/plain": [
              "'first return'"
            ]
          },
          "execution_count": 13,
          "metadata": {},
          "output_type": "execute_result"
        }
      ],
      "source": [
        "test2()"
      ]
    },
    {
      "cell_type": "code",
      "execution_count": null,
      "metadata": {
        "colab": {
          "base_uri": "https://localhost:8080/"
        },
        "id": "85yETAZkP8pA",
        "outputId": "b0c4b6f1-951e-4fac-9ea2-3d68e8197a9d"
      },
      "outputs": [
        {
          "name": "stdout",
          "output_type": "stream",
          "text": [
            "first return\n",
            "first return\n"
          ]
        }
      ],
      "source": [
        "print(test2())\n",
        "print(test2())"
      ]
    },
    {
      "cell_type": "code",
      "execution_count": null,
      "metadata": {
        "colab": {
          "base_uri": "https://localhost:8080/",
          "height": 35
        },
        "execution": {
          "iopub.execute_input": "2024-01-19T06:42:12.230581Z",
          "iopub.status.busy": "2024-01-19T06:42:12.230172Z",
          "iopub.status.idle": "2024-01-19T06:42:12.236602Z",
          "shell.execute_reply": "2024-01-19T06:42:12.235819Z",
          "shell.execute_reply.started": "2024-01-19T06:42:12.230549Z"
        },
        "id": "4FzGuxKTwSx3",
        "outputId": "a506bdaf-93c7-4ec4-e378-8f18207e650e",
        "trusted": true
      },
      "outputs": [
        {
          "data": {
            "application/vnd.google.colaboratory.intrinsic+json": {
              "type": "string"
            },
            "text/plain": [
              "'first return nepal'"
            ]
          },
          "execution_count": 15,
          "metadata": {},
          "output_type": "execute_result"
        }
      ],
      "source": [
        "test2() + ' nepal'"
      ]
    },
    {
      "cell_type": "code",
      "execution_count": null,
      "metadata": {
        "execution": {
          "iopub.execute_input": "2024-01-19T06:44:11.091074Z",
          "iopub.status.busy": "2024-01-19T06:44:11.090688Z",
          "iopub.status.idle": "2024-01-19T06:44:11.096246Z",
          "shell.execute_reply": "2024-01-19T06:44:11.095349Z",
          "shell.execute_reply.started": "2024-01-19T06:44:11.091044Z"
        },
        "id": "Si2xvaNUwSx3",
        "trusted": true
      },
      "outputs": [],
      "source": [
        "def test3():\n",
        "    return \"nepal\",2,22.22,[1,2,3]"
      ]
    },
    {
      "cell_type": "code",
      "execution_count": null,
      "metadata": {
        "colab": {
          "base_uri": "https://localhost:8080/"
        },
        "execution": {
          "iopub.execute_input": "2024-01-19T06:44:13.212477Z",
          "iopub.status.busy": "2024-01-19T06:44:13.212075Z",
          "iopub.status.idle": "2024-01-19T06:44:13.219946Z",
          "shell.execute_reply": "2024-01-19T06:44:13.218779Z",
          "shell.execute_reply.started": "2024-01-19T06:44:13.212445Z"
        },
        "id": "LMVZAomKwSx4",
        "outputId": "a722becd-bb53-49de-ebf6-a22ddc72f5f5",
        "trusted": true
      },
      "outputs": [
        {
          "data": {
            "text/plain": [
              "('nepal', 2, 22.22, [1, 2, 3])"
            ]
          },
          "execution_count": 17,
          "metadata": {},
          "output_type": "execute_result"
        }
      ],
      "source": [
        "test3()"
      ]
    },
    {
      "cell_type": "code",
      "execution_count": null,
      "metadata": {
        "colab": {
          "base_uri": "https://localhost:8080/"
        },
        "id": "wfP1vGqN1PAG",
        "outputId": "da081527-16be-4402-f66e-f7f4c851ce53"
      },
      "outputs": [
        {
          "data": {
            "text/plain": [
              "tuple"
            ]
          },
          "execution_count": 18,
          "metadata": {},
          "output_type": "execute_result"
        }
      ],
      "source": [
        "type(test3())"
      ]
    },
    {
      "cell_type": "code",
      "execution_count": null,
      "metadata": {
        "colab": {
          "base_uri": "https://localhost:8080/"
        },
        "id": "AEI5tUxMg9Cs",
        "outputId": "2e906747-2e9b-4aa4-d59c-6c1b91e72c46"
      },
      "outputs": [
        {
          "name": "stdout",
          "output_type": "stream",
          "text": [
            "1 2 3\n",
            "1\n",
            "3\n",
            "1----------2----------3********1\n"
          ]
        }
      ],
      "source": [
        "x,y,z = 1, 2, 3\n",
        "print(x,y,z)\n",
        "print(x)\n",
        "print(3)\n",
        "print(x,y,z,sep = '----------', end= \"********\") # parameter\n",
        "print(x)"
      ]
    },
    {
      "cell_type": "code",
      "execution_count": null,
      "metadata": {
        "id": "USXpD2MAmX3U"
      },
      "outputs": [],
      "source": [
        "a,b,c,d = 'nepal', 2, 22.22, [1,2,3]"
      ]
    },
    {
      "cell_type": "code",
      "execution_count": null,
      "metadata": {
        "colab": {
          "base_uri": "https://localhost:8080/",
          "height": 35
        },
        "id": "CTu7kWbcmsq1",
        "outputId": "a2697dbf-586c-4094-9762-0da1c93c6eda"
      },
      "outputs": [
        {
          "data": {
            "application/vnd.google.colaboratory.intrinsic+json": {
              "type": "string"
            },
            "text/plain": [
              "'nepal'"
            ]
          },
          "execution_count": 25,
          "metadata": {},
          "output_type": "execute_result"
        }
      ],
      "source": [
        "a"
      ]
    },
    {
      "cell_type": "code",
      "execution_count": null,
      "metadata": {
        "colab": {
          "base_uri": "https://localhost:8080/"
        },
        "id": "AhKFcnl-iMys",
        "outputId": "544d56ee-e866-4af1-aa0f-1fc6d73e5323"
      },
      "outputs": [
        {
          "data": {
            "text/plain": [
              "22.22"
            ]
          },
          "execution_count": 26,
          "metadata": {},
          "output_type": "execute_result"
        }
      ],
      "source": [
        "c"
      ]
    },
    {
      "cell_type": "code",
      "execution_count": null,
      "metadata": {
        "colab": {
          "base_uri": "https://localhost:8080/"
        },
        "id": "n7ZcicQFmuqP",
        "outputId": "19be7dd7-c8c6-4fd5-afa3-253cfa5ebc1b"
      },
      "outputs": [
        {
          "data": {
            "text/plain": [
              "[1, 2, 3]"
            ]
          },
          "execution_count": 27,
          "metadata": {},
          "output_type": "execute_result"
        }
      ],
      "source": [
        "d"
      ]
    },
    {
      "cell_type": "code",
      "execution_count": null,
      "metadata": {
        "colab": {
          "base_uri": "https://localhost:8080/"
        },
        "id": "0gDDN6vim603",
        "outputId": "d5255ea7-bbbf-440e-d4f6-60e15366ac7e"
      },
      "outputs": [
        {
          "data": {
            "text/plain": [
              "('nepal', 2, 22.22, [1, 2, 3])"
            ]
          },
          "execution_count": 28,
          "metadata": {},
          "output_type": "execute_result"
        }
      ],
      "source": [
        "test3()"
      ]
    },
    {
      "cell_type": "code",
      "execution_count": null,
      "metadata": {
        "execution": {
          "iopub.execute_input": "2024-01-19T06:45:41.681441Z",
          "iopub.status.busy": "2024-01-19T06:45:41.680996Z",
          "iopub.status.idle": "2024-01-19T06:45:41.687182Z",
          "shell.execute_reply": "2024-01-19T06:45:41.685838Z",
          "shell.execute_reply.started": "2024-01-19T06:45:41.681409Z"
        },
        "id": "6tjHmcTzwSx4",
        "trusted": true
      },
      "outputs": [],
      "source": [
        "a,b,c,d = test3()"
      ]
    },
    {
      "cell_type": "code",
      "execution_count": null,
      "metadata": {
        "colab": {
          "base_uri": "https://localhost:8080/",
          "height": 35
        },
        "execution": {
          "iopub.execute_input": "2024-01-19T06:45:45.559431Z",
          "iopub.status.busy": "2024-01-19T06:45:45.559014Z",
          "iopub.status.idle": "2024-01-19T06:45:45.567134Z",
          "shell.execute_reply": "2024-01-19T06:45:45.566016Z",
          "shell.execute_reply.started": "2024-01-19T06:45:45.559400Z"
        },
        "id": "gW-jARhlwSx4",
        "outputId": "4eb5ea95-9509-49a3-9dea-744378ecb331",
        "trusted": true
      },
      "outputs": [
        {
          "data": {
            "application/vnd.google.colaboratory.intrinsic+json": {
              "type": "string"
            },
            "text/plain": [
              "'nepal'"
            ]
          },
          "execution_count": 30,
          "metadata": {},
          "output_type": "execute_result"
        }
      ],
      "source": [
        "a"
      ]
    },
    {
      "cell_type": "code",
      "execution_count": null,
      "metadata": {
        "colab": {
          "base_uri": "https://localhost:8080/"
        },
        "execution": {
          "iopub.execute_input": "2024-01-19T06:45:48.825508Z",
          "iopub.status.busy": "2024-01-19T06:45:48.825128Z",
          "iopub.status.idle": "2024-01-19T06:45:48.832805Z",
          "shell.execute_reply": "2024-01-19T06:45:48.831769Z",
          "shell.execute_reply.started": "2024-01-19T06:45:48.825478Z"
        },
        "id": "aluoU7c1wSx4",
        "outputId": "231b8b7c-9719-44f8-98eb-077668ba4723",
        "trusted": true
      },
      "outputs": [
        {
          "data": {
            "text/plain": [
              "2"
            ]
          },
          "execution_count": 31,
          "metadata": {},
          "output_type": "execute_result"
        }
      ],
      "source": [
        "b"
      ]
    },
    {
      "cell_type": "code",
      "execution_count": null,
      "metadata": {
        "colab": {
          "base_uri": "https://localhost:8080/"
        },
        "execution": {
          "iopub.execute_input": "2024-01-19T06:45:50.086889Z",
          "iopub.status.busy": "2024-01-19T06:45:50.086509Z",
          "iopub.status.idle": "2024-01-19T06:45:50.094438Z",
          "shell.execute_reply": "2024-01-19T06:45:50.093086Z",
          "shell.execute_reply.started": "2024-01-19T06:45:50.086855Z"
        },
        "id": "nHQhOc8hwSx4",
        "outputId": "28c640d8-5ca0-4f93-ca5d-788add048f95",
        "trusted": true
      },
      "outputs": [
        {
          "data": {
            "text/plain": [
              "22.22"
            ]
          },
          "execution_count": 32,
          "metadata": {},
          "output_type": "execute_result"
        }
      ],
      "source": [
        "c"
      ]
    },
    {
      "cell_type": "code",
      "execution_count": null,
      "metadata": {
        "colab": {
          "base_uri": "https://localhost:8080/"
        },
        "execution": {
          "iopub.execute_input": "2024-01-19T06:45:51.853447Z",
          "iopub.status.busy": "2024-01-19T06:45:51.853022Z",
          "iopub.status.idle": "2024-01-19T06:45:51.861271Z",
          "shell.execute_reply": "2024-01-19T06:45:51.860012Z",
          "shell.execute_reply.started": "2024-01-19T06:45:51.853414Z"
        },
        "id": "UcPD_qMNwSx5",
        "outputId": "091e517b-49b1-4050-f744-ce316c2406e9",
        "trusted": true
      },
      "outputs": [
        {
          "data": {
            "text/plain": [
              "[1, 2, 3]"
            ]
          },
          "execution_count": 33,
          "metadata": {},
          "output_type": "execute_result"
        }
      ],
      "source": [
        "d"
      ]
    },
    {
      "cell_type": "code",
      "execution_count": null,
      "metadata": {
        "id": "Z5kE4gDs21Z8"
      },
      "outputs": [],
      "source": [
        "a = 4\n",
        "b = 5"
      ]
    },
    {
      "cell_type": "code",
      "execution_count": null,
      "metadata": {
        "id": "6hU-LQbHzrKo"
      },
      "outputs": [],
      "source": [
        "a , b = 4 , 5"
      ]
    },
    {
      "cell_type": "code",
      "execution_count": null,
      "metadata": {
        "colab": {
          "base_uri": "https://localhost:8080/",
          "height": 106
        },
        "id": "h3F8Mk6NUAbG",
        "outputId": "54442a12-bd75-4c29-c634-abaa191f06a9"
      },
      "outputs": [
        {
          "ename": "SyntaxError",
          "evalue": "invalid syntax. Maybe you meant '==' or ':=' instead of '='? (ipython-input-36-2012806437.py, line 1)",
          "output_type": "error",
          "traceback": [
            "\u001b[0;36m  File \u001b[0;32m\"/tmp/ipython-input-36-2012806437.py\"\u001b[0;36m, line \u001b[0;32m1\u001b[0m\n\u001b[0;31m    a=4,b=5\u001b[0m\n\u001b[0m    ^\u001b[0m\n\u001b[0;31mSyntaxError\u001b[0m\u001b[0;31m:\u001b[0m invalid syntax. Maybe you meant '==' or ':=' instead of '='?\n"
          ]
        }
      ],
      "source": [
        "a=4,b=5"
      ]
    },
    {
      "cell_type": "code",
      "execution_count": null,
      "metadata": {
        "colab": {
          "base_uri": "https://localhost:8080/"
        },
        "id": "Q6N-Kkl17rF8",
        "outputId": "448adf37-2d0f-4074-e601-1a012f735566"
      },
      "outputs": [
        {
          "data": {
            "text/plain": [
              "0.8571428571428571"
            ]
          },
          "execution_count": 37,
          "metadata": {},
          "output_type": "execute_result"
        }
      ],
      "source": [
        "6 / 7"
      ]
    },
    {
      "cell_type": "code",
      "execution_count": null,
      "metadata": {
        "colab": {
          "base_uri": "https://localhost:8080/"
        },
        "id": "39KfkkECi460",
        "outputId": "5cf59b2d-89c6-4e71-e160-b0bb18b20f9b"
      },
      "outputs": [
        {
          "data": {
            "text/plain": [
              "5.857142857142857"
            ]
          },
          "execution_count": 38,
          "metadata": {},
          "output_type": "execute_result"
        }
      ],
      "source": [
        "5 + 6 / 7"
      ]
    },
    {
      "cell_type": "code",
      "execution_count": null,
      "metadata": {
        "execution": {
          "iopub.execute_input": "2024-01-19T06:47:28.506286Z",
          "iopub.status.busy": "2024-01-19T06:47:28.505130Z",
          "iopub.status.idle": "2024-01-19T06:47:28.512029Z",
          "shell.execute_reply": "2024-01-19T06:47:28.510989Z",
          "shell.execute_reply.started": "2024-01-19T06:47:28.506226Z"
        },
        "id": "1afEuA3xwSx5",
        "trusted": true
      },
      "outputs": [],
      "source": [
        "def test4():\n",
        "    a = 5 + 6 / 7\n",
        "    return a"
      ]
    },
    {
      "cell_type": "code",
      "execution_count": null,
      "metadata": {
        "colab": {
          "base_uri": "https://localhost:8080/"
        },
        "id": "8Quxp3ux8A9M",
        "outputId": "ae3b0484-538f-4222-d7d7-34be624e8768"
      },
      "outputs": [
        {
          "data": {
            "text/plain": [
              "5.857142857142857"
            ]
          },
          "execution_count": 40,
          "metadata": {},
          "output_type": "execute_result"
        }
      ],
      "source": [
        "test4()"
      ]
    },
    {
      "cell_type": "code",
      "execution_count": null,
      "metadata": {
        "colab": {
          "base_uri": "https://localhost:8080/"
        },
        "id": "qVdamKxj2XZ7",
        "outputId": "b919d89d-37a6-4040-d8b1-c6c56eb6f5fb"
      },
      "outputs": [
        {
          "data": {
            "text/plain": [
              "5.857142857142857"
            ]
          },
          "execution_count": 41,
          "metadata": {},
          "output_type": "execute_result"
        }
      ],
      "source": [
        "test4()"
      ]
    },
    {
      "cell_type": "code",
      "execution_count": null,
      "metadata": {
        "colab": {
          "base_uri": "https://localhost:8080/"
        },
        "id": "swXE_yY5jIRL",
        "outputId": "d3d7b474-e0eb-4ef7-fcea-ca948acfcc2f"
      },
      "outputs": [
        {
          "name": "stdout",
          "output_type": "stream",
          "text": [
            "5.857142857142857\n",
            "5.857142857142857\n",
            "5.857142857142857\n"
          ]
        }
      ],
      "source": [
        "print(test4())\n",
        "print(test4())\n",
        "print(test4())"
      ]
    },
    {
      "cell_type": "code",
      "execution_count": null,
      "metadata": {
        "id": "1dMCaf-OjY7l"
      },
      "outputs": [],
      "source": [
        "def addition():\n",
        "    x = 5\n",
        "    y = 6\n",
        "    return x+y"
      ]
    },
    {
      "cell_type": "code",
      "execution_count": null,
      "metadata": {
        "colab": {
          "base_uri": "https://localhost:8080/"
        },
        "id": "N8dY1pEzjlpE",
        "outputId": "698f1e01-42ac-4db0-9fda-ea3e7f557de0"
      },
      "outputs": [
        {
          "data": {
            "text/plain": [
              "11"
            ]
          },
          "execution_count": 44,
          "metadata": {},
          "output_type": "execute_result"
        }
      ],
      "source": [
        "addition()"
      ]
    },
    {
      "cell_type": "code",
      "execution_count": null,
      "metadata": {
        "colab": {
          "base_uri": "https://localhost:8080/"
        },
        "id": "mwYfU5FMn9ep",
        "outputId": "d60c775e-45bb-462e-afd0-7b13b9c38ff3"
      },
      "outputs": [
        {
          "data": {
            "text/plain": [
              "5.857142857142857"
            ]
          },
          "execution_count": 45,
          "metadata": {},
          "output_type": "execute_result"
        }
      ],
      "source": [
        "5 + 6 / 7"
      ]
    },
    {
      "cell_type": "code",
      "execution_count": null,
      "metadata": {
        "colab": {
          "base_uri": "https://localhost:8080/"
        },
        "execution": {
          "iopub.execute_input": "2024-01-19T06:47:33.272082Z",
          "iopub.status.busy": "2024-01-19T06:47:33.271712Z",
          "iopub.status.idle": "2024-01-19T06:47:33.279508Z",
          "shell.execute_reply": "2024-01-19T06:47:33.278198Z",
          "shell.execute_reply.started": "2024-01-19T06:47:33.272050Z"
        },
        "id": "6sphYNg3wSx5",
        "outputId": "5dc226e6-8695-4635-b976-70815d80f4eb",
        "trusted": true
      },
      "outputs": [
        {
          "data": {
            "text/plain": [
              "5.857142857142857"
            ]
          },
          "execution_count": 46,
          "metadata": {},
          "output_type": "execute_result"
        }
      ],
      "source": [
        "test4()"
      ]
    },
    {
      "cell_type": "code",
      "execution_count": null,
      "metadata": {
        "execution": {
          "iopub.execute_input": "2024-01-19T06:49:18.063459Z",
          "iopub.status.busy": "2024-01-19T06:49:18.062982Z",
          "iopub.status.idle": "2024-01-19T06:49:18.069281Z",
          "shell.execute_reply": "2024-01-19T06:49:18.068030Z",
          "shell.execute_reply.started": "2024-01-19T06:49:18.063424Z"
        },
        "id": "nfIZNtF2wSx5",
        "trusted": true
      },
      "outputs": [],
      "source": [
        "def average(a,b,c): # parameters\n",
        "    avg = (a + b + c) / 3\n",
        "    return avg"
      ]
    },
    {
      "cell_type": "code",
      "execution_count": null,
      "metadata": {
        "colab": {
          "base_uri": "https://localhost:8080/",
          "height": 141
        },
        "id": "2sqnYtTr3Esa",
        "outputId": "e69a9a6d-3c8d-482e-a932-91cb5f4114bd"
      },
      "outputs": [
        {
          "ename": "TypeError",
          "evalue": "average() missing 3 required positional arguments: 'a', 'b', and 'c'",
          "output_type": "error",
          "traceback": [
            "\u001b[0;31m---------------------------------------------------------------------------\u001b[0m",
            "\u001b[0;31mTypeError\u001b[0m                                 Traceback (most recent call last)",
            "\u001b[0;32m/tmp/ipython-input-48-1817697096.py\u001b[0m in \u001b[0;36m<cell line: 0>\u001b[0;34m()\u001b[0m\n\u001b[0;32m----> 1\u001b[0;31m \u001b[0maverage\u001b[0m\u001b[0;34m(\u001b[0m\u001b[0;34m)\u001b[0m\u001b[0;34m\u001b[0m\u001b[0;34m\u001b[0m\u001b[0m\n\u001b[0m",
            "\u001b[0;31mTypeError\u001b[0m: average() missing 3 required positional arguments: 'a', 'b', and 'c'"
          ]
        }
      ],
      "source": [
        "average()"
      ]
    },
    {
      "cell_type": "code",
      "execution_count": null,
      "metadata": {
        "colab": {
          "base_uri": "https://localhost:8080/"
        },
        "id": "omJO4_qE362-",
        "outputId": "60a30ddd-a466-438e-edb3-19c8fa1956fc"
      },
      "outputs": [
        {
          "data": {
            "text/plain": [
              "2.0"
            ]
          },
          "execution_count": 49,
          "metadata": {},
          "output_type": "execute_result"
        }
      ],
      "source": [
        "average(1,2,3) # arguments"
      ]
    },
    {
      "cell_type": "code",
      "execution_count": null,
      "metadata": {
        "colab": {
          "base_uri": "https://localhost:8080/",
          "height": 141
        },
        "execution": {
          "iopub.execute_input": "2024-01-19T06:50:07.883860Z",
          "iopub.status.busy": "2024-01-19T06:50:07.883466Z",
          "iopub.status.idle": "2024-01-19T06:50:07.891165Z",
          "shell.execute_reply": "2024-01-19T06:50:07.889867Z",
          "shell.execute_reply.started": "2024-01-19T06:50:07.883828Z"
        },
        "id": "gWlfftX-wSx6",
        "outputId": "96c2f453-61f1-4836-dc3e-481170915fff",
        "trusted": true
      },
      "outputs": [
        {
          "ename": "TypeError",
          "evalue": "average() takes 3 positional arguments but 4 were given",
          "output_type": "error",
          "traceback": [
            "\u001b[0;31m---------------------------------------------------------------------------\u001b[0m",
            "\u001b[0;31mTypeError\u001b[0m                                 Traceback (most recent call last)",
            "\u001b[0;32m/tmp/ipython-input-51-2041828385.py\u001b[0m in \u001b[0;36m<cell line: 0>\u001b[0;34m()\u001b[0m\n\u001b[0;32m----> 1\u001b[0;31m \u001b[0maverage\u001b[0m\u001b[0;34m(\u001b[0m\u001b[0;36m37\u001b[0m\u001b[0;34m,\u001b[0m \u001b[0;36m99\u001b[0m\u001b[0;34m,\u001b[0m \u001b[0;36m77\u001b[0m\u001b[0;34m,\u001b[0m \u001b[0;36m184\u001b[0m\u001b[0;34m)\u001b[0m\u001b[0;34m\u001b[0m\u001b[0;34m\u001b[0m\u001b[0m\n\u001b[0m",
            "\u001b[0;31mTypeError\u001b[0m: average() takes 3 positional arguments but 4 were given"
          ]
        }
      ],
      "source": [
        "average(37, 99, 77, 184)"
      ]
    },
    {
      "cell_type": "code",
      "execution_count": null,
      "metadata": {
        "id": "5Je-CCRD-FWC"
      },
      "outputs": [],
      "source": [
        "avg = average(4,6,8)"
      ]
    },
    {
      "cell_type": "code",
      "execution_count": null,
      "metadata": {
        "colab": {
          "base_uri": "https://localhost:8080/"
        },
        "id": "kCoBTBFm5XqA",
        "outputId": "2c6e1f08-689c-4069-ac33-d77ae0fd7d72"
      },
      "outputs": [
        {
          "data": {
            "text/plain": [
              "6.0"
            ]
          },
          "execution_count": 53,
          "metadata": {},
          "output_type": "execute_result"
        }
      ],
      "source": [
        "avg"
      ]
    },
    {
      "cell_type": "code",
      "execution_count": null,
      "metadata": {
        "colab": {
          "base_uri": "https://localhost:8080/"
        },
        "id": "i_OmGOLD5GAp",
        "outputId": "58ddf3bf-cd64-447b-fc4f-94c636cb1f9d"
      },
      "outputs": [
        {
          "data": {
            "text/plain": [
              "float"
            ]
          },
          "execution_count": 54,
          "metadata": {},
          "output_type": "execute_result"
        }
      ],
      "source": [
        "type(average(4,6,8))"
      ]
    },
    {
      "cell_type": "code",
      "execution_count": null,
      "metadata": {
        "execution": {
          "iopub.execute_input": "2024-01-19T06:51:02.448052Z",
          "iopub.status.busy": "2024-01-19T06:51:02.447631Z",
          "iopub.status.idle": "2024-01-19T06:51:02.453216Z",
          "shell.execute_reply": "2024-01-19T06:51:02.452315Z",
          "shell.execute_reply.started": "2024-01-19T06:51:02.448021Z"
        },
        "id": "wYaYkO8vwSx6",
        "trusted": true
      },
      "outputs": [],
      "source": [
        "def add(a,b):\n",
        "    d = a + b\n",
        "    return d"
      ]
    },
    {
      "cell_type": "code",
      "execution_count": null,
      "metadata": {
        "colab": {
          "base_uri": "https://localhost:8080/"
        },
        "execution": {
          "iopub.execute_input": "2024-01-19T06:51:10.469412Z",
          "iopub.status.busy": "2024-01-19T06:51:10.469009Z",
          "iopub.status.idle": "2024-01-19T06:51:10.477358Z",
          "shell.execute_reply": "2024-01-19T06:51:10.476113Z",
          "shell.execute_reply.started": "2024-01-19T06:51:10.469382Z"
        },
        "id": "QJcuuPruwSx6",
        "outputId": "ef1665a1-e216-49c5-bf6b-0b60b60d299d",
        "trusted": true
      },
      "outputs": [
        {
          "data": {
            "text/plain": [
              "5"
            ]
          },
          "execution_count": 56,
          "metadata": {},
          "output_type": "execute_result"
        }
      ],
      "source": [
        "add(2,3)"
      ]
    },
    {
      "cell_type": "code",
      "execution_count": null,
      "metadata": {
        "colab": {
          "base_uri": "https://localhost:8080/",
          "height": 35
        },
        "execution": {
          "iopub.execute_input": "2024-01-19T06:51:29.627784Z",
          "iopub.status.busy": "2024-01-19T06:51:29.627395Z",
          "iopub.status.idle": "2024-01-19T06:51:29.635123Z",
          "shell.execute_reply": "2024-01-19T06:51:29.633874Z",
          "shell.execute_reply.started": "2024-01-19T06:51:29.627753Z"
        },
        "id": "GyyQuDeKwSx6",
        "outputId": "d08d01e8-010b-4a92-d9ea-e0699ebf8556",
        "trusted": true
      },
      "outputs": [
        {
          "data": {
            "application/vnd.google.colaboratory.intrinsic+json": {
              "type": "string"
            },
            "text/plain": [
              "'ktm nepal'"
            ]
          },
          "execution_count": 57,
          "metadata": {},
          "output_type": "execute_result"
        }
      ],
      "source": [
        "add('ktm ','nepal')"
      ]
    },
    {
      "cell_type": "code",
      "execution_count": null,
      "metadata": {
        "colab": {
          "base_uri": "https://localhost:8080/"
        },
        "execution": {
          "iopub.execute_input": "2024-01-19T06:51:57.406114Z",
          "iopub.status.busy": "2024-01-19T06:51:57.404918Z",
          "iopub.status.idle": "2024-01-19T06:51:57.414438Z",
          "shell.execute_reply": "2024-01-19T06:51:57.413180Z",
          "shell.execute_reply.started": "2024-01-19T06:51:57.406040Z"
        },
        "id": "kyC9HCzzwSx6",
        "outputId": "9c80e93c-d1e8-44b9-b657-dd0394e0f397",
        "trusted": true
      },
      "outputs": [
        {
          "data": {
            "text/plain": [
              "[1, 2, 3, 4, 5, 6, 7, 8]"
            ]
          },
          "execution_count": 58,
          "metadata": {},
          "output_type": "execute_result"
        }
      ],
      "source": [
        "add([1,2,3],[4,5,6,7,8])"
      ]
    },
    {
      "cell_type": "code",
      "execution_count": null,
      "metadata": {
        "colab": {
          "base_uri": "https://localhost:8080/"
        },
        "id": "Abpnwe365qaM",
        "outputId": "f8e5af4e-9565-483d-e530-e909141a25ad"
      },
      "outputs": [
        {
          "data": {
            "text/plain": [
              "8.1"
            ]
          },
          "execution_count": 59,
          "metadata": {},
          "output_type": "execute_result"
        }
      ],
      "source": [
        "add(4.5,3.6)"
      ]
    },
    {
      "cell_type": "code",
      "execution_count": null,
      "metadata": {
        "id": "BZmPBIIy5mPu"
      },
      "outputs": [],
      "source": [
        "d = add(4.5,3.6)"
      ]
    },
    {
      "cell_type": "code",
      "execution_count": null,
      "metadata": {
        "colab": {
          "base_uri": "https://localhost:8080/"
        },
        "id": "eKysFSHB50fk",
        "outputId": "2eacdc69-8f5b-486c-cffa-e489984c1e1c"
      },
      "outputs": [
        {
          "data": {
            "text/plain": [
              "8.1"
            ]
          },
          "execution_count": 61,
          "metadata": {},
          "output_type": "execute_result"
        }
      ],
      "source": [
        "d"
      ]
    },
    {
      "cell_type": "code",
      "execution_count": null,
      "metadata": {
        "execution": {
          "iopub.execute_input": "2024-01-19T06:53:21.196645Z",
          "iopub.status.busy": "2024-01-19T06:53:21.196139Z",
          "iopub.status.idle": "2024-01-19T06:53:21.203415Z",
          "shell.execute_reply": "2024-01-19T06:53:21.202217Z",
          "shell.execute_reply.started": "2024-01-19T06:53:21.196605Z"
        },
        "id": "jR-AO1t-wSx6",
        "trusted": true
      },
      "outputs": [],
      "source": [
        "l = [1,3.4,2,5.3,'nepal','usa',[4,5,6,7]]"
      ]
    },
    {
      "cell_type": "code",
      "execution_count": null,
      "metadata": {
        "execution": {
          "iopub.execute_input": "2024-01-19T06:55:16.479291Z",
          "iopub.status.busy": "2024-01-19T06:55:16.478874Z",
          "iopub.status.idle": "2024-01-19T06:55:16.485779Z",
          "shell.execute_reply": "2024-01-19T06:55:16.484217Z",
          "shell.execute_reply.started": "2024-01-19T06:55:16.479248Z"
        },
        "id": "1cSO37M6wSx7",
        "trusted": true
      },
      "outputs": [],
      "source": [
        "numeric = []\n",
        "for i in l:\n",
        "    if type(i) == int or type(i) == float:\n",
        "        numeric.append(i)"
      ]
    },
    {
      "cell_type": "code",
      "execution_count": null,
      "metadata": {
        "colab": {
          "base_uri": "https://localhost:8080/"
        },
        "execution": {
          "iopub.execute_input": "2024-01-19T06:55:20.082671Z",
          "iopub.status.busy": "2024-01-19T06:55:20.082232Z",
          "iopub.status.idle": "2024-01-19T06:55:20.090685Z",
          "shell.execute_reply": "2024-01-19T06:55:20.089407Z",
          "shell.execute_reply.started": "2024-01-19T06:55:20.082635Z"
        },
        "id": "8ILdCSs2wSx7",
        "outputId": "ada7246d-853e-4909-b723-b96e65dd82cf",
        "trusted": true
      },
      "outputs": [
        {
          "data": {
            "text/plain": [
              "[1, 3.4, 2, 5.3]"
            ]
          },
          "execution_count": 68,
          "metadata": {},
          "output_type": "execute_result"
        }
      ],
      "source": [
        "numeric"
      ]
    },
    {
      "cell_type": "code",
      "execution_count": null,
      "metadata": {
        "id": "Z78M4-Dr_uvh"
      },
      "outputs": [],
      "source": [
        "l1 = [1,2,3,4,'a','b','c',3+5j,3.33,'bb','4']"
      ]
    },
    {
      "cell_type": "code",
      "execution_count": null,
      "metadata": {
        "id": "YiD6Xcnn_3HD"
      },
      "outputs": [],
      "source": [
        "numeric_data = []\n",
        "for i in l1:\n",
        "    if type(i) == int or type(i) == float:\n",
        "        numeric_data.append(i)"
      ]
    },
    {
      "cell_type": "code",
      "execution_count": null,
      "metadata": {
        "colab": {
          "base_uri": "https://localhost:8080/"
        },
        "id": "yRKGCsfy3otC",
        "outputId": "72071207-1e9d-45fb-8780-b045b7369b89"
      },
      "outputs": [
        {
          "data": {
            "text/plain": [
              "[1, 2, 3, 4, 3.33]"
            ]
          },
          "execution_count": 71,
          "metadata": {},
          "output_type": "execute_result"
        }
      ],
      "source": [
        "numeric_data"
      ]
    },
    {
      "cell_type": "code",
      "execution_count": null,
      "metadata": {
        "id": "4NDDKyxa_-NN"
      },
      "outputs": [],
      "source": [
        "l2 = [1,4,5,2.33,'hi','hello']"
      ]
    },
    {
      "cell_type": "code",
      "execution_count": null,
      "metadata": {
        "id": "NYnGEVJg3lgy"
      },
      "outputs": [],
      "source": [
        "l1 = []\n",
        "for i in l2:\n",
        "    if type(i) == int or type(i) == float:\n",
        "        l1.append(i)"
      ]
    },
    {
      "cell_type": "code",
      "execution_count": null,
      "metadata": {
        "colab": {
          "base_uri": "https://localhost:8080/"
        },
        "id": "KnV48F9Y30Jo",
        "outputId": "dbdcc597-1367-41b7-f3e3-808bf0a8882f"
      },
      "outputs": [
        {
          "data": {
            "text/plain": [
              "[1, 4, 5, 2.33]"
            ]
          },
          "execution_count": 76,
          "metadata": {},
          "output_type": "execute_result"
        }
      ],
      "source": [
        "l1"
      ]
    },
    {
      "cell_type": "code",
      "execution_count": null,
      "metadata": {
        "execution": {
          "iopub.execute_input": "2024-01-19T06:56:49.819113Z",
          "iopub.status.busy": "2024-01-19T06:56:49.818654Z",
          "iopub.status.idle": "2024-01-19T06:56:49.825734Z",
          "shell.execute_reply": "2024-01-19T06:56:49.824283Z",
          "shell.execute_reply.started": "2024-01-19T06:56:49.819064Z"
        },
        "id": "hFHfuVRIwSx7",
        "trusted": true
      },
      "outputs": [],
      "source": [
        "def numeric(lst):\n",
        "    l1 = []\n",
        "    for i in lst:\n",
        "        if type(i) == int or type(i) == float:\n",
        "            l1.append(i)\n",
        "    return l1"
      ]
    },
    {
      "cell_type": "code",
      "execution_count": null,
      "metadata": {
        "colab": {
          "base_uri": "https://localhost:8080/",
          "height": 263
        },
        "id": "zHiTwnAcRtg8",
        "outputId": "27cb9e31-cfc1-4e7b-d39f-ed56418109e6"
      },
      "outputs": [
        {
          "ename": "TypeError",
          "evalue": "'int' object is not iterable",
          "output_type": "error",
          "traceback": [
            "\u001b[0;31m---------------------------------------------------------------------------\u001b[0m",
            "\u001b[0;31mTypeError\u001b[0m                                 Traceback (most recent call last)",
            "\u001b[0;32m/tmp/ipython-input-89-1902364764.py\u001b[0m in \u001b[0;36m<cell line: 0>\u001b[0;34m()\u001b[0m\n\u001b[0;32m----> 1\u001b[0;31m \u001b[0mnumeric\u001b[0m\u001b[0;34m(\u001b[0m\u001b[0;36m1\u001b[0m\u001b[0;34m)\u001b[0m\u001b[0;34m\u001b[0m\u001b[0;34m\u001b[0m\u001b[0m\n\u001b[0m",
            "\u001b[0;32m/tmp/ipython-input-82-2076359591.py\u001b[0m in \u001b[0;36mnumeric\u001b[0;34m(lst)\u001b[0m\n\u001b[1;32m      1\u001b[0m \u001b[0;32mdef\u001b[0m \u001b[0mnumeric\u001b[0m\u001b[0;34m(\u001b[0m\u001b[0mlst\u001b[0m\u001b[0;34m)\u001b[0m\u001b[0;34m:\u001b[0m\u001b[0;34m\u001b[0m\u001b[0;34m\u001b[0m\u001b[0m\n\u001b[1;32m      2\u001b[0m     \u001b[0ml1\u001b[0m \u001b[0;34m=\u001b[0m \u001b[0;34m[\u001b[0m\u001b[0;34m]\u001b[0m\u001b[0;34m\u001b[0m\u001b[0;34m\u001b[0m\u001b[0m\n\u001b[0;32m----> 3\u001b[0;31m     \u001b[0;32mfor\u001b[0m \u001b[0mi\u001b[0m \u001b[0;32min\u001b[0m \u001b[0mlst\u001b[0m\u001b[0;34m:\u001b[0m\u001b[0;34m\u001b[0m\u001b[0;34m\u001b[0m\u001b[0m\n\u001b[0m\u001b[1;32m      4\u001b[0m         \u001b[0;32mif\u001b[0m \u001b[0mtype\u001b[0m\u001b[0;34m(\u001b[0m\u001b[0mi\u001b[0m\u001b[0;34m)\u001b[0m \u001b[0;34m==\u001b[0m \u001b[0mint\u001b[0m \u001b[0;32mor\u001b[0m \u001b[0mtype\u001b[0m\u001b[0;34m(\u001b[0m\u001b[0mi\u001b[0m\u001b[0;34m)\u001b[0m \u001b[0;34m==\u001b[0m \u001b[0mfloat\u001b[0m\u001b[0;34m:\u001b[0m\u001b[0;34m\u001b[0m\u001b[0;34m\u001b[0m\u001b[0m\n\u001b[1;32m      5\u001b[0m             \u001b[0ml1\u001b[0m\u001b[0;34m.\u001b[0m\u001b[0mappend\u001b[0m\u001b[0;34m(\u001b[0m\u001b[0mi\u001b[0m\u001b[0;34m)\u001b[0m\u001b[0;34m\u001b[0m\u001b[0;34m\u001b[0m\u001b[0m\n",
            "\u001b[0;31mTypeError\u001b[0m: 'int' object is not iterable"
          ]
        }
      ],
      "source": [
        "numeric(1)"
      ]
    },
    {
      "cell_type": "code",
      "execution_count": null,
      "metadata": {
        "colab": {
          "base_uri": "https://localhost:8080/"
        },
        "id": "SbbxTwOM7A2v",
        "outputId": "7a9f8f2a-362e-443f-82d4-7a263b195d7f"
      },
      "outputs": [
        {
          "data": {
            "text/plain": [
              "[1, 2, 3, 4, 2.4]"
            ]
          },
          "execution_count": 83,
          "metadata": {},
          "output_type": "execute_result"
        }
      ],
      "source": [
        "numeric([1,2,3,4,'abc',2.4, 3 - 7j, True])"
      ]
    },
    {
      "cell_type": "code",
      "execution_count": null,
      "metadata": {
        "colab": {
          "base_uri": "https://localhost:8080/"
        },
        "id": "Ykx1oWqE7KyQ",
        "outputId": "1a296384-8543-42ed-d47d-0c015e9ef960"
      },
      "outputs": [
        {
          "data": {
            "text/plain": [
              "[1, 2, 3, 4, 5, 3.44]"
            ]
          },
          "execution_count": 84,
          "metadata": {},
          "output_type": "execute_result"
        }
      ],
      "source": [
        "numeric([1,2,3,4,5,3.44,'a','b'])"
      ]
    },
    {
      "cell_type": "code",
      "execution_count": null,
      "metadata": {
        "id": "mthDTenYut23"
      },
      "outputs": [],
      "source": [
        "s = (1,2,3,[1,2])"
      ]
    },
    {
      "cell_type": "code",
      "execution_count": null,
      "metadata": {
        "colab": {
          "base_uri": "https://localhost:8080/"
        },
        "execution": {
          "iopub.execute_input": "2024-01-19T06:56:58.853648Z",
          "iopub.status.busy": "2024-01-19T06:56:58.853271Z",
          "iopub.status.idle": "2024-01-19T06:56:58.861677Z",
          "shell.execute_reply": "2024-01-19T06:56:58.860268Z",
          "shell.execute_reply.started": "2024-01-19T06:56:58.853619Z"
        },
        "id": "GtpCsLydwSx7",
        "outputId": "d9ba96d3-3c1a-4805-b4c6-29477dd73527",
        "trusted": true
      },
      "outputs": [
        {
          "data": {
            "text/plain": [
              "[1, 2, 3]"
            ]
          },
          "execution_count": 86,
          "metadata": {},
          "output_type": "execute_result"
        }
      ],
      "source": [
        "numeric(s)"
      ]
    },
    {
      "cell_type": "code",
      "execution_count": null,
      "metadata": {
        "colab": {
          "base_uri": "https://localhost:8080/"
        },
        "id": "aehTbvFR3aUr",
        "outputId": "b87d2860-d8a7-4954-84a7-588535bdb219"
      },
      "outputs": [
        {
          "data": {
            "text/plain": [
              "[4, 8, 3, 2.345]"
            ]
          },
          "execution_count": 87,
          "metadata": {},
          "output_type": "execute_result"
        }
      ],
      "source": [
        "numeric([4, 8, 3, '45', 'hi', 'hello', 2.345])"
      ]
    },
    {
      "cell_type": "code",
      "execution_count": null,
      "metadata": {
        "colab": {
          "base_uri": "https://localhost:8080/"
        },
        "id": "x60C8Sh5rrAU",
        "outputId": "586693df-926c-4512-81fb-ca16148519e9"
      },
      "outputs": [
        {
          "data": {
            "text/plain": [
              "[1, 3, 5, 3.45, 4.66]"
            ]
          },
          "execution_count": 88,
          "metadata": {},
          "output_type": "execute_result"
        }
      ],
      "source": [
        "numeric((1,3,5,'nepal','china','india', 3.45, 4.66))"
      ]
    },
    {
      "cell_type": "code",
      "execution_count": null,
      "metadata": {
        "colab": {
          "base_uri": "https://localhost:8080/"
        },
        "id": "2fwIJf0VAwjF",
        "outputId": "d8f14e98-9ccb-4107-9eb9-16725ef9217a"
      },
      "outputs": [
        {
          "data": {
            "text/plain": [
              "[1, 2.2, 4]"
            ]
          },
          "execution_count": 90,
          "metadata": {},
          "output_type": "execute_result"
        }
      ],
      "source": [
        "numeric({1,4,'a','c','b',4+4J,2.2,(2,3,5)})"
      ]
    },
    {
      "cell_type": "code",
      "execution_count": null,
      "metadata": {
        "colab": {
          "base_uri": "https://localhost:8080/"
        },
        "execution": {
          "iopub.execute_input": "2024-01-19T06:57:22.322821Z",
          "iopub.status.busy": "2024-01-19T06:57:22.322361Z",
          "iopub.status.idle": "2024-01-19T06:57:22.330270Z",
          "shell.execute_reply": "2024-01-19T06:57:22.328992Z",
          "shell.execute_reply.started": "2024-01-19T06:57:22.322782Z"
        },
        "id": "i4OUE1JLwSx7",
        "outputId": "2b2da88a-b9b7-4972-ca38-66e3964f6e9d",
        "trusted": true
      },
      "outputs": [
        {
          "data": {
            "text/plain": [
              "[1, 3.4, 2, 5.3, 'nepal', 'usa', [4, 5, 6, 7]]"
            ]
          },
          "execution_count": 91,
          "metadata": {},
          "output_type": "execute_result"
        }
      ],
      "source": [
        "l"
      ]
    },
    {
      "cell_type": "code",
      "execution_count": null,
      "metadata": {
        "execution": {
          "iopub.execute_input": "2024-01-19T07:01:53.711728Z",
          "iopub.status.busy": "2024-01-19T07:01:53.711327Z",
          "iopub.status.idle": "2024-01-19T07:01:53.718857Z",
          "shell.execute_reply": "2024-01-19T07:01:53.717606Z",
          "shell.execute_reply.started": "2024-01-19T07:01:53.711696Z"
        },
        "id": "c8SZ0pA-wSx7",
        "trusted": true
      },
      "outputs": [],
      "source": [
        "def number(a):\n",
        "    l1 = []\n",
        "    for i in a:\n",
        "        if type(i) == list:\n",
        "            for j in i:\n",
        "                if type(j) == int or type(j) == float:\n",
        "                  l1.append(j)\n",
        "        else:\n",
        "            if type(i) == int or type(i) == float:\n",
        "                l1.append(i)\n",
        "    return l1"
      ]
    },
    {
      "cell_type": "code",
      "execution_count": null,
      "metadata": {
        "id": "e_bqn6PX3x9B"
      },
      "outputs": [],
      "source": [
        "l = [1,3,5,6,'nepal','usa',['hello',4,5,6,'world',7]]"
      ]
    },
    {
      "cell_type": "code",
      "execution_count": null,
      "metadata": {
        "colab": {
          "base_uri": "https://localhost:8080/"
        },
        "execution": {
          "iopub.execute_input": "2024-01-19T07:02:08.172681Z",
          "iopub.status.busy": "2024-01-19T07:02:08.172276Z",
          "iopub.status.idle": "2024-01-19T07:02:08.180503Z",
          "shell.execute_reply": "2024-01-19T07:02:08.179326Z",
          "shell.execute_reply.started": "2024-01-19T07:02:08.172650Z"
        },
        "id": "eGAPfyjewSx8",
        "outputId": "f5bfacdd-834e-4cd3-ae92-fd7bf85a14a7",
        "trusted": true
      },
      "outputs": [
        {
          "data": {
            "text/plain": [
              "[1, 3, 5, 6, 4, 5, 6, 7]"
            ]
          },
          "execution_count": 111,
          "metadata": {},
          "output_type": "execute_result"
        }
      ],
      "source": [
        "number(l)"
      ]
    },
    {
      "cell_type": "code",
      "execution_count": null,
      "metadata": {
        "colab": {
          "base_uri": "https://localhost:8080/"
        },
        "id": "VaxXKoL-ud_t",
        "outputId": "06f352d8-b881-4417-d962-bfa317419a2a"
      },
      "outputs": [
        {
          "data": {
            "text/plain": [
              "[1, 2, 3, 4, 5, 6, 7, 9.7]"
            ]
          },
          "execution_count": 112,
          "metadata": {},
          "output_type": "execute_result"
        }
      ],
      "source": [
        "number((1,2,3,4,[5,6,7],'ok','ktm','5', 9.7))"
      ]
    },
    {
      "cell_type": "code",
      "execution_count": null,
      "metadata": {
        "colab": {
          "base_uri": "https://localhost:8080/"
        },
        "id": "r7TafsO-XsU_",
        "outputId": "915b321b-682b-4ccc-b8b0-441deca2b84c"
      },
      "outputs": [
        {
          "data": {
            "text/plain": [
              "[1, 2, 3, 4]"
            ]
          },
          "execution_count": 113,
          "metadata": {},
          "output_type": "execute_result"
        }
      ],
      "source": [
        "number([1,2,[3,4]])"
      ]
    },
    {
      "cell_type": "code",
      "execution_count": null,
      "metadata": {
        "colab": {
          "base_uri": "https://localhost:8080/"
        },
        "execution": {
          "iopub.execute_input": "2024-01-19T07:03:00.679333Z",
          "iopub.status.busy": "2024-01-19T07:03:00.678154Z",
          "iopub.status.idle": "2024-01-19T07:03:00.686219Z",
          "shell.execute_reply": "2024-01-19T07:03:00.685339Z",
          "shell.execute_reply.started": "2024-01-19T07:03:00.679277Z"
        },
        "id": "1_soUT7WwSx8",
        "outputId": "d8c242e3-a5b0-4111-fcfb-0fcbed7a563e",
        "trusted": true
      },
      "outputs": [
        {
          "data": {
            "text/plain": [
              "[1, 4, 5, 2.33]"
            ]
          },
          "execution_count": 114,
          "metadata": {},
          "output_type": "execute_result"
        }
      ],
      "source": [
        "l1"
      ]
    },
    {
      "cell_type": "code",
      "execution_count": null,
      "metadata": {
        "colab": {
          "base_uri": "https://localhost:8080/"
        },
        "id": "NRVBGCON351E",
        "outputId": "18c856c4-22c7-4761-b1f7-be214a811e92"
      },
      "outputs": [
        {
          "data": {
            "text/plain": [
              "4"
            ]
          },
          "execution_count": 115,
          "metadata": {},
          "output_type": "execute_result"
        }
      ],
      "source": [
        "len(l1)"
      ]
    },
    {
      "cell_type": "code",
      "execution_count": null,
      "metadata": {
        "colab": {
          "base_uri": "https://localhost:8080/"
        },
        "id": "2_4LptqOT5Y9",
        "outputId": "11314090-b00f-491c-c162-a588bbe530bb"
      },
      "outputs": [
        {
          "name": "stdout",
          "output_type": "stream",
          "text": [
            "[1, 4, 5, 2.33]\n"
          ]
        }
      ],
      "source": [
        "print(l1)"
      ]
    },
    {
      "cell_type": "code",
      "execution_count": null,
      "metadata": {
        "colab": {
          "base_uri": "https://localhost:8080/"
        },
        "id": "LTLK-GW-ImN8",
        "outputId": "347bbd7d-69e5-40ff-d09c-60409d3061ae"
      },
      "outputs": [
        {
          "data": {
            "text/plain": [
              "list"
            ]
          },
          "execution_count": 116,
          "metadata": {},
          "output_type": "execute_result"
        }
      ],
      "source": [
        "type(l1)"
      ]
    },
    {
      "cell_type": "code",
      "execution_count": null,
      "metadata": {
        "id": "LYg46Wamxgl3"
      },
      "outputs": [],
      "source": [
        "# single line comment\n",
        "''' multi\n",
        " line\n",
        " comment '''"
      ]
    },
    {
      "cell_type": "code",
      "execution_count": null,
      "metadata": {
        "execution": {
          "iopub.execute_input": "2024-01-19T07:06:13.110365Z",
          "iopub.status.busy": "2024-01-19T07:06:13.109953Z",
          "iopub.status.idle": "2024-01-19T07:06:13.118156Z",
          "shell.execute_reply": "2024-01-19T07:06:13.116576Z",
          "shell.execute_reply.started": "2024-01-19T07:06:13.110334Z"
        },
        "id": "aINCxegwwSx8",
        "trusted": true
      },
      "outputs": [],
      "source": [
        "def numeric_data(a): # docstring\n",
        "    '''function to extract numeric data from data structures'''\n",
        "    l1 = []\n",
        "    for i in a:\n",
        "        if type(i) == list:\n",
        "            for j in i:\n",
        "                if type(j) == int or type(j) == float:\n",
        "                  l1.append(j)\n",
        "        else:\n",
        "            if type(i) == int or type(i) == float:\n",
        "                l1.append(i)\n",
        "    return l1"
      ]
    },
    {
      "cell_type": "code",
      "execution_count": null,
      "metadata": {
        "colab": {
          "base_uri": "https://localhost:8080/"
        },
        "id": "95ToTyWuwSx8",
        "outputId": "5c1ab9e4-6f11-42f2-aa12-f41d1aad7e27"
      },
      "outputs": [
        {
          "data": {
            "text/plain": [
              "[4, 5, 6]"
            ]
          },
          "execution_count": 121,
          "metadata": {},
          "output_type": "execute_result"
        }
      ],
      "source": [
        "numeric_data([4,5,6,'a','b','c'])"
      ]
    },
    {
      "cell_type": "code",
      "execution_count": null,
      "metadata": {
        "execution": {
          "iopub.execute_input": "2024-01-19T07:08:11.588731Z",
          "iopub.status.busy": "2024-01-19T07:08:11.588335Z",
          "iopub.status.idle": "2024-01-19T07:08:11.594895Z",
          "shell.execute_reply": "2024-01-19T07:08:11.593590Z",
          "shell.execute_reply.started": "2024-01-19T07:08:11.588700Z"
        },
        "id": "OBWO5YzywSx8",
        "trusted": true
      },
      "outputs": [],
      "source": [
        "def add(a, b, c):\n",
        "  \"\"\"function to return the sum of three numbers \"\"\"\n",
        "  d = a + b + c\n",
        "  return d"
      ]
    },
    {
      "cell_type": "code",
      "execution_count": null,
      "metadata": {
        "colab": {
          "base_uri": "https://localhost:8080/",
          "height": 141
        },
        "id": "zWy8fV4WwQYU",
        "outputId": "52cc7ba9-a63a-4b41-8d2e-5b06ceb8ec90"
      },
      "outputs": [
        {
          "ename": "TypeError",
          "evalue": "add() missing 3 required positional arguments: 'a', 'b', and 'c'",
          "output_type": "error",
          "traceback": [
            "\u001b[0;31m---------------------------------------------------------------------------\u001b[0m",
            "\u001b[0;31mTypeError\u001b[0m                                 Traceback (most recent call last)",
            "\u001b[0;32m/tmp/ipython-input-125-3064714114.py\u001b[0m in \u001b[0;36m<cell line: 0>\u001b[0;34m()\u001b[0m\n\u001b[0;32m----> 1\u001b[0;31m \u001b[0madd\u001b[0m\u001b[0;34m(\u001b[0m\u001b[0;34m)\u001b[0m\u001b[0;34m\u001b[0m\u001b[0;34m\u001b[0m\u001b[0m\n\u001b[0m",
            "\u001b[0;31mTypeError\u001b[0m: add() missing 3 required positional arguments: 'a', 'b', and 'c'"
          ]
        }
      ],
      "source": [
        "add()"
      ]
    },
    {
      "cell_type": "code",
      "execution_count": null,
      "metadata": {
        "colab": {
          "base_uri": "https://localhost:8080/",
          "height": 141
        },
        "id": "NJjA2QwswUZm",
        "outputId": "45f96010-9790-4fcc-f6ec-171a63da56d3"
      },
      "outputs": [
        {
          "ename": "TypeError",
          "evalue": "add() missing 1 required positional argument: 'c'",
          "output_type": "error",
          "traceback": [
            "\u001b[0;31m---------------------------------------------------------------------------\u001b[0m",
            "\u001b[0;31mTypeError\u001b[0m                                 Traceback (most recent call last)",
            "\u001b[0;32m/tmp/ipython-input-126-991749134.py\u001b[0m in \u001b[0;36m<cell line: 0>\u001b[0;34m()\u001b[0m\n\u001b[0;32m----> 1\u001b[0;31m \u001b[0madd\u001b[0m\u001b[0;34m(\u001b[0m\u001b[0;36m1\u001b[0m\u001b[0;34m,\u001b[0m\u001b[0;36m2\u001b[0m\u001b[0;34m)\u001b[0m\u001b[0;34m\u001b[0m\u001b[0;34m\u001b[0m\u001b[0m\n\u001b[0m",
            "\u001b[0;31mTypeError\u001b[0m: add() missing 1 required positional argument: 'c'"
          ]
        }
      ],
      "source": [
        "add(1,2)"
      ]
    },
    {
      "cell_type": "code",
      "execution_count": null,
      "metadata": {
        "colab": {
          "base_uri": "https://localhost:8080/"
        },
        "execution": {
          "iopub.execute_input": "2024-01-19T07:08:13.642984Z",
          "iopub.status.busy": "2024-01-19T07:08:13.642473Z",
          "iopub.status.idle": "2024-01-19T07:08:13.652161Z",
          "shell.execute_reply": "2024-01-19T07:08:13.650533Z",
          "shell.execute_reply.started": "2024-01-19T07:08:13.642936Z"
        },
        "id": "6yttsRePwSx8",
        "outputId": "34f627b8-d316-48b1-b2c4-eeb29fdca7c7",
        "trusted": true
      },
      "outputs": [
        {
          "data": {
            "text/plain": [
              "6"
            ]
          },
          "execution_count": 127,
          "metadata": {},
          "output_type": "execute_result"
        }
      ],
      "source": [
        "add(1,2,3)"
      ]
    },
    {
      "cell_type": "code",
      "execution_count": null,
      "metadata": {
        "colab": {
          "base_uri": "https://localhost:8080/",
          "height": 35
        },
        "id": "u-zQ_E4l4N3I",
        "outputId": "07faca8a-3570-4ebd-e2cc-c89ee277f9e7"
      },
      "outputs": [
        {
          "data": {
            "application/vnd.google.colaboratory.intrinsic+json": {
              "type": "string"
            },
            "text/plain": [
              "'hi hello world'"
            ]
          },
          "execution_count": 128,
          "metadata": {},
          "output_type": "execute_result"
        }
      ],
      "source": [
        "add('hi ','hello ','world')"
      ]
    },
    {
      "cell_type": "code",
      "execution_count": null,
      "metadata": {
        "execution": {
          "iopub.execute_input": "2024-01-19T07:08:51.022913Z",
          "iopub.status.busy": "2024-01-19T07:08:51.021910Z",
          "iopub.status.idle": "2024-01-19T07:08:51.029166Z",
          "shell.execute_reply": "2024-01-19T07:08:51.027011Z",
          "shell.execute_reply.started": "2024-01-19T07:08:51.022864Z"
        },
        "id": "76Cki5otwSx8",
        "trusted": true
      },
      "outputs": [],
      "source": [
        "def test11(*args):\n",
        "    return args"
      ]
    },
    {
      "cell_type": "code",
      "execution_count": null,
      "metadata": {
        "colab": {
          "base_uri": "https://localhost:8080/"
        },
        "execution": {
          "iopub.execute_input": "2024-01-19T07:09:05.151131Z",
          "iopub.status.busy": "2024-01-19T07:09:05.150649Z",
          "iopub.status.idle": "2024-01-19T07:09:05.159425Z",
          "shell.execute_reply": "2024-01-19T07:09:05.158186Z",
          "shell.execute_reply.started": "2024-01-19T07:09:05.151072Z"
        },
        "id": "tcgWzY5OwSx9",
        "outputId": "f3879855-5e7a-46a1-fefb-c9a2e19f2f33",
        "trusted": true
      },
      "outputs": [
        {
          "data": {
            "text/plain": [
              "()"
            ]
          },
          "execution_count": 132,
          "metadata": {},
          "output_type": "execute_result"
        }
      ],
      "source": [
        "test11()"
      ]
    },
    {
      "cell_type": "code",
      "execution_count": null,
      "metadata": {
        "colab": {
          "base_uri": "https://localhost:8080/"
        },
        "execution": {
          "iopub.execute_input": "2024-01-19T07:09:15.608421Z",
          "iopub.status.busy": "2024-01-19T07:09:15.607959Z",
          "iopub.status.idle": "2024-01-19T07:09:15.616507Z",
          "shell.execute_reply": "2024-01-19T07:09:15.614979Z",
          "shell.execute_reply.started": "2024-01-19T07:09:15.608384Z"
        },
        "id": "1WJXUxO-wSx9",
        "outputId": "52d4c827-48d3-4d16-e90b-1415ada7bb72",
        "trusted": true
      },
      "outputs": [
        {
          "data": {
            "text/plain": [
              "tuple"
            ]
          },
          "execution_count": 133,
          "metadata": {},
          "output_type": "execute_result"
        }
      ],
      "source": [
        "type(test11())"
      ]
    },
    {
      "cell_type": "code",
      "execution_count": null,
      "metadata": {
        "colab": {
          "base_uri": "https://localhost:8080/"
        },
        "execution": {
          "iopub.execute_input": "2024-01-19T07:09:24.778958Z",
          "iopub.status.busy": "2024-01-19T07:09:24.778540Z",
          "iopub.status.idle": "2024-01-19T07:09:24.786504Z",
          "shell.execute_reply": "2024-01-19T07:09:24.785461Z",
          "shell.execute_reply.started": "2024-01-19T07:09:24.778926Z"
        },
        "id": "u0sv-ftVwSx9",
        "outputId": "a8200728-4fb8-4a7a-b71c-a9a7b5d9d10e",
        "trusted": true
      },
      "outputs": [
        {
          "data": {
            "text/plain": [
              "(1, 3, 5)"
            ]
          },
          "execution_count": 134,
          "metadata": {},
          "output_type": "execute_result"
        }
      ],
      "source": [
        "test11(1,3,5)"
      ]
    },
    {
      "cell_type": "code",
      "execution_count": null,
      "metadata": {
        "colab": {
          "base_uri": "https://localhost:8080/"
        },
        "execution": {
          "iopub.execute_input": "2024-01-19T07:09:54.917666Z",
          "iopub.status.busy": "2024-01-19T07:09:54.917260Z",
          "iopub.status.idle": "2024-01-19T07:09:54.925142Z",
          "shell.execute_reply": "2024-01-19T07:09:54.924191Z",
          "shell.execute_reply.started": "2024-01-19T07:09:54.917632Z"
        },
        "id": "JPL45_oPwSx9",
        "outputId": "812d4604-5779-4303-d110-95ef4ea23f45",
        "trusted": true
      },
      "outputs": [
        {
          "data": {
            "text/plain": [
              "(2, 3, 'nepal', (2, 3, 4), 4, 5, 6)"
            ]
          },
          "execution_count": 135,
          "metadata": {},
          "output_type": "execute_result"
        }
      ],
      "source": [
        "test11(2,3,'nepal',(2,3,4), 4, 5, 6)"
      ]
    },
    {
      "cell_type": "code",
      "execution_count": null,
      "metadata": {
        "colab": {
          "base_uri": "https://localhost:8080/"
        },
        "execution": {
          "iopub.execute_input": "2024-01-19T07:10:47.414211Z",
          "iopub.status.busy": "2024-01-19T07:10:47.413035Z",
          "iopub.status.idle": "2024-01-19T07:10:47.422400Z",
          "shell.execute_reply": "2024-01-19T07:10:47.421572Z",
          "shell.execute_reply.started": "2024-01-19T07:10:47.414166Z"
        },
        "id": "3L_SMKs-wSx9",
        "outputId": "cbcd76fb-06bb-4896-a900-a59a89077501",
        "trusted": true
      },
      "outputs": [
        {
          "data": {
            "text/plain": [
              "tuple"
            ]
          },
          "execution_count": 136,
          "metadata": {},
          "output_type": "execute_result"
        }
      ],
      "source": [
        "type(test11())"
      ]
    },
    {
      "cell_type": "code",
      "execution_count": null,
      "metadata": {
        "execution": {
          "iopub.execute_input": "2024-01-19T07:11:18.159775Z",
          "iopub.status.busy": "2024-01-19T07:11:18.158901Z",
          "iopub.status.idle": "2024-01-19T07:11:18.164617Z",
          "shell.execute_reply": "2024-01-19T07:11:18.163540Z",
          "shell.execute_reply.started": "2024-01-19T07:11:18.159738Z"
        },
        "id": "BZWZCZnEwSx9",
        "trusted": true
      },
      "outputs": [],
      "source": [
        "def test12(*npl):\n",
        "    return npl"
      ]
    },
    {
      "cell_type": "code",
      "execution_count": null,
      "metadata": {
        "colab": {
          "base_uri": "https://localhost:8080/"
        },
        "execution": {
          "iopub.execute_input": "2024-01-19T07:11:26.183537Z",
          "iopub.status.busy": "2024-01-19T07:11:26.182612Z",
          "iopub.status.idle": "2024-01-19T07:11:26.192420Z",
          "shell.execute_reply": "2024-01-19T07:11:26.190599Z",
          "shell.execute_reply.started": "2024-01-19T07:11:26.183496Z"
        },
        "id": "C8AnoSiuwSx9",
        "outputId": "9a2bb27c-ad0f-4020-992a-6668a738d5f0",
        "trusted": true
      },
      "outputs": [
        {
          "data": {
            "text/plain": [
              "(3, 4, 4.4)"
            ]
          },
          "execution_count": 138,
          "metadata": {},
          "output_type": "execute_result"
        }
      ],
      "source": [
        "test12(3,4,4.4)"
      ]
    },
    {
      "cell_type": "code",
      "execution_count": null,
      "metadata": {
        "execution": {
          "iopub.execute_input": "2024-01-19T07:12:01.378477Z",
          "iopub.status.busy": "2024-01-19T07:12:01.378053Z",
          "iopub.status.idle": "2024-01-19T07:12:01.383930Z",
          "shell.execute_reply": "2024-01-19T07:12:01.383033Z",
          "shell.execute_reply.started": "2024-01-19T07:12:01.378447Z"
        },
        "id": "JvfIEGm1wSx9",
        "trusted": true
      },
      "outputs": [],
      "source": [
        "def test13(*args,a):\n",
        "    return args,a"
      ]
    },
    {
      "cell_type": "code",
      "execution_count": null,
      "metadata": {
        "colab": {
          "base_uri": "https://localhost:8080/",
          "height": 141
        },
        "id": "03pwOeYr4mQc",
        "outputId": "f171bdc5-9dda-41dc-bed2-c3307c4bfdea"
      },
      "outputs": [
        {
          "ename": "TypeError",
          "evalue": "test13() missing 1 required keyword-only argument: 'a'",
          "output_type": "error",
          "traceback": [
            "\u001b[0;31m---------------------------------------------------------------------------\u001b[0m",
            "\u001b[0;31mTypeError\u001b[0m                                 Traceback (most recent call last)",
            "\u001b[0;32m/tmp/ipython-input-140-3133110764.py\u001b[0m in \u001b[0;36m<cell line: 0>\u001b[0;34m()\u001b[0m\n\u001b[0;32m----> 1\u001b[0;31m \u001b[0mtest13\u001b[0m\u001b[0;34m(\u001b[0m\u001b[0;36m1\u001b[0m\u001b[0;34m,\u001b[0m\u001b[0;36m2\u001b[0m\u001b[0;34m,\u001b[0m\u001b[0;36m3\u001b[0m\u001b[0;34m,\u001b[0m\u001b[0;36m4\u001b[0m\u001b[0;34m,\u001b[0m\u001b[0;36m5\u001b[0m\u001b[0;34m,\u001b[0m\u001b[0;36m6\u001b[0m\u001b[0;34m,\u001b[0m\u001b[0;36m7\u001b[0m\u001b[0;34m,\u001b[0m\u001b[0;36m8\u001b[0m\u001b[0;34m,\u001b[0m\u001b[0;36m9\u001b[0m\u001b[0;34m)\u001b[0m\u001b[0;34m\u001b[0m\u001b[0;34m\u001b[0m\u001b[0m\n\u001b[0m",
            "\u001b[0;31mTypeError\u001b[0m: test13() missing 1 required keyword-only argument: 'a'"
          ]
        }
      ],
      "source": [
        "test13(1,2,3,4,5,6,7,8,9)"
      ]
    },
    {
      "cell_type": "code",
      "execution_count": null,
      "metadata": {
        "colab": {
          "base_uri": "https://localhost:8080/"
        },
        "id": "JqqfQoeqVExE",
        "outputId": "949666b2-30fa-428c-b06c-ce33213a6ddc"
      },
      "outputs": [
        {
          "data": {
            "text/plain": [
              "((1, 2, 3, 4, 5, 6, 7, 8, 9), 54)"
            ]
          },
          "execution_count": 142,
          "metadata": {},
          "output_type": "execute_result"
        }
      ],
      "source": [
        "test13(1,2,3,4,5,6,7,8,9, a = 54)"
      ]
    },
    {
      "cell_type": "code",
      "execution_count": null,
      "metadata": {
        "colab": {
          "base_uri": "https://localhost:8080/"
        },
        "execution": {
          "iopub.execute_input": "2024-01-19T07:20:03.856571Z",
          "iopub.status.busy": "2024-01-19T07:20:03.856134Z",
          "iopub.status.idle": "2024-01-19T07:20:03.864448Z",
          "shell.execute_reply": "2024-01-19T07:20:03.863191Z",
          "shell.execute_reply.started": "2024-01-19T07:20:03.856541Z"
        },
        "id": "LYW6fpbjwSx9",
        "outputId": "0d87b0d7-be6b-4b97-8fc8-0898fe673e34",
        "trusted": true
      },
      "outputs": [
        {
          "data": {
            "text/plain": [
              "((1, 3, 4), 22)"
            ]
          },
          "execution_count": 143,
          "metadata": {},
          "output_type": "execute_result"
        }
      ],
      "source": [
        "test13(1,3,4, a = 22)"
      ]
    },
    {
      "cell_type": "code",
      "execution_count": null,
      "metadata": {
        "colab": {
          "base_uri": "https://localhost:8080/",
          "height": 106
        },
        "execution": {
          "iopub.execute_input": "2024-01-19T07:12:47.686126Z",
          "iopub.status.busy": "2024-01-19T07:12:47.684401Z",
          "iopub.status.idle": "2024-01-19T07:12:47.693835Z",
          "shell.execute_reply": "2024-01-19T07:12:47.692987Z",
          "shell.execute_reply.started": "2024-01-19T07:12:47.686045Z"
        },
        "id": "cQ_vuXN0wSx9",
        "outputId": "d51bf223-3eda-4415-e3ee-60c5d32af940",
        "trusted": true
      },
      "outputs": [
        {
          "ename": "SyntaxError",
          "evalue": "positional argument follows keyword argument (ipython-input-144-2723504469.py, line 1)",
          "output_type": "error",
          "traceback": [
            "\u001b[0;36m  File \u001b[0;32m\"/tmp/ipython-input-144-2723504469.py\"\u001b[0;36m, line \u001b[0;32m1\u001b[0m\n\u001b[0;31m    test13(a = 2, 1, 3, 44)\u001b[0m\n\u001b[0m                          ^\u001b[0m\n\u001b[0;31mSyntaxError\u001b[0m\u001b[0;31m:\u001b[0m positional argument follows keyword argument\n"
          ]
        }
      ],
      "source": [
        "test13(a = 2, 1, 3, 44)"
      ]
    },
    {
      "cell_type": "code",
      "execution_count": null,
      "metadata": {
        "colab": {
          "base_uri": "https://localhost:8080/",
          "height": 106
        },
        "id": "9li7Ssrf4z3C",
        "outputId": "6881da6f-1458-4dd9-eb5d-2d8bfdfa13a1"
      },
      "outputs": [
        {
          "ename": "SyntaxError",
          "evalue": "non-default argument follows default argument (ipython-input-145-3811799975.py, line 1)",
          "output_type": "error",
          "traceback": [
            "\u001b[0;36m  File \u001b[0;32m\"/tmp/ipython-input-145-3811799975.py\"\u001b[0;36m, line \u001b[0;32m1\u001b[0m\n\u001b[0;31m    def test14(a = 1, b = 2,c,d):\u001b[0m\n\u001b[0m                            ^\u001b[0m\n\u001b[0;31mSyntaxError\u001b[0m\u001b[0;31m:\u001b[0m non-default argument follows default argument\n"
          ]
        }
      ],
      "source": [
        "def test14(a = 1, b = 2,c,d):\n",
        "    return a,b,c,d"
      ]
    },
    {
      "cell_type": "code",
      "execution_count": null,
      "metadata": {
        "execution": {
          "iopub.execute_input": "2024-01-19T07:14:05.131408Z",
          "iopub.status.busy": "2024-01-19T07:14:05.130969Z",
          "iopub.status.idle": "2024-01-19T07:14:05.137547Z",
          "shell.execute_reply": "2024-01-19T07:14:05.136039Z",
          "shell.execute_reply.started": "2024-01-19T07:14:05.131376Z"
        },
        "id": "2r6hUK0HwSx-",
        "trusted": true
      },
      "outputs": [],
      "source": [
        "def test14(c , d, a = 23, b = 1):\n",
        "    return b,c,d,a"
      ]
    },
    {
      "cell_type": "code",
      "execution_count": null,
      "metadata": {
        "colab": {
          "base_uri": "https://localhost:8080/",
          "height": 141
        },
        "execution": {
          "iopub.execute_input": "2024-01-19T07:14:14.980930Z",
          "iopub.status.busy": "2024-01-19T07:14:14.980530Z",
          "iopub.status.idle": "2024-01-19T07:14:15.009524Z",
          "shell.execute_reply": "2024-01-19T07:14:15.008158Z",
          "shell.execute_reply.started": "2024-01-19T07:14:14.980898Z"
        },
        "id": "yeqZ0yDKwSx-",
        "outputId": "fd0dd50d-7f06-4854-f4a3-2c38c5fd6bce",
        "trusted": true
      },
      "outputs": [
        {
          "ename": "TypeError",
          "evalue": "test14() missing 2 required positional arguments: 'c' and 'd'",
          "output_type": "error",
          "traceback": [
            "\u001b[0;31m---------------------------------------------------------------------------\u001b[0m",
            "\u001b[0;31mTypeError\u001b[0m                                 Traceback (most recent call last)",
            "\u001b[0;32m/tmp/ipython-input-147-3076521518.py\u001b[0m in \u001b[0;36m<cell line: 0>\u001b[0;34m()\u001b[0m\n\u001b[0;32m----> 1\u001b[0;31m \u001b[0mtest14\u001b[0m\u001b[0;34m(\u001b[0m\u001b[0;34m)\u001b[0m\u001b[0;34m\u001b[0m\u001b[0;34m\u001b[0m\u001b[0m\n\u001b[0m",
            "\u001b[0;31mTypeError\u001b[0m: test14() missing 2 required positional arguments: 'c' and 'd'"
          ]
        }
      ],
      "source": [
        "test14()"
      ]
    },
    {
      "cell_type": "code",
      "execution_count": null,
      "metadata": {
        "colab": {
          "base_uri": "https://localhost:8080/"
        },
        "execution": {
          "iopub.execute_input": "2024-01-19T07:14:41.021038Z",
          "iopub.status.busy": "2024-01-19T07:14:41.020666Z",
          "iopub.status.idle": "2024-01-19T07:14:41.028503Z",
          "shell.execute_reply": "2024-01-19T07:14:41.027253Z",
          "shell.execute_reply.started": "2024-01-19T07:14:41.021009Z"
        },
        "id": "Ced8qE3gwSx-",
        "outputId": "9b808435-ff37-4a06-e78a-7d79284e038f",
        "trusted": true
      },
      "outputs": [
        {
          "data": {
            "text/plain": [
              "(1, 3, 44, 23)"
            ]
          },
          "execution_count": 148,
          "metadata": {},
          "output_type": "execute_result"
        }
      ],
      "source": [
        "test14(3,44)"
      ]
    },
    {
      "cell_type": "code",
      "execution_count": null,
      "metadata": {
        "colab": {
          "base_uri": "https://localhost:8080/"
        },
        "execution": {
          "iopub.execute_input": "2024-01-19T07:15:54.448503Z",
          "iopub.status.busy": "2024-01-19T07:15:54.448002Z",
          "iopub.status.idle": "2024-01-19T07:15:54.456266Z",
          "shell.execute_reply": "2024-01-19T07:15:54.455056Z",
          "shell.execute_reply.started": "2024-01-19T07:15:54.448470Z"
        },
        "id": "WAI1SeqMwSx-",
        "outputId": "b59b3efd-a0d1-41d7-ee92-ce303cbd30f2",
        "trusted": true
      },
      "outputs": [
        {
          "data": {
            "text/plain": [
              "(1, 2, 5, 11)"
            ]
          },
          "execution_count": 149,
          "metadata": {},
          "output_type": "execute_result"
        }
      ],
      "source": [
        "test14(2,5,11)"
      ]
    },
    {
      "cell_type": "code",
      "execution_count": null,
      "metadata": {
        "colab": {
          "base_uri": "https://localhost:8080/"
        },
        "id": "mhbWGH8_VweX",
        "outputId": "bde7c5e3-0869-4759-af0e-7d1980b4c2d5"
      },
      "outputs": [
        {
          "data": {
            "text/plain": [
              "(7, 4, 5, 6)"
            ]
          },
          "execution_count": 150,
          "metadata": {},
          "output_type": "execute_result"
        }
      ],
      "source": [
        "test14(4,5,6,7)"
      ]
    },
    {
      "cell_type": "code",
      "execution_count": null,
      "metadata": {
        "colab": {
          "base_uri": "https://localhost:8080/"
        },
        "id": "JkrgaLgp0rJK",
        "outputId": "58633ec7-5155-4454-cdbf-87436c74567f"
      },
      "outputs": [
        {
          "data": {
            "text/plain": [
              "(11, 2, 5, 44)"
            ]
          },
          "execution_count": 151,
          "metadata": {},
          "output_type": "execute_result"
        }
      ],
      "source": [
        "test14(2,5,b=11,a=44)"
      ]
    },
    {
      "cell_type": "code",
      "execution_count": null,
      "metadata": {
        "colab": {
          "base_uri": "https://localhost:8080/"
        },
        "id": "qWYLUry2yzj9",
        "outputId": "63fb0db2-cc38-49df-8d49-8bce7583935b"
      },
      "outputs": [
        {
          "data": {
            "text/plain": [
              "(70, 3, 10, 2)"
            ]
          },
          "execution_count": 153,
          "metadata": {},
          "output_type": "execute_result"
        }
      ],
      "source": [
        "test14(c = 3, d = 10, b = 70, a = 2)"
      ]
    },
    {
      "cell_type": "code",
      "execution_count": null,
      "metadata": {
        "execution": {
          "iopub.execute_input": "2024-01-19T07:17:20.432827Z",
          "iopub.status.busy": "2024-01-19T07:17:20.432408Z",
          "iopub.status.idle": "2024-01-19T07:17:20.438616Z",
          "shell.execute_reply": "2024-01-19T07:17:20.437356Z",
          "shell.execute_reply.started": "2024-01-19T07:17:20.432795Z"
        },
        "id": "JS8NWlCCwSx-",
        "trusted": true
      },
      "outputs": [],
      "source": [
        "def test15(**kwargs):\n",
        "    return kwargs"
      ]
    },
    {
      "cell_type": "code",
      "execution_count": null,
      "metadata": {
        "id": "oHUsB9rNpTs8"
      },
      "outputs": [],
      "source": [
        "def test15(**npl):\n",
        "    return npl"
      ]
    },
    {
      "cell_type": "code",
      "execution_count": null,
      "metadata": {
        "colab": {
          "base_uri": "https://localhost:8080/"
        },
        "execution": {
          "iopub.execute_input": "2024-01-19T07:17:35.643773Z",
          "iopub.status.busy": "2024-01-19T07:17:35.643393Z",
          "iopub.status.idle": "2024-01-19T07:17:35.650286Z",
          "shell.execute_reply": "2024-01-19T07:17:35.649140Z",
          "shell.execute_reply.started": "2024-01-19T07:17:35.643737Z"
        },
        "id": "79uiHs4CwSx-",
        "outputId": "2e7241ce-2cfe-4832-9044-25021935e258",
        "trusted": true
      },
      "outputs": [
        {
          "data": {
            "text/plain": [
              "{}"
            ]
          },
          "execution_count": 156,
          "metadata": {},
          "output_type": "execute_result"
        }
      ],
      "source": [
        "test15()"
      ]
    },
    {
      "cell_type": "code",
      "execution_count": null,
      "metadata": {
        "colab": {
          "base_uri": "https://localhost:8080/"
        },
        "id": "67JRsDlbWHnX",
        "outputId": "68315db5-ff39-4ff2-e14a-2080665ab09b"
      },
      "outputs": [
        {
          "data": {
            "text/plain": [
              "dict"
            ]
          },
          "execution_count": 157,
          "metadata": {},
          "output_type": "execute_result"
        }
      ],
      "source": [
        "type(test15())"
      ]
    },
    {
      "cell_type": "code",
      "execution_count": null,
      "metadata": {
        "colab": {
          "base_uri": "https://localhost:8080/"
        },
        "execution": {
          "iopub.execute_input": "2024-01-19T07:17:45.443322Z",
          "iopub.status.busy": "2024-01-19T07:17:45.442938Z",
          "iopub.status.idle": "2024-01-19T07:17:45.450089Z",
          "shell.execute_reply": "2024-01-19T07:17:45.448936Z",
          "shell.execute_reply.started": "2024-01-19T07:17:45.443293Z"
        },
        "id": "HcbrSAaawSx-",
        "outputId": "b83e5270-e27a-455f-8cba-d0368c0c69d7",
        "trusted": true
      },
      "outputs": [
        {
          "data": {
            "text/plain": [
              "dict"
            ]
          },
          "execution_count": 158,
          "metadata": {},
          "output_type": "execute_result"
        }
      ],
      "source": [
        "type(test15())"
      ]
    },
    {
      "cell_type": "code",
      "execution_count": null,
      "metadata": {
        "colab": {
          "base_uri": "https://localhost:8080/"
        },
        "execution": {
          "iopub.execute_input": "2024-01-19T07:18:44.577595Z",
          "iopub.status.busy": "2024-01-19T07:18:44.577175Z",
          "iopub.status.idle": "2024-01-19T07:18:44.585794Z",
          "shell.execute_reply": "2024-01-19T07:18:44.584446Z",
          "shell.execute_reply.started": "2024-01-19T07:18:44.577564Z"
        },
        "id": "48W_HFJRwSx-",
        "outputId": "a2a4e219-0343-48b0-ada4-a992b7449181",
        "trusted": true
      },
      "outputs": [
        {
          "data": {
            "text/plain": [
              "{'a': [1, 3, 4], 'b': 'nepal', 'c': 12.12, 'd': True, 'e': (4+3j)}"
            ]
          },
          "execution_count": 159,
          "metadata": {},
          "output_type": "execute_result"
        }
      ],
      "source": [
        "test15(a = [1,3,4] , b = 'nepal' , c = 12.12, d = True, e = 4 + 3j)"
      ]
    },
    {
      "cell_type": "code",
      "execution_count": null,
      "metadata": {
        "colab": {
          "base_uri": "https://localhost:8080/"
        },
        "id": "C9TO_SxupD35",
        "outputId": "af15da04-d9f9-43db-d2e1-7731f1aecf7b"
      },
      "outputs": [
        {
          "data": {
            "text/plain": [
              "{'c': True, 'm': 'kathmandu', 'o': (6+2j), 's': 1.22}"
            ]
          },
          "execution_count": 160,
          "metadata": {},
          "output_type": "execute_result"
        }
      ],
      "source": [
        "test15(c = True, m = 'kathmandu', o = 6 + 2J, s = 1.22)"
      ]
    },
    {
      "cell_type": "code",
      "execution_count": null,
      "metadata": {
        "colab": {
          "base_uri": "https://localhost:8080/"
        },
        "id": "AlxYOgnlaozj",
        "outputId": "cad5adc7-1732-4533-977b-83fd93bbbf67"
      },
      "outputs": [
        {
          "data": {
            "text/plain": [
              "1.22"
            ]
          },
          "execution_count": 161,
          "metadata": {},
          "output_type": "execute_result"
        }
      ],
      "source": [
        "test15(c = True, m = 'kathmandu', o = 6 + 2J, s = 1.22)['s']"
      ]
    },
    {
      "cell_type": "code",
      "execution_count": null,
      "metadata": {
        "colab": {
          "base_uri": "https://localhost:8080/",
          "height": 35
        },
        "id": "PKAdxGkBawOQ",
        "outputId": "003f8ad6-0b5e-4529-cda7-a1c2d0c82e19"
      },
      "outputs": [
        {
          "data": {
            "application/vnd.google.colaboratory.intrinsic+json": {
              "type": "string"
            },
            "text/plain": [
              "'kathmandu'"
            ]
          },
          "execution_count": 162,
          "metadata": {},
          "output_type": "execute_result"
        }
      ],
      "source": [
        "test15(c = True, m = 'kathmandu', o = 6 + 2J, s = 1.22)['m']"
      ]
    }
  ],
  "metadata": {
    "colab": {
      "provenance": []
    },
    "kaggle": {
      "accelerator": "none",
      "dataSources": [],
      "dockerImageVersionId": 30635,
      "isGpuEnabled": false,
      "isInternetEnabled": false,
      "language": "python",
      "sourceType": "notebook"
    },
    "kernelspec": {
      "display_name": "Python 3",
      "language": "python",
      "name": "python3"
    },
    "language_info": {
      "codemirror_mode": {
        "name": "ipython",
        "version": 3
      },
      "file_extension": ".py",
      "mimetype": "text/x-python",
      "name": "python",
      "nbconvert_exporter": "python",
      "pygments_lexer": "ipython3",
      "version": "3.10.12"
    }
  },
  "nbformat": 4,
  "nbformat_minor": 0
}
