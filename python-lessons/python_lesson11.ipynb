{
 "cells": [
  {
   "cell_type": "code",
   "execution_count": 1,
   "id": "bd0a65f3",
   "metadata": {},
   "outputs": [],
   "source": [
    "# Arguments - The values that we send during function call\n",
    "# Parameters - The variables that we use in the function to receive arguments\n",
    "\n",
    "# There are 2 types of arguments:\n",
    "  # 1. Positional arguments - Positional arguments are considered as the values we pass to the function (args)\n",
    "  # 2. Keyword Arguments - We pass the value in key-value pair (kwargs)"
   ]
  },
  {
   "cell_type": "code",
   "execution_count": 2,
   "id": "6ca2b7f5",
   "metadata": {},
   "outputs": [
    {
     "name": "stdout",
     "output_type": "stream",
     "text": [
      "Pasang Gyalzen Sherpa Namaste\n"
     ]
    }
   ],
   "source": [
    "def argumentsonly(name, greeting):\n",
    "  # Defined a function named argumentsonly with two params as name and greeting\n",
    "  print(f\"{greeting} {name}\")\n",
    "  # Prints the output through f-string manipulation\n",
    "\n",
    "argumentsonly(\"Namaste\", \"Pasang Gyalzen Sherpa\")\n",
    "# Function Call\n",
    "\n",
    "# Positional arguments - The parameter receives the arguments according to the position (args)\n",
    "# Position matters\n",
    "# We don't define key whether its a name or greeting. Just passing the values only "
   ]
  },
  {
   "cell_type": "code",
   "execution_count": 3,
   "id": "f2960dbf",
   "metadata": {},
   "outputs": [
    {
     "name": "stdout",
     "output_type": "stream",
     "text": [
      "Pasang Gyalzen Sherpa Namaste \n"
     ]
    }
   ],
   "source": [
    "def argumentsonly(name, greeting):\n",
    "  print(f\"{name} {greeting} \")\n",
    "\n",
    "argumentsonly(greeting=\"Namaste\",name=\"Pasang Gyalzen Sherpa\")\n",
    "\n",
    "\n",
    "# Keyword Arguments - Key-value pair  (kwargs)\n",
    "# Passed the value mentioning the key and position doesnot matter here"
   ]
  },
  {
   "cell_type": "code",
   "execution_count": 4,
   "id": "467555a2",
   "metadata": {},
   "outputs": [
    {
     "name": "stdout",
     "output_type": "stream",
     "text": [
      "Positional Arguments:('Ujjwal', 30, 1996, 'BAchelors Passed', 'abc college', 'Data Scientist') \n",
      " Keyword Arguments: {'greeting': 'hello', 'name': 'Ujjwal Neupane', 'college': 'ABC college'} \n"
     ]
    }
   ],
   "source": [
    "# This is for we already know what will be the parameters and arguments\n",
    "# What if we dont know how many arguments are being received while calling the function??\n",
    "\n",
    "def func(*abc, **ghi):\n",
    "  # *abc — Positional arguments:\n",
    "  # *abc captures all extra positional arguments passed to the function.\n",
    "\n",
    "  # It collects them into a tuple.\n",
    "\n",
    "  # **ghi — Keyword arguments:\n",
    "  # **ghi captures all extra keyword arguments (name=value style).\n",
    "\n",
    "  # It collects them into a dictionary.\n",
    "  print(f\"Positional Arguments:{abc} \\n Keyword Arguments: {ghi} \")\n",
    "\n",
    "func(\"Ujjwal\", 30, 1996,\"BAchelors Passed\",\"abc college\",\"Data Scientist\", greeting=\"hello\",name=\"Ujjwal Neupane\", college=\"ABC college\")\n",
    "  # Returns the tuple of positional arguments and dictionary of Keyword arguments\n"
   ]
  },
  {
   "cell_type": "code",
   "execution_count": 5,
   "id": "1a76e56a",
   "metadata": {},
   "outputs": [
    {
     "name": "stdout",
     "output_type": "stream",
     "text": [
      "Hello Ujjwal\n",
      "Positional Arguments: (30, 40, 50)\n",
      "Keyword Arguments: {'age': 30, 'year': 1996}\n"
     ]
    }
   ],
   "source": [
    "# Task\n",
    "\n",
    "# I need to print like this\n",
    "# Hello your_name\n",
    "# Arguments: All positional arguments\n",
    "# Keyword Arguments: All Keyword arguments\n",
    "\n",
    "def func(greeting, name, *args, **kwargs):\n",
    "  # Uses regular positional arguments , varaible-length positional arguments and variable-length keyword arguments\n",
    "  print(f\"{greeting} {name}\")\n",
    "  print(f\"Positional Arguments: {args}\")\n",
    "  print(f\"Keyword Arguments: {kwargs}\")\n",
    "\n",
    "func(\"Hello\",\"Ujjwal\",30,40,50, age=30, year=1996)\n",
    "# Prints the respective things as mentioned in function in order"
   ]
  },
  {
   "cell_type": "markdown",
   "id": "51a6e9c9",
   "metadata": {},
   "source": [
    "*args allows a function to accept any number of positional arguments, which is useful when you need to process multiple datasets, arrays, or inputs without defining a fixed number of parameters. For example, a function might take several data arrays to calculate statistics or perform analysis on each one.\n",
    "\n",
    "**kwargs lets a function accept any number of named keyword arguments, which can be used to pass optional settings, configurations, or parameters dynamically. This is especially helpful in machine learning workflows where models or functions may require many hyperparameters or options that vary depending on the use case."
   ]
  }
 ],
 "metadata": {
  "kernelspec": {
   "display_name": "modelprep",
   "language": "python",
   "name": "python3"
  },
  "language_info": {
   "codemirror_mode": {
    "name": "ipython",
    "version": 3
   },
   "file_extension": ".py",
   "mimetype": "text/x-python",
   "name": "python",
   "nbconvert_exporter": "python",
   "pygments_lexer": "ipython3",
   "version": "3.10.18"
  }
 },
 "nbformat": 4,
 "nbformat_minor": 5
}
