{
 "cells": [
  {
   "cell_type": "markdown",
   "id": "1f029257",
   "metadata": {},
   "source": [
    "1. Reverse a List:\n",
    "\n",
    "Write a program to reverse a list without using the built-in reverse() or slicing ([::-1])."
   ]
  },
  {
   "cell_type": "code",
   "execution_count": 28,
   "id": "30f9bb3a",
   "metadata": {},
   "outputs": [
    {
     "name": "stdout",
     "output_type": "stream",
     "text": [
      "[10, 9, 8, 7, 6, 5, 4, 3, 2, 1]\n"
     ]
    }
   ],
   "source": [
    "lst = [1,2,3,4,5,6,7,8,9,10]\n",
    "\n",
    "def reverse_list(lst):\n",
    "    reversed_list = []\n",
    "    for i in range(len(lst) - 1, -1, -1):\n",
    "        reversed_list.append(lst[i])\n",
    "    return reversed_list\n",
    "\n",
    "print(reverse_list(lst))"
   ]
  },
  {
   "cell_type": "markdown",
   "id": "8bbf7f0e",
   "metadata": {},
   "source": [
    "2. Even Numbers from a List:\n",
    "\n",
    "Given a list of integers, create a new list containing only even numbers using:\n",
    "\n",
    "(a) A normal loop\n",
    "\n",
    "(b) Using map() and lambda()."
   ]
  },
  {
   "cell_type": "code",
   "execution_count": 29,
   "id": "05b6e4a6",
   "metadata": {},
   "outputs": [
    {
     "name": "stdout",
     "output_type": "stream",
     "text": [
      "[2, 4, 6, 8, 10]\n"
     ]
    }
   ],
   "source": [
    "lst = [1,2,3,4,5,6,7,8,9,10]\n",
    "\n",
    "even_numbers = []\n",
    "for i in lst:\n",
    "    if (i % 2 ) == 0:\n",
    "        even_numbers.append(i)\n",
    "print(even_numbers)\n"
   ]
  },
  {
   "cell_type": "code",
   "execution_count": 30,
   "id": "b7cb5f48",
   "metadata": {},
   "outputs": [
    {
     "name": "stdout",
     "output_type": "stream",
     "text": [
      "[2, 4, 6, 8, 10, 12, 14, 16, 18, 20]\n"
     ]
    }
   ],
   "source": [
    "numbers = [1,2,3,4,5,6,7,8,9,10]\n",
    "result = list(map(lambda x:x * 2, numbers))\n",
    "print(result)"
   ]
  },
  {
   "cell_type": "markdown",
   "id": "44d698dd",
   "metadata": {},
   "source": [
    "3. Find Squares of Numbers:\n",
    "\n",
    "Given a list [1, 2, 3, 4, 5], create a list of squares using map() and lambda."
   ]
  },
  {
   "cell_type": "markdown",
   "id": "f4b33eaa",
   "metadata": {},
   "source": [
    "# map() is for transforming items. filter() is for selecting items. Both return iterators and often need to be wrapped with list() to view the results."
   ]
  },
  {
   "cell_type": "code",
   "execution_count": 31,
   "id": "787db844",
   "metadata": {},
   "outputs": [
    {
     "name": "stdout",
     "output_type": "stream",
     "text": [
      "[1, 4, 9, 16, 25]\n"
     ]
    }
   ],
   "source": [
    "number_list = [1,2,3,4,5]\n",
    "\n",
    "squares = list(map(lambda x: x**2, number_list))\n",
    "print(squares)"
   ]
  },
  {
   "cell_type": "markdown",
   "id": "ac3ed6d5",
   "metadata": {},
   "source": [
    "4. Sum of Even Numbers:\n",
    "\n",
    "Write a program to find the sum of all even numbers in a list using reduce(). First find the\n",
    "list of even numbers and then find the sum of even numbers using reduce()."
   ]
  },
  {
   "cell_type": "code",
   "execution_count": 32,
   "id": "8587d525",
   "metadata": {},
   "outputs": [],
   "source": [
    "from functools import reduce"
   ]
  },
  {
   "cell_type": "code",
   "execution_count": 33,
   "id": "854e8741",
   "metadata": {},
   "outputs": [
    {
     "name": "stdout",
     "output_type": "stream",
     "text": [
      "30\n"
     ]
    }
   ],
   "source": [
    "sum_even = reduce(lambda x,y : x + y, even_numbers )\n",
    "print(sum_even)"
   ]
  },
  {
   "cell_type": "markdown",
   "id": "b3ee1832",
   "metadata": {},
   "source": [
    "The reduce() function, which comes from Python’s functools module, is used to reduce a list of items to a single cumulative value by repeatedly applying a function to pairs of items.\n",
    "It adds all the values to the return of the function \n",
    "\n",
    "Step-by-step:\n",
    "1. Initial step:\n",
    "    \n",
    "    Take the first two elements from numbers: 2 and 4\n",
    "    \n",
    "    Apply the lambda function: 2 + 4 = 6\n",
    "2. Next step:\n",
    "   \n",
    "    Take the result from previous step (6) and the next element in the list (6)\n",
    "    \n",
    "    Apply the lambda function: 6 + 6 = 12\n",
    "\n",
    "3. Next step:\n",
    "    \n",
    "    Take the result from previous step (12) and the next element (8)\n",
    "    \n",
    "    Apply the lambda function: 12 + 8 = 20\n",
    "\n",
    "4. No more elements:\n",
    "    \n",
    "    Return the final result: 20"
   ]
  },
  {
   "cell_type": "markdown",
   "id": "60ac7f34",
   "metadata": {},
   "source": [
    "5. Find Words Starting with a Letter:\n",
    "\n",
    "Given a list of words, filter all words starting with the letter 'a' using filter and lambda.\n"
   ]
  },
  {
   "cell_type": "code",
   "execution_count": 34,
   "id": "fefb35e0",
   "metadata": {},
   "outputs": [
    {
     "name": "stdout",
     "output_type": "stream",
     "text": [
      "['apple', 'animal']\n"
     ]
    }
   ],
   "source": [
    "words = [\"apple\", \"ball\", \"cat\", \"dog\", \"animal\", \"lemon\"]\n",
    "start_a = list(filter(lambda x : x[0] == \"a\", words))\n",
    "print(start_a)\n",
    "\n",
    "# The filter function will filter all the words that starts with a from the words and store it as a list in start_a"
   ]
  },
  {
   "cell_type": "markdown",
   "id": "ccfbd49f",
   "metadata": {},
   "source": [
    "6. Find the Maximum Number:\n",
    "\n",
    "Find the maximum number in a list using reduce() (without using max() function)."
   ]
  },
  {
   "cell_type": "code",
   "execution_count": 35,
   "id": "f57a10cb",
   "metadata": {},
   "outputs": [
    {
     "name": "stdout",
     "output_type": "stream",
     "text": [
      "70\n"
     ]
    }
   ],
   "source": [
    "numbers = [1,2,3,4,60,5,6,56,70]\n",
    "\n",
    "greatest_number = reduce(lambda x,y : x if x > y else y, numbers)\n",
    "# reduce() applies the lambda function to pairs of elements one by one. After the result comes it takes that result as the next x\n",
    "print(greatest_number)"
   ]
  },
  {
   "cell_type": "markdown",
   "id": "4e631035",
   "metadata": {},
   "source": [
    "reduce(lambda x, y: ..., iterable) takes two elements at a time:\n",
    "1. It starts with the first two elements: assigns them to x and y\n",
    "\n",
    "2. Applies the lambda function → gets a result\n",
    "\n",
    "3. That result becomes the new x, and the next item in the list becomes y\n",
    "\n",
    "4. Repeats until only one final value is left"
   ]
  },
  {
   "cell_type": "markdown",
   "id": "b3ac347a",
   "metadata": {},
   "source": [
    "7. Create a List of Cubes:\n",
    "\n",
    "From 1 to 10, create a list of cubes (e.g., [1, 8, 27, ...]) using list comprehension."
   ]
  },
  {
   "cell_type": "code",
   "execution_count": 36,
   "id": "2edff1a3",
   "metadata": {},
   "outputs": [
    {
     "name": "stdout",
     "output_type": "stream",
     "text": [
      "[1, 8, 27, 64, 125, 216, 343, 512, 729, 1000]\n"
     ]
    }
   ],
   "source": [
    "numbers = [1,2,3,4,5,6,7,8,9,10]\n",
    "cubes = list(map(lambda x : x ** 3, numbers))\n",
    "print(cubes)"
   ]
  },
  {
   "cell_type": "markdown",
   "id": "6103a66f",
   "metadata": {},
   "source": [
    "8. Palindrome Check:\n",
    "\n",
    "Write a function that takes a string and returns True if it is a palindrome, False otherwise."
   ]
  },
  {
   "cell_type": "code",
   "execution_count": 37,
   "id": "c8cb09b0",
   "metadata": {},
   "outputs": [
    {
     "name": "stdout",
     "output_type": "stream",
     "text": [
      "True\n",
      "False\n"
     ]
    }
   ],
   "source": [
    "def is_palindrome(word):\n",
    "    word = word.lower()\n",
    "    if (word == word[::-1]):\n",
    "        return True\n",
    "    else: return False\n",
    "    \n",
    "print(is_palindrome(\"Madam\"))\n",
    "print(is_palindrome(\"Cereal\"))"
   ]
  },
  {
   "cell_type": "markdown",
   "id": "5b87862b",
   "metadata": {},
   "source": [
    "9. Merge Two Lists into a Dictionary:\n",
    "\n",
    "Convert them into a dictionary using zip() and dict comprehension."
   ]
  },
  {
   "cell_type": "code",
   "execution_count": 38,
   "id": "fd5d67a8",
   "metadata": {},
   "outputs": [
    {
     "name": "stdout",
     "output_type": "stream",
     "text": [
      "{'name': 'Alice', 'age': 25, 'city': 'New York'}\n"
     ]
    }
   ],
   "source": [
    "keys = ['name', 'age', 'city']\n",
    "values = ['Alice', 25, 'New York']\n",
    "\n",
    "merged_dict = dict(zip(keys, values))\n",
    "print(merged_dict)\n",
    "\n",
    "# The zip() function is used to combine two or more iterables (like lists, tuples, etc.) element by element into pairs (or tuples).\n",
    "\n"
   ]
  },
  {
   "cell_type": "markdown",
   "id": "a0c5e7d8",
   "metadata": {},
   "source": [
    "# zip(keys,values) doesnot create a dictionary"
   ]
  },
  {
   "cell_type": "markdown",
   "id": "bf6105af",
   "metadata": {},
   "source": [
    "Each pair from zip() becomes:\n",
    "\t\n",
    "    • k = 'name', v = 'Alice'\n",
    "\t\n",
    "    • k = 'age', v = 25\n",
    "\t\n",
    "    • k = 'city', v = 'New York'"
   ]
  },
  {
   "cell_type": "markdown",
   "id": "4a85e186",
   "metadata": {},
   "source": [
    "{k: v for k, v in ...}\n",
    "\n",
    "This is a dictionary comprehension. It says:\n",
    "\n",
    "“For each pair (k, v) from the zipped keys and values, create a key-value pair k: v in the dictionary.”"
   ]
  },
  {
   "cell_type": "code",
   "execution_count": 39,
   "id": "cb818eb0",
   "metadata": {},
   "outputs": [
    {
     "name": "stdout",
     "output_type": "stream",
     "text": [
      "{'name': 'Alice', 'age': 25, 'city': 'New York'}\n"
     ]
    }
   ],
   "source": [
    "merged_dict = {k: v for k, v in zip(keys, values)}\n",
    "print(merged_dict)"
   ]
  },
  {
   "cell_type": "markdown",
   "id": "8232244a",
   "metadata": {},
   "source": [
    "10. Find the Second Largest Number:\n",
    "\n",
    "Write a function to find the second largest number in a list."
   ]
  },
  {
   "cell_type": "code",
   "execution_count": 40,
   "id": "e3e9cce9",
   "metadata": {},
   "outputs": [
    {
     "name": "stdout",
     "output_type": "stream",
     "text": [
      "Second largest number: 99\n"
     ]
    }
   ],
   "source": [
    "def second_largest(num):\n",
    "    first = second = float('-inf')  # start with lowest possible values\n",
    "\n",
    "    for i in range(len(num)):\n",
    "        if num[i] > first:\n",
    "            second = first\n",
    "            first = num[i]\n",
    "        elif num[i] > second and num[i] != first:\n",
    "            second = num[i]\n",
    "\n",
    "    return second if second != float('-inf') else None\n",
    "\n",
    "# Test\n",
    "numbers = [1, 2, 3, 40, 55, 6, 77, 88, 99, 100]\n",
    "print(\"Second largest number:\", second_largest(numbers))"
   ]
  }
 ],
 "metadata": {
  "kernelspec": {
   "display_name": "modelprep",
   "language": "python",
   "name": "python3"
  },
  "language_info": {
   "codemirror_mode": {
    "name": "ipython",
    "version": 3
   },
   "file_extension": ".py",
   "mimetype": "text/x-python",
   "name": "python",
   "nbconvert_exporter": "python",
   "pygments_lexer": "ipython3",
   "version": "3.10.18"
  }
 },
 "nbformat": 4,
 "nbformat_minor": 5
}
