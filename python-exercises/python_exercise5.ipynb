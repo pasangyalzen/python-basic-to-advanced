{
 "cells": [
  {
   "cell_type": "markdown",
   "id": "0e359310",
   "metadata": {},
   "source": [
    "# Creating a simple Calculator\n",
    "Create a simple calculator that performs operations like addition, sun=btraction, multiplication and division using match\n",
    "\n",
    "Number => 1 - addition\n",
    "\n",
    "String => + - addition,"
   ]
  },
  {
   "cell_type": "code",
   "execution_count": 1,
   "id": "0f771836",
   "metadata": {},
   "outputs": [
    {
     "name": "stdout",
     "output_type": "stream",
     "text": [
      " The result is 3.0\n"
     ]
    }
   ],
   "source": [
    "num1 = float(input(\"Please enter the first number:\"))\n",
    "num2 = float(input(\"Please enter the second number:\"))\n",
    "operation = input(\"Please enter a operation (+,-,*,/)\")\n",
    "# Asking for the input before the operation\n",
    "def calculator(num1,num2,operation):\n",
    "    # Creating a function that accepts three arguments that is num1, num2 and operation\n",
    "    match(operation):\n",
    "        # Using the match-case, do the following operation bases on the operation match\n",
    "        case \"+\":\n",
    "            return num1 + num2\n",
    "        case \"-\":\n",
    "            return num1 - num2\n",
    "        case \"*\":\n",
    "            return num1 * num2\n",
    "        case \"/\":\n",
    "            return num1 / num2 if num2 != 0 else \"Error: Division by zero\"\n",
    "        case _:\n",
    "            # This is the default case\n",
    "            return \"Invalid Operation\"\n",
    "\n",
    "result = calculator(num1,num2,operation)\n",
    "# function call and storing the value in the result which will be printed\n",
    "print(\" The result is\" ,result)"
   ]
  },
  {
   "cell_type": "code",
   "execution_count": 2,
   "id": "4ec76fa4",
   "metadata": {},
   "outputs": [
    {
     "name": "stdout",
     "output_type": "stream",
     "text": [
      "The number is  5.0\n",
      "Bye\n"
     ]
    }
   ],
   "source": [
    "def addition(a,b):\n",
    "    return a + b\n",
    "\n",
    "def substraction(a,b):\n",
    "    return a - b\n",
    "\n",
    "def multiplication (a,b):\n",
    "    return a * b\n",
    "\n",
    "def division(a,b):\n",
    "    return a / b if b != 0 else \"Error: Not divisible by 0\"\n",
    "\n",
    "# Defining each of the operation in a function \n",
    "\n",
    "\n",
    "while True:\n",
    "    # Using the while loop so unless the loop break it will not go out of the loop\n",
    "    num1 = float(input(\"Please enter a first number: \"))\n",
    "    num2 = float(input(\"Please enter a second number:\"))\n",
    "\n",
    "    operation = input (\"Please enter an operation (+,-,*,/): \")\n",
    "    def calculator(num1,num2,operation):\n",
    "        match operation:\n",
    "            case \"+\":\n",
    "                print(\"The number is \",addition(num1,num2))\n",
    "            case \"-\":\n",
    "                print(\"The number is \",substraction(num1,num2))\n",
    "            case \"*\":\n",
    "                print(\"The number is \",multiplication(num1,num2))\n",
    "            case \"/\":\n",
    "                print(\"The number is\", division(num1,num2))\n",
    "            case _:\n",
    "                print(\"Please enter a valid operation.\")\n",
    "\n",
    "    result = calculator(num1,num2,operation)\n",
    "    again = input(\"Do you want to continue? y/n\")\n",
    "    # Asking if we want to continue ir not\n",
    "    if again != \"y\" and again != \"Y\":\n",
    "        # If the answer is yes will stay in the loop otherwise will enter this and prints Bye and finally break.\n",
    "        print(\"Bye\")\n",
    "        break"
   ]
  }
 ],
 "metadata": {
  "kernelspec": {
   "display_name": "modelprep",
   "language": "python",
   "name": "python3"
  },
  "language_info": {
   "codemirror_mode": {
    "name": "ipython",
    "version": 3
   },
   "file_extension": ".py",
   "mimetype": "text/x-python",
   "name": "python",
   "nbconvert_exporter": "python",
   "pygments_lexer": "ipython3",
   "version": "3.10.18"
  }
 },
 "nbformat": 4,
 "nbformat_minor": 5
}
