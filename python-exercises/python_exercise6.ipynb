{
 "cells": [
  {
   "cell_type": "markdown",
   "id": "59212e58",
   "metadata": {},
   "source": [
    "# File Handling\n",
    "\n",
    "# Flow: Open File => Perform Operation => Close File\n",
    "# open()\n",
    "# close()\n",
    "# write()\n",
    "# read()\n",
    "\n",
    "file = open(\"file1.txt\", \"r\")\n",
    "readfile = file.read()\n",
    "file.close()\n",
    "\n",
    "print(readfile)\n",
    "\n",
    "# Task:\n",
    "# Implement all the three operations: open, read, and close with read, append and write mode\n"
   ]
  },
  {
   "cell_type": "markdown",
   "id": "3d282793",
   "metadata": {},
   "source": [
    "# WRITE Mode"
   ]
  },
  {
   "cell_type": "code",
   "execution_count": 1,
   "id": "aea211ed",
   "metadata": {},
   "outputs": [],
   "source": [
    "file = open(\"task1.txt\", \"w\")\n",
    "# Opens up the file of the given name \n",
    "\n",
    "file.write(\"Hello, this is my new text in the Task 1 file.\")\n",
    "# Since the file is opened already, writing the given text in the file named Task 1.\n",
    "\n",
    "file.close()\n",
    "# Finally closing the file which is very important.\n",
    "# .close() ensures:\n",
    "# Efficient resource use\n",
    "# Safe data writing\n",
    "# File integrity\n",
    "# Better code hygiene"
   ]
  },
  {
   "cell_type": "markdown",
   "id": "2b5cb492",
   "metadata": {},
   "source": [
    "# APPEND Mode"
   ]
  },
  {
   "cell_type": "code",
   "execution_count": 2,
   "id": "12a49728",
   "metadata": {},
   "outputs": [],
   "source": [
    "file = open(\"task1.txt\", \"a\")\n",
    "# Here we have defined the mode as append\n",
    "file.write(\"\\nThis is my new appended text in the Task 1 file.\")\n",
    "# This will add a new line to the text. If the new line is not specified the text will start from the ending of the previous text.\n",
    "file.close()"
   ]
  },
  {
   "cell_type": "markdown",
   "id": "0fac7d53",
   "metadata": {},
   "source": [
    "# READ Mode"
   ]
  },
  {
   "cell_type": "code",
   "execution_count": null,
   "id": "3fe8ca71",
   "metadata": {},
   "outputs": [],
   "source": [
    "file = open(\"task1.txt\", \"r\")\n",
    "# Opening the file in read mode \n",
    "read_content = file.read()\n",
    "# Storing the read file in the read_content so that it can be printed later on \n",
    "file.close()\n"
   ]
  },
  {
   "cell_type": "code",
   "execution_count": null,
   "id": "85202fb8",
   "metadata": {},
   "outputs": [],
   "source": [
    "# Final Content in task1.txt \n",
    "print(read_content)"
   ]
  }
 ],
 "metadata": {
  "kernelspec": {
   "display_name": "modelprep",
   "language": "python",
   "name": "python3"
  },
  "language_info": {
   "codemirror_mode": {
    "name": "ipython",
    "version": 3
   },
   "file_extension": ".py",
   "mimetype": "text/x-python",
   "name": "python",
   "nbconvert_exporter": "python",
   "pygments_lexer": "ipython3",
   "version": "3.10.18"
  }
 },
 "nbformat": 4,
 "nbformat_minor": 5
}
