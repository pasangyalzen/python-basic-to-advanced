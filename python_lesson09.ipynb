{
  "cells": [
    {
      "cell_type": "markdown",
      "metadata": {
        "id": "F9o8_lwj10eY"
      },
      "source": [
        "1****While Loop****"
      ]
    },
    {
      "cell_type": "markdown",
      "metadata": {
        "id": "cVoVLSkZaRvi"
      },
      "source": [
        "While loop is used when we need to run specific block of code until a condition is met."
      ]
    },
    {
      "cell_type": "code",
      "execution_count": 1,
      "metadata": {
        "colab": {
          "base_uri": "https://localhost:8080/",
          "height": 35
        },
        "id": "fIJ_1tp7DN_X",
        "outputId": "77ee23e9-dec1-480d-e2c2-53a6721debe8"
      },
      "outputs": [
        {
          "data": {
            "text/plain": [
              "'\\nwhile condition:\\n  // code block to be executed\\n'"
            ]
          },
          "execution_count": 1,
          "metadata": {},
          "output_type": "execute_result"
        }
      ],
      "source": [
        "'''\n",
        "while condition:\n",
        "  // code block to be executed\n",
        "'''"
      ]
    },
    {
      "cell_type": "code",
      "execution_count": 2,
      "metadata": {
        "id": "vsBlS-UBXXtG"
      },
      "outputs": [],
      "source": [
        "# a = 5\n",
        "# while a == 5:\n",
        "#    print(\"Hello\")  # Infinite Loop\n",
        "\n",
        "# Ctrl + /"
      ]
    },
    {
      "cell_type": "code",
      "execution_count": 3,
      "metadata": {
        "_cell_guid": "b1076dfc-b9ad-4769-8c92-a6c4dae69d19",
        "_uuid": "8f2839f25d086af736a60e9eeb907d3b93b6e0e5",
        "colab": {
          "base_uri": "https://localhost:8080/"
        },
        "execution": {
          "iopub.execute_input": "2024-01-17T13:04:44.203195Z",
          "iopub.status.busy": "2024-01-17T13:04:44.202351Z",
          "iopub.status.idle": "2024-01-17T13:04:44.238816Z",
          "shell.execute_reply": "2024-01-17T13:04:44.237654Z",
          "shell.execute_reply.started": "2024-01-17T13:04:44.203140Z"
        },
        "id": "Mv-LDnLe10eb",
        "outputId": "490610e2-e9ef-454e-9a31-8b16b8ad00c5",
        "trusted": true
      },
      "outputs": [
        {
          "name": "stdout",
          "output_type": "stream",
          "text": [
            "1\n",
            "2\n",
            "3\n",
            "4\n",
            "5\n",
            "6\n",
            "7\n",
            "8\n",
            "9\n",
            "10\n"
          ]
        }
      ],
      "source": [
        "a = 1\n",
        "while a <= 10:\n",
        "    print(a)\n",
        "    a = a + 1"
      ]
    },
    {
      "cell_type": "code",
      "execution_count": 4,
      "metadata": {
        "execution": {
          "iopub.execute_input": "2024-01-17T13:10:50.987868Z",
          "iopub.status.busy": "2024-01-17T13:10:50.987361Z",
          "iopub.status.idle": "2024-01-17T13:10:50.994076Z",
          "shell.execute_reply": "2024-01-17T13:10:50.992646Z",
          "shell.execute_reply.started": "2024-01-17T13:10:50.987828Z"
        },
        "id": "LYKKsw1N10ed",
        "trusted": true
      },
      "outputs": [],
      "source": [
        "# sum of the number till some point"
      ]
    },
    {
      "cell_type": "code",
      "execution_count": 5,
      "metadata": {
        "colab": {
          "base_uri": "https://localhost:8080/"
        },
        "execution": {
          "iopub.execute_input": "2024-01-17T13:18:23.935368Z",
          "iopub.status.busy": "2024-01-17T13:18:23.934940Z",
          "iopub.status.idle": "2024-01-17T13:18:26.183728Z",
          "shell.execute_reply": "2024-01-17T13:18:26.182141Z",
          "shell.execute_reply.started": "2024-01-17T13:18:23.935335Z"
        },
        "id": "uBWvSjVz10ee",
        "outputId": "dcf165e9-b769-4bec-967e-0ea2538801f7",
        "trusted": true
      },
      "outputs": [
        {
          "name": "stdout",
          "output_type": "stream",
          "text": [
            "Total sum is:  3\n"
          ]
        }
      ],
      "source": [
        "n = int(input('Enter your number: '))\n",
        "sum = 0\n",
        "counter = 1\n",
        "\n",
        "while counter <= n:\n",
        "    sum = sum + counter\n",
        "    counter = counter + 1\n",
        "print('Total sum is: ',sum)"
      ]
    },
    {
      "cell_type": "code",
      "execution_count": 6,
      "metadata": {
        "colab": {
          "base_uri": "https://localhost:8080/"
        },
        "execution": {
          "iopub.execute_input": "2024-01-17T13:21:22.312511Z",
          "iopub.status.busy": "2024-01-17T13:21:22.312101Z",
          "iopub.status.idle": "2024-01-17T13:21:24.275124Z",
          "shell.execute_reply": "2024-01-17T13:21:24.273900Z",
          "shell.execute_reply.started": "2024-01-17T13:21:22.312479Z"
        },
        "id": "63ewfCQV10ef",
        "outputId": "d4434bb5-6471-4855-9e32-fab48f78ff8b",
        "trusted": true
      },
      "outputs": [
        {
          "name": "stdout",
          "output_type": "stream",
          "text": [
            "The factorial is 1\n"
          ]
        }
      ],
      "source": [
        "number = int(input('Enter your number which is positive: '))\n",
        "factorial = 1\n",
        "while(number > 0):\n",
        "    factorial = factorial * number\n",
        "    number = number - 1\n",
        "print(f\"The factorial is {factorial}\")"
      ]
    },
    {
      "cell_type": "code",
      "execution_count": 7,
      "metadata": {
        "execution": {
          "iopub.execute_input": "2024-01-17T13:52:53.315618Z",
          "iopub.status.busy": "2024-01-17T13:52:53.314879Z",
          "iopub.status.idle": "2024-01-17T13:52:53.321496Z",
          "shell.execute_reply": "2024-01-17T13:52:53.320412Z",
          "shell.execute_reply.started": "2024-01-17T13:52:53.315565Z"
        },
        "id": "Uhurj1Y210ef",
        "trusted": true
      },
      "outputs": [],
      "source": [
        "#fibonacci series"
      ]
    },
    {
      "cell_type": "code",
      "execution_count": 8,
      "metadata": {
        "colab": {
          "base_uri": "https://localhost:8080/"
        },
        "execution": {
          "iopub.execute_input": "2024-01-17T14:03:17.656265Z",
          "iopub.status.busy": "2024-01-17T14:03:17.655122Z",
          "iopub.status.idle": "2024-01-17T14:03:22.073749Z",
          "shell.execute_reply": "2024-01-17T14:03:22.072770Z",
          "shell.execute_reply.started": "2024-01-17T14:03:17.656223Z"
        },
        "id": "hlU8HAH110ef",
        "outputId": "a1a143de-31f5-40d6-d8b3-af4e9351aae8",
        "trusted": true
      },
      "outputs": [
        {
          "name": "stdout",
          "output_type": "stream",
          "text": [
            "0\n"
          ]
        }
      ],
      "source": [
        "num = int(input('Enter the element: '))\n",
        "a,b = 0,1\n",
        "counter = 0\n",
        "while counter < num:\n",
        "    print(a)\n",
        "    c = a + b\n",
        "    a = b\n",
        "    b = c\n",
        "    counter = counter + 1"
      ]
    },
    {
      "cell_type": "code",
      "execution_count": 9,
      "metadata": {
        "colab": {
          "base_uri": "https://localhost:8080/"
        },
        "id": "tZKIAJZXuf1f",
        "outputId": "08cfacd2-946b-4591-a4de-c08db045690d"
      },
      "outputs": [
        {
          "data": {
            "text/plain": [
              "range(0, 2)"
            ]
          },
          "execution_count": 9,
          "metadata": {},
          "output_type": "execute_result"
        }
      ],
      "source": [
        "range(0,2)"
      ]
    },
    {
      "cell_type": "code",
      "execution_count": 10,
      "metadata": {
        "colab": {
          "base_uri": "https://localhost:8080/"
        },
        "id": "bV6XlnHaun24",
        "outputId": "3a3d4b1d-46b7-4b10-a2fb-821e8e8059d2"
      },
      "outputs": [
        {
          "data": {
            "text/plain": [
              "[0, 1]"
            ]
          },
          "execution_count": 10,
          "metadata": {},
          "output_type": "execute_result"
        }
      ],
      "source": [
        "list(range(0,2))"
      ]
    },
    {
      "cell_type": "code",
      "execution_count": 11,
      "metadata": {
        "colab": {
          "base_uri": "https://localhost:8080/"
        },
        "id": "lBrz1kmMuqNQ",
        "outputId": "0ff01baa-efa4-4f9c-e5f1-0c8eb1cf8f89"
      },
      "outputs": [
        {
          "data": {
            "text/plain": [
              "(2, 3, 4, 5, 6, 7)"
            ]
          },
          "execution_count": 11,
          "metadata": {},
          "output_type": "execute_result"
        }
      ],
      "source": [
        "tuple(range(2,8))"
      ]
    },
    {
      "cell_type": "code",
      "execution_count": 12,
      "metadata": {
        "colab": {
          "base_uri": "https://localhost:8080/"
        },
        "id": "YTkMX7G9u-Yl",
        "outputId": "50773efc-0681-428d-ca1d-b45ee5b8f581"
      },
      "outputs": [
        {
          "data": {
            "text/plain": [
              "(2, 4, 6, 8, 10, 12, 14, 16, 18)"
            ]
          },
          "execution_count": 12,
          "metadata": {},
          "output_type": "execute_result"
        }
      ],
      "source": [
        "tuple(range(2,20,2))"
      ]
    },
    {
      "cell_type": "code",
      "execution_count": 13,
      "metadata": {
        "colab": {
          "base_uri": "https://localhost:8080/"
        },
        "execution": {
          "iopub.execute_input": "2024-01-17T14:03:03.364850Z",
          "iopub.status.busy": "2024-01-17T14:03:03.364402Z",
          "iopub.status.idle": "2024-01-17T14:03:03.371888Z",
          "shell.execute_reply": "2024-01-17T14:03:03.370377Z",
          "shell.execute_reply.started": "2024-01-17T14:03:03.364818Z"
        },
        "id": "18E2UKqn10eg",
        "outputId": "6eed8f93-d201-4c6c-c105-095bb3ba4b91",
        "trusted": true
      },
      "outputs": [
        {
          "name": "stdout",
          "output_type": "stream",
          "text": [
            "0\n",
            "1\n",
            "1\n",
            "2\n",
            "3\n",
            "5\n",
            "8\n"
          ]
        }
      ],
      "source": [
        "a,b = 0,1\n",
        "for i in range(7):\n",
        "    print(a)\n",
        "    c = a + b\n",
        "    a = b\n",
        "    b = c"
      ]
    },
    {
      "cell_type": "code",
      "execution_count": 14,
      "metadata": {
        "colab": {
          "base_uri": "https://localhost:8080/",
          "height": 35
        },
        "execution": {
          "iopub.execute_input": "2024-01-17T14:04:20.427826Z",
          "iopub.status.busy": "2024-01-17T14:04:20.427339Z",
          "iopub.status.idle": "2024-01-17T14:04:20.435952Z",
          "shell.execute_reply": "2024-01-17T14:04:20.434401Z",
          "shell.execute_reply.started": "2024-01-17T14:04:20.427789Z"
        },
        "id": "RL3DQjU310eg",
        "outputId": "795ed3ca-2726-4139-f659-6010bc0c78c7",
        "trusted": true
      },
      "outputs": [
        {
          "data": {
            "text/plain": [
              "'lapen'"
            ]
          },
          "execution_count": 14,
          "metadata": {},
          "output_type": "execute_result"
        }
      ],
      "source": [
        "s = 'nepal'\n",
        "s[::-1]"
      ]
    },
    {
      "cell_type": "code",
      "execution_count": 15,
      "metadata": {
        "colab": {
          "base_uri": "https://localhost:8080/"
        },
        "execution": {
          "iopub.execute_input": "2024-01-17T14:06:42.682625Z",
          "iopub.status.busy": "2024-01-17T14:06:42.682117Z",
          "iopub.status.idle": "2024-01-17T14:06:46.356703Z",
          "shell.execute_reply": "2024-01-17T14:06:46.355440Z",
          "shell.execute_reply.started": "2024-01-17T14:06:42.682589Z"
        },
        "id": "_lWWyfp910eh",
        "outputId": "4fb4a760-95cf-4db7-d7c3-d08938b1fcb2",
        "trusted": true
      },
      "outputs": [
        {
          "name": "stdout",
          "output_type": "stream",
          "text": [
            "1\n"
          ]
        }
      ],
      "source": [
        "word = input(\"Enter the string for reversal: \")\n",
        "reverse = ''\n",
        "length = len(word)\n",
        "while length > 0:\n",
        "    reverse = reverse + word[length - 1]\n",
        "    length = length - 1\n",
        "print(reverse)"
      ]
    },
    {
      "cell_type": "code",
      "execution_count": 16,
      "metadata": {
        "id": "AxRKRdnT10eh"
      },
      "outputs": [],
      "source": [
        "# print table of numbers"
      ]
    },
    {
      "cell_type": "code",
      "execution_count": 17,
      "metadata": {
        "colab": {
          "base_uri": "https://localhost:8080/"
        },
        "execution": {
          "iopub.execute_input": "2024-01-17T14:16:08.829584Z",
          "iopub.status.busy": "2024-01-17T14:16:08.829180Z",
          "iopub.status.idle": "2024-01-17T14:16:11.336392Z",
          "shell.execute_reply": "2024-01-17T14:16:11.335209Z",
          "shell.execute_reply.started": "2024-01-17T14:16:08.829545Z"
        },
        "id": "k_MGxONK10eh",
        "outputId": "96a9038d-77a8-402b-815e-9772fa49fdc2",
        "trusted": true
      },
      "outputs": [
        {
          "name": "stdout",
          "output_type": "stream",
          "text": [
            "1 * 1 = 1\n"
          ]
        }
      ],
      "source": [
        "n = int(input('Enter your number: '))\n",
        "i = 1\n",
        "a = int(input('Enter the number upto which you want multiple: '))\n",
        "while(i <= a):\n",
        "    result = n * i\n",
        "    print(n,\"*\",i,\"=\",result)\n",
        "    # print(f\"{n} * {i} = {result}\")\n",
        "    i = i + 1"
      ]
    },
    {
      "cell_type": "code",
      "execution_count": 18,
      "metadata": {
        "colab": {
          "base_uri": "https://localhost:8080/"
        },
        "id": "1eJtoMAy05HI",
        "outputId": "f4120862-ae77-4ad0-a2b5-f4f85f0e73aa"
      },
      "outputs": [
        {
          "name": "stdout",
          "output_type": "stream",
          "text": [
            "1 * 1 = 1\n"
          ]
        }
      ],
      "source": [
        "n = int(input('Enter your number: '))\n",
        "i = 1\n",
        "j = int(input(f'Enter the number upto which you want multiple of {n}: '))\n",
        "while(i <= j):\n",
        "    result = n * i\n",
        "    print(n,\"*\",i,\"=\",result)\n",
        "    i = i + 1"
      ]
    },
    {
      "cell_type": "code",
      "execution_count": 19,
      "metadata": {
        "colab": {
          "base_uri": "https://localhost:8080/"
        },
        "execution": {
          "iopub.execute_input": "2024-01-17T14:19:56.894716Z",
          "iopub.status.busy": "2024-01-17T14:19:56.894197Z",
          "iopub.status.idle": "2024-01-17T14:19:56.902326Z",
          "shell.execute_reply": "2024-01-17T14:19:56.900935Z",
          "shell.execute_reply.started": "2024-01-17T14:19:56.894679Z"
        },
        "id": "fSUD4ZFs10ei",
        "outputId": "b5f98ce6-3793-40df-e9fd-ddd0b7693ea5",
        "trusted": true
      },
      "outputs": [
        {
          "name": "stdout",
          "output_type": "stream",
          "text": [
            "1\n",
            "2\n",
            "3\n"
          ]
        }
      ],
      "source": [
        "m = 5\n",
        "i = 1\n",
        "while(i < m):\n",
        "    print(i)\n",
        "    if i == 3:\n",
        "        break\n",
        "    i = i + 1\n",
        "else:\n",
        "    print(\"this will be executed once the while is completed successfully\")"
      ]
    },
    {
      "cell_type": "code",
      "execution_count": 20,
      "metadata": {
        "colab": {
          "base_uri": "https://localhost:8080/"
        },
        "id": "qeqERgJJ2Eob",
        "outputId": "0aa9c4f7-6c93-44f7-ff03-70dea929b1dc"
      },
      "outputs": [
        {
          "name": "stdout",
          "output_type": "stream",
          "text": [
            "1\n",
            "2\n",
            "3\n",
            "4\n",
            "this will be executed once the while is completed successfully\n"
          ]
        }
      ],
      "source": [
        "m = 5\n",
        "i = 1\n",
        "while(i < m):\n",
        "    print(i)\n",
        "    i = i + 1\n",
        "else:\n",
        "    print(\"this will be executed once the while is completed successfully\")"
      ]
    }
  ],
  "metadata": {
    "colab": {
      "provenance": []
    },
    "kaggle": {
      "accelerator": "none",
      "dataSources": [],
      "dockerImageVersionId": 30635,
      "isGpuEnabled": false,
      "isInternetEnabled": false,
      "language": "python",
      "sourceType": "notebook"
    },
    "kernelspec": {
      "display_name": "modelprep",
      "language": "python",
      "name": "python3"
    },
    "language_info": {
      "codemirror_mode": {
        "name": "ipython",
        "version": 3
      },
      "file_extension": ".py",
      "mimetype": "text/x-python",
      "name": "python",
      "nbconvert_exporter": "python",
      "pygments_lexer": "ipython3",
      "version": "3.10.18"
    }
  },
  "nbformat": 4,
  "nbformat_minor": 0
}
