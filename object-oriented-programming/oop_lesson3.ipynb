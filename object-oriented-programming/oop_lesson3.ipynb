{
 "cells": [
  {
   "cell_type": "markdown",
   "id": "4c2bf8b1",
   "metadata": {},
   "source": [
    "# Inheritence \n",
    "\n",
    "Inheritance in programming (especially in object-oriented programming) is a mechanism that allows one class (called the child or subclass) to acquire the properties and behaviors (fields and methods) of another class (called the parent or superclass). It promotes code reusability, extensibility, and maintainability by enabling you to create new classes based on existing ones, while also allowing you to add or override functionality as needed."
   ]
  },
  {
   "cell_type": "markdown",
   "id": "dfbd40f7",
   "metadata": {},
   "source": [
    "# Single Inheritance"
   ]
  },
  {
   "cell_type": "code",
   "execution_count": 13,
   "id": "05aed1ac",
   "metadata": {},
   "outputs": [],
   "source": [
    "class Car:\n",
    "    wheels = 4\n",
    "    brake = 2\n",
    "    air_bags = 5\n",
    "    \n",
    "    def start(self):\n",
    "        print(\"Car is started...\")\n",
    "        return \"Pasang Gyalzen Sherpa\""
   ]
  },
  {
   "cell_type": "code",
   "execution_count": 14,
   "id": "f625869c",
   "metadata": {},
   "outputs": [
    {
     "name": "stdout",
     "output_type": "stream",
     "text": [
      "4\n",
      "Car is started...\n",
      "Pasang Gyalzen Sherpa\n"
     ]
    }
   ],
   "source": [
    "\n",
    "class Toyota(Car):\n",
    "    pass\n",
    "\n",
    "t1 = Toyota()\n",
    "print(t1.wheels)\n",
    "print(t1.start())"
   ]
  },
  {
   "cell_type": "markdown",
   "id": "f1e176bd",
   "metadata": {},
   "source": [
    "# Multi Inheritance\n",
    "The child class inerits the properties(attributes and methods) from multiple parent class"
   ]
  },
  {
   "cell_type": "code",
   "execution_count": 15,
   "id": "267f8202",
   "metadata": {},
   "outputs": [
    {
     "name": "stdout",
     "output_type": "stream",
     "text": [
      "This is Hyundai Car\n",
      "Branded Car\n",
      "This is a branded Car\n",
      "2\n",
      "[<class '__main__.Hyundai'>, <class '__main__.Car'>, <class '__main__.Brand'>, <class '__main__.Toyota'>, <class 'object'>]\n",
      "Black\n",
      "BS6\n"
     ]
    }
   ],
   "source": [
    "class Car:\n",
    "    wheels = 4\n",
    "    brake = 2\n",
    "    air_bags = 5\n",
    "    # Class attributes\n",
    "    \n",
    "    def start(self):\n",
    "        print(\"Car is started...\")\n",
    "        #self is a parameter in Python instance methods that refers to the specific object (instance) calling the method.\n",
    "\t\t#When you call a method on an object, Python automatically passes that object as the first argument to the method.\n",
    "\t\t#Inside the method, self holds the reference to that object, letting you access its attributes and other methods.\n",
    "\n",
    "class Brand:\n",
    "    name_brand = \"Branded Car\"\n",
    "    #class attributes\n",
    "    \n",
    "    def get_brand(self):\n",
    "        print(\"This is a branded Car\")\n",
    "        \n",
    "class Toyota:\n",
    "    color = \"Black\"\n",
    "    def set_engine(self):\n",
    "        print(\"BS6\")\n",
    "\n",
    "# Above three classes are defined \n",
    "\n",
    "class Hyundai(Car,Brand, Toyota):\n",
    "    name = \"This is Hyundai Car\"\n",
    "    #Another class Hyundai is created that inherits the above three classes which is an example of multiple inheritance\n",
    "\n",
    "h1 = Hyundai()\n",
    "#Created instance of the class Hyundai \n",
    "print(h1.name)\n",
    "print(h1.name_brand)\n",
    "h1.get_brand()\n",
    "#This is where self gets handy. This function is there to print for anyone that is inheriting the given class and will print what's there.\n",
    "print(h1.brake)\n",
    "print(Hyundai.mro())\n",
    "print(h1.color)\n",
    "h1.set_engine()"
   ]
  },
  {
   "cell_type": "code",
   "execution_count": 19,
   "id": "e5f195c5",
   "metadata": {},
   "outputs": [
    {
     "name": "stdout",
     "output_type": "stream",
     "text": [
      "Child\n",
      "Parent\n",
      "Grandparent\n",
      "Grandparent\n"
     ]
    }
   ],
   "source": [
    "class Grandparent:\n",
    "    gname = \"Grandparent\"\n",
    "\n",
    "class Parent(Grandparent):\n",
    "    pname = \"Parent\"\n",
    "\n",
    "class Child(Parent):\n",
    "    name = \"Child\"\n",
    "    # If we use the same variable name the inheritence will override the value for the name \n",
    "\n",
    "class GrandChild(Child):\n",
    "    pass\n",
    "    # pass refers to do nothing, this is just a placeholder \n",
    "c1 = Child()\n",
    "\n",
    "print(c1.name)\n",
    "print(c1.pname)\n",
    "print(c1.gname)\n",
    "\n",
    "g1 =GrandChild()\n",
    "print(g1.gname)"
   ]
  },
  {
   "cell_type": "markdown",
   "id": "8d08db7f",
   "metadata": {},
   "source": [
    "# Method Resolution Order (MRO)\n",
    "\n",
    "It defines the order of the inherited classes \n",
    "\n",
    "Syntax - class_name.mro()\n",
    "\n"
   ]
  },
  {
   "cell_type": "code",
   "execution_count": 20,
   "id": "555defd4",
   "metadata": {},
   "outputs": [
    {
     "name": "stdout",
     "output_type": "stream",
     "text": [
      "[<class '__main__.GrandChild'>, <class '__main__.Child'>, <class '__main__.Parent'>, <class '__main__.Grandparent'>, <class 'object'>]\n"
     ]
    }
   ],
   "source": [
    "print(GrandChild.mro())"
   ]
  }
 ],
 "metadata": {
  "kernelspec": {
   "display_name": "modelprep",
   "language": "python",
   "name": "python3"
  },
  "language_info": {
   "codemirror_mode": {
    "name": "ipython",
    "version": 3
   },
   "file_extension": ".py",
   "mimetype": "text/x-python",
   "name": "python",
   "nbconvert_exporter": "python",
   "pygments_lexer": "ipython3",
   "version": "3.10.18"
  }
 },
 "nbformat": 4,
 "nbformat_minor": 5
}
