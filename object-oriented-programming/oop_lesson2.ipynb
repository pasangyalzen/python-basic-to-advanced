{
 "cells": [
  {
   "cell_type": "code",
   "execution_count": 7,
   "id": "ff9610d1",
   "metadata": {},
   "outputs": [
    {
     "name": "stdout",
     "output_type": "stream",
     "text": [
      "Pasang Gyalzen Sherpa\n",
      "Pasang Gyalzen Sherpa with 21 has scored 94\n",
      "None\n"
     ]
    }
   ],
   "source": [
    "class Student:\n",
    "    name = \"Pasang Gyalzen Sherpa\"\n",
    "    student_id = 21 \n",
    "    percentage = 94\n",
    "\n",
    "    def description(self):\n",
    "        print(f\"{self.name} with {self.student_id} has scored {self.percentage}\")\n",
    "\n",
    "s1 = Student()\n",
    "\n",
    "print(s1.name)\n",
    "print(s1.description())"
   ]
  },
  {
   "cell_type": "code",
   "execution_count": 8,
   "id": "4671983f",
   "metadata": {},
   "outputs": [
    {
     "name": "stdout",
     "output_type": "stream",
     "text": [
      "Hello Nepal\n"
     ]
    }
   ],
   "source": [
    "class Student: \n",
    "    def set_info(self, name , marks ):\n",
    "        self.name = name \n",
    "        self.marks = marks \n",
    "\n",
    "\n",
    "s1 = Student()\n",
    "s1.set_info(\"Hello Nepal\", 77)\n",
    "print(s1.name)"
   ]
  },
  {
   "cell_type": "markdown",
   "id": "d7d2cac3",
   "metadata": {},
   "source": [
    "# Approaches\n",
    " \n",
    "    Procedural approach \n",
    " \n",
    "        name = \"Pasang Gyalzen Sherpa\"\n",
    "        marks = 95\n",
    "        student_id = 4\n",
    "        print(name,marks,student_id)\n",
    "\n",
    "    Functional Approach \n",
    " \n",
    "        Creating function and maintaining resuability \n",
    "    \n",
    "    Class and method approach(OOP)\n",
    " \n",
    "        Making class and objects \n"
   ]
  },
  {
   "cell_type": "markdown",
   "id": "3ef8f4c7",
   "metadata": {},
   "source": [
    "# Attributes in OOP- They are class attributes and object attributes."
   ]
  },
  {
   "cell_type": "code",
   "execution_count": 9,
   "id": "87a744f0",
   "metadata": {},
   "outputs": [
    {
     "name": "stdout",
     "output_type": "stream",
     "text": [
      "Male\n"
     ]
    }
   ],
   "source": [
    "class Student:\n",
    "     college_name  = \"ABC College\"\n",
    "     # This is Class attribute defined at a class level\n",
    "     def set_info(self, name, marks, age, gender, roll):\n",
    "          self.name = name \n",
    "          self.marks = marks \n",
    "          self.age = age \n",
    "          self.gender = gender \n",
    "          self.roll = roll \n",
    "          # Comment out which is object and which is method attribute\n",
    "\n",
    "s1 = Student()\n",
    "s1.set_info(\"Gelu Sherpa\", 95, 24, \"Male\", 15)\n",
    "print(s1.gender) "
   ]
  },
  {
   "cell_type": "markdown",
   "id": "4f49712c",
   "metadata": {},
   "source": [
    "# Task \n",
    "Create a class CAR \n",
    "\n",
    "Identify the class attributes \n",
    "\n",
    "Create the objects and identify the object attributes "
   ]
  },
  {
   "cell_type": "code",
   "execution_count": 10,
   "id": "c0c39d2b",
   "metadata": {},
   "outputs": [
    {
     "name": "stdout",
     "output_type": "stream",
     "text": [
      "Hayabusa Shadow 2025 in Black color.\n",
      "Tesla Model 3 2022 in Red color.\n"
     ]
    }
   ],
   "source": [
    "class Car: \n",
    "    # Class Attributes \n",
    "    wheels = 4 \n",
    "    engine = \"Internal Combustion Engine\"\n",
    "    fuel_type = \"Petrol\"\n",
    "\n",
    "    def car_info(self, make, model, year, color):\n",
    "         # Object Attributes \n",
    "        self.make = make \n",
    "        self.model = model \n",
    "        self.year = year \n",
    "        self.color = color \n",
    "    \n",
    "    def show_info(self):\n",
    "        print((f\"{self.make} {self.model} {self.year} in {self.color} color.\"))\n",
    "\n",
    "\n",
    "# Creating Car object\n",
    "car1 = Car()\n",
    "car1.car_info(\"Hayabusa\", \"Shadow\", 2025, \"Black\") # Setting object attributes\n",
    "\n",
    "car2 = Car()\n",
    "car2.car_info(\"Tesla\", \"Model 3\", 2022, \"Red\")\n",
    "\n",
    "\n",
    "# Displaying object information\n",
    "car1.show_info()\n",
    "car2.show_info()"
   ]
  }
 ],
 "metadata": {
  "kernelspec": {
   "display_name": "modelprep",
   "language": "python",
   "name": "python3"
  },
  "language_info": {
   "codemirror_mode": {
    "name": "ipython",
    "version": 3
   },
   "file_extension": ".py",
   "mimetype": "text/x-python",
   "name": "python",
   "nbconvert_exporter": "python",
   "pygments_lexer": "ipython3",
   "version": "3.10.18"
  }
 },
 "nbformat": 4,
 "nbformat_minor": 5
}
