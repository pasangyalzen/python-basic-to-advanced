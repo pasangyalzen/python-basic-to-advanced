{
  "cells": [
    {
      "cell_type": "markdown",
      "metadata": {
        "id": "o1DDsOWcYR81"
      },
      "source": [
        "- A list in Python is like a container where we can store multiple items, such as numbers, words, or other things, all in one place.\n",
        "- List is mutable which means we can change the items in a list anytime, like adding new ones, removing some, or replacing them.\n",
        "- List defined using square brackets [], with elements separated by commas (e.g., my_list = [1, 2, 3, \"hello\"]).\n",
        "- List support powerful operations like indexing, slicing, iteration , and various methods (e.g., .append(), .sort(), .remove()).\n",
        "- Python list can hold mixed data types, including nested lists, making it a versatile tool for handling diverse datasets."
      ]
    },
    {
      "cell_type": "code",
      "execution_count": 657,
      "metadata": {
        "id": "VBHZ8hkr2t_x"
      },
      "outputs": [],
      "source": [
        "l = [1, 345, 45, 'nepal', True, 5 + 7j, 345.456, 234]"
      ]
    },
    {
      "cell_type": "code",
      "execution_count": 658,
      "metadata": {
        "colab": {
          "base_uri": "https://localhost:8080/"
        },
        "id": "ef4g1asWNQjV",
        "outputId": "073d7b6b-112f-4a05-fe69-cc37de67b3a1"
      },
      "outputs": [
        {
          "data": {
            "text/plain": [
              "[1, 345, 45, 'nepal', True, (5+7j), 345.456, 234]"
            ]
          },
          "execution_count": 658,
          "metadata": {},
          "output_type": "execute_result"
        }
      ],
      "source": [
        "l"
      ]
    },
    {
      "cell_type": "markdown",
      "metadata": {
        "id": "aWG-OoxqKmqf"
      },
      "source": [
        "Indexing and Slicing"
      ]
    },
    {
      "cell_type": "code",
      "execution_count": 659,
      "metadata": {
        "colab": {
          "base_uri": "https://localhost:8080/"
        },
        "id": "9bdhq4fzNZPX",
        "outputId": "16e3d9b0-942f-4c25-d132-4b9b82d6f2dc"
      },
      "outputs": [
        {
          "data": {
            "text/plain": [
              "1"
            ]
          },
          "execution_count": 659,
          "metadata": {},
          "output_type": "execute_result"
        }
      ],
      "source": [
        "l[0]"
      ]
    },
    {
      "cell_type": "code",
      "execution_count": 660,
      "metadata": {
        "colab": {
          "base_uri": "https://localhost:8080/"
        },
        "id": "d7BJpZGFNZVu",
        "outputId": "21e93dca-02cf-40c7-d7a5-af658d2e8b61"
      },
      "outputs": [
        {
          "data": {
            "text/plain": [
              "True"
            ]
          },
          "execution_count": 660,
          "metadata": {},
          "output_type": "execute_result"
        }
      ],
      "source": [
        "l[4]"
      ]
    },
    {
      "cell_type": "code",
      "execution_count": 661,
      "metadata": {
        "colab": {
          "base_uri": "https://localhost:8080/"
        },
        "id": "oqEWwnu0NZbB",
        "outputId": "21ad7f28-7cfc-4b26-ac0a-9abf6bd26a03"
      },
      "outputs": [
        {
          "data": {
            "text/plain": [
              "(5+7j)"
            ]
          },
          "execution_count": 661,
          "metadata": {},
          "output_type": "execute_result"
        }
      ],
      "source": [
        "l[5]"
      ]
    },
    {
      "cell_type": "code",
      "execution_count": 662,
      "metadata": {
        "colab": {
          "base_uri": "https://localhost:8080/"
        },
        "id": "UoqUjBK6NZfh",
        "outputId": "4975770e-5985-4876-9715-bf026b505e51"
      },
      "outputs": [
        {
          "data": {
            "text/plain": [
              "234"
            ]
          },
          "execution_count": 662,
          "metadata": {},
          "output_type": "execute_result"
        }
      ],
      "source": [
        "l[-1]"
      ]
    },
    {
      "cell_type": "code",
      "execution_count": 663,
      "metadata": {
        "colab": {
          "base_uri": "https://localhost:8080/",
          "height": 35
        },
        "id": "bycpB64iNZjd",
        "outputId": "e2e3f762-0081-4763-e28e-9a5662f46cfb"
      },
      "outputs": [
        {
          "data": {
            "text/plain": [
              "'nepal'"
            ]
          },
          "execution_count": 663,
          "metadata": {},
          "output_type": "execute_result"
        }
      ],
      "source": [
        "l[-5]"
      ]
    },
    {
      "cell_type": "code",
      "execution_count": 664,
      "metadata": {
        "colab": {
          "base_uri": "https://localhost:8080/"
        },
        "id": "DoQ71twnNZoC",
        "outputId": "c52e2e5f-67ef-41dc-fdd0-c6b4e538b5bb"
      },
      "outputs": [
        {
          "data": {
            "text/plain": [
              "[1, 45, True, 345.456]"
            ]
          },
          "execution_count": 664,
          "metadata": {},
          "output_type": "execute_result"
        }
      ],
      "source": [
        "l[0::2]"
      ]
    },
    {
      "cell_type": "code",
      "execution_count": 665,
      "metadata": {
        "colab": {
          "base_uri": "https://localhost:8080/"
        },
        "id": "IMfiJPriNZrh",
        "outputId": "aff43f2c-1c9a-4a5a-890f-4e384c06bece"
      },
      "outputs": [
        {
          "data": {
            "text/plain": [
              "[1, 345, 45, 'nepal', True, (5+7j), 345.456, 234]"
            ]
          },
          "execution_count": 665,
          "metadata": {},
          "output_type": "execute_result"
        }
      ],
      "source": [
        "l"
      ]
    },
    {
      "cell_type": "code",
      "execution_count": 666,
      "metadata": {
        "colab": {
          "base_uri": "https://localhost:8080/"
        },
        "id": "a6MqZQkCNZ9p",
        "outputId": "25cb686d-060a-4a6d-9e3c-841e90d34eea"
      },
      "outputs": [
        {
          "data": {
            "text/plain": [
              "[234, 345.456, (5+7j), True, 'nepal', 45, 345, 1]"
            ]
          },
          "execution_count": 666,
          "metadata": {},
          "output_type": "execute_result"
        }
      ],
      "source": [
        "l[::-1]"
      ]
    },
    {
      "cell_type": "code",
      "execution_count": 667,
      "metadata": {
        "colab": {
          "base_uri": "https://localhost:8080/"
        },
        "id": "-4kN21gJNqul",
        "outputId": "0ed25101-a454-44b3-f5e4-bd85168fa42c"
      },
      "outputs": [
        {
          "data": {
            "text/plain": [
              "[]"
            ]
          },
          "execution_count": 667,
          "metadata": {},
          "output_type": "execute_result"
        }
      ],
      "source": [
        "l[1:7:-1]"
      ]
    },
    {
      "cell_type": "code",
      "execution_count": 668,
      "metadata": {
        "colab": {
          "base_uri": "https://localhost:8080/"
        },
        "id": "ogfpABKiNqyc",
        "outputId": "cec21a98-8a18-47fb-eca6-cb390c2d495a"
      },
      "outputs": [
        {
          "data": {
            "text/plain": [
              "[345, 45, 'nepal', True, (5+7j), 345.456, 234]"
            ]
          },
          "execution_count": 668,
          "metadata": {},
          "output_type": "execute_result"
        }
      ],
      "source": [
        "l[1:9:1]"
      ]
    },
    {
      "cell_type": "code",
      "execution_count": 669,
      "metadata": {
        "colab": {
          "base_uri": "https://localhost:8080/"
        },
        "id": "D6731iC6Nq1s",
        "outputId": "21691949-9116-4299-a4a8-f1c58a17b9b5"
      },
      "outputs": [
        {
          "data": {
            "text/plain": [
              "[234, (5+7j), 'nepal', 345]"
            ]
          },
          "execution_count": 669,
          "metadata": {},
          "output_type": "execute_result"
        }
      ],
      "source": [
        "l[::-2]"
      ]
    },
    {
      "cell_type": "markdown",
      "metadata": {
        "id": "VzLKhWIoKo_F"
      },
      "source": [
        "Data Type of Individual Elements"
      ]
    },
    {
      "cell_type": "code",
      "execution_count": 670,
      "metadata": {
        "colab": {
          "base_uri": "https://localhost:8080/"
        },
        "id": "8z2anVGdOVCq",
        "outputId": "04ea8d82-246a-4505-87d2-d88da5a994c4"
      },
      "outputs": [
        {
          "data": {
            "text/plain": [
              "[1, 345, 45, 'nepal', True, (5+7j), 345.456, 234]"
            ]
          },
          "execution_count": 670,
          "metadata": {},
          "output_type": "execute_result"
        }
      ],
      "source": [
        "l"
      ]
    },
    {
      "cell_type": "code",
      "execution_count": 671,
      "metadata": {
        "colab": {
          "base_uri": "https://localhost:8080/"
        },
        "id": "MOK7sVXYOVG2",
        "outputId": "e0557f0c-1bf4-47dc-968a-54cde53b1cc9"
      },
      "outputs": [
        {
          "data": {
            "text/plain": [
              "True"
            ]
          },
          "execution_count": 671,
          "metadata": {},
          "output_type": "execute_result"
        }
      ],
      "source": [
        "l[4]"
      ]
    },
    {
      "cell_type": "code",
      "execution_count": 672,
      "metadata": {
        "colab": {
          "base_uri": "https://localhost:8080/"
        },
        "id": "7vmk18o8OVKc",
        "outputId": "13251733-02cd-4392-adbe-2f62c4f51709"
      },
      "outputs": [
        {
          "data": {
            "text/plain": [
              "bool"
            ]
          },
          "execution_count": 672,
          "metadata": {},
          "output_type": "execute_result"
        }
      ],
      "source": [
        "type(l[4])"
      ]
    },
    {
      "cell_type": "code",
      "execution_count": 673,
      "metadata": {
        "colab": {
          "base_uri": "https://localhost:8080/"
        },
        "id": "qjWJDMweOVNt",
        "outputId": "6ce6ba82-d8ca-42ac-b4c9-a120a24f38e2"
      },
      "outputs": [
        {
          "data": {
            "text/plain": [
              "int"
            ]
          },
          "execution_count": 673,
          "metadata": {},
          "output_type": "execute_result"
        }
      ],
      "source": [
        "type(l[-1])"
      ]
    },
    {
      "cell_type": "code",
      "execution_count": 674,
      "metadata": {
        "colab": {
          "base_uri": "https://localhost:8080/"
        },
        "id": "6DHuHqRqOVRN",
        "outputId": "cbcc9dfb-3587-4aa7-d009-eb25b97002ff"
      },
      "outputs": [
        {
          "data": {
            "text/plain": [
              "complex"
            ]
          },
          "execution_count": 674,
          "metadata": {},
          "output_type": "execute_result"
        }
      ],
      "source": [
        "type(l[-3])"
      ]
    },
    {
      "cell_type": "code",
      "execution_count": 675,
      "metadata": {
        "colab": {
          "base_uri": "https://localhost:8080/",
          "height": 35
        },
        "id": "nTFr5KgDOVU1",
        "outputId": "99f3061c-0dac-411a-9111-c80bec5a4de1"
      },
      "outputs": [
        {
          "data": {
            "text/plain": [
              "'nepal'"
            ]
          },
          "execution_count": 675,
          "metadata": {},
          "output_type": "execute_result"
        }
      ],
      "source": [
        "l[3]"
      ]
    },
    {
      "cell_type": "code",
      "execution_count": 676,
      "metadata": {
        "colab": {
          "base_uri": "https://localhost:8080/",
          "height": 35
        },
        "id": "9IC-ZaLyPqLV",
        "outputId": "5c18ddfe-c0e2-4c0b-c777-0586222072a3"
      },
      "outputs": [
        {
          "data": {
            "text/plain": [
              "'e'"
            ]
          },
          "execution_count": 676,
          "metadata": {},
          "output_type": "execute_result"
        }
      ],
      "source": [
        "l[3][1]"
      ]
    },
    {
      "cell_type": "code",
      "execution_count": 677,
      "metadata": {
        "colab": {
          "base_uri": "https://localhost:8080/",
          "height": 35
        },
        "id": "fFGKXd5BPqQH",
        "outputId": "64c63eee-8ccb-45de-f8bc-63465a0eb5a1"
      },
      "outputs": [
        {
          "data": {
            "text/plain": [
              "'l'"
            ]
          },
          "execution_count": 677,
          "metadata": {},
          "output_type": "execute_result"
        }
      ],
      "source": [
        "l[3][4]"
      ]
    },
    {
      "cell_type": "code",
      "execution_count": 678,
      "metadata": {
        "colab": {
          "base_uri": "https://localhost:8080/",
          "height": 35
        },
        "id": "NmSPhk80OVYX",
        "outputId": "3aad177b-bd0c-4a96-e2d7-59c690aa7a91"
      },
      "outputs": [
        {
          "data": {
            "text/plain": [
              "'nep'"
            ]
          },
          "execution_count": 678,
          "metadata": {},
          "output_type": "execute_result"
        }
      ],
      "source": [
        "l[3][0:3]"
      ]
    },
    {
      "cell_type": "code",
      "execution_count": 679,
      "metadata": {
        "colab": {
          "base_uri": "https://localhost:8080/",
          "height": 35
        },
        "id": "70QpPsbZP3Cd",
        "outputId": "fa060d39-7167-4782-ee7a-ce05d265c1b2"
      },
      "outputs": [
        {
          "data": {
            "text/plain": [
              "'lapen'"
            ]
          },
          "execution_count": 679,
          "metadata": {},
          "output_type": "execute_result"
        }
      ],
      "source": [
        "l[3][::-1]"
      ]
    },
    {
      "cell_type": "markdown",
      "metadata": {
        "id": "ZurQezH1KwKI"
      },
      "source": [
        "Reversing the list"
      ]
    },
    {
      "cell_type": "code",
      "execution_count": 680,
      "metadata": {
        "colab": {
          "base_uri": "https://localhost:8080/"
        },
        "id": "adeMIgFaP5oj",
        "outputId": "902fc27d-1ddb-4ccc-e823-1955cd22a88e"
      },
      "outputs": [
        {
          "data": {
            "text/plain": [
              "[1, 345, 45, 'nepal', True, (5+7j), 345.456, 234]"
            ]
          },
          "execution_count": 680,
          "metadata": {},
          "output_type": "execute_result"
        }
      ],
      "source": [
        "l"
      ]
    },
    {
      "cell_type": "code",
      "execution_count": 681,
      "metadata": {
        "colab": {
          "base_uri": "https://localhost:8080/"
        },
        "id": "Uuv-q9DOP5sr",
        "outputId": "78e76ec4-dbd4-45c7-f35b-db2f1ba4178f"
      },
      "outputs": [
        {
          "data": {
            "text/plain": [
              "[234, 345.456, (5+7j), True, 'nepal', 45, 345, 1]"
            ]
          },
          "execution_count": 681,
          "metadata": {},
          "output_type": "execute_result"
        }
      ],
      "source": [
        "l[::-1]"
      ]
    },
    {
      "cell_type": "code",
      "execution_count": 682,
      "metadata": {
        "colab": {
          "base_uri": "https://localhost:8080/"
        },
        "id": "-ozAWM9gP5wc",
        "outputId": "a8c4ea1e-31a6-48a2-fef2-6c256c00aef7"
      },
      "outputs": [
        {
          "data": {
            "text/plain": [
              "[1, 345, 45, 'nepal', True, (5+7j), 345.456, 234]"
            ]
          },
          "execution_count": 682,
          "metadata": {},
          "output_type": "execute_result"
        }
      ],
      "source": [
        "l"
      ]
    },
    {
      "cell_type": "code",
      "execution_count": 683,
      "metadata": {
        "id": "jF8XBFdnP50R"
      },
      "outputs": [],
      "source": [
        "l.reverse()"
      ]
    },
    {
      "cell_type": "code",
      "execution_count": 684,
      "metadata": {
        "colab": {
          "base_uri": "https://localhost:8080/"
        },
        "id": "DPr78IzNP53z",
        "outputId": "5b7631d7-bce9-4e9b-f1e0-b8026636e70b"
      },
      "outputs": [
        {
          "data": {
            "text/plain": [
              "[234, 345.456, (5+7j), True, 'nepal', 45, 345, 1]"
            ]
          },
          "execution_count": 684,
          "metadata": {},
          "output_type": "execute_result"
        }
      ],
      "source": [
        "l"
      ]
    },
    {
      "cell_type": "code",
      "execution_count": 685,
      "metadata": {
        "id": "mBOxXgVuP57U"
      },
      "outputs": [],
      "source": [
        "l.reverse()"
      ]
    },
    {
      "cell_type": "code",
      "execution_count": 686,
      "metadata": {
        "colab": {
          "base_uri": "https://localhost:8080/"
        },
        "id": "bqd88pN_QWWC",
        "outputId": "d9c5add3-bffa-45de-853b-5f4b7e25e2b1"
      },
      "outputs": [
        {
          "data": {
            "text/plain": [
              "[1, 345, 45, 'nepal', True, (5+7j), 345.456, 234]"
            ]
          },
          "execution_count": 686,
          "metadata": {},
          "output_type": "execute_result"
        }
      ],
      "source": [
        "l"
      ]
    },
    {
      "cell_type": "code",
      "execution_count": 687,
      "metadata": {
        "id": "lJ3aHmhSQWdC"
      },
      "outputs": [],
      "source": [
        "l = l[::-1]"
      ]
    },
    {
      "cell_type": "code",
      "execution_count": 688,
      "metadata": {
        "colab": {
          "base_uri": "https://localhost:8080/"
        },
        "id": "wYazXG-BQbSZ",
        "outputId": "1ad99ebc-543f-46c9-af29-9fe369875d35"
      },
      "outputs": [
        {
          "data": {
            "text/plain": [
              "[234, 345.456, (5+7j), True, 'nepal', 45, 345, 1]"
            ]
          },
          "execution_count": 688,
          "metadata": {},
          "output_type": "execute_result"
        }
      ],
      "source": [
        "l"
      ]
    },
    {
      "cell_type": "markdown",
      "metadata": {
        "id": "CdtKEvLB7w5p"
      },
      "source": [
        "The append() function in Python is used with lists to add a new element at the end of the list."
      ]
    },
    {
      "cell_type": "code",
      "execution_count": 689,
      "metadata": {
        "colab": {
          "base_uri": "https://localhost:8080/"
        },
        "id": "q92IGCzCQm4c",
        "outputId": "d0f8406b-5ca4-45f9-e286-0b6f8708c37a"
      },
      "outputs": [
        {
          "data": {
            "text/plain": [
              "[234, 345.456, (5+7j), True, 'nepal', 45, 345, 1]"
            ]
          },
          "execution_count": 689,
          "metadata": {},
          "output_type": "execute_result"
        }
      ],
      "source": [
        "l"
      ]
    },
    {
      "cell_type": "code",
      "execution_count": 690,
      "metadata": {
        "id": "SaY-neMfQm84"
      },
      "outputs": [],
      "source": [
        "l.append(54)"
      ]
    },
    {
      "cell_type": "code",
      "execution_count": 691,
      "metadata": {
        "colab": {
          "base_uri": "https://localhost:8080/"
        },
        "id": "O9zKzAixQnAq",
        "outputId": "44d17b24-e40e-4073-f235-a84dd92c5794"
      },
      "outputs": [
        {
          "data": {
            "text/plain": [
              "[234, 345.456, (5+7j), True, 'nepal', 45, 345, 1, 54]"
            ]
          },
          "execution_count": 691,
          "metadata": {},
          "output_type": "execute_result"
        }
      ],
      "source": [
        "l"
      ]
    },
    {
      "cell_type": "code",
      "execution_count": 692,
      "metadata": {
        "id": "GYQgs9MXQnEU"
      },
      "outputs": [],
      "source": [
        "l.append(33)"
      ]
    },
    {
      "cell_type": "code",
      "execution_count": 693,
      "metadata": {
        "colab": {
          "base_uri": "https://localhost:8080/"
        },
        "id": "OO9RTWqYQs8e",
        "outputId": "45bdefc0-73cc-414a-cd62-79d7a8282fdc"
      },
      "outputs": [
        {
          "data": {
            "text/plain": [
              "[234, 345.456, (5+7j), True, 'nepal', 45, 345, 1, 54, 33]"
            ]
          },
          "execution_count": 693,
          "metadata": {},
          "output_type": "execute_result"
        }
      ],
      "source": [
        "l"
      ]
    },
    {
      "cell_type": "markdown",
      "metadata": {
        "id": "BEMNUfNn77c_"
      },
      "source": [
        "The `extend()` function in Python adds each element of an iterable (e.g., list, tuple) to the end of a list."
      ]
    },
    {
      "cell_type": "code",
      "execution_count": 694,
      "metadata": {
        "id": "FNNom6_3Qvrv"
      },
      "outputs": [],
      "source": [
        "# iterable --> multiple elements"
      ]
    },
    {
      "cell_type": "code",
      "execution_count": 695,
      "metadata": {
        "colab": {
          "base_uri": "https://localhost:8080/",
          "height": 141
        },
        "id": "XYJL1tCmQvwX",
        "outputId": "84036cc6-0b62-4bb3-a195-4dcacf6ac3b9"
      },
      "outputs": [],
      "source": [
        "# l.extend(12)\n",
        "\n",
        "\n",
        "# The extend() method requires an iterable, not just a list.\n",
        "\n",
        "# An iterable can be a list, tuple, set, string, range, or any object you can loop through."
      ]
    },
    {
      "cell_type": "code",
      "execution_count": 696,
      "metadata": {
        "colab": {
          "base_uri": "https://localhost:8080/"
        },
        "id": "jTlOm1tcRhjz",
        "outputId": "696600d6-0579-4f8b-c4be-bd5e29b0df1f"
      },
      "outputs": [
        {
          "data": {
            "text/plain": [
              "[234, 345.456, (5+7j), True, 'nepal', 45, 345, 1, 54, 33]"
            ]
          },
          "execution_count": 696,
          "metadata": {},
          "output_type": "execute_result"
        }
      ],
      "source": [
        "l"
      ]
    },
    {
      "cell_type": "code",
      "execution_count": 697,
      "metadata": {
        "id": "UnRRZC-FQ7_N"
      },
      "outputs": [],
      "source": [
        "l.extend([1,2,3])"
      ]
    },
    {
      "cell_type": "code",
      "execution_count": 698,
      "metadata": {
        "colab": {
          "base_uri": "https://localhost:8080/"
        },
        "id": "oPSpG6guQ8C-",
        "outputId": "fc6ed707-c674-4f92-cc0b-7d5503b89747"
      },
      "outputs": [
        {
          "data": {
            "text/plain": [
              "[234, 345.456, (5+7j), True, 'nepal', 45, 345, 1, 54, 33, 1, 2, 3]"
            ]
          },
          "execution_count": 698,
          "metadata": {},
          "output_type": "execute_result"
        }
      ],
      "source": [
        "l"
      ]
    },
    {
      "cell_type": "code",
      "execution_count": 699,
      "metadata": {
        "id": "79xxW2uAQ8FO"
      },
      "outputs": [],
      "source": [
        "l.extend('hi')"
      ]
    },
    {
      "cell_type": "code",
      "execution_count": 700,
      "metadata": {
        "colab": {
          "base_uri": "https://localhost:8080/"
        },
        "id": "yNH7G5-iRmis",
        "outputId": "08e4becd-14c1-4238-9afb-ca87047158a7"
      },
      "outputs": [
        {
          "data": {
            "text/plain": [
              "[234, 345.456, (5+7j), True, 'nepal', 45, 345, 1, 54, 33, 1, 2, 3, 'h', 'i']"
            ]
          },
          "execution_count": 700,
          "metadata": {},
          "output_type": "execute_result"
        }
      ],
      "source": [
        "l"
      ]
    },
    {
      "cell_type": "code",
      "execution_count": 701,
      "metadata": {
        "id": "tS41A0nxRmnz"
      },
      "outputs": [],
      "source": [
        "l.append(4)"
      ]
    },
    {
      "cell_type": "code",
      "execution_count": 702,
      "metadata": {
        "colab": {
          "base_uri": "https://localhost:8080/"
        },
        "id": "Myo_JWBjRnAq",
        "outputId": "e821a61d-cbc7-49eb-e070-de2c84bb0ce3"
      },
      "outputs": [
        {
          "data": {
            "text/plain": [
              "[234, 345.456, (5+7j), True, 'nepal', 45, 345, 1, 54, 33, 1, 2, 3, 'h', 'i', 4]"
            ]
          },
          "execution_count": 702,
          "metadata": {},
          "output_type": "execute_result"
        }
      ],
      "source": [
        "l"
      ]
    },
    {
      "cell_type": "markdown",
      "metadata": {
        "id": "csRrPVxu8Eu-"
      },
      "source": [
        "Difference Between append() and extend():\n",
        "- append(): Adds an element as a single item (even if it's a list).\n",
        "- extend(): Adds each element of an iterable (e.g., list) to the list."
      ]
    },
    {
      "cell_type": "markdown",
      "metadata": {
        "id": "ipu-BWX38bWd"
      },
      "source": [
        "The insert() function in Python adds an element at a specified index in a list without replacing existing elements."
      ]
    },
    {
      "cell_type": "code",
      "execution_count": 703,
      "metadata": {
        "id": "dBdvfOaETMh2"
      },
      "outputs": [],
      "source": [
        "l = [1,3.45,True,'mindrisers',3-8j]"
      ]
    },
    {
      "cell_type": "code",
      "execution_count": 704,
      "metadata": {
        "colab": {
          "base_uri": "https://localhost:8080/"
        },
        "id": "kTOUKCEUTl_e",
        "outputId": "bbb3108c-d407-482f-c432-028ac366e8af"
      },
      "outputs": [
        {
          "data": {
            "text/plain": [
              "True"
            ]
          },
          "execution_count": 704,
          "metadata": {},
          "output_type": "execute_result"
        }
      ],
      "source": [
        "l[2]"
      ]
    },
    {
      "cell_type": "code",
      "execution_count": 705,
      "metadata": {
        "colab": {
          "base_uri": "https://localhost:8080/",
          "height": 35
        },
        "id": "0SgiWiiATsdm",
        "outputId": "426ce4d2-b7e5-438d-c00c-ed1183251daf"
      },
      "outputs": [
        {
          "data": {
            "text/plain": [
              "'mindrisers'"
            ]
          },
          "execution_count": 705,
          "metadata": {},
          "output_type": "execute_result"
        }
      ],
      "source": [
        "l[3]"
      ]
    },
    {
      "cell_type": "code",
      "execution_count": 706,
      "metadata": {
        "colab": {
          "base_uri": "https://localhost:8080/"
        },
        "id": "lw4KLF9BTshb",
        "outputId": "4bc35a2c-73aa-48a9-e70e-f511edaf3c48"
      },
      "outputs": [
        {
          "data": {
            "text/plain": [
              "(3-8j)"
            ]
          },
          "execution_count": 706,
          "metadata": {},
          "output_type": "execute_result"
        }
      ],
      "source": [
        "l[4]"
      ]
    },
    {
      "cell_type": "code",
      "execution_count": 707,
      "metadata": {
        "id": "RAsuN88FTOkI"
      },
      "outputs": [],
      "source": [
        "l.insert(2,'hello')"
      ]
    },
    {
      "cell_type": "code",
      "execution_count": 708,
      "metadata": {
        "colab": {
          "base_uri": "https://localhost:8080/"
        },
        "id": "KyEx01u0T2dm",
        "outputId": "38648536-985c-420e-894d-d23eac73c897"
      },
      "outputs": [
        {
          "data": {
            "text/plain": [
              "[1, 3.45, 'hello', True, 'mindrisers', (3-8j)]"
            ]
          },
          "execution_count": 708,
          "metadata": {},
          "output_type": "execute_result"
        }
      ],
      "source": [
        "l"
      ]
    },
    {
      "cell_type": "code",
      "execution_count": 709,
      "metadata": {
        "colab": {
          "base_uri": "https://localhost:8080/",
          "height": 35
        },
        "id": "oUtoo8bcTOpC",
        "outputId": "86c5af57-5dbf-4112-bd8d-80c1f9c9e291"
      },
      "outputs": [
        {
          "data": {
            "text/plain": [
              "'hello'"
            ]
          },
          "execution_count": 709,
          "metadata": {},
          "output_type": "execute_result"
        }
      ],
      "source": [
        "l[2]"
      ]
    },
    {
      "cell_type": "code",
      "execution_count": 710,
      "metadata": {
        "colab": {
          "base_uri": "https://localhost:8080/"
        },
        "id": "Ki74uyCBTOs2",
        "outputId": "d07a23e8-639f-417a-e424-6c9b7ecbd088"
      },
      "outputs": [
        {
          "data": {
            "text/plain": [
              "True"
            ]
          },
          "execution_count": 710,
          "metadata": {},
          "output_type": "execute_result"
        }
      ],
      "source": [
        "l[3]"
      ]
    },
    {
      "cell_type": "code",
      "execution_count": 711,
      "metadata": {
        "colab": {
          "base_uri": "https://localhost:8080/",
          "height": 35
        },
        "id": "Ckmd8I9VTMl9",
        "outputId": "9f980191-49b7-4f18-f751-36669414a17f"
      },
      "outputs": [
        {
          "data": {
            "text/plain": [
              "'mindrisers'"
            ]
          },
          "execution_count": 711,
          "metadata": {},
          "output_type": "execute_result"
        }
      ],
      "source": [
        "l[4]"
      ]
    },
    {
      "cell_type": "code",
      "execution_count": 712,
      "metadata": {
        "colab": {
          "base_uri": "https://localhost:8080/"
        },
        "id": "Z_9OMg3qTMpo",
        "outputId": "b9e6123e-67f2-4915-eb13-e7561e1cc82f"
      },
      "outputs": [
        {
          "data": {
            "text/plain": [
              "(3-8j)"
            ]
          },
          "execution_count": 712,
          "metadata": {},
          "output_type": "execute_result"
        }
      ],
      "source": [
        "l[5]"
      ]
    },
    {
      "cell_type": "code",
      "execution_count": 713,
      "metadata": {
        "colab": {
          "base_uri": "https://localhost:8080/",
          "height": 141
        },
        "id": "KhW-BCBGTM2n",
        "outputId": "3542e25f-5a90-4af8-fafa-f1b46c00e6bc"
      },
      "outputs": [],
      "source": [
        "# l[6]\n",
        "#Index is out of range"
      ]
    },
    {
      "cell_type": "code",
      "execution_count": 714,
      "metadata": {
        "colab": {
          "base_uri": "https://localhost:8080/"
        },
        "id": "W_JGY9DKTM6w",
        "outputId": "fd3fb9f9-2251-4122-a0b8-2866271d759a"
      },
      "outputs": [
        {
          "data": {
            "text/plain": [
              "[1, 3.45, 'hello', True, 'mindrisers', (3-8j)]"
            ]
          },
          "execution_count": 714,
          "metadata": {},
          "output_type": "execute_result"
        }
      ],
      "source": [
        "l"
      ]
    },
    {
      "cell_type": "code",
      "execution_count": 715,
      "metadata": {
        "id": "w88jIbSNT5Ps"
      },
      "outputs": [],
      "source": [
        "l.insert(4,6+4J)"
      ]
    },
    {
      "cell_type": "code",
      "execution_count": 716,
      "metadata": {
        "colab": {
          "base_uri": "https://localhost:8080/"
        },
        "id": "Zn01BqSTT5UD",
        "outputId": "f42649a6-8cfa-4cc7-c1e9-ea39c20d4bdb"
      },
      "outputs": [
        {
          "data": {
            "text/plain": [
              "[1, 3.45, 'hello', True, (6+4j), 'mindrisers', (3-8j)]"
            ]
          },
          "execution_count": 716,
          "metadata": {},
          "output_type": "execute_result"
        }
      ],
      "source": [
        "l"
      ]
    },
    {
      "cell_type": "markdown",
      "metadata": {
        "id": "ZOo_NBm-8oNK"
      },
      "source": [
        "The pop() function in Python removes and returns an element from a list based on its index."
      ]
    },
    {
      "cell_type": "code",
      "execution_count": 717,
      "metadata": {
        "colab": {
          "base_uri": "https://localhost:8080/"
        },
        "id": "-ouTmxBnUBpO",
        "outputId": "39105afe-86ed-403c-935b-21a7fa0d1396"
      },
      "outputs": [
        {
          "data": {
            "text/plain": [
              "(3-8j)"
            ]
          },
          "execution_count": 717,
          "metadata": {},
          "output_type": "execute_result"
        }
      ],
      "source": [
        "l.pop()"
      ]
    },
    {
      "cell_type": "code",
      "execution_count": 718,
      "metadata": {
        "colab": {
          "base_uri": "https://localhost:8080/"
        },
        "id": "YOiQKkFpUg2g",
        "outputId": "89f6cd16-0cd4-4bae-f73b-43b58c4604a9"
      },
      "outputs": [
        {
          "data": {
            "text/plain": [
              "[1, 3.45, 'hello', True, (6+4j), 'mindrisers']"
            ]
          },
          "execution_count": 718,
          "metadata": {},
          "output_type": "execute_result"
        }
      ],
      "source": [
        "l"
      ]
    },
    {
      "cell_type": "code",
      "execution_count": 719,
      "metadata": {
        "colab": {
          "base_uri": "https://localhost:8080/",
          "height": 35
        },
        "id": "C-bnFpItUg58",
        "outputId": "fc3ec6cb-682e-4ef9-d684-fbd1dc7a4d32"
      },
      "outputs": [
        {
          "data": {
            "text/plain": [
              "'hello'"
            ]
          },
          "execution_count": 719,
          "metadata": {},
          "output_type": "execute_result"
        }
      ],
      "source": [
        "l.pop(2)"
      ]
    },
    {
      "cell_type": "code",
      "execution_count": 720,
      "metadata": {
        "colab": {
          "base_uri": "https://localhost:8080/"
        },
        "id": "_aNKKWgmUg9j",
        "outputId": "6f2b7f77-45d1-413d-f780-add0876c87ad"
      },
      "outputs": [
        {
          "data": {
            "text/plain": [
              "[1, 3.45, True, (6+4j), 'mindrisers']"
            ]
          },
          "execution_count": 720,
          "metadata": {},
          "output_type": "execute_result"
        }
      ],
      "source": [
        "l"
      ]
    },
    {
      "cell_type": "code",
      "execution_count": 721,
      "metadata": {
        "colab": {
          "base_uri": "https://localhost:8080/"
        },
        "id": "3I8_-JE2UhAx",
        "outputId": "93780806-4c41-43a5-e0b2-094a956a99c1"
      },
      "outputs": [
        {
          "data": {
            "text/plain": [
              "(6+4j)"
            ]
          },
          "execution_count": 721,
          "metadata": {},
          "output_type": "execute_result"
        }
      ],
      "source": [
        "l.pop(3)"
      ]
    },
    {
      "cell_type": "code",
      "execution_count": 722,
      "metadata": {
        "colab": {
          "base_uri": "https://localhost:8080/"
        },
        "id": "6Q-5R2aQUqwW",
        "outputId": "bb764b60-9d61-4e75-e977-97219b62326e"
      },
      "outputs": [
        {
          "data": {
            "text/plain": [
              "[1, 3.45, True, 'mindrisers']"
            ]
          },
          "execution_count": 722,
          "metadata": {},
          "output_type": "execute_result"
        }
      ],
      "source": [
        "l"
      ]
    },
    {
      "cell_type": "markdown",
      "metadata": {
        "id": "4Y0vXBc68yU2"
      },
      "source": [
        "The remove() function in Python is used to delete the first occurrence of a specified value from a list."
      ]
    },
    {
      "cell_type": "code",
      "execution_count": 723,
      "metadata": {
        "id": "_U2_C0kWUqGE"
      },
      "outputs": [],
      "source": [
        "l = [1,3.45,True,'mindrisers',3-8j,1,1]"
      ]
    },
    {
      "cell_type": "code",
      "execution_count": 724,
      "metadata": {
        "id": "qM0uZX38UzqC"
      },
      "outputs": [],
      "source": [
        "l.remove(1)"
      ]
    },
    {
      "cell_type": "code",
      "execution_count": 725,
      "metadata": {
        "colab": {
          "base_uri": "https://localhost:8080/"
        },
        "id": "AExbRLssUzwR",
        "outputId": "06c7f438-187a-403e-a429-0d7dd34afae6"
      },
      "outputs": [
        {
          "data": {
            "text/plain": [
              "[3.45, True, 'mindrisers', (3-8j), 1, 1]"
            ]
          },
          "execution_count": 725,
          "metadata": {},
          "output_type": "execute_result"
        }
      ],
      "source": [
        "l"
      ]
    },
    {
      "cell_type": "code",
      "execution_count": 726,
      "metadata": {
        "id": "PXbecBHzUz4A"
      },
      "outputs": [],
      "source": [
        "l.remove(1)"
      ]
    },
    {
      "cell_type": "code",
      "execution_count": 727,
      "metadata": {
        "colab": {
          "base_uri": "https://localhost:8080/"
        },
        "id": "g877fl8HUz_x",
        "outputId": "b641d51a-7e9c-40e0-81fc-5fbc606d5513"
      },
      "outputs": [
        {
          "data": {
            "text/plain": [
              "[3.45, 'mindrisers', (3-8j), 1, 1]"
            ]
          },
          "execution_count": 727,
          "metadata": {},
          "output_type": "execute_result"
        }
      ],
      "source": [
        "l"
      ]
    },
    {
      "cell_type": "code",
      "execution_count": 728,
      "metadata": {
        "id": "HW8mqHg8VThz"
      },
      "outputs": [],
      "source": [
        "l.remove(1)"
      ]
    },
    {
      "cell_type": "code",
      "execution_count": 729,
      "metadata": {
        "colab": {
          "base_uri": "https://localhost:8080/"
        },
        "id": "BBriwO83VTlp",
        "outputId": "91dd2429-6691-455b-c69a-c48ec83fe5a2"
      },
      "outputs": [
        {
          "data": {
            "text/plain": [
              "[3.45, 'mindrisers', (3-8j), 1]"
            ]
          },
          "execution_count": 729,
          "metadata": {},
          "output_type": "execute_result"
        }
      ],
      "source": [
        "l"
      ]
    },
    {
      "cell_type": "code",
      "execution_count": 730,
      "metadata": {
        "id": "SVofc_AEVTpP"
      },
      "outputs": [],
      "source": [
        "l.remove(1)"
      ]
    },
    {
      "cell_type": "code",
      "execution_count": 731,
      "metadata": {
        "colab": {
          "base_uri": "https://localhost:8080/"
        },
        "id": "wH_GTB0mVTsv",
        "outputId": "ecee6825-c221-4a7c-9011-cad1541894d1"
      },
      "outputs": [
        {
          "data": {
            "text/plain": [
              "[3.45, 'mindrisers', (3-8j)]"
            ]
          },
          "execution_count": 731,
          "metadata": {},
          "output_type": "execute_result"
        }
      ],
      "source": [
        "l"
      ]
    },
    {
      "cell_type": "code",
      "execution_count": 732,
      "metadata": {
        "colab": {
          "base_uri": "https://localhost:8080/",
          "height": 141
        },
        "id": "W1NSbMaYViiz",
        "outputId": "6aada662-30ad-46e0-891f-180d33252db5"
      },
      "outputs": [],
      "source": [
        "#l.remove(1)\n",
        "\n",
        "# Shows value error because cant remove something that is not in the list"
      ]
    },
    {
      "cell_type": "code",
      "execution_count": 733,
      "metadata": {
        "colab": {
          "base_uri": "https://localhost:8080/"
        },
        "id": "nVwyFhn8Viml",
        "outputId": "2aeb33e2-fdad-4fe6-9bb8-530ebb4cc669"
      },
      "outputs": [
        {
          "data": {
            "text/plain": [
              "[3.45, 'mindrisers', (3-8j)]"
            ]
          },
          "execution_count": 733,
          "metadata": {},
          "output_type": "execute_result"
        }
      ],
      "source": [
        "l"
      ]
    },
    {
      "cell_type": "code",
      "execution_count": 734,
      "metadata": {
        "colab": {
          "base_uri": "https://localhost:8080/",
          "height": 141
        },
        "id": "a-DIsaMMVipx",
        "outputId": "8b6fc8dc-9c96-4f0b-a66f-511e68235f55"
      },
      "outputs": [],
      "source": [
        "# l.remove(2)\n",
        "# Cant remove something that is not in the list, returned ValueError"
      ]
    },
    {
      "cell_type": "markdown",
      "metadata": {
        "id": "Vz2krGHw9Cd-"
      },
      "source": [
        "Difference Between remove() and pop():\n",
        "- remove(): Deletes a specific value.\n",
        "- pop(): Removes an element based on its index (and returns it)."
      ]
    },
    {
      "cell_type": "markdown",
      "metadata": {
        "id": "K0SfCHbx9Msz"
      },
      "source": [
        "- l1.reverse() : Modifies the original list by reversing it.\n",
        "- l1[::-1] : Creates and returns a new reversed copy without modifying the original list."
      ]
    },
    {
      "cell_type": "markdown",
      "metadata": {
        "id": "3TZzRmPx9Yd6"
      },
      "source": [
        "The sort() function in Python sorts the elements of a list in ascending or descending order."
      ]
    },
    {
      "cell_type": "code",
      "execution_count": 735,
      "metadata": {
        "id": "v6F9tIeVVvAs"
      },
      "outputs": [],
      "source": [
        "l = [1,3.45,True,'mindrisers',3-8j,1,1]"
      ]
    },
    {
      "cell_type": "code",
      "execution_count": 736,
      "metadata": {
        "colab": {
          "base_uri": "https://localhost:8080/"
        },
        "id": "w2ofsCtXVvEV",
        "outputId": "500b1126-0046-4402-a23a-90005ef9cb7d"
      },
      "outputs": [
        {
          "data": {
            "text/plain": [
              "[1, 3.45, True, 'mindrisers', (3-8j), 1, 1]"
            ]
          },
          "execution_count": 736,
          "metadata": {},
          "output_type": "execute_result"
        }
      ],
      "source": [
        "l"
      ]
    },
    {
      "cell_type": "code",
      "execution_count": 737,
      "metadata": {
        "colab": {
          "base_uri": "https://localhost:8080/",
          "height": 141
        },
        "id": "4FiaGibZVvIE",
        "outputId": "68964e9c-3a77-42ab-a3b6-371de215b97b"
      },
      "outputs": [],
      "source": [
        "# l.sort()\n",
        "# Cant sort the list having different data types"
      ]
    },
    {
      "cell_type": "code",
      "execution_count": 738,
      "metadata": {
        "id": "HMkhKqi6VvLo"
      },
      "outputs": [],
      "source": [
        "l = [100, 2, 5, 40, 23, 79, 54, 63]"
      ]
    },
    {
      "cell_type": "code",
      "execution_count": 739,
      "metadata": {
        "colab": {
          "base_uri": "https://localhost:8080/"
        },
        "id": "8I-emWJuV2E_",
        "outputId": "c569d874-50ac-4857-8016-b01b50725713"
      },
      "outputs": [
        {
          "data": {
            "text/plain": [
              "[100, 2, 5, 40, 23, 79, 54, 63]"
            ]
          },
          "execution_count": 739,
          "metadata": {},
          "output_type": "execute_result"
        }
      ],
      "source": [
        "l"
      ]
    },
    {
      "cell_type": "code",
      "execution_count": 740,
      "metadata": {
        "colab": {
          "base_uri": "https://localhost:8080/"
        },
        "id": "EoEuVLnwV2Ik",
        "outputId": "a7fecbcf-a2de-4ad9-8889-94b00a46596d"
      },
      "outputs": [
        {
          "data": {
            "text/plain": [
              "[2, 5, 23, 40, 54, 63, 79, 100]"
            ]
          },
          "execution_count": 740,
          "metadata": {},
          "output_type": "execute_result"
        }
      ],
      "source": [
        "sorted(l)\n",
        "# l.sort()"
      ]
    },
    {
      "cell_type": "code",
      "execution_count": 741,
      "metadata": {
        "colab": {
          "base_uri": "https://localhost:8080/"
        },
        "id": "VWynyAFyV2L6",
        "outputId": "a4c36fff-8507-405b-b136-c9903e8d78c0"
      },
      "outputs": [
        {
          "data": {
            "text/plain": [
              "[100, 2, 5, 40, 23, 79, 54, 63]"
            ]
          },
          "execution_count": 741,
          "metadata": {},
          "output_type": "execute_result"
        }
      ],
      "source": [
        "l"
      ]
    },
    {
      "cell_type": "code",
      "execution_count": 742,
      "metadata": {
        "id": "KXxIf_VxV2Pw"
      },
      "outputs": [],
      "source": [
        "lst = ['@', '!' ,'#', '$', 'a' ,'R', 'z', 'Q', '(', ']']"
      ]
    },
    {
      "cell_type": "code",
      "execution_count": 743,
      "metadata": {
        "colab": {
          "base_uri": "https://localhost:8080/"
        },
        "id": "ydwbwfhxWBg8",
        "outputId": "8c6c0d59-2b8f-4a4d-c150-1e921bfda83f"
      },
      "outputs": [
        {
          "data": {
            "text/plain": [
              "['!', '#', '$', '(', '@', 'Q', 'R', ']', 'a', 'z']"
            ]
          },
          "execution_count": 743,
          "metadata": {},
          "output_type": "execute_result"
        }
      ],
      "source": [
        "sorted(lst)"
      ]
    },
    {
      "cell_type": "code",
      "execution_count": 744,
      "metadata": {
        "colab": {
          "base_uri": "https://localhost:8080/"
        },
        "id": "tWomTJPVWBlk",
        "outputId": "2fe60adc-7f1c-491a-d2c5-1e722c4ece88"
      },
      "outputs": [
        {
          "data": {
            "text/plain": [
              "['@', '!', '#', '$', 'a', 'R', 'z', 'Q', '(', ']']"
            ]
          },
          "execution_count": 744,
          "metadata": {},
          "output_type": "execute_result"
        }
      ],
      "source": [
        "lst"
      ]
    },
    {
      "cell_type": "markdown",
      "metadata": {
        "id": "G0na5D3G-TVl"
      },
      "source": [
        "The index() function in Python returns the index of the first occurrence of a specified element in a list."
      ]
    },
    {
      "cell_type": "code",
      "execution_count": 745,
      "metadata": {
        "colab": {
          "base_uri": "https://localhost:8080/"
        },
        "id": "KEjBAY0iWul4",
        "outputId": "e4b4f6af-2a0c-4a5b-f883-dd4968be2d31"
      },
      "outputs": [
        {
          "data": {
            "text/plain": [
              "[100, 2, 5, 40, 23, 79, 54, 63]"
            ]
          },
          "execution_count": 745,
          "metadata": {},
          "output_type": "execute_result"
        }
      ],
      "source": [
        "l"
      ]
    },
    {
      "cell_type": "code",
      "execution_count": 746,
      "metadata": {
        "colab": {
          "base_uri": "https://localhost:8080/"
        },
        "id": "ypFj0G2OWuph",
        "outputId": "cabbd51e-ef07-48e2-e1a3-e8cee60abcb9"
      },
      "outputs": [
        {
          "data": {
            "text/plain": [
              "1"
            ]
          },
          "execution_count": 746,
          "metadata": {},
          "output_type": "execute_result"
        }
      ],
      "source": [
        "l.index(2)"
      ]
    },
    {
      "cell_type": "code",
      "execution_count": 747,
      "metadata": {
        "colab": {
          "base_uri": "https://localhost:8080/"
        },
        "id": "zG5kzC6pWu2s",
        "outputId": "bb48ea39-3c0a-4408-f57d-0b7c58b5cb89"
      },
      "outputs": [
        {
          "data": {
            "text/plain": [
              "4"
            ]
          },
          "execution_count": 747,
          "metadata": {},
          "output_type": "execute_result"
        }
      ],
      "source": [
        "l.index(23)"
      ]
    },
    {
      "cell_type": "code",
      "execution_count": 748,
      "metadata": {
        "colab": {
          "base_uri": "https://localhost:8080/"
        },
        "id": "yh1qBnpyWu8Y",
        "outputId": "3ebf8219-b11f-4dc9-8785-2d3dd34820f2"
      },
      "outputs": [
        {
          "data": {
            "text/plain": [
              "3"
            ]
          },
          "execution_count": 748,
          "metadata": {},
          "output_type": "execute_result"
        }
      ],
      "source": [
        "'mindrisers'.index('d')"
      ]
    },
    {
      "cell_type": "code",
      "execution_count": 749,
      "metadata": {
        "colab": {
          "base_uri": "https://localhost:8080/"
        },
        "id": "7KpsJTjRWvFi",
        "outputId": "a3391f8e-cf83-42af-bb53-0635a4266dc1"
      },
      "outputs": [
        {
          "data": {
            "text/plain": [
              "6"
            ]
          },
          "execution_count": 749,
          "metadata": {},
          "output_type": "execute_result"
        }
      ],
      "source": [
        "l.index(54)"
      ]
    },
    {
      "cell_type": "markdown",
      "metadata": {
        "id": "bcPwkNuN-5DM"
      },
      "source": [
        "The `count()` function in Python returns the number of occurrences of a specified element in a list."
      ]
    },
    {
      "cell_type": "code",
      "execution_count": 750,
      "metadata": {
        "id": "WG8M7bqjXABE"
      },
      "outputs": [],
      "source": [
        "l = [1,2,2,2,3,4,44,4,4,4,5,5,5,5,5,5]"
      ]
    },
    {
      "cell_type": "code",
      "execution_count": 751,
      "metadata": {
        "colab": {
          "base_uri": "https://localhost:8080/"
        },
        "id": "W3tm8gfXXAFr",
        "outputId": "42fa6d74-e2aa-4546-ed12-dbf653e1ff48"
      },
      "outputs": [
        {
          "data": {
            "text/plain": [
              "1"
            ]
          },
          "execution_count": 751,
          "metadata": {},
          "output_type": "execute_result"
        }
      ],
      "source": [
        "l.count(1)"
      ]
    },
    {
      "cell_type": "code",
      "execution_count": 752,
      "metadata": {
        "colab": {
          "base_uri": "https://localhost:8080/"
        },
        "id": "fLvCNxXrXAJF",
        "outputId": "6ed7d033-aa82-4d6d-da16-145d202ff6c4"
      },
      "outputs": [
        {
          "data": {
            "text/plain": [
              "3"
            ]
          },
          "execution_count": 752,
          "metadata": {},
          "output_type": "execute_result"
        }
      ],
      "source": [
        "l.count(2)"
      ]
    },
    {
      "cell_type": "code",
      "execution_count": 753,
      "metadata": {
        "colab": {
          "base_uri": "https://localhost:8080/"
        },
        "id": "d5DR20NBXI1n",
        "outputId": "813459af-a700-49ef-c091-9b4b44c14d5d"
      },
      "outputs": [
        {
          "data": {
            "text/plain": [
              "6"
            ]
          },
          "execution_count": 753,
          "metadata": {},
          "output_type": "execute_result"
        }
      ],
      "source": [
        "l.count(5)"
      ]
    },
    {
      "cell_type": "markdown",
      "metadata": {
        "id": "Yg04EKWZ_BSq"
      },
      "source": [
        "The `replace()` function in Python is used to replace a specified substring with another substring in a string."
      ]
    },
    {
      "cell_type": "code",
      "execution_count": 754,
      "metadata": {
        "id": "KPKHyWJ4XMZU"
      },
      "outputs": [],
      "source": [
        "s = 'hello'"
      ]
    },
    {
      "cell_type": "code",
      "execution_count": 755,
      "metadata": {
        "colab": {
          "base_uri": "https://localhost:8080/",
          "height": 141
        },
        "id": "z3N_GEB2XMdM",
        "outputId": "36c90db6-217e-4aa6-a7d2-86449e017585"
      },
      "outputs": [],
      "source": [
        "#s[3] = 'o'\n",
        "# can't assign the index of a certain sring with another character because string does not support item assignment"
      ]
    },
    {
      "cell_type": "code",
      "execution_count": 756,
      "metadata": {
        "colab": {
          "base_uri": "https://localhost:8080/"
        },
        "id": "m-ImTh9lXMgm",
        "outputId": "2d950ac9-9c85-4537-90dc-f456d9202124"
      },
      "outputs": [
        {
          "data": {
            "text/plain": [
              "[1, 2, 2, 2, 3, 4, 44, 4, 4, 4, 5, 5, 5, 5, 5, 5]"
            ]
          },
          "execution_count": 756,
          "metadata": {},
          "output_type": "execute_result"
        }
      ],
      "source": [
        "l"
      ]
    },
    {
      "cell_type": "code",
      "execution_count": 757,
      "metadata": {
        "id": "AXpASe5xXMk6"
      },
      "outputs": [],
      "source": [
        "l = [1,'a',True]"
      ]
    },
    {
      "cell_type": "code",
      "execution_count": 758,
      "metadata": {
        "id": "LtY1CIGsXYlz"
      },
      "outputs": [],
      "source": [
        "l[1] = 'b'"
      ]
    },
    {
      "cell_type": "code",
      "execution_count": 759,
      "metadata": {
        "colab": {
          "base_uri": "https://localhost:8080/"
        },
        "id": "PcAl90nHXbnP",
        "outputId": "053bc4af-f568-44da-a926-1ef459bb9d81"
      },
      "outputs": [
        {
          "data": {
            "text/plain": [
              "[1, 'b', True]"
            ]
          },
          "execution_count": 759,
          "metadata": {},
          "output_type": "execute_result"
        }
      ],
      "source": [
        "l"
      ]
    },
    {
      "cell_type": "code",
      "execution_count": 760,
      "metadata": {
        "colab": {
          "base_uri": "https://localhost:8080/",
          "height": 35
        },
        "id": "tSaO4TcmXb7Y",
        "outputId": "3d7fe281-51ba-4a94-8fdd-6dfbd55ec041"
      },
      "outputs": [
        {
          "data": {
            "text/plain": [
              "'hello'"
            ]
          },
          "execution_count": 760,
          "metadata": {},
          "output_type": "execute_result"
        }
      ],
      "source": [
        "s"
      ]
    },
    {
      "cell_type": "code",
      "execution_count": 761,
      "metadata": {
        "colab": {
          "base_uri": "https://localhost:8080/",
          "height": 35
        },
        "id": "J60Nn_ZXXe1u",
        "outputId": "82b3ae47-4524-4519-ccd8-4aff24d8de2c"
      },
      "outputs": [
        {
          "data": {
            "text/plain": [
              "'heooo'"
            ]
          },
          "execution_count": 761,
          "metadata": {},
          "output_type": "execute_result"
        }
      ],
      "source": [
        "s.replace('l','o')"
      ]
    },
    {
      "cell_type": "code",
      "execution_count": 762,
      "metadata": {
        "colab": {
          "base_uri": "https://localhost:8080/",
          "height": 35
        },
        "id": "JycMdpOjXkY2",
        "outputId": "c30a2f66-fe76-4d88-c9d9-d0f8804a5577"
      },
      "outputs": [
        {
          "data": {
            "text/plain": [
              "'hello'"
            ]
          },
          "execution_count": 762,
          "metadata": {},
          "output_type": "execute_result"
        }
      ],
      "source": [
        "s"
      ]
    },
    {
      "cell_type": "code",
      "execution_count": 763,
      "metadata": {
        "id": "hWsHlkncXl-7"
      },
      "outputs": [],
      "source": [
        "l = [2, 3, 4, 5, 0, 11, 23, 43, 44, 'ram']"
      ]
    },
    {
      "cell_type": "code",
      "execution_count": 764,
      "metadata": {
        "colab": {
          "base_uri": "https://localhost:8080/"
        },
        "id": "xn_Rz8OjYBPv",
        "outputId": "2784c64c-738d-4b53-edd1-ab77c4e43180"
      },
      "outputs": [
        {
          "data": {
            "text/plain": [
              "9"
            ]
          },
          "execution_count": 764,
          "metadata": {},
          "output_type": "execute_result"
        }
      ],
      "source": [
        "l.index('ram')\n",
        "\n",
        "#Shows index of the element passed as argument"
      ]
    },
    {
      "cell_type": "code",
      "execution_count": 765,
      "metadata": {
        "colab": {
          "base_uri": "https://localhost:8080/",
          "height": 35
        },
        "id": "8BJNQqrtYPfG",
        "outputId": "53e43334-c16e-4c40-fd01-a79f0abadaeb"
      },
      "outputs": [
        {
          "data": {
            "text/plain": [
              "'ram'"
            ]
          },
          "execution_count": 765,
          "metadata": {},
          "output_type": "execute_result"
        }
      ],
      "source": [
        "l.pop(9)\n",
        "# This removes the element whose index is being passed as an argument\n",
        "# This shows the item to be removed after execcution\n",
        "#If the given index element is not found and the index is out of range, this will result in Index Error"
      ]
    },
    {
      "cell_type": "code",
      "execution_count": 766,
      "metadata": {
        "colab": {
          "base_uri": "https://localhost:8080/"
        },
        "id": "VQ-EtqtZYPZW",
        "outputId": "188f7223-ee15-4d11-fe7a-a2a6d248aede"
      },
      "outputs": [
        {
          "data": {
            "text/plain": [
              "[2, 3, 4, 5, 0, 11, 23, 43, 44]"
            ]
          },
          "execution_count": 766,
          "metadata": {},
          "output_type": "execute_result"
        }
      ],
      "source": [
        "l"
      ]
    },
    {
      "cell_type": "code",
      "execution_count": 767,
      "metadata": {
        "id": "Bzfh6MQLYVHQ"
      },
      "outputs": [],
      "source": [
        "l = [2, 3, 4, 5, 0, 11, 23, 43, 44, 'ram']"
      ]
    },
    {
      "cell_type": "code",
      "execution_count": 768,
      "metadata": {
        "id": "xdKGuK1OYDTb"
      },
      "outputs": [],
      "source": [
        "l.remove('ram')\n",
        "#This also removes the element but takes the element as an argument but does not return the given index\n",
        "# If the value is not found, it will then raise a Value Error"
      ]
    },
    {
      "cell_type": "code",
      "execution_count": 769,
      "metadata": {
        "colab": {
          "base_uri": "https://localhost:8080/"
        },
        "id": "h8fw62Z9YIeU",
        "outputId": "8db495c9-7856-4b03-93de-562ff1b9cb6f"
      },
      "outputs": [
        {
          "data": {
            "text/plain": [
              "[2, 3, 4, 5, 0, 11, 23, 43, 44]"
            ]
          },
          "execution_count": 769,
          "metadata": {},
          "output_type": "execute_result"
        }
      ],
      "source": [
        "l"
      ]
    },
    {
      "cell_type": "markdown",
      "metadata": {},
      "source": [
        "## Both of them modify the original list.\n",
        "## The only difference is that one of it returns the value where as the other doesnot. Similarly, both of them modifies the original list.\n",
        "## The one using the index return Index Error, other returns the Value Error based on the wrong argument being sent to them"
      ]
    }
  ],
  "metadata": {
    "colab": {
      "provenance": []
    },
    "kernelspec": {
      "display_name": "modelprep",
      "language": "python",
      "name": "python3"
    },
    "language_info": {
      "codemirror_mode": {
        "name": "ipython",
        "version": 3
      },
      "file_extension": ".py",
      "mimetype": "text/x-python",
      "name": "python",
      "nbconvert_exporter": "python",
      "pygments_lexer": "ipython3",
      "version": "3.10.18"
    }
  },
  "nbformat": 4,
  "nbformat_minor": 0
}
