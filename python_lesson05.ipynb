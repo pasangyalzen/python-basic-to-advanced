{
  "cells": [
    {
      "cell_type": "markdown",
      "metadata": {},
      "source": [
        "## Dictionary"
      ]
    },
    {
      "cell_type": "markdown",
      "metadata": {
        "id": "XyrPPppG3xxV"
      },
      "source": [
        "- Collection of items stored in key-value pairs. It is like real dictionary where each word(key) has a meaning(value)."
      ]
    },
    {
      "cell_type": "code",
      "execution_count": 2,
      "metadata": {
        "id": "ZgYbhDpP3tUN"
      },
      "outputs": [],
      "source": [
        "d = {}\n",
        "# Initializing an empty dictionary.\n",
        "# It must be closed under curly braces."
      ]
    },
    {
      "cell_type": "code",
      "execution_count": 3,
      "metadata": {
        "colab": {
          "base_uri": "https://localhost:8080/"
        },
        "id": "0wZpGgTu43Eh",
        "outputId": "c6a6e83b-d0ec-4aa7-dc4b-25555346588d"
      },
      "outputs": [
        {
          "data": {
            "text/plain": [
              "dict"
            ]
          },
          "execution_count": 3,
          "metadata": {},
          "output_type": "execute_result"
        }
      ],
      "source": [
        "type(d)"
      ]
    },
    {
      "cell_type": "code",
      "execution_count": 4,
      "metadata": {
        "id": "HbB_yt5947r3"
      },
      "outputs": [],
      "source": [
        "d1 = {\n",
        "    'key':'value'\n",
        "    }\n",
        "\n",
        "# Dictionary is just a collection of key value pair mimicing a real dictionary maping words to their meanings"
      ]
    },
    {
      "cell_type": "code",
      "execution_count": 5,
      "metadata": {
        "colab": {
          "base_uri": "https://localhost:8080/"
        },
        "id": "WAiWJeCL5Fgt",
        "outputId": "d4fd2180-6544-43b6-e569-918c358fc68d"
      },
      "outputs": [
        {
          "data": {
            "text/plain": [
              "{'key': 'value'}"
            ]
          },
          "execution_count": 5,
          "metadata": {},
          "output_type": "execute_result"
        }
      ],
      "source": [
        "d1"
      ]
    },
    {
      "cell_type": "code",
      "execution_count": 6,
      "metadata": {
        "colab": {
          "base_uri": "https://localhost:8080/"
        },
        "id": "KPz_JhO7cPGB",
        "outputId": "64b9d6dc-108a-48d6-b4e0-ceab399860a2"
      },
      "outputs": [
        {
          "data": {
            "text/plain": [
              "dict"
            ]
          },
          "execution_count": 6,
          "metadata": {},
          "output_type": "execute_result"
        }
      ],
      "source": [
        "type(d1)"
      ]
    },
    {
      "cell_type": "code",
      "execution_count": 7,
      "metadata": {
        "id": "i1JBn3xH5Pva"
      },
      "outputs": [],
      "source": [
        "d2 = {\n",
        "   'name' : 'ram',\n",
        "   'address' : 'kathmandu',\n",
        "   'email' : 'ram@gmail.com',\n",
        "   'phone_number' : 9742843465\n",
        "}\n",
        "\n",
        "# In a dictionary, the values can be of different data types (string, int, list, tuples , dictionaries etc.)\n",
        "# as long as they are associated with a unique key in a key-value pair."
      ]
    },
    {
      "cell_type": "code",
      "execution_count": 8,
      "metadata": {
        "colab": {
          "base_uri": "https://localhost:8080/"
        },
        "id": "fUrCbj70Nxnp",
        "outputId": "b0cd469a-c8fd-4e4d-d280-65dfa47d9738"
      },
      "outputs": [
        {
          "data": {
            "text/plain": [
              "dict"
            ]
          },
          "execution_count": 8,
          "metadata": {},
          "output_type": "execute_result"
        }
      ],
      "source": [
        "type(d2)"
      ]
    },
    {
      "cell_type": "code",
      "execution_count": 9,
      "metadata": {
        "colab": {
          "base_uri": "https://localhost:8080/"
        },
        "id": "nWl3Goh_5z4e",
        "outputId": "29ff7f7a-021c-4e41-e268-f4c60c6db3d9"
      },
      "outputs": [
        {
          "data": {
            "text/plain": [
              "{'name': 'ram',\n",
              " 'address': 'kathmandu',\n",
              " 'email': 'ram@gmail.com',\n",
              " 'phone_number': 9742843465}"
            ]
          },
          "execution_count": 9,
          "metadata": {},
          "output_type": "execute_result"
        }
      ],
      "source": [
        "d2"
      ]
    },
    {
      "cell_type": "code",
      "execution_count": 10,
      "metadata": {
        "id": "JahbENa951BH"
      },
      "outputs": [],
      "source": [
        "d3 = {\n",
        "    234 : 'rajesh',\n",
        "    True : 23432,\n",
        "    (1,2,3) : 'nepal',\n",
        "    False : 123\n",
        "}"
      ]
    },
    {
      "cell_type": "markdown",
      "metadata": {},
      "source": [
        "Keys in a Dictionary\n",
        "\n",
        "• Keys must be immutable data types like string, int, float, tuple (if all elements inside are immutable).\n",
        "\n",
        "• Mutable types like list, dict, or set cannot be used as keys because they can change, which would break the dictionary’s hashing mechanism.\n",
        "\n",
        "Immutabe means unchangable"
      ]
    },
    {
      "cell_type": "code",
      "execution_count": 11,
      "metadata": {
        "colab": {
          "base_uri": "https://localhost:8080/"
        },
        "id": "QAI84wdf6ICn",
        "outputId": "96e7fdba-3ee1-4789-c271-d9335f1b1547"
      },
      "outputs": [
        {
          "data": {
            "text/plain": [
              "{234: 'rajesh', True: 23432, (1, 2, 3): 'nepal', False: 123}"
            ]
          },
          "execution_count": 11,
          "metadata": {},
          "output_type": "execute_result"
        }
      ],
      "source": [
        "d3"
      ]
    },
    {
      "cell_type": "markdown",
      "metadata": {},
      "source": [
        "We can simply access values using keys. "
      ]
    },
    {
      "cell_type": "code",
      "execution_count": 12,
      "metadata": {
        "colab": {
          "base_uri": "https://localhost:8080/",
          "height": 35
        },
        "id": "WFDfM6hT6Ojc",
        "outputId": "0c7cf0f0-e14e-497d-c2ba-01834bde90b8"
      },
      "outputs": [
        {
          "data": {
            "text/plain": [
              "'rajesh'"
            ]
          },
          "execution_count": 12,
          "metadata": {},
          "output_type": "execute_result"
        }
      ],
      "source": [
        "d3[234]"
      ]
    },
    {
      "cell_type": "code",
      "execution_count": 13,
      "metadata": {
        "colab": {
          "base_uri": "https://localhost:8080/"
        },
        "id": "Ypu1s49Q6W7P",
        "outputId": "6e91c6d6-9327-4c57-f96f-c171e645f135"
      },
      "outputs": [
        {
          "data": {
            "text/plain": [
              "23432"
            ]
          },
          "execution_count": 13,
          "metadata": {},
          "output_type": "execute_result"
        }
      ],
      "source": [
        "d3[True]"
      ]
    },
    {
      "cell_type": "code",
      "execution_count": 14,
      "metadata": {
        "colab": {
          "base_uri": "https://localhost:8080/",
          "height": 35
        },
        "id": "rAedL7pWdAnh",
        "outputId": "fb8ca206-6335-44b0-dc93-5b1361dfe93b"
      },
      "outputs": [
        {
          "data": {
            "text/plain": [
              "'nepal'"
            ]
          },
          "execution_count": 14,
          "metadata": {},
          "output_type": "execute_result"
        }
      ],
      "source": [
        "d3[(1,2,3)]"
      ]
    },
    {
      "cell_type": "code",
      "execution_count": 15,
      "metadata": {
        "colab": {
          "base_uri": "https://localhost:8080/"
        },
        "id": "c9G6Wc-t6YZV",
        "outputId": "b17eaa10-d274-4fc7-caa3-21e583b82622"
      },
      "outputs": [
        {
          "data": {
            "text/plain": [
              "23432"
            ]
          },
          "execution_count": 15,
          "metadata": {},
          "output_type": "execute_result"
        }
      ],
      "source": [
        "d3[1]"
      ]
    },
    {
      "cell_type": "code",
      "execution_count": 16,
      "metadata": {
        "colab": {
          "base_uri": "https://localhost:8080/"
        },
        "id": "MBYWHHFt6buk",
        "outputId": "c54b997f-6407-4b5b-8f91-73bb7471b2b0"
      },
      "outputs": [
        {
          "data": {
            "text/plain": [
              "123"
            ]
          },
          "execution_count": 16,
          "metadata": {},
          "output_type": "execute_result"
        }
      ],
      "source": [
        "d3[0]"
      ]
    },
    {
      "cell_type": "code",
      "execution_count": 17,
      "metadata": {
        "colab": {
          "base_uri": "https://localhost:8080/",
          "height": 141
        },
        "id": "mCmG7HxcO2ak",
        "outputId": "5e73b911-676a-4013-8b62-36e5c7ec1dff"
      },
      "outputs": [],
      "source": [
        "# d3[2]\n",
        "#Since the key 2 doesnot exist it throws key error."
      ]
    },
    {
      "cell_type": "code",
      "execution_count": 18,
      "metadata": {
        "id": "r6VyyEKIgI4d"
      },
      "outputs": [],
      "source": [
        "eleven = {\n",
        "    'ramesh' : 1,\n",
        "    'rajesh' : 2,\n",
        "    'ram' : 3,\n",
        "    'shyam' : 4\n",
        "}"
      ]
    },
    {
      "cell_type": "code",
      "execution_count": 19,
      "metadata": {
        "colab": {
          "base_uri": "https://localhost:8080/"
        },
        "id": "ZeOe1-A8gS1q",
        "outputId": "31b8c1ff-87a0-41e8-aaec-07ac0b306bc1"
      },
      "outputs": [
        {
          "data": {
            "text/plain": [
              "1"
            ]
          },
          "execution_count": 19,
          "metadata": {},
          "output_type": "execute_result"
        }
      ],
      "source": [
        "eleven['ramesh']"
      ]
    },
    {
      "cell_type": "code",
      "execution_count": 20,
      "metadata": {
        "colab": {
          "base_uri": "https://localhost:8080/"
        },
        "id": "UKPXKEShgS8w",
        "outputId": "897c2eac-a63e-42bc-bcff-3be9b147b172"
      },
      "outputs": [
        {
          "data": {
            "text/plain": [
              "2"
            ]
          },
          "execution_count": 20,
          "metadata": {},
          "output_type": "execute_result"
        }
      ],
      "source": [
        "eleven['rajesh']"
      ]
    },
    {
      "cell_type": "code",
      "execution_count": 21,
      "metadata": {
        "colab": {
          "base_uri": "https://localhost:8080/"
        },
        "id": "uPSfHACzgTBg",
        "outputId": "f8c2aac5-93f5-4c68-be30-b7cc1cfba2e5"
      },
      "outputs": [
        {
          "data": {
            "text/plain": [
              "3"
            ]
          },
          "execution_count": 21,
          "metadata": {},
          "output_type": "execute_result"
        }
      ],
      "source": [
        "eleven['ram']"
      ]
    },
    {
      "cell_type": "code",
      "execution_count": 22,
      "metadata": {
        "colab": {
          "base_uri": "https://localhost:8080/"
        },
        "id": "7WO8682dgTFi",
        "outputId": "e26964fc-9673-4e8b-d9b8-f4980917e82e"
      },
      "outputs": [
        {
          "data": {
            "text/plain": [
              "4"
            ]
          },
          "execution_count": 22,
          "metadata": {},
          "output_type": "execute_result"
        }
      ],
      "source": [
        "eleven['shyam']"
      ]
    },
    {
      "cell_type": "code",
      "execution_count": 23,
      "metadata": {
        "id": "3-yTpyoO6dzT"
      },
      "outputs": [],
      "source": [
        "d4 = {\n",
        "    'name' : 'rajesh',\n",
        "    'email' : 'rajesh@gmail.com',\n",
        "    'name' : 'ram'\n",
        "} # key must be unique"
      ]
    },
    {
      "cell_type": "code",
      "execution_count": 24,
      "metadata": {
        "colab": {
          "base_uri": "https://localhost:8080/",
          "height": 35
        },
        "id": "FlVxwXxw6t4H",
        "outputId": "08abe50d-9c4a-46ac-a480-2dcc2f5f166b"
      },
      "outputs": [
        {
          "data": {
            "text/plain": [
              "'ram'"
            ]
          },
          "execution_count": 24,
          "metadata": {},
          "output_type": "execute_result"
        }
      ],
      "source": [
        "d4['name']"
      ]
    },
    {
      "cell_type": "markdown",
      "metadata": {},
      "source": [
        "# Note : If the keys are inside the quote we must use the quotes when accessing values with the keys"
      ]
    },
    {
      "cell_type": "code",
      "execution_count": 25,
      "metadata": {
        "id": "1VBCWkiL6w2b"
      },
      "outputs": [],
      "source": [
        "d5 = {\n",
        "    'institute' : 'mindrisers',\n",
        "    'course' : ['mern','python with django','dads']\n",
        "}\n",
        "\n",
        "# As we said earlier we can store any dtypes in the values and here we have stoerd a list\n"
      ]
    },
    {
      "cell_type": "code",
      "execution_count": 26,
      "metadata": {
        "colab": {
          "base_uri": "https://localhost:8080/"
        },
        "id": "alkFqZVz7IzI",
        "outputId": "86cca58a-186f-417b-ee29-de2c4cd7a6de"
      },
      "outputs": [
        {
          "data": {
            "text/plain": [
              "{'institute': 'mindrisers', 'course': ['mern', 'python with django', 'dads']}"
            ]
          },
          "execution_count": 26,
          "metadata": {},
          "output_type": "execute_result"
        }
      ],
      "source": [
        "d5"
      ]
    },
    {
      "cell_type": "markdown",
      "metadata": {},
      "source": [
        "# Accessing different values \n",
        "\n",
        "When we try to access the values we first pass the keys and then for the required values we can apply indexing after converting the values into list and we can perform slicing as we did earlier"
      ]
    },
    {
      "cell_type": "code",
      "execution_count": 27,
      "metadata": {
        "colab": {
          "base_uri": "https://localhost:8080/"
        },
        "id": "7FlpnL1T7JaP",
        "outputId": "e357171a-1ba9-462f-f5ac-44ef6df07332"
      },
      "outputs": [
        {
          "data": {
            "text/plain": [
              "['mern', 'python with django', 'dads']"
            ]
          },
          "execution_count": 27,
          "metadata": {},
          "output_type": "execute_result"
        }
      ],
      "source": [
        "d5['course']"
      ]
    },
    {
      "cell_type": "code",
      "execution_count": 28,
      "metadata": {
        "colab": {
          "base_uri": "https://localhost:8080/",
          "height": 35
        },
        "id": "X6UIAqkqgv3x",
        "outputId": "2e6a30b9-e438-453a-e451-62655ab5d159"
      },
      "outputs": [
        {
          "data": {
            "text/plain": [
              "'dads'"
            ]
          },
          "execution_count": 28,
          "metadata": {},
          "output_type": "execute_result"
        }
      ],
      "source": [
        "d5['course'][-1]\n"
      ]
    },
    {
      "cell_type": "code",
      "execution_count": 29,
      "metadata": {
        "colab": {
          "base_uri": "https://localhost:8080/",
          "height": 35
        },
        "id": "olSdMGQKPoaW",
        "outputId": "e8248c59-c69d-4f36-b721-50dafd40ce2a"
      },
      "outputs": [
        {
          "data": {
            "text/plain": [
              "'python with django'"
            ]
          },
          "execution_count": 29,
          "metadata": {},
          "output_type": "execute_result"
        }
      ],
      "source": [
        "d5['course'][1]"
      ]
    },
    {
      "cell_type": "code",
      "execution_count": 30,
      "metadata": {
        "colab": {
          "base_uri": "https://localhost:8080/"
        },
        "id": "spVV4JkP7PUe",
        "outputId": "d4fc51c7-5e6f-43e4-b95e-6e4b2b09daa6"
      },
      "outputs": [
        {
          "data": {
            "text/plain": [
              "['dads', 'python with django', 'mern']"
            ]
          },
          "execution_count": 30,
          "metadata": {},
          "output_type": "execute_result"
        }
      ],
      "source": [
        "d5['course'][::-1]"
      ]
    },
    {
      "cell_type": "code",
      "execution_count": 31,
      "metadata": {
        "colab": {
          "base_uri": "https://localhost:8080/"
        },
        "id": "Tm20OuS77U2O",
        "outputId": "f4246731-e384-4896-9305-ce3ec6ad847b"
      },
      "outputs": [
        {
          "data": {
            "text/plain": [
              "['dads']"
            ]
          },
          "execution_count": 31,
          "metadata": {},
          "output_type": "execute_result"
        }
      ],
      "source": [
        "d5['course'][2::1]"
      ]
    },
    {
      "cell_type": "code",
      "execution_count": 32,
      "metadata": {
        "colab": {
          "base_uri": "https://localhost:8080/"
        },
        "id": "w_P58ZmBg7Di",
        "outputId": "c8260803-eabe-45ae-9ccf-1018ed6df0d9"
      },
      "outputs": [
        {
          "data": {
            "text/plain": [
              "['dads', 'python with django', 'mern']"
            ]
          },
          "execution_count": 32,
          "metadata": {},
          "output_type": "execute_result"
        }
      ],
      "source": [
        "d5['course'][2::-1]"
      ]
    },
    {
      "cell_type": "code",
      "execution_count": 33,
      "metadata": {
        "id": "JgEowu6p7kCz"
      },
      "outputs": [],
      "source": [
        "d6 = {\n",
        "    'course' : ['mern','django','da/ds'],\n",
        "    'task' : (1,2,3,4,5,6),\n",
        "    'launch_date' : {1,2,3},\n",
        "    'class_timing' : {\n",
        "        'mern' : 5,\n",
        "        'django' : 6,\n",
        "        'da/ds' : 7\n",
        "    }\n",
        "}"
      ]
    },
    {
      "cell_type": "code",
      "execution_count": 34,
      "metadata": {
        "colab": {
          "base_uri": "https://localhost:8080/"
        },
        "id": "x1e_pNC-8NjP",
        "outputId": "e97730b4-eec3-4367-c451-4e0bbf9fe8d4"
      },
      "outputs": [
        {
          "data": {
            "text/plain": [
              "{'mern': 5, 'django': 6, 'da/ds': 7}"
            ]
          },
          "execution_count": 34,
          "metadata": {},
          "output_type": "execute_result"
        }
      ],
      "source": [
        "d6['class_timing']"
      ]
    },
    {
      "cell_type": "code",
      "execution_count": 35,
      "metadata": {
        "colab": {
          "base_uri": "https://localhost:8080/"
        },
        "id": "6ZJxmwmM8ZVC",
        "outputId": "cee2aa80-d081-4a4e-f064-d3f99cde10af"
      },
      "outputs": [
        {
          "data": {
            "text/plain": [
              "7"
            ]
          },
          "execution_count": 35,
          "metadata": {},
          "output_type": "execute_result"
        }
      ],
      "source": [
        "# Ways to access a nested dictionary\n",
        "d6['class_timing']['da/ds']"
      ]
    },
    {
      "cell_type": "code",
      "execution_count": 37,
      "metadata": {
        "colab": {
          "base_uri": "https://localhost:8080/",
          "height": 141
        },
        "id": "XnY4cYGH8gga",
        "outputId": "eccefeb7-4a5f-41c6-b3e4-4218da4e887d"
      },
      "outputs": [
        {
          "ename": "KeyError",
          "evalue": "'duration'",
          "output_type": "error",
          "traceback": [
            "\u001b[0;31m---------------------------------------------------------------------------\u001b[0m",
            "\u001b[0;31mKeyError\u001b[0m                                  Traceback (most recent call last)",
            "Cell \u001b[0;32mIn[37], line 1\u001b[0m\n\u001b[0;32m----> 1\u001b[0m \u001b[43md6\u001b[49m\u001b[43m[\u001b[49m\u001b[38;5;124;43m'\u001b[39;49m\u001b[38;5;124;43mduration\u001b[39;49m\u001b[38;5;124;43m'\u001b[39;49m\u001b[43m]\u001b[49m\n",
            "\u001b[0;31mKeyError\u001b[0m: 'duration'"
          ]
        }
      ],
      "source": [
        "d6['duration']\n",
        "#When a key that is not present is accessed, it returns KeyError"
      ]
    },
    {
      "cell_type": "code",
      "execution_count": 38,
      "metadata": {
        "colab": {
          "base_uri": "https://localhost:8080/"
        },
        "id": "zWHR-RY1QVS0",
        "outputId": "af7c47ed-606a-4950-9072-c3f042d43e94"
      },
      "outputs": [
        {
          "data": {
            "text/plain": [
              "{'course': ['mern', 'django', 'da/ds'],\n",
              " 'task': (1, 2, 3, 4, 5, 6),\n",
              " 'launch_date': {1, 2, 3},\n",
              " 'class_timing': {'mern': 5, 'django': 6, 'da/ds': 7}}"
            ]
          },
          "execution_count": 38,
          "metadata": {},
          "output_type": "execute_result"
        }
      ],
      "source": [
        "d6"
      ]
    },
    {
      "cell_type": "code",
      "execution_count": 39,
      "metadata": {
        "id": "oUk_s2NR8o5r"
      },
      "outputs": [],
      "source": [
        "d6['duration'] = [3,2,3.5]\n"
      ]
    },
    {
      "cell_type": "code",
      "execution_count": 40,
      "metadata": {
        "colab": {
          "base_uri": "https://localhost:8080/"
        },
        "id": "QEi28YYu82Rc",
        "outputId": "927492a8-e835-42d3-d854-ce02a40faf7b"
      },
      "outputs": [
        {
          "data": {
            "text/plain": [
              "{'course': ['mern', 'django', 'da/ds'],\n",
              " 'task': (1, 2, 3, 4, 5, 6),\n",
              " 'launch_date': {1, 2, 3},\n",
              " 'class_timing': {'mern': 5, 'django': 6, 'da/ds': 7},\n",
              " 'duration': [3, 2, 3.5]}"
            ]
          },
          "execution_count": 40,
          "metadata": {},
          "output_type": "execute_result"
        }
      ],
      "source": [
        "d6"
      ]
    },
    {
      "cell_type": "code",
      "execution_count": 41,
      "metadata": {
        "id": "yNPyFVZW84nP"
      },
      "outputs": [],
      "source": [
        "#way to delete a key\n",
        "del d6['duration']"
      ]
    },
    {
      "cell_type": "code",
      "execution_count": 42,
      "metadata": {
        "colab": {
          "base_uri": "https://localhost:8080/"
        },
        "id": "28ypWuVI9H03",
        "outputId": "d77d365f-f760-4293-87a0-600451186dea"
      },
      "outputs": [
        {
          "data": {
            "text/plain": [
              "{'course': ['mern', 'django', 'da/ds'],\n",
              " 'task': (1, 2, 3, 4, 5, 6),\n",
              " 'launch_date': {1, 2, 3},\n",
              " 'class_timing': {'mern': 5, 'django': 6, 'da/ds': 7}}"
            ]
          },
          "execution_count": 42,
          "metadata": {},
          "output_type": "execute_result"
        }
      ],
      "source": [
        "d6"
      ]
    },
    {
      "cell_type": "code",
      "execution_count": 43,
      "metadata": {
        "colab": {
          "base_uri": "https://localhost:8080/",
          "height": 193
        },
        "id": "0SBLw5Ds9KYa",
        "outputId": "21d809b4-0501-4dbb-ec82-4da4affb6675"
      },
      "outputs": [
        {
          "name": "stdout",
          "output_type": "stream",
          "text": [
            "{'name': 'Manoj', 'subject': 'CS', 'marks': 90}\n"
          ]
        },
        {
          "ename": "NameError",
          "evalue": "name 'student' is not defined",
          "output_type": "error",
          "traceback": [
            "\u001b[0;31m---------------------------------------------------------------------------\u001b[0m",
            "\u001b[0;31mNameError\u001b[0m                                 Traceback (most recent call last)",
            "Cell \u001b[0;32mIn[43], line 13\u001b[0m\n\u001b[1;32m     10\u001b[0m \u001b[38;5;28;01mdel\u001b[39;00m student\n\u001b[1;32m     12\u001b[0m \u001b[38;5;66;03m# Since the dictionary is already deleted, it throws name error\u001b[39;00m\n\u001b[0;32m---> 13\u001b[0m \u001b[38;5;28mprint\u001b[39m(\u001b[43mstudent\u001b[49m)\n",
            "\u001b[0;31mNameError\u001b[0m: name 'student' is not defined"
          ]
        }
      ],
      "source": [
        "student = {\n",
        "    'name' : 'Manoj',\n",
        "    'subject' : 'CS',\n",
        "    'marks' : 90\n",
        "}\n",
        "\n",
        "print(student)\n",
        "\n",
        "# delete the dictionary\n",
        "del student\n",
        "\n",
        "# Since the dictionary is already deleted, it throws name error\n",
        "print(student)"
      ]
    },
    {
      "cell_type": "code",
      "execution_count": 44,
      "metadata": {
        "colab": {
          "base_uri": "https://localhost:8080/"
        },
        "id": "qb11AdBy9Wis",
        "outputId": "61845724-56ca-4d7d-dafe-afc8f8b5d999"
      },
      "outputs": [
        {
          "data": {
            "text/plain": [
              "{'course': ['mern', 'django', 'da/ds'],\n",
              " 'task': (1, 2, 3, 4, 5, 6),\n",
              " 'launch_date': {1, 2, 3},\n",
              " 'class_timing': {'mern': 5, 'django': 6, 'da/ds': 7}}"
            ]
          },
          "execution_count": 44,
          "metadata": {},
          "output_type": "execute_result"
        }
      ],
      "source": [
        "d6"
      ]
    },
    {
      "cell_type": "code",
      "execution_count": 46,
      "metadata": {
        "colab": {
          "base_uri": "https://localhost:8080/"
        },
        "id": "VYiGZjTs99Yq",
        "outputId": "ebacd4ba-9fa9-4bcd-af77-c4f1500c7fe8"
      },
      "outputs": [
        {
          "data": {
            "text/plain": [
              "dict_keys(['course', 'task', 'launch_date', 'class_timing'])"
            ]
          },
          "execution_count": 46,
          "metadata": {},
          "output_type": "execute_result"
        }
      ],
      "source": [
        "d6.keys()\n",
        "# Way to show keys in a dictionary"
      ]
    },
    {
      "cell_type": "code",
      "execution_count": 47,
      "metadata": {
        "colab": {
          "base_uri": "https://localhost:8080/"
        },
        "id": "LRSSLjbR-Hop",
        "outputId": "a0522454-9b09-477c-ab56-dd5e3a6a3e22"
      },
      "outputs": [
        {
          "data": {
            "text/plain": [
              "['course', 'task', 'launch_date', 'class_timing']"
            ]
          },
          "execution_count": 47,
          "metadata": {},
          "output_type": "execute_result"
        }
      ],
      "source": [
        "list(d6.keys())\n",
        "#Changing the given keys to a list"
      ]
    },
    {
      "cell_type": "code",
      "execution_count": 49,
      "metadata": {
        "colab": {
          "base_uri": "https://localhost:8080/"
        },
        "id": "NbhxS3eC-MHA",
        "outputId": "86b55b05-3b2a-4f33-8ee0-fde6b74fa477"
      },
      "outputs": [
        {
          "data": {
            "text/plain": [
              "{'class_timing', 'course', 'launch_date', 'task'}"
            ]
          },
          "execution_count": 49,
          "metadata": {},
          "output_type": "execute_result"
        }
      ],
      "source": [
        "set(d6.keys())\n",
        "# Changing the given keys to a set"
      ]
    },
    {
      "cell_type": "code",
      "execution_count": 51,
      "metadata": {
        "colab": {
          "base_uri": "https://localhost:8080/"
        },
        "id": "XkHjn_n9-Noe",
        "outputId": "2a28e8a4-d1ea-4bbf-8d23-6f0161348cb9"
      },
      "outputs": [
        {
          "data": {
            "text/plain": [
              "dict_values([['mern', 'django', 'da/ds'], (1, 2, 3, 4, 5, 6), {1, 2, 3}, {'mern': 5, 'django': 6, 'da/ds': 7}])"
            ]
          },
          "execution_count": 51,
          "metadata": {},
          "output_type": "execute_result"
        }
      ],
      "source": [
        "d6.values()\n",
        "#Showing the values in a dictionary"
      ]
    },
    {
      "cell_type": "code",
      "execution_count": 53,
      "metadata": {
        "colab": {
          "base_uri": "https://localhost:8080/"
        },
        "id": "IYKx_l7b-eAj",
        "outputId": "d0a03fd6-9c87-40bf-8a0e-fa2fdc7bb577"
      },
      "outputs": [
        {
          "data": {
            "text/plain": [
              "[['mern', 'django', 'da/ds'],\n",
              " (1, 2, 3, 4, 5, 6),\n",
              " {1, 2, 3},\n",
              " {'mern': 5, 'django': 6, 'da/ds': 7}]"
            ]
          },
          "execution_count": 53,
          "metadata": {},
          "output_type": "execute_result"
        }
      ],
      "source": [
        "list(d6.values())\n",
        "#Converting the values into a list"
      ]
    },
    {
      "cell_type": "code",
      "execution_count": 55,
      "metadata": {
        "colab": {
          "base_uri": "https://localhost:8080/"
        },
        "id": "gvQ2znXv-hAS",
        "outputId": "939bbaa1-760f-4467-ea8e-1937779fdf9b"
      },
      "outputs": [
        {
          "data": {
            "text/plain": [
              "(['mern', 'django', 'da/ds'],\n",
              " (1, 2, 3, 4, 5, 6),\n",
              " {1, 2, 3},\n",
              " {'mern': 5, 'django': 6, 'da/ds': 7})"
            ]
          },
          "execution_count": 55,
          "metadata": {},
          "output_type": "execute_result"
        }
      ],
      "source": [
        "tuple(d6.values())\n",
        "#Converting the values into a tuple"
      ]
    },
    {
      "cell_type": "code",
      "execution_count": 57,
      "metadata": {
        "colab": {
          "base_uri": "https://localhost:8080/"
        },
        "id": "db9HLwWe-jU3",
        "outputId": "11aab4cc-1778-4622-a067-d1761dfb05d7"
      },
      "outputs": [
        {
          "data": {
            "text/plain": [
              "dict_items([('course', ['mern', 'django', 'da/ds']), ('task', (1, 2, 3, 4, 5, 6)), ('launch_date', {1, 2, 3}), ('class_timing', {'mern': 5, 'django': 6, 'da/ds': 7})])"
            ]
          },
          "execution_count": 57,
          "metadata": {},
          "output_type": "execute_result"
        }
      ],
      "source": [
        "d6.items()\n",
        "\n",
        "# This returns a specific object as dict_items\n",
        "# Each key value pair are represented in a tuple"
      ]
    },
    {
      "cell_type": "code",
      "execution_count": null,
      "metadata": {
        "colab": {
          "base_uri": "https://localhost:8080/"
        },
        "id": "5MsxovGu-qEN",
        "outputId": "8a646aab-e770-414a-ec2b-53c222553ee7"
      },
      "outputs": [
        {
          "data": {
            "text/plain": [
              "[('course', ['mern', 'django', 'da/ds']),\n",
              " ('task', (1, 2, 3, 4, 5, 6)),\n",
              " ('launch_date', {1, 2, 3}),\n",
              " ('class_timing', {'mern': 5, 'django': 6, 'da/ds': 7})]"
            ]
          },
          "execution_count": 58,
          "metadata": {},
          "output_type": "execute_result"
        }
      ],
      "source": [
        "list(d6.items())\n",
        "# Converting the returned dict_items into list for readability"
      ]
    },
    {
      "cell_type": "code",
      "execution_count": 59,
      "metadata": {
        "colab": {
          "base_uri": "https://localhost:8080/"
        },
        "id": "sTxRm3i--ss1",
        "outputId": "2f72ccc0-a38d-40c5-cbff-46f2aced0cdf"
      },
      "outputs": [
        {
          "data": {
            "text/plain": [
              "(1, 2, 3, 4, 5, 6)"
            ]
          },
          "execution_count": 59,
          "metadata": {},
          "output_type": "execute_result"
        }
      ],
      "source": [
        "d6.pop('task')"
      ]
    },
    {
      "cell_type": "code",
      "execution_count": 60,
      "metadata": {
        "colab": {
          "base_uri": "https://localhost:8080/"
        },
        "id": "0wuD4xdJ_EEU",
        "outputId": "e39a0545-c5fc-4f8f-d50d-621a5e21db13"
      },
      "outputs": [
        {
          "data": {
            "text/plain": [
              "{'course': ['mern', 'django', 'da/ds'],\n",
              " 'launch_date': {1, 2, 3},\n",
              " 'class_timing': {'mern': 5, 'django': 6, 'da/ds': 7}}"
            ]
          },
          "execution_count": 60,
          "metadata": {},
          "output_type": "execute_result"
        }
      ],
      "source": [
        "d6"
      ]
    },
    {
      "cell_type": "code",
      "execution_count": 61,
      "metadata": {
        "id": "Ppa6rMNN_FVd"
      },
      "outputs": [],
      "source": [
        "numbers = {\n",
        "    10 : 'ten',\n",
        "    20 : 'twenty',\n",
        "    30 : 'thirty',\n",
        "    100 : 'hundred'\n",
        "}"
      ]
    },
    {
      "cell_type": "code",
      "execution_count": 63,
      "metadata": {
        "colab": {
          "base_uri": "https://localhost:8080/"
        },
        "id": "ucojjDBS_KvP",
        "outputId": "462a8292-29b5-4a6b-ef7f-e089a8448350"
      },
      "outputs": [
        {
          "name": "stdout",
          "output_type": "stream",
          "text": [
            "4\n"
          ]
        }
      ],
      "source": [
        "# Shows the length as total number of key value pairs \n",
        "length = len(numbers)\n",
        "print(length)"
      ]
    },
    {
      "cell_type": "code",
      "execution_count": 64,
      "metadata": {
        "colab": {
          "base_uri": "https://localhost:8080/"
        },
        "id": "vBe0xdRZ_UyD",
        "outputId": "2d1a96d8-23e6-4ed0-8fb4-48692823a631"
      },
      "outputs": [
        {
          "name": "stdout",
          "output_type": "stream",
          "text": [
            "4\n"
          ]
        }
      ],
      "source": [
        "print(len(numbers))"
      ]
    },
    {
      "cell_type": "code",
      "execution_count": 65,
      "metadata": {
        "colab": {
          "base_uri": "https://localhost:8080/"
        },
        "id": "Nrgs4cny_hW1",
        "outputId": "a3abb624-e2b5-455f-9c96-dc22d893d783"
      },
      "outputs": [
        {
          "name": "stdout",
          "output_type": "stream",
          "text": [
            "0\n"
          ]
        }
      ],
      "source": [
        "empty = {}\n",
        "print(len(empty))"
      ]
    },
    {
      "cell_type": "code",
      "execution_count": 66,
      "metadata": {
        "id": "1MORRxwQ_l3F"
      },
      "outputs": [],
      "source": [
        "student = {\n",
        "    'name' : 'Rajesh',\n",
        "    'subject' : 'It',\n",
        "    'age' : 18\n",
        "}"
      ]
    },
    {
      "cell_type": "code",
      "execution_count": null,
      "metadata": {
        "colab": {
          "base_uri": "https://localhost:8080/"
        },
        "id": "pzMfh5Eu_4x1",
        "outputId": "e52ba400-9500-4bbb-f188-7e2eeba0baa9"
      },
      "outputs": [
        {
          "name": "stdout",
          "output_type": "stream",
          "text": [
            "{'name': 'Sagar', 'subject': 'Engineering', 'age': 25}\n"
          ]
        }
      ],
      "source": [
        "student['name'] = 'Sagar'\n",
        "student['age'] = 25\n",
        "student['subject'] = 'Engineering'\n",
        "print(student)\n",
        "\n",
        "# We can simply reassign the values by using their respective keys"
      ]
    },
    {
      "cell_type": "markdown",
      "metadata": {},
      "source": [
        "# Dictionary keys are immutable data types (like strings, integers, or tuples), meaning you cannot modify a key directly.\n",
        "\t\n",
        "\n",
        "# However, you can change the value associated with a key or even add new key-value pairs.\n",
        "\t\n",
        "# If you want to “change” a key, you must delete the old key and add a new one."
      ]
    },
    {
      "cell_type": "code",
      "execution_count": 68,
      "metadata": {
        "colab": {
          "base_uri": "https://localhost:8080/"
        },
        "id": "dcfjA5ASALi_",
        "outputId": "f3957a32-59f2-4f13-f5e1-616cbf9ea259"
      },
      "outputs": [
        {
          "name": "stdout",
          "output_type": "stream",
          "text": [
            "False\n",
            "True\n",
            "True\n",
            "False\n"
          ]
        }
      ],
      "source": [
        "square = {\n",
        "    1 : 1,\n",
        "    2 : 4,\n",
        "    3 : 9,\n",
        "    4 : 16,\n",
        "    5 : 25\n",
        "}\n",
        "\n",
        "print(9 in square)\n",
        "print(3 in square)\n",
        "print(4 in square)\n",
        "print(16 in square)\n",
        "\n",
        "# Checking if the given value is in the dictionary or not. This returns us the boolean either True or False"
      ]
    },
    {
      "cell_type": "code",
      "execution_count": 69,
      "metadata": {
        "id": "zdU-8YZgAmDO"
      },
      "outputs": [],
      "source": [
        "subject = {\n",
        "    'Physics' : 83,\n",
        "    'Chemistry' : 77\n",
        "}"
      ]
    },
    {
      "cell_type": "code",
      "execution_count": 71,
      "metadata": {
        "colab": {
          "base_uri": "https://localhost:8080/"
        },
        "id": "CVrVJFfzQbg3",
        "outputId": "549c5f0d-6b0f-4964-aac1-b4725a2d2123"
      },
      "outputs": [
        {
          "name": "stdout",
          "output_type": "stream",
          "text": [
            "83\n",
            "77\n"
          ]
        }
      ],
      "source": [
        "# Printing the respective values using the key\n",
        "print(subject['Physics'])\n",
        "print(subject['Chemistry'])"
      ]
    },
    {
      "cell_type": "code",
      "execution_count": 72,
      "metadata": {
        "colab": {
          "base_uri": "https://localhost:8080/",
          "height": 176
        },
        "id": "4FyqNYGKA1LM",
        "outputId": "b0fbad92-48b6-4eca-f6eb-b266ec205759"
      },
      "outputs": [
        {
          "name": "stdout",
          "output_type": "stream",
          "text": [
            "83\n"
          ]
        },
        {
          "ename": "KeyError",
          "evalue": "'Mathematics'",
          "output_type": "error",
          "traceback": [
            "\u001b[0;31m---------------------------------------------------------------------------\u001b[0m",
            "\u001b[0;31mKeyError\u001b[0m                                  Traceback (most recent call last)",
            "Cell \u001b[0;32mIn[72], line 3\u001b[0m\n\u001b[1;32m      1\u001b[0m \u001b[38;5;66;03m# Will definitely throw Key Error if the Key is not there in the dictionary.\u001b[39;00m\n\u001b[1;32m      2\u001b[0m \u001b[38;5;28mprint\u001b[39m(subject[\u001b[38;5;124m'\u001b[39m\u001b[38;5;124mPhysics\u001b[39m\u001b[38;5;124m'\u001b[39m])\n\u001b[0;32m----> 3\u001b[0m \u001b[38;5;28mprint\u001b[39m(\u001b[43msubject\u001b[49m\u001b[43m[\u001b[49m\u001b[38;5;124;43m'\u001b[39;49m\u001b[38;5;124;43mMathematics\u001b[39;49m\u001b[38;5;124;43m'\u001b[39;49m\u001b[43m]\u001b[49m)\n",
            "\u001b[0;31mKeyError\u001b[0m: 'Mathematics'"
          ]
        }
      ],
      "source": [
        "# Will definitely throw Key Error if the Key is not there in the dictionary.\n",
        "print(subject['Physics'])\n",
        "print(subject['Mathematics'])"
      ]
    },
    {
      "cell_type": "code",
      "execution_count": null,
      "metadata": {
        "colab": {
          "base_uri": "https://localhost:8080/"
        },
        "id": "1xsAZj-sA5c7",
        "outputId": "62629fa1-a1dd-41e8-b16b-530f7472e836"
      },
      "outputs": [
        {
          "name": "stdout",
          "output_type": "stream",
          "text": [
            "83\n"
          ]
        }
      ],
      "source": [
        "# Another way to access the value using the get function\n",
        "print(subject.get('Physics'))"
      ]
    },
    {
      "cell_type": "code",
      "execution_count": 74,
      "metadata": {
        "colab": {
          "base_uri": "https://localhost:8080/"
        },
        "id": "_AMLvbNiBIDn",
        "outputId": "009a2814-b28e-4756-8545-71f5351b0d74"
      },
      "outputs": [
        {
          "name": "stdout",
          "output_type": "stream",
          "text": [
            "None\n"
          ]
        }
      ],
      "source": [
        "# This is the magic of the get function when tryign to access the value using the key that is not present.\n",
        "print(subject.get('Mathematics'))"
      ]
    },
    {
      "cell_type": "code",
      "execution_count": 76,
      "metadata": {
        "colab": {
          "base_uri": "https://localhost:8080/"
        },
        "id": "BrAcitMMBKh2",
        "outputId": "96be82a7-11b0-446a-e246-965d059038f1"
      },
      "outputs": [
        {
          "name": "stdout",
          "output_type": "stream",
          "text": [
            "{}\n"
          ]
        }
      ],
      "source": [
        "# .clear() method removes the key value pair in the dictionary but not the dictionary itself. If you want to remove the dictionary then better use del key instead\n",
        "scores = {'Physics':88,'Mathematics':99}\n",
        "scores.clear()\n",
        "print(scores)"
      ]
    }
  ],
  "metadata": {
    "colab": {
      "provenance": []
    },
    "kernelspec": {
      "display_name": "modelprep",
      "language": "python",
      "name": "python3"
    },
    "language_info": {
      "codemirror_mode": {
        "name": "ipython",
        "version": 3
      },
      "file_extension": ".py",
      "mimetype": "text/x-python",
      "name": "python",
      "nbconvert_exporter": "python",
      "pygments_lexer": "ipython3",
      "version": "3.10.18"
    }
  },
  "nbformat": 4,
  "nbformat_minor": 0
}
