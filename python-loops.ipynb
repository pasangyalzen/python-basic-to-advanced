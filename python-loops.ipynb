{
 "cells": [
  {
   "cell_type": "markdown",
   "id": "dbcd4d9e",
   "metadata": {},
   "source": [
    "In Python, loops are used to repeat a block of code multiple times, making it easier to handle repetitive tasks."
   ]
  },
  {
   "cell_type": "markdown",
   "id": "462d8d6b",
   "metadata": {},
   "source": [
    "For Loop"
   ]
  },
  {
   "cell_type": "code",
   "execution_count": 39,
   "id": "009a174d",
   "metadata": {},
   "outputs": [],
   "source": [
    "num = [1,0,4]\n",
    "#Defining a list because it is iterable as we are working with a loop"
   ]
  },
  {
   "cell_type": "code",
   "execution_count": 40,
   "id": "4faa7f49",
   "metadata": {},
   "outputs": [
    {
     "name": "stdout",
     "output_type": "stream",
     "text": [
      "1\n",
      "0\n",
      "4\n"
     ]
    }
   ],
   "source": [
    "for i in num:\n",
    "    print(i)\n",
    "#Example of a loop where we iterate each of the element in the loop\n",
    "#Notice that it is printing each element and its not a list"
   ]
  },
  {
   "cell_type": "code",
   "execution_count": 41,
   "id": "6e4047cd",
   "metadata": {},
   "outputs": [
    {
     "data": {
      "text/plain": [
       "[1, 2, 3, 4, 5, 6, 7, 8]"
      ]
     },
     "execution_count": 41,
     "metadata": {},
     "output_type": "execute_result"
    }
   ],
   "source": [
    "l = [1,2,3,4,5,6,7,8]\n",
    "l"
   ]
  },
  {
   "cell_type": "code",
   "execution_count": 42,
   "id": "6f824b70",
   "metadata": {},
   "outputs": [
    {
     "name": "stdout",
     "output_type": "stream",
     "text": [
      "1\n",
      "2\n",
      "3\n",
      "4\n",
      "5\n",
      "6\n",
      "7\n",
      "8\n"
     ]
    }
   ],
   "source": [
    "for i in l:\n",
    "    print(i)"
   ]
  },
  {
   "cell_type": "code",
   "execution_count": 43,
   "id": "fbb75423",
   "metadata": {},
   "outputs": [],
   "source": [
    "l1 = []\n",
    "for i in l: \n",
    "    l1.append(i+1)\n",
    "\n",
    "#This is different because here we can see that now we will not be getting single elements printed out because we are appending it to a list we created that is l1"
   ]
  },
  {
   "cell_type": "code",
   "execution_count": 44,
   "id": "7ad46c00",
   "metadata": {},
   "outputs": [
    {
     "data": {
      "text/plain": [
       "[2, 3, 4, 5, 6, 7, 8, 9]"
      ]
     },
     "execution_count": 44,
     "metadata": {},
     "output_type": "execute_result"
    }
   ],
   "source": [
    "l1\n",
    "#New list after the append"
   ]
  },
  {
   "cell_type": "code",
   "execution_count": 45,
   "id": "854bf441",
   "metadata": {},
   "outputs": [],
   "source": [
    "l = [\"hello\" , \"world\", \"kathmandu\", \"putalisadak\"]\n",
    "#Created a list of strings all in lowercase"
   ]
  },
  {
   "cell_type": "code",
   "execution_count": 46,
   "id": "6861f56f",
   "metadata": {},
   "outputs": [
    {
     "data": {
      "text/plain": [
       "'hello'"
      ]
     },
     "execution_count": 46,
     "metadata": {},
     "output_type": "execute_result"
    }
   ],
   "source": [
    "l[0]\n",
    "#Accessing the list using the index"
   ]
  },
  {
   "cell_type": "code",
   "execution_count": 47,
   "id": "48116edb",
   "metadata": {},
   "outputs": [
    {
     "data": {
      "text/plain": [
       "'HELLO'"
      ]
     },
     "execution_count": 47,
     "metadata": {},
     "output_type": "execute_result"
    }
   ],
   "source": [
    "l[0].upper()\n",
    "#Using the function upper() for changing it to UPPERCASE"
   ]
  },
  {
   "cell_type": "code",
   "execution_count": 48,
   "id": "d7498d47",
   "metadata": {},
   "outputs": [
    {
     "data": {
      "text/plain": [
       "'WORLD'"
      ]
     },
     "execution_count": 48,
     "metadata": {},
     "output_type": "execute_result"
    }
   ],
   "source": [
    "l[1].upper()"
   ]
  },
  {
   "cell_type": "code",
   "execution_count": 49,
   "id": "7751ee55",
   "metadata": {},
   "outputs": [
    {
     "data": {
      "text/plain": [
       "['hello', 'world', 'kathmandu', 'putalisadak']"
      ]
     },
     "execution_count": 49,
     "metadata": {},
     "output_type": "execute_result"
    }
   ],
   "source": [
    "l"
   ]
  },
  {
   "cell_type": "code",
   "execution_count": 50,
   "id": "12d232c7",
   "metadata": {},
   "outputs": [
    {
     "name": "stdout",
     "output_type": "stream",
     "text": [
      "hello\n",
      "world\n",
      "kathmandu\n",
      "putalisadak\n"
     ]
    }
   ],
   "source": [
    "for i in l:\n",
    "    print(i)"
   ]
  },
  {
   "cell_type": "code",
   "execution_count": 51,
   "id": "1c23d864",
   "metadata": {},
   "outputs": [
    {
     "name": "stdout",
     "output_type": "stream",
     "text": [
      "HELLO\n",
      "WORLD\n",
      "KATHMANDU\n",
      "PUTALISADAK\n"
     ]
    }
   ],
   "source": [
    "for i in l:\n",
    "    print(i.upper())\n",
    "#Just printing out the uppercase of each elements in the list l as each elements are applied with the function upper() and its printing only the elements"
   ]
  },
  {
   "cell_type": "code",
   "execution_count": 52,
   "id": "a9b2c773",
   "metadata": {},
   "outputs": [
    {
     "data": {
      "text/plain": [
       "['hello', 'world', 'kathmandu', 'putalisadak']"
      ]
     },
     "execution_count": 52,
     "metadata": {},
     "output_type": "execute_result"
    }
   ],
   "source": [
    "l"
   ]
  },
  {
   "cell_type": "code",
   "execution_count": 53,
   "id": "ddaaf8f6",
   "metadata": {},
   "outputs": [],
   "source": [
    "l1 = []\n",
    "for i in l:\n",
    "    l1.append(i.upper())\n",
    "#Creating an empty list and appending the Capitalized elements in that empty list one by one.\n",
    "#This gives us the list instead of single elements one by one."
   ]
  },
  {
   "cell_type": "code",
   "execution_count": 54,
   "id": "aadd887e",
   "metadata": {},
   "outputs": [
    {
     "data": {
      "text/plain": [
       "['HELLO', 'WORLD', 'KATHMANDU', 'PUTALISADAK']"
      ]
     },
     "execution_count": 54,
     "metadata": {},
     "output_type": "execute_result"
    }
   ],
   "source": [
    "l1"
   ]
  },
  {
   "cell_type": "code",
   "execution_count": 55,
   "id": "25276ee5",
   "metadata": {},
   "outputs": [],
   "source": [
    "l = [1,2,3,4,5, 4.5, \"hello\", 4 + 2j]\n",
    "#This is also a list but a heterongeneous list because it contains elements with different data types "
   ]
  },
  {
   "cell_type": "code",
   "execution_count": 56,
   "id": "42d48f18",
   "metadata": {},
   "outputs": [
    {
     "data": {
      "text/plain": [
       "int"
      ]
     },
     "execution_count": 56,
     "metadata": {},
     "output_type": "execute_result"
    }
   ],
   "source": [
    "type(l[1])\n",
    "#using the type() function for printing out the type of second element of the list "
   ]
  },
  {
   "cell_type": "code",
   "execution_count": 57,
   "id": "ae68e17c",
   "metadata": {},
   "outputs": [
    {
     "data": {
      "text/plain": [
       "complex"
      ]
     },
     "execution_count": 57,
     "metadata": {},
     "output_type": "execute_result"
    }
   ],
   "source": [
    "type(l[-1])"
   ]
  },
  {
   "cell_type": "code",
   "execution_count": 58,
   "id": "6eb7c6e9",
   "metadata": {},
   "outputs": [
    {
     "name": "stdout",
     "output_type": "stream",
     "text": [
      "<class 'int'>\n",
      "<class 'int'>\n",
      "<class 'int'>\n",
      "<class 'int'>\n",
      "<class 'int'>\n",
      "<class 'float'>\n",
      "<class 'str'>\n",
      "<class 'complex'>\n"
     ]
    }
   ],
   "source": [
    "for i in l: \n",
    "    print(type(i))\n",
    "\n",
    "#printing out the type of each of the elements of the list l"
   ]
  },
  {
   "cell_type": "code",
   "execution_count": 59,
   "id": "ce0be801",
   "metadata": {},
   "outputs": [
    {
     "data": {
      "text/plain": [
       "[1, 2, 3, 4, 5, 4.5, 'hello', (4+2j)]"
      ]
     },
     "execution_count": 59,
     "metadata": {},
     "output_type": "execute_result"
    }
   ],
   "source": [
    "l"
   ]
  },
  {
   "cell_type": "code",
   "execution_count": 60,
   "id": "2ea5c3de",
   "metadata": {},
   "outputs": [],
   "source": [
    "integer = []\n",
    "decimal = []\n",
    "boolean = []\n",
    "strings = []\n",
    "complexes = []\n",
    "for i in [1,2,3,4.55,'a',4-8j,True, False, True,'b','c',3+1j]:\n",
    "    if type(i) == int:\n",
    "        integer.append(i)\n",
    "    elif type(i) == float:\n",
    "        decimal.append(i)\n",
    "    elif type(i) == bool:\n",
    "        boolean.append(i)\n",
    "    elif type(i) == str:\n",
    "        strings.append(i)\n",
    "    elif type(i) == complex:\n",
    "        complexes.append(i)\n",
    "    "
   ]
  },
  {
   "cell_type": "code",
   "execution_count": 61,
   "id": "b91730a5",
   "metadata": {},
   "outputs": [
    {
     "name": "stdout",
     "output_type": "stream",
     "text": [
      "Integer [1, 2, 3]\n",
      "Decimal [4.55]\n",
      "Boolean [True, False, True]\n",
      "Strings ['a', 'b', 'c']\n",
      "Complexes [(4-8j), (3+1j)]\n"
     ]
    }
   ],
   "source": [
    "print(\"Integer\", integer)\n",
    "print(\"Decimal\", decimal)\n",
    "print(\"Boolean\", boolean)\n",
    "print(\"Strings\", strings)\n",
    "print(\"Complexes\", complexes)"
   ]
  },
  {
   "cell_type": "code",
   "execution_count": 62,
   "id": "000050ee",
   "metadata": {},
   "outputs": [
    {
     "name": "stdout",
     "output_type": "stream",
     "text": [
      "1 <class 'int'>\n",
      "2 <class 'int'>\n",
      "3.45 <class 'float'>\n",
      "ktm <class 'str'>\n",
      "True <class 'bool'>\n",
      "(5+3j) <class 'complex'>\n"
     ]
    }
   ],
   "source": [
    "t = (1,2,3.45,'ktm',True,(5+3j))\n",
    "for i in t:\n",
    "    print(i,type(i))\n",
    "\n",
    "#Created a tuple and printed out the element and its type"
   ]
  },
  {
   "cell_type": "code",
   "execution_count": 63,
   "id": "b74e8bb3",
   "metadata": {},
   "outputs": [
    {
     "name": "stdout",
     "output_type": "stream",
     "text": [
      "1 <class 'int'>\n",
      "(1, 2, 3.45, 'ktm', True, (5+3j))\n",
      "2 <class 'int'>\n",
      "(1, 2, 3.45, 'ktm', True, (5+3j))\n",
      "3.45 <class 'float'>\n",
      "(1, 2, 3.45, 'ktm', True, (5+3j))\n",
      "ktm <class 'str'>\n",
      "(1, 2, 3.45, 'ktm', True, (5+3j))\n",
      "True <class 'bool'>\n",
      "(1, 2, 3.45, 'ktm', True, (5+3j))\n",
      "(5+3j) <class 'complex'>\n",
      "(1, 2, 3.45, 'ktm', True, (5+3j))\n"
     ]
    }
   ],
   "source": [
    "t = (1,2,3.45,'ktm',True,(5+3j))\n",
    "for i in t:\n",
    "    print(i,type(i))\n",
    "    print(t)\n",
    "\n",
    "#Output when printing the tuple inside the loop"
   ]
  },
  {
   "cell_type": "code",
   "execution_count": 64,
   "id": "8b64f4f7",
   "metadata": {},
   "outputs": [
    {
     "name": "stdout",
     "output_type": "stream",
     "text": [
      "1 <class 'int'>\n",
      "2 <class 'int'>\n",
      "3.45 <class 'float'>\n",
      "ktm <class 'str'>\n",
      "True <class 'bool'>\n",
      "(5+3j) <class 'complex'>\n",
      "(1, 2, 3.45, 'ktm', True, (5+3j))\n"
     ]
    }
   ],
   "source": [
    "t = (1,2,3.45,'ktm',True,(5+3j))\n",
    "for i in t:\n",
    "    print(i,type(i))\n",
    "print(t)\n",
    "\n",
    "\n",
    "#Output when printing the tuple outside the loop"
   ]
  },
  {
   "cell_type": "code",
   "execution_count": 65,
   "id": "283ccb83",
   "metadata": {},
   "outputs": [
    {
     "name": "stdout",
     "output_type": "stream",
     "text": [
      "ktm city\n",
      "pkr city\n",
      "bkt city\n",
      "brt city\n"
     ]
    }
   ],
   "source": [
    "l1 = [\"ktm\",\"pkr\",\"bkt\",\"brt\"]\n",
    "for k in l1:\n",
    "    print(k, \"city\")"
   ]
  },
  {
   "cell_type": "code",
   "execution_count": 66,
   "id": "9255a032",
   "metadata": {},
   "outputs": [
    {
     "name": "stdout",
     "output_type": "stream",
     "text": [
      "The value of varaible is a\n"
     ]
    }
   ],
   "source": [
    "a = 4 \n",
    "print(\"The value of varaible is a\")"
   ]
  },
  {
   "cell_type": "code",
   "execution_count": 67,
   "id": "1694a380",
   "metadata": {},
   "outputs": [
    {
     "name": "stdout",
     "output_type": "stream",
     "text": [
      "The value of variable is 4\n"
     ]
    }
   ],
   "source": [
    "#Use of the f string \n",
    "print(f\"The value of variable is {a}\")"
   ]
  },
  {
   "cell_type": "code",
   "execution_count": 68,
   "id": "5ede0687",
   "metadata": {},
   "outputs": [
    {
     "name": "stdout",
     "output_type": "stream",
     "text": [
      "ktm city\n",
      "pkr city\n",
      "bkt city\n",
      "brt city\n"
     ]
    }
   ],
   "source": [
    "l1 = [\"ktm\",\"pkr\",\"bkt\",\"brt\"]\n",
    "for k in l1:\n",
    "    print(f\"{k} city\")"
   ]
  },
  {
   "cell_type": "code",
   "execution_count": 69,
   "id": "d6cc4119",
   "metadata": {},
   "outputs": [
    {
     "name": "stdout",
     "output_type": "stream",
     "text": [
      "ktm city\n",
      "pkr city\n",
      "bkt city\n",
      "brt city\n"
     ]
    }
   ],
   "source": [
    "l1 = [\"ktm\",\"pkr\",\"bkt\",\"brt\"]\n",
    "for k in l1:\n",
    "    print(\"{} city\". format(k))\n",
    "#Old version of string manipulation. Works similarly as f string manipulation"
   ]
  },
  {
   "cell_type": "code",
   "execution_count": null,
   "id": "cd720664",
   "metadata": {},
   "outputs": [],
   "source": []
  },
  {
   "cell_type": "code",
   "execution_count": 70,
   "id": "804facbb",
   "metadata": {},
   "outputs": [
    {
     "data": {
      "text/plain": [
       "['ktm', 'pkr', 'bkt', 'brt']"
      ]
     },
     "execution_count": 70,
     "metadata": {},
     "output_type": "execute_result"
    }
   ],
   "source": [
    "l1"
   ]
  },
  {
   "cell_type": "code",
   "execution_count": 71,
   "id": "b7a0a805",
   "metadata": {},
   "outputs": [
    {
     "name": "stdout",
     "output_type": "stream",
     "text": [
      "ktm\n"
     ]
    }
   ],
   "source": [
    "for i in l1:\n",
    "    if i == \"pkr\":\n",
    "        break\n",
    "    print(i)\n",
    "#Applying a conditional statement for a loop so if the condition is satisfied the loop is stopped."
   ]
  },
  {
   "cell_type": "code",
   "execution_count": 72,
   "id": "12da4647",
   "metadata": {},
   "outputs": [
    {
     "name": "stdout",
     "output_type": "stream",
     "text": [
      "ktm\n",
      "abcd\n"
     ]
    }
   ],
   "source": [
    "for i in l1:\n",
    "    print(i)\n",
    "    break\n",
    "print('abcd')"
   ]
  },
  {
   "cell_type": "code",
   "execution_count": 73,
   "id": "a8b7c98b",
   "metadata": {},
   "outputs": [
    {
     "name": "stdout",
     "output_type": "stream",
     "text": [
      "ktm\n",
      "pkr\n"
     ]
    }
   ],
   "source": [
    "for j in l1: \n",
    "    if j == \"bkt\":\n",
    "        break\n",
    "    print(j)\n",
    "else:\n",
    "    print(\"Execute this\")"
   ]
  },
  {
   "cell_type": "code",
   "execution_count": 74,
   "id": "5a145bd0",
   "metadata": {},
   "outputs": [],
   "source": [
    "l1 = [\"kathmandu\", \"bhaktapur\", \"lalitpur\", \"biratnagar\"]"
   ]
  },
  {
   "cell_type": "code",
   "execution_count": 75,
   "id": "1c10b3e2",
   "metadata": {},
   "outputs": [
    {
     "name": "stdout",
     "output_type": "stream",
     "text": [
      "kathmandu\n",
      "lalitpur\n",
      "biratnagar\n"
     ]
    }
   ],
   "source": [
    "for i in l1:\n",
    "    if i == \"bhaktapur\":\n",
    "        continue\n",
    "    print(i)"
   ]
  },
  {
   "cell_type": "code",
   "execution_count": 76,
   "id": "cc488d12",
   "metadata": {},
   "outputs": [
    {
     "name": "stdout",
     "output_type": "stream",
     "text": [
      "The loop is outside the if condition\n",
      "The loop is outside the if condition\n",
      "The loop is outside the if condition\n"
     ]
    }
   ],
   "source": [
    "for i in l1:\n",
    "    if i == \"lalitpur\":\n",
    "        continue\n",
    "    else:\n",
    "        print(\"The loop is outside the if condition\")"
   ]
  },
  {
   "cell_type": "markdown",
   "id": "cac0bad0",
   "metadata": {},
   "source": [
    "Indentation is extremely important in Python because it’s how the language defines code blocks — such as those for loops, conditionals, functions, and classes. Unlike many other languages that use braces {} or keywords like end, Python uses whitespace (indentation) to mark the beginning and end of a block of code"
   ]
  },
  {
   "cell_type": "markdown",
   "id": "bbfa1870",
   "metadata": {},
   "source": [
    "The use of range() in bullet points:\n",
    "\t•\tGenerates a sequence of numbers (start, stop, step)\n",
    "\t•\tCommonly used for looping a fixed number of times\n",
    "\t•\tEfficient in memory (does not store all values)\n",
    "\t•\tUsed to iterate over indices in lists or arrays\n",
    "\t•\tSupports forward and backward counting\n",
    "\t•\tHandy for creating synthetic data\n",
    "\t•\tCan be used in list comprehensions\n",
    "\t•\tUseful in simulations and repetitive tasks\n",
    "\t•\tHelps in looping without creating large lists manually\n",
    "\t•\tSupports stepping to skip numbers in sequence"
   ]
  },
  {
   "cell_type": "code",
   "execution_count": 79,
   "id": "386db644",
   "metadata": {},
   "outputs": [
    {
     "data": {
      "text/plain": [
       "range(0, 5)"
      ]
     },
     "execution_count": 79,
     "metadata": {},
     "output_type": "execute_result"
    }
   ],
   "source": [
    "range(5)\n",
    "#This is a generator function "
   ]
  },
  {
   "cell_type": "code",
   "execution_count": null,
   "id": "96c8a8e0",
   "metadata": {},
   "outputs": [
    {
     "data": {
      "text/plain": [
       "range(0, 50)"
      ]
     },
     "execution_count": 81,
     "metadata": {},
     "output_type": "execute_result"
    }
   ],
   "source": [
    "range(50)\n",
    "#  The start is 0 by default if not passed and the step is always 1 by default.\n",
    "#Generates data from 0 to 49"
   ]
  },
  {
   "cell_type": "code",
   "execution_count": null,
   "id": "0610b761",
   "metadata": {},
   "outputs": [
    {
     "data": {
      "text/plain": [
       "(0, 1, 2, 3, 4, 5, 6, 7, 8, 9, 10, 11, 12, 13, 14, 15, 16, 17, 18, 19)"
      ]
     },
     "execution_count": 83,
     "metadata": {},
     "output_type": "execute_result"
    }
   ],
   "source": [
    "tuple(range(20))\n",
    "#Create a tuple of the given range."
   ]
  },
  {
   "cell_type": "code",
   "execution_count": null,
   "id": "b8b9f962",
   "metadata": {},
   "outputs": [
    {
     "data": {
      "text/plain": [
       "[0, 1, 2, 3, 4, 5, 6, 7, 8, 9]"
      ]
     },
     "execution_count": 84,
     "metadata": {},
     "output_type": "execute_result"
    }
   ],
   "source": [
    "list(range(10))\n",
    "#Creates a list of data of the given range"
   ]
  },
  {
   "cell_type": "code",
   "execution_count": null,
   "id": "fe6b21e3",
   "metadata": {},
   "outputs": [
    {
     "data": {
      "text/plain": [
       "[3, 4, 5, 6, 7, 8, 9]"
      ]
     },
     "execution_count": 85,
     "metadata": {},
     "output_type": "execute_result"
    }
   ],
   "source": [
    "list(range(3,10))\n",
    "#Creates a list of data of the given range with start and end as argument, the step is 1 as it is not passed for now"
   ]
  },
  {
   "cell_type": "code",
   "execution_count": null,
   "id": "594e95f5",
   "metadata": {},
   "outputs": [
    {
     "data": {
      "text/plain": [
       "[3, 5, 7, 9]"
      ]
     },
     "execution_count": 87,
     "metadata": {},
     "output_type": "execute_result"
    }
   ],
   "source": [
    "list(range(3,10,2))\n",
    "#Similar to slicing start end and step are the arguments of range\n",
    "#Step is added so the values will jump by 2 "
   ]
  },
  {
   "cell_type": "code",
   "execution_count": null,
   "id": "0528bb60",
   "metadata": {},
   "outputs": [
    {
     "data": {
      "text/plain": [
       "[-20, -18, -16, -14, -12, -10, -8, -6]"
      ]
     },
     "execution_count": 91,
     "metadata": {},
     "output_type": "execute_result"
    }
   ],
   "source": [
    "list(range(-20,-5,2))\n",
    "#Use of negative indexing similar to that when using slicing. Works the same as slicing"
   ]
  },
  {
   "cell_type": "code",
   "execution_count": null,
   "id": "d860ce31",
   "metadata": {},
   "outputs": [
    {
     "data": {
      "text/plain": [
       "[]"
      ]
     },
     "execution_count": 171,
     "metadata": {},
     "output_type": "execute_result"
    }
   ],
   "source": [
    "list(range(-20,-5,-2))\n",
    "#Creates a conflict and return an empty list\n",
    "#Since the negative step take the element from right to left. This will exceed the given start and end\n"
   ]
  },
  {
   "cell_type": "code",
   "execution_count": 95,
   "id": "f3d67d11",
   "metadata": {},
   "outputs": [],
   "source": [
    "l1 = [1,2,3,4]"
   ]
  },
  {
   "cell_type": "code",
   "execution_count": 172,
   "id": "3ada51b0",
   "metadata": {},
   "outputs": [
    {
     "data": {
      "text/plain": [
       "range(0, 3)"
      ]
     },
     "execution_count": 172,
     "metadata": {},
     "output_type": "execute_result"
    }
   ],
   "source": [
    "range(len(l1))\n",
    "#range(len(l1)) lets you loop over a list by index.\n"
   ]
  },
  {
   "cell_type": "code",
   "execution_count": 99,
   "id": "7fa04ba7",
   "metadata": {},
   "outputs": [
    {
     "data": {
      "text/plain": [
       "[0, 1, 2, 3]"
      ]
     },
     "execution_count": 99,
     "metadata": {},
     "output_type": "execute_result"
    }
   ],
   "source": [
    "list(range(len(l1)))"
   ]
  },
  {
   "cell_type": "code",
   "execution_count": 100,
   "id": "184a0f89",
   "metadata": {},
   "outputs": [
    {
     "name": "stdout",
     "output_type": "stream",
     "text": [
      "1\n",
      "2\n",
      "3\n",
      "4\n"
     ]
    }
   ],
   "source": [
    "for i in l1:\n",
    "    print (i)"
   ]
  },
  {
   "cell_type": "code",
   "execution_count": 101,
   "id": "863d1fd9",
   "metadata": {},
   "outputs": [
    {
     "name": "stdout",
     "output_type": "stream",
     "text": [
      "1\n",
      "2\n",
      "3\n",
      "4\n"
     ]
    }
   ],
   "source": [
    "for i in range(len(l1)):\n",
    "    print(l1[i])"
   ]
  },
  {
   "cell_type": "code",
   "execution_count": 102,
   "id": "92547edb",
   "metadata": {},
   "outputs": [],
   "source": [
    "l1 = [\"kathmandu\",\"bhaktapur\",\"lalitpur\",\"biratnagar\"]"
   ]
  },
  {
   "cell_type": "code",
   "execution_count": 103,
   "id": "1b9a04f9",
   "metadata": {},
   "outputs": [
    {
     "name": "stdout",
     "output_type": "stream",
     "text": [
      "kathmandu\n",
      "bhaktapur\n",
      "lalitpur\n",
      "biratnagar\n"
     ]
    }
   ],
   "source": [
    "for i in range(len(l1)):\n",
    "    print(l1[i])\n",
    "    "
   ]
  },
  {
   "cell_type": "code",
   "execution_count": 104,
   "id": "2e4aab87",
   "metadata": {},
   "outputs": [
    {
     "data": {
      "text/plain": [
       "range(4, -3, -1)"
      ]
     },
     "execution_count": 104,
     "metadata": {},
     "output_type": "execute_result"
    }
   ],
   "source": [
    "range(4,-3,-1)"
   ]
  },
  {
   "cell_type": "code",
   "execution_count": 105,
   "id": "1ed50af6",
   "metadata": {},
   "outputs": [
    {
     "data": {
      "text/plain": [
       "[4, 3, 2, 1, 0, -1, -2]"
      ]
     },
     "execution_count": 105,
     "metadata": {},
     "output_type": "execute_result"
    }
   ],
   "source": [
    "list(range(4,-3,-1))"
   ]
  },
  {
   "cell_type": "code",
   "execution_count": 106,
   "id": "75bbad2d",
   "metadata": {},
   "outputs": [
    {
     "data": {
      "text/plain": [
       "[6, 5, 4, 3, 2, 1, 0, -1, -2, -3, -4, -5, -6]"
      ]
     },
     "execution_count": 106,
     "metadata": {},
     "output_type": "execute_result"
    }
   ],
   "source": [
    "list(range(6,-7,-1))"
   ]
  },
  {
   "cell_type": "code",
   "execution_count": 107,
   "id": "e6f2df6d",
   "metadata": {},
   "outputs": [
    {
     "data": {
      "text/plain": [
       "['kathmandu', 'bhaktapur', 'lalitpur', 'biratnagar']"
      ]
     },
     "execution_count": 107,
     "metadata": {},
     "output_type": "execute_result"
    }
   ],
   "source": [
    "l1 \n"
   ]
  },
  {
   "cell_type": "code",
   "execution_count": 108,
   "id": "f4ce1ff7",
   "metadata": {},
   "outputs": [
    {
     "data": {
      "text/plain": [
       "[3, 2, 1, 0]"
      ]
     },
     "execution_count": 108,
     "metadata": {},
     "output_type": "execute_result"
    }
   ],
   "source": [
    "list(range(len(l1)-1,-1,-1))"
   ]
  },
  {
   "cell_type": "code",
   "execution_count": 110,
   "id": "9322a575",
   "metadata": {},
   "outputs": [
    {
     "data": {
      "text/plain": [
       "['kathmandu', 'bhaktapur', 'lalitpur', 'biratnagar']"
      ]
     },
     "execution_count": 110,
     "metadata": {},
     "output_type": "execute_result"
    }
   ],
   "source": [
    "l1"
   ]
  },
  {
   "cell_type": "code",
   "execution_count": 111,
   "id": "64d7c12b",
   "metadata": {},
   "outputs": [
    {
     "name": "stdout",
     "output_type": "stream",
     "text": [
      "biratnagar\n",
      "lalitpur\n",
      "bhaktapur\n",
      "kathmandu\n"
     ]
    }
   ],
   "source": [
    "for i in range(len(l1)-1,-1,-1):\n",
    "    print(l1[i])"
   ]
  },
  {
   "cell_type": "code",
   "execution_count": 113,
   "id": "090cdd1f",
   "metadata": {},
   "outputs": [],
   "source": [
    "l2 = [23,5,445,46,44,32,11,55,654,45,8]"
   ]
  },
  {
   "cell_type": "code",
   "execution_count": 114,
   "id": "a2a66931",
   "metadata": {},
   "outputs": [
    {
     "data": {
      "text/plain": [
       "11"
      ]
     },
     "execution_count": 114,
     "metadata": {},
     "output_type": "execute_result"
    }
   ],
   "source": [
    "len(l2)"
   ]
  },
  {
   "cell_type": "code",
   "execution_count": 116,
   "id": "0ce7405e",
   "metadata": {},
   "outputs": [
    {
     "data": {
      "text/plain": [
       "range(0, 11, 2)"
      ]
     },
     "execution_count": 116,
     "metadata": {},
     "output_type": "execute_result"
    }
   ],
   "source": [
    "range(0,len(l2),2)"
   ]
  },
  {
   "cell_type": "code",
   "execution_count": 118,
   "id": "7ffdbdfb",
   "metadata": {},
   "outputs": [
    {
     "data": {
      "text/plain": [
       "{0, 2, 4, 6, 8, 10}"
      ]
     },
     "execution_count": 118,
     "metadata": {},
     "output_type": "execute_result"
    }
   ],
   "source": [
    "set(range(0,len(l2),2))"
   ]
  },
  {
   "cell_type": "code",
   "execution_count": 120,
   "id": "9c530ba2",
   "metadata": {},
   "outputs": [
    {
     "data": {
      "text/plain": [
       "[0, 2, 4, 6, 8, 10]"
      ]
     },
     "execution_count": 120,
     "metadata": {},
     "output_type": "execute_result"
    }
   ],
   "source": [
    "list(range(0,len(l2),2))"
   ]
  },
  {
   "cell_type": "code",
   "execution_count": 122,
   "id": "02512db7",
   "metadata": {},
   "outputs": [
    {
     "data": {
      "text/plain": [
       "[23, 5, 445, 46, 44, 32, 11, 55, 654, 45, 8]"
      ]
     },
     "execution_count": 122,
     "metadata": {},
     "output_type": "execute_result"
    }
   ],
   "source": [
    "l2"
   ]
  },
  {
   "cell_type": "code",
   "execution_count": 124,
   "id": "2595aa56",
   "metadata": {},
   "outputs": [
    {
     "data": {
      "text/plain": [
       "11"
      ]
     },
     "execution_count": 124,
     "metadata": {},
     "output_type": "execute_result"
    }
   ],
   "source": [
    "len(l2)"
   ]
  },
  {
   "cell_type": "code",
   "execution_count": 126,
   "id": "219ffcb8",
   "metadata": {},
   "outputs": [
    {
     "name": "stdout",
     "output_type": "stream",
     "text": [
      "0\n",
      "2\n",
      "4\n",
      "6\n",
      "8\n",
      "10\n"
     ]
    }
   ],
   "source": [
    "k = list(range(0,len(l2),2))\n",
    "for i in k:\n",
    "    print(i)"
   ]
  },
  {
   "cell_type": "code",
   "execution_count": 129,
   "id": "af73d861",
   "metadata": {},
   "outputs": [
    {
     "name": "stdout",
     "output_type": "stream",
     "text": [
      "23\n",
      "445\n",
      "44\n",
      "11\n",
      "654\n",
      "8\n",
      "[0, 2, 4, 6, 8, 10]\n"
     ]
    }
   ],
   "source": [
    "for i in list(range(0,len(l2),2)):\n",
    "    print(l2[i])\n",
    "print(k)"
   ]
  },
  {
   "cell_type": "code",
   "execution_count": 131,
   "id": "6de8f2c3",
   "metadata": {},
   "outputs": [],
   "source": [
    "l = [1,2,3,4,5,6,7,8,44,55,66,68,44,33,22,23,True,34.5]"
   ]
  },
  {
   "cell_type": "code",
   "execution_count": 132,
   "id": "7069eeec",
   "metadata": {},
   "outputs": [
    {
     "data": {
      "text/plain": [
       "426.5"
      ]
     },
     "execution_count": 132,
     "metadata": {},
     "output_type": "execute_result"
    }
   ],
   "source": [
    "sum(l)"
   ]
  },
  {
   "cell_type": "code",
   "execution_count": 135,
   "id": "5680d1a7",
   "metadata": {},
   "outputs": [
    {
     "data": {
      "text/plain": [
       "18"
      ]
     },
     "execution_count": 135,
     "metadata": {},
     "output_type": "execute_result"
    }
   ],
   "source": [
    "l1 = [5,6,7]\n",
    "sum(l1)"
   ]
  },
  {
   "cell_type": "code",
   "execution_count": 136,
   "id": "9f16a2bd",
   "metadata": {},
   "outputs": [
    {
     "ename": "TypeError",
     "evalue": "unsupported operand type(s) for +: 'int' and 'str'",
     "output_type": "error",
     "traceback": [
      "\u001b[0;31m---------------------------------------------------------------------------\u001b[0m",
      "\u001b[0;31mTypeError\u001b[0m                                 Traceback (most recent call last)",
      "Cell \u001b[0;32mIn[136], line 2\u001b[0m\n\u001b[1;32m      1\u001b[0m lst \u001b[38;5;241m=\u001b[39m [\u001b[38;5;124m'\u001b[39m\u001b[38;5;124ma\u001b[39m\u001b[38;5;124m'\u001b[39m,\u001b[38;5;124m'\u001b[39m\u001b[38;5;124mb\u001b[39m\u001b[38;5;124m'\u001b[39m,\u001b[38;5;124m'\u001b[39m\u001b[38;5;124mc\u001b[39m\u001b[38;5;124m'\u001b[39m]\n\u001b[0;32m----> 2\u001b[0m \u001b[38;5;28;43msum\u001b[39;49m\u001b[43m(\u001b[49m\u001b[43mlst\u001b[49m\u001b[43m)\u001b[49m\n",
      "\u001b[0;31mTypeError\u001b[0m: unsupported operand type(s) for +: 'int' and 'str'"
     ]
    }
   ],
   "source": [
    "lst = ['a','b','c']\n",
    "sum(lst)"
   ]
  },
  {
   "cell_type": "code",
   "execution_count": 137,
   "id": "32fbc3a8",
   "metadata": {},
   "outputs": [
    {
     "data": {
      "text/plain": [
       "'abc'"
      ]
     },
     "execution_count": 137,
     "metadata": {},
     "output_type": "execute_result"
    }
   ],
   "source": [
    "'a' + 'b' + 'c'"
   ]
  },
  {
   "cell_type": "code",
   "execution_count": 138,
   "id": "51b048b8",
   "metadata": {},
   "outputs": [
    {
     "data": {
      "text/plain": [
       "9"
      ]
     },
     "execution_count": 138,
     "metadata": {},
     "output_type": "execute_result"
    }
   ],
   "source": [
    "t = (4,5)\n",
    "sum(t)"
   ]
  },
  {
   "cell_type": "code",
   "execution_count": 140,
   "id": "16de01e9",
   "metadata": {},
   "outputs": [
    {
     "data": {
      "text/plain": [
       "80"
      ]
     },
     "execution_count": 140,
     "metadata": {},
     "output_type": "execute_result"
    }
   ],
   "source": [
    "set = {12,23,45}\n",
    "sum(set)"
   ]
  },
  {
   "cell_type": "code",
   "execution_count": 142,
   "id": "e8df577b",
   "metadata": {},
   "outputs": [
    {
     "data": {
      "text/plain": [
       "9"
      ]
     },
     "execution_count": 142,
     "metadata": {},
     "output_type": "execute_result"
    }
   ],
   "source": [
    "l3 = [2,3,4]\n",
    "sum(l3)"
   ]
  },
  {
   "cell_type": "code",
   "execution_count": 144,
   "id": "0844a29e",
   "metadata": {},
   "outputs": [
    {
     "name": "stdout",
     "output_type": "stream",
     "text": [
      "9\n"
     ]
    }
   ],
   "source": [
    "result = 0\n",
    "#should be initialized with 0\n",
    "for i in l3:\n",
    "    result = result +i \n",
    "print(result)"
   ]
  },
  {
   "cell_type": "code",
   "execution_count": 146,
   "id": "5297790d",
   "metadata": {},
   "outputs": [
    {
     "name": "stdout",
     "output_type": "stream",
     "text": [
      "4\n",
      "5\n"
     ]
    }
   ],
   "source": [
    "for i in t:\n",
    "    print (i)\n",
    "    "
   ]
  },
  {
   "cell_type": "code",
   "execution_count": 148,
   "id": "525ccffa",
   "metadata": {},
   "outputs": [
    {
     "name": "stdout",
     "output_type": "stream",
     "text": [
      "9\n"
     ]
    }
   ],
   "source": [
    "result = 0\n",
    "for i in t: \n",
    "    result = result + i\n",
    "print(result)"
   ]
  },
  {
   "cell_type": "code",
   "execution_count": 150,
   "id": "ff500f5a",
   "metadata": {},
   "outputs": [
    {
     "data": {
      "text/plain": [
       "{1, 2, 3, 4, 5}"
      ]
     },
     "execution_count": 150,
     "metadata": {},
     "output_type": "execute_result"
    }
   ],
   "source": [
    "s = {1,2,3,4,5}\n",
    "s "
   ]
  },
  {
   "cell_type": "code",
   "execution_count": 152,
   "id": "37a7f1fe",
   "metadata": {},
   "outputs": [
    {
     "name": "stdout",
     "output_type": "stream",
     "text": [
      "1\n",
      "2\n",
      "3\n",
      "4\n",
      "5\n"
     ]
    }
   ],
   "source": [
    "for nepal in s:\n",
    "    print(nepal)\n",
    "#Can be read as for varaible in iterable"
   ]
  },
  {
   "cell_type": "code",
   "execution_count": null,
   "id": "e732527f",
   "metadata": {},
   "outputs": [],
   "source": []
  },
  {
   "cell_type": "code",
   "execution_count": 153,
   "id": "fcd94711",
   "metadata": {},
   "outputs": [],
   "source": [
    "s1 = \"bhaktapur\""
   ]
  },
  {
   "cell_type": "code",
   "execution_count": 156,
   "id": "d22b9cb3",
   "metadata": {},
   "outputs": [
    {
     "name": "stdout",
     "output_type": "stream",
     "text": [
      "['b']\n",
      "['h']\n",
      "['a']\n",
      "['k']\n",
      "['t']\n",
      "['a']\n",
      "['p']\n",
      "['u']\n",
      "['r']\n"
     ]
    }
   ],
   "source": [
    "for i in s1:\n",
    "    print([i])"
   ]
  },
  {
   "cell_type": "code",
   "execution_count": 159,
   "id": "8608f2b9",
   "metadata": {},
   "outputs": [],
   "source": [
    "d = {\n",
    "    \"name\" : \"john\",\n",
    "    \"class\" :\"data analysis and science\",\n",
    "    \"topic\" : [\"python\",\"numpy\",\"pandas\",\"sql\",\"da\",\"ml\"]\n",
    "}\n"
   ]
  },
  {
   "cell_type": "code",
   "execution_count": 162,
   "id": "9546df12",
   "metadata": {},
   "outputs": [
    {
     "data": {
      "text/plain": [
       "'john'"
      ]
     },
     "execution_count": 162,
     "metadata": {},
     "output_type": "execute_result"
    }
   ],
   "source": [
    "d[\"name\"]"
   ]
  },
  {
   "cell_type": "code",
   "execution_count": 164,
   "id": "db4452f2",
   "metadata": {},
   "outputs": [
    {
     "data": {
      "text/plain": [
       "dict_keys(['name', 'class', 'topic'])"
      ]
     },
     "execution_count": 164,
     "metadata": {},
     "output_type": "execute_result"
    }
   ],
   "source": [
    "d.keys()"
   ]
  },
  {
   "cell_type": "code",
   "execution_count": 166,
   "id": "275f4c1f",
   "metadata": {},
   "outputs": [
    {
     "data": {
      "text/plain": [
       "{'name': 'john',\n",
       " 'class': 'data analysis and science',\n",
       " 'topic': ['python', 'numpy', 'pandas', 'sql', 'da', 'ml']}"
      ]
     },
     "execution_count": 166,
     "metadata": {},
     "output_type": "execute_result"
    }
   ],
   "source": [
    "d"
   ]
  },
  {
   "cell_type": "code",
   "execution_count": null,
   "id": "326bdf00",
   "metadata": {},
   "outputs": [
    {
     "name": "stdout",
     "output_type": "stream",
     "text": [
      "john\n",
      "data analysis and science\n",
      "['python', 'numpy', 'pandas', 'sql', 'da', 'ml']\n"
     ]
    }
   ],
   "source": [
    "for i in d.keys():\n",
    "    print(d[i])"
   ]
  },
  {
   "cell_type": "markdown",
   "id": "0482fb5b",
   "metadata": {},
   "source": [
    "While loop"
   ]
  },
  {
   "cell_type": "markdown",
   "id": "b00dfb2b",
   "metadata": {},
   "source": [
    "While loop is used when we need to run specific block of code until a condition is met\n",
    "\n",
    "There is always a problem of infinite loop in while loop"
   ]
  },
  {
   "cell_type": "code",
   "execution_count": 169,
   "id": "298a0610",
   "metadata": {},
   "outputs": [
    {
     "name": "stdout",
     "output_type": "stream",
     "text": [
      "1\n",
      "2\n",
      "3\n",
      "4\n",
      "5\n",
      "6\n",
      "7\n",
      "8\n",
      "9\n",
      "10\n"
     ]
    }
   ],
   "source": [
    "a = 1 \n",
    "while a <= 10:\n",
    "    print(a)\n",
    "    a = a + 1\n",
    "\n",
    "#when <= use '+'\n",
    "#when >= use '-'\n",
    " "
   ]
  },
  {
   "cell_type": "code",
   "execution_count": 170,
   "id": "46f895f4",
   "metadata": {},
   "outputs": [
    {
     "name": "stdout",
     "output_type": "stream",
     "text": [
      "The total sum is:  10\n"
     ]
    }
   ],
   "source": [
    "#sum of number till some point\n",
    "n = int(input(\"Please enter your number: \"))\n",
    "sum = 0 \n",
    "counter = 1 \n",
    "\n",
    "while counter <= n:\n",
    "    sum = sum + counter\n",
    "    counter = counter + 1\n",
    "print(\"The total sum is: \", sum)"
   ]
  },
  {
   "cell_type": "code",
   "execution_count": null,
   "id": "ba1efa2e",
   "metadata": {},
   "outputs": [],
   "source": [
    "# number = int(input(\"Enter a number which is positive : \"))\n",
    "# factorial = "
   ]
  }
 ],
 "metadata": {
  "kernelspec": {
   "display_name": "modelprep",
   "language": "python",
   "name": "python3"
  },
  "language_info": {
   "codemirror_mode": {
    "name": "ipython",
    "version": 3
   },
   "file_extension": ".py",
   "mimetype": "text/x-python",
   "name": "python",
   "nbconvert_exporter": "python",
   "pygments_lexer": "ipython3",
   "version": "3.10.18"
  }
 },
 "nbformat": 4,
 "nbformat_minor": 5
}
