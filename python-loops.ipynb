{
 "cells": [
  {
   "cell_type": "markdown",
   "id": "dbcd4d9e",
   "metadata": {},
   "source": [
    "In Python, loops are used to repeat a block of code multiple times, making it easier to handle repetitive tasks."
   ]
  },
  {
   "cell_type": "markdown",
   "id": "462d8d6b",
   "metadata": {},
   "source": []
  },
  {
   "cell_type": "code",
   "execution_count": null,
   "id": "009a174d",
   "metadata": {},
   "outputs": [],
   "source": [
    "num = [1,0,4]\n",
    "#Defining a list because it is iterable as we are working with a loop"
   ]
  },
  {
   "cell_type": "code",
   "execution_count": null,
   "id": "4faa7f49",
   "metadata": {},
   "outputs": [
    {
     "name": "stdout",
     "output_type": "stream",
     "text": [
      "1\n",
      "0\n",
      "4\n"
     ]
    }
   ],
   "source": [
    "for i in num:\n",
    "    print(i)\n",
    "#Example of a loop where we iterate each of the element in the loop\n",
    "#Notice that it is printing each element and its not a list"
   ]
  },
  {
   "cell_type": "code",
   "execution_count": 5,
   "id": "6e4047cd",
   "metadata": {},
   "outputs": [
    {
     "data": {
      "text/plain": [
       "[1, 2, 3, 4, 5, 6, 7, 8]"
      ]
     },
     "execution_count": 5,
     "metadata": {},
     "output_type": "execute_result"
    }
   ],
   "source": [
    "l = [1,2,3,4,5,6,7,8]\n",
    "l"
   ]
  },
  {
   "cell_type": "code",
   "execution_count": 6,
   "id": "6f824b70",
   "metadata": {},
   "outputs": [
    {
     "name": "stdout",
     "output_type": "stream",
     "text": [
      "1\n",
      "2\n",
      "3\n",
      "4\n",
      "5\n",
      "6\n",
      "7\n",
      "8\n"
     ]
    }
   ],
   "source": [
    "for i in l:\n",
    "    print(i)"
   ]
  },
  {
   "cell_type": "code",
   "execution_count": null,
   "id": "fbb75423",
   "metadata": {},
   "outputs": [],
   "source": [
    "l1 = []\n",
    "for i in l: \n",
    "    l1.append(i+1)\n",
    "\n",
    "#This is different because here we can see that now we will not be getting single elements printed out because we are appending it to a list we created that is l1"
   ]
  },
  {
   "cell_type": "code",
   "execution_count": null,
   "id": "7ad46c00",
   "metadata": {},
   "outputs": [
    {
     "data": {
      "text/plain": [
       "[2, 3, 4, 5, 6, 7, 8, 9]"
      ]
     },
     "execution_count": 8,
     "metadata": {},
     "output_type": "execute_result"
    }
   ],
   "source": [
    "l1\n",
    "#New list after the append"
   ]
  },
  {
   "cell_type": "code",
   "execution_count": null,
   "id": "854bf441",
   "metadata": {},
   "outputs": [],
   "source": [
    "l = [\"hello\" , \"world\", \"kathmandu\", \"putalisadak\"]\n",
    "#Created a list of strings all in lowercase"
   ]
  },
  {
   "cell_type": "code",
   "execution_count": null,
   "id": "6861f56f",
   "metadata": {},
   "outputs": [
    {
     "data": {
      "text/plain": [
       "'hello'"
      ]
     },
     "execution_count": 10,
     "metadata": {},
     "output_type": "execute_result"
    }
   ],
   "source": [
    "l[0]\n",
    "#Accessing the list using the index"
   ]
  },
  {
   "cell_type": "code",
   "execution_count": null,
   "id": "48116edb",
   "metadata": {},
   "outputs": [
    {
     "data": {
      "text/plain": [
       "'HELLO'"
      ]
     },
     "execution_count": 11,
     "metadata": {},
     "output_type": "execute_result"
    }
   ],
   "source": [
    "l[0].upper()\n",
    "#Using the function upper() for changing it to UPPERCASE"
   ]
  },
  {
   "cell_type": "code",
   "execution_count": 12,
   "id": "d7498d47",
   "metadata": {},
   "outputs": [
    {
     "data": {
      "text/plain": [
       "'WORLD'"
      ]
     },
     "execution_count": 12,
     "metadata": {},
     "output_type": "execute_result"
    }
   ],
   "source": [
    "l[1].upper()"
   ]
  },
  {
   "cell_type": "code",
   "execution_count": 13,
   "id": "7751ee55",
   "metadata": {},
   "outputs": [
    {
     "data": {
      "text/plain": [
       "['hello', 'world', 'kathmandu', 'putalisadak']"
      ]
     },
     "execution_count": 13,
     "metadata": {},
     "output_type": "execute_result"
    }
   ],
   "source": [
    "l"
   ]
  },
  {
   "cell_type": "code",
   "execution_count": 14,
   "id": "12d232c7",
   "metadata": {},
   "outputs": [
    {
     "name": "stdout",
     "output_type": "stream",
     "text": [
      "hello\n",
      "world\n",
      "kathmandu\n",
      "putalisadak\n"
     ]
    }
   ],
   "source": [
    "for i in l:\n",
    "    print(i)"
   ]
  },
  {
   "cell_type": "code",
   "execution_count": null,
   "id": "1c23d864",
   "metadata": {},
   "outputs": [
    {
     "name": "stdout",
     "output_type": "stream",
     "text": [
      "HELLO\n",
      "WORLD\n",
      "KATHMANDU\n",
      "PUTALISADAK\n"
     ]
    }
   ],
   "source": [
    "for i in l:\n",
    "    print(i.upper())\n",
    "#Just printing out the uppercase of each elements in the list l as each elements are applied with the function upper() and its printing only the elements"
   ]
  },
  {
   "cell_type": "code",
   "execution_count": 16,
   "id": "a9b2c773",
   "metadata": {},
   "outputs": [
    {
     "data": {
      "text/plain": [
       "['hello', 'world', 'kathmandu', 'putalisadak']"
      ]
     },
     "execution_count": 16,
     "metadata": {},
     "output_type": "execute_result"
    }
   ],
   "source": [
    "l"
   ]
  },
  {
   "cell_type": "code",
   "execution_count": null,
   "id": "ddaaf8f6",
   "metadata": {},
   "outputs": [],
   "source": [
    "l1 = []\n",
    "for i in l:\n",
    "    l1.append(i.upper())\n",
    "#Creating an empty list and appending the Capitalized elements in that empty list one by one.\n",
    "#This gives us the list instead of single elements one by one."
   ]
  },
  {
   "cell_type": "code",
   "execution_count": 18,
   "id": "aadd887e",
   "metadata": {},
   "outputs": [
    {
     "data": {
      "text/plain": [
       "['HELLO', 'WORLD', 'KATHMANDU', 'PUTALISADAK']"
      ]
     },
     "execution_count": 18,
     "metadata": {},
     "output_type": "execute_result"
    }
   ],
   "source": [
    "l1"
   ]
  },
  {
   "cell_type": "code",
   "execution_count": null,
   "id": "25276ee5",
   "metadata": {},
   "outputs": [],
   "source": [
    "l = [1,2,3,4,5, 4.5, \"hello\", 4 + 2j]\n",
    "#This is also a list but a heterongeneous list because it contains elements with different data types "
   ]
  },
  {
   "cell_type": "code",
   "execution_count": null,
   "id": "42d48f18",
   "metadata": {},
   "outputs": [
    {
     "data": {
      "text/plain": [
       "int"
      ]
     },
     "execution_count": 20,
     "metadata": {},
     "output_type": "execute_result"
    }
   ],
   "source": [
    "type(l[1])\n",
    "#using the type() function for printing out the type of second element of the list "
   ]
  },
  {
   "cell_type": "code",
   "execution_count": 21,
   "id": "ae68e17c",
   "metadata": {},
   "outputs": [
    {
     "data": {
      "text/plain": [
       "complex"
      ]
     },
     "execution_count": 21,
     "metadata": {},
     "output_type": "execute_result"
    }
   ],
   "source": [
    "type(l[-1])"
   ]
  },
  {
   "cell_type": "code",
   "execution_count": 22,
   "id": "6eb7c6e9",
   "metadata": {},
   "outputs": [
    {
     "name": "stdout",
     "output_type": "stream",
     "text": [
      "<class 'int'>\n",
      "<class 'int'>\n",
      "<class 'int'>\n",
      "<class 'int'>\n",
      "<class 'int'>\n",
      "<class 'float'>\n",
      "<class 'str'>\n",
      "<class 'complex'>\n"
     ]
    }
   ],
   "source": [
    "for i in l: \n",
    "    print(type(i))\n",
    "\n",
    "#printing out the type of each of the elements of the list l"
   ]
  },
  {
   "cell_type": "code",
   "execution_count": 23,
   "id": "ce0be801",
   "metadata": {},
   "outputs": [
    {
     "data": {
      "text/plain": [
       "[1, 2, 3, 4, 5, 4.5, 'hello', (4+2j)]"
      ]
     },
     "execution_count": 23,
     "metadata": {},
     "output_type": "execute_result"
    }
   ],
   "source": [
    "l"
   ]
  },
  {
   "cell_type": "code",
   "execution_count": 24,
   "id": "2ea5c3de",
   "metadata": {},
   "outputs": [],
   "source": [
    "integer = []\n",
    "decimal = []\n",
    "boolean = []\n",
    "strings = []\n",
    "complexes = []\n",
    "for i in [1,2,3,4.55,'a',4-8j,True, False, True,'b','c',3+1j]:\n",
    "    if type(i) == int:\n",
    "        integer.append(i)\n",
    "    elif type(i) == float:\n",
    "        decimal.append(i)\n",
    "    elif type(i) == bool:\n",
    "        boolean.append(i)\n",
    "    elif type(i) == str:\n",
    "        strings.append(i)\n",
    "    elif type(i) == complex:\n",
    "        complexes.append(i)\n",
    "    "
   ]
  },
  {
   "cell_type": "code",
   "execution_count": 25,
   "id": "b91730a5",
   "metadata": {},
   "outputs": [
    {
     "name": "stdout",
     "output_type": "stream",
     "text": [
      "Integer [1, 2, 3]\n",
      "Decimal [4.55]\n",
      "Boolean [True, False, True]\n",
      "Strings ['a', 'b', 'c']\n",
      "Complexes [(4-8j), (3+1j)]\n"
     ]
    }
   ],
   "source": [
    "print(\"Integer\", integer)\n",
    "print(\"Decimal\", decimal)\n",
    "print(\"Boolean\", boolean)\n",
    "print(\"Strings\", strings)\n",
    "print(\"Complexes\", complexes)"
   ]
  },
  {
   "cell_type": "code",
   "execution_count": 26,
   "id": "000050ee",
   "metadata": {},
   "outputs": [
    {
     "name": "stdout",
     "output_type": "stream",
     "text": [
      "1 <class 'int'>\n",
      "2 <class 'int'>\n",
      "3.45 <class 'float'>\n",
      "ktm <class 'str'>\n",
      "True <class 'bool'>\n",
      "(5+3j) <class 'complex'>\n"
     ]
    }
   ],
   "source": [
    "t = (1,2,3.45,'ktm',True,(5+3j))\n",
    "for i in t:\n",
    "    print(i,type(i))\n",
    "\n",
    "#Created a tuple and printed out the element and its type"
   ]
  },
  {
   "cell_type": "code",
   "execution_count": 27,
   "id": "b74e8bb3",
   "metadata": {},
   "outputs": [
    {
     "name": "stdout",
     "output_type": "stream",
     "text": [
      "1 <class 'int'>\n",
      "(1, 2, 3.45, 'ktm', True, (5+3j))\n",
      "2 <class 'int'>\n",
      "(1, 2, 3.45, 'ktm', True, (5+3j))\n",
      "3.45 <class 'float'>\n",
      "(1, 2, 3.45, 'ktm', True, (5+3j))\n",
      "ktm <class 'str'>\n",
      "(1, 2, 3.45, 'ktm', True, (5+3j))\n",
      "True <class 'bool'>\n",
      "(1, 2, 3.45, 'ktm', True, (5+3j))\n",
      "(5+3j) <class 'complex'>\n",
      "(1, 2, 3.45, 'ktm', True, (5+3j))\n"
     ]
    }
   ],
   "source": [
    "t = (1,2,3.45,'ktm',True,(5+3j))\n",
    "for i in t:\n",
    "    print(i,type(i))\n",
    "    print(t)\n",
    "\n",
    "#Output when printing the tuple inside the loop"
   ]
  },
  {
   "cell_type": "code",
   "execution_count": 28,
   "id": "8b64f4f7",
   "metadata": {},
   "outputs": [
    {
     "name": "stdout",
     "output_type": "stream",
     "text": [
      "1 <class 'int'>\n",
      "2 <class 'int'>\n",
      "3.45 <class 'float'>\n",
      "ktm <class 'str'>\n",
      "True <class 'bool'>\n",
      "(5+3j) <class 'complex'>\n",
      "(1, 2, 3.45, 'ktm', True, (5+3j))\n"
     ]
    }
   ],
   "source": [
    "t = (1,2,3.45,'ktm',True,(5+3j))\n",
    "for i in t:\n",
    "    print(i,type(i))\n",
    "print(t)\n",
    "\n",
    "\n",
    "#Output when printing the tuple outside the loop"
   ]
  },
  {
   "cell_type": "code",
   "execution_count": 29,
   "id": "283ccb83",
   "metadata": {},
   "outputs": [
    {
     "name": "stdout",
     "output_type": "stream",
     "text": [
      "ktm city\n",
      "pkr city\n",
      "bkt city\n",
      "brt city\n"
     ]
    }
   ],
   "source": [
    "l1 = [\"ktm\",\"pkr\",\"bkt\",\"brt\"]\n",
    "for k in l1:\n",
    "    print(k, \"city\")"
   ]
  },
  {
   "cell_type": "code",
   "execution_count": 30,
   "id": "9255a032",
   "metadata": {},
   "outputs": [
    {
     "name": "stdout",
     "output_type": "stream",
     "text": [
      "The value of varaible is a\n"
     ]
    }
   ],
   "source": [
    "a = 4 \n",
    "print(\"The value of varaible is a\")"
   ]
  },
  {
   "cell_type": "code",
   "execution_count": 31,
   "id": "1694a380",
   "metadata": {},
   "outputs": [
    {
     "name": "stdout",
     "output_type": "stream",
     "text": [
      "The value of variable is 4\n"
     ]
    }
   ],
   "source": [
    "#Use of the f string \n",
    "print(f\"The value of variable is {a}\")"
   ]
  },
  {
   "cell_type": "code",
   "execution_count": 32,
   "id": "5ede0687",
   "metadata": {},
   "outputs": [
    {
     "name": "stdout",
     "output_type": "stream",
     "text": [
      "ktm city\n",
      "pkr city\n",
      "bkt city\n",
      "brt city\n"
     ]
    }
   ],
   "source": [
    "l1 = [\"ktm\",\"pkr\",\"bkt\",\"brt\"]\n",
    "for k in l1:\n",
    "    print(f\"{k} city\")"
   ]
  },
  {
   "cell_type": "code",
   "execution_count": 33,
   "id": "d6cc4119",
   "metadata": {},
   "outputs": [
    {
     "name": "stdout",
     "output_type": "stream",
     "text": [
      "ktm city\n",
      "pkr city\n",
      "bkt city\n",
      "brt city\n"
     ]
    }
   ],
   "source": [
    "l1 = [\"ktm\",\"pkr\",\"bkt\",\"brt\"]\n",
    "for k in l1:\n",
    "    print(\"{} city\". format(k))\n",
    "#Old version of string manipulation. Works similarly as f string manipulation"
   ]
  },
  {
   "cell_type": "code",
   "execution_count": null,
   "id": "cd720664",
   "metadata": {},
   "outputs": [],
   "source": []
  },
  {
   "cell_type": "code",
   "execution_count": 34,
   "id": "804facbb",
   "metadata": {},
   "outputs": [
    {
     "data": {
      "text/plain": [
       "['ktm', 'pkr', 'bkt', 'brt']"
      ]
     },
     "execution_count": 34,
     "metadata": {},
     "output_type": "execute_result"
    }
   ],
   "source": [
    "l1"
   ]
  },
  {
   "cell_type": "code",
   "execution_count": 36,
   "id": "b7a0a805",
   "metadata": {},
   "outputs": [
    {
     "name": "stdout",
     "output_type": "stream",
     "text": [
      "ktm\n"
     ]
    }
   ],
   "source": [
    "for i in l1:\n",
    "    if i == \"pkr\":\n",
    "        break\n",
    "    print(i)\n",
    "#Applying a conditional statement for a loop so if the condition is satisfied the loop is stopped."
   ]
  },
  {
   "cell_type": "code",
   "execution_count": 37,
   "id": "12da4647",
   "metadata": {},
   "outputs": [
    {
     "name": "stdout",
     "output_type": "stream",
     "text": [
      "ktm\n",
      "abcd\n"
     ]
    }
   ],
   "source": [
    "for i in l1:\n",
    "    print(i)\n",
    "    break\n",
    "print('abcd')"
   ]
  },
  {
   "cell_type": "code",
   "execution_count": 47,
   "id": "a8b7c98b",
   "metadata": {},
   "outputs": [
    {
     "name": "stdout",
     "output_type": "stream",
     "text": [
      "kathmandu\n",
      "bhaktapur\n",
      "lalitpur\n",
      "biratnagar\n",
      "Execute this\n"
     ]
    }
   ],
   "source": [
    "for j in l1: \n",
    "    if j == \"bkt\":\n",
    "        break\n",
    "    print(j)\n",
    "else:\n",
    "    print(\"Execute this\")"
   ]
  },
  {
   "cell_type": "code",
   "execution_count": 42,
   "id": "5a145bd0",
   "metadata": {},
   "outputs": [],
   "source": [
    "l1 = [\"kathmandu\", \"bhaktapur\", \"lalitpur\", \"biratnagar\"]"
   ]
  },
  {
   "cell_type": "code",
   "execution_count": 43,
   "id": "1c10b3e2",
   "metadata": {},
   "outputs": [
    {
     "name": "stdout",
     "output_type": "stream",
     "text": [
      "kathmandu\n",
      "lalitpur\n",
      "biratnagar\n"
     ]
    }
   ],
   "source": [
    "for i in l1:\n",
    "    if i == \"bhaktapur\":\n",
    "        continue\n",
    "    print(i)"
   ]
  },
  {
   "cell_type": "code",
   "execution_count": 44,
   "id": "cc488d12",
   "metadata": {},
   "outputs": [
    {
     "name": "stdout",
     "output_type": "stream",
     "text": [
      "The loop is outside the if condition\n",
      "The loop is outside the if condition\n",
      "The loop is outside the if condition\n"
     ]
    }
   ],
   "source": [
    "for i in l1:\n",
    "    if i == \"lalitpur\":\n",
    "        continue\n",
    "    else:\n",
    "        print(\"The loop is outside the if condition\")"
   ]
  },
  {
   "cell_type": "markdown",
   "id": "cac0bad0",
   "metadata": {},
   "source": [
    "Indentation is extremely important in Python because it’s how the language defines code blocks — such as those for loops, conditionals, functions, and classes. Unlike many other languages that use braces {} or keywords like end, Python uses whitespace (indentation) to mark the beginning and end of a block of code"
   ]
  }
 ],
 "metadata": {
  "kernelspec": {
   "display_name": "modelprep",
   "language": "python",
   "name": "python3"
  },
  "language_info": {
   "codemirror_mode": {
    "name": "ipython",
    "version": 3
   },
   "file_extension": ".py",
   "mimetype": "text/x-python",
   "name": "python",
   "nbconvert_exporter": "python",
   "pygments_lexer": "ipython3",
   "version": "3.10.18"
  }
 },
 "nbformat": 4,
 "nbformat_minor": 5
}
