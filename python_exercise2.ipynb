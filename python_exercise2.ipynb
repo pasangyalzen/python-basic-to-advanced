{
 "cells": [
  {
   "cell_type": "markdown",
   "id": "0e8e6177",
   "metadata": {},
   "source": [
    "PYTHON DATA STRUCTURES ASSIGNMENT"
   ]
  },
  {
   "cell_type": "markdown",
   "id": "0187a53e",
   "metadata": {},
   "source": [
    "Section 1 : Lists"
   ]
  },
  {
   "cell_type": "markdown",
   "id": "408eb8bb",
   "metadata": {},
   "source": [
    "1. Create a List:\n",
    "Create a list containing the numbers 1 through 15. Print the list.\n"
   ]
  },
  {
   "cell_type": "code",
   "execution_count": 100,
   "id": "f6780986",
   "metadata": {},
   "outputs": [],
   "source": [
    "l1 = [1,2,3,4,5,6,7,8,8,10,11,12,13,14,15]"
   ]
  },
  {
   "cell_type": "code",
   "execution_count": 101,
   "id": "3bed2591",
   "metadata": {},
   "outputs": [
    {
     "data": {
      "text/plain": [
       "[1, 2, 3, 4, 5, 6, 7, 8, 8, 10, 11, 12, 13, 14, 15]"
      ]
     },
     "execution_count": 101,
     "metadata": {},
     "output_type": "execute_result"
    }
   ],
   "source": [
    "l1"
   ]
  },
  {
   "cell_type": "markdown",
   "id": "828e36ca",
   "metadata": {},
   "source": [
    "2. List of Strings:\n",
    "Create a list of your five favorite fruits. Print the list.\n"
   ]
  },
  {
   "cell_type": "code",
   "execution_count": 102,
   "id": "b190fc24",
   "metadata": {},
   "outputs": [],
   "source": [
    "l2 = [\"hello\",\"world\",\"mindrisers\"]"
   ]
  },
  {
   "cell_type": "code",
   "execution_count": 103,
   "id": "2a6f073f",
   "metadata": {},
   "outputs": [
    {
     "data": {
      "text/plain": [
       "['hello', 'world', 'mindrisers']"
      ]
     },
     "execution_count": 103,
     "metadata": {},
     "output_type": "execute_result"
    }
   ],
   "source": [
    "l2"
   ]
  },
  {
   "cell_type": "markdown",
   "id": "4df875ee",
   "metadata": {},
   "source": [
    "3. Accessing Elements:\n",
    "Given the list [10, 20, 30, 40, 50], print the first and last element using positive and negative indexing.\n"
   ]
  },
  {
   "cell_type": "code",
   "execution_count": 104,
   "id": "b106c877",
   "metadata": {},
   "outputs": [],
   "source": [
    "l3 = [10,20,30,40,50]"
   ]
  },
  {
   "cell_type": "code",
   "execution_count": 105,
   "id": "aa9db0bf",
   "metadata": {},
   "outputs": [
    {
     "data": {
      "text/plain": [
       "[10, 20, 30, 40, 50]"
      ]
     },
     "execution_count": 105,
     "metadata": {},
     "output_type": "execute_result"
    }
   ],
   "source": [
    "l3[0:5]\n",
    "#This is called slicing and for the arguments the first one is inclusive which is start and the second one is exclusive which is stop. The third argument is step."
   ]
  },
  {
   "cell_type": "code",
   "execution_count": 106,
   "id": "591aea03",
   "metadata": {},
   "outputs": [
    {
     "data": {
      "text/plain": [
       "[10, 20, 30, 40, 50]"
      ]
     },
     "execution_count": 106,
     "metadata": {},
     "output_type": "execute_result"
    }
   ],
   "source": [
    "l3[-5:]\n",
    "#This is slicing using negaiive indexing here if i pass the stop as 0 since it is exclusive it will return me empty list. So, we pass nothing and that mean everything after that."
   ]
  },
  {
   "cell_type": "markdown",
   "id": "f9fb7bcf",
   "metadata": {},
   "source": [
    "4. List Length:\n",
    "Create a list of any 5 items and print its length using the len() function.\n"
   ]
  },
  {
   "cell_type": "code",
   "execution_count": 107,
   "id": "55d7db10",
   "metadata": {},
   "outputs": [],
   "source": [
    "l1 = [\"hello\", 1 , 3.5, True]"
   ]
  },
  {
   "cell_type": "code",
   "execution_count": 108,
   "id": "c47b01ed",
   "metadata": {},
   "outputs": [
    {
     "name": "stdout",
     "output_type": "stream",
     "text": [
      "4\n"
     ]
    }
   ],
   "source": [
    "print(len(l1))"
   ]
  },
  {
   "cell_type": "markdown",
   "id": "db59641a",
   "metadata": {},
   "source": [
    "5. Appending Elements:\n",
    "Start with an empty list and append the numbers 1, 2, and 3. Print the list.\n"
   ]
  },
  {
   "cell_type": "code",
   "execution_count": 109,
   "id": "dbcaa3ef",
   "metadata": {},
   "outputs": [],
   "source": [
    "lst = []"
   ]
  },
  {
   "cell_type": "code",
   "execution_count": 110,
   "id": "f2a999fb",
   "metadata": {},
   "outputs": [],
   "source": [
    "lst.append(1)"
   ]
  },
  {
   "cell_type": "code",
   "execution_count": 111,
   "id": "4a74e713",
   "metadata": {},
   "outputs": [],
   "source": [
    "lst.append(2)"
   ]
  },
  {
   "cell_type": "code",
   "execution_count": 112,
   "id": "4eef03ab",
   "metadata": {},
   "outputs": [],
   "source": [
    "lst.append(3)"
   ]
  },
  {
   "cell_type": "code",
   "execution_count": 113,
   "id": "e14d2d1f",
   "metadata": {},
   "outputs": [
    {
     "data": {
      "text/plain": [
       "[1, 2, 3]"
      ]
     },
     "execution_count": 113,
     "metadata": {},
     "output_type": "execute_result"
    }
   ],
   "source": [
    "lst"
   ]
  },
  {
   "cell_type": "markdown",
   "id": "dfbd6ef8",
   "metadata": {},
   "source": [
    "You can clear the list by applying lst.clear() function. For removing specific elements use lst.remove(index)"
   ]
  },
  {
   "cell_type": "markdown",
   "id": "8153518b",
   "metadata": {},
   "source": [
    "6. Inserting an Element:\n",
    "Given a list [1, 3, 4], insert the number 2 at the correct position so that the list becomes [1, 2, 3, 4].\n"
   ]
  },
  {
   "cell_type": "code",
   "execution_count": 114,
   "id": "75357800",
   "metadata": {},
   "outputs": [],
   "source": [
    "lst1 = [1,3,4]"
   ]
  },
  {
   "cell_type": "code",
   "execution_count": 115,
   "id": "5af14828",
   "metadata": {},
   "outputs": [],
   "source": [
    "#The syntax for insert is lst.insert(index,element)\n",
    "#When inserting element at a specific index we use insert because append always inserts at the last index\n",
    "lst1.insert(1,2)"
   ]
  },
  {
   "cell_type": "code",
   "execution_count": 116,
   "id": "9226214a",
   "metadata": {},
   "outputs": [
    {
     "data": {
      "text/plain": [
       "[1, 2, 3, 4]"
      ]
     },
     "execution_count": 116,
     "metadata": {},
     "output_type": "execute_result"
    }
   ],
   "source": [
    "lst1"
   ]
  },
  {
   "cell_type": "markdown",
   "id": "d2f72903",
   "metadata": {},
   "source": [
    "7. Removing an Element:\n",
    "Remove the number 3 from the list [1, 2, 3, 4, 5] using a list method and print the new list.\n",
    "\n"
   ]
  },
  {
   "cell_type": "code",
   "execution_count": 117,
   "id": "7e4f9312",
   "metadata": {},
   "outputs": [],
   "source": [
    "lst = [1,2,3,4,5]"
   ]
  },
  {
   "cell_type": "code",
   "execution_count": 118,
   "id": "62f3302b",
   "metadata": {},
   "outputs": [
    {
     "data": {
      "text/plain": [
       "3"
      ]
     },
     "execution_count": 118,
     "metadata": {},
     "output_type": "execute_result"
    }
   ],
   "source": [
    "lst.pop(2)"
   ]
  },
  {
   "cell_type": "code",
   "execution_count": 119,
   "id": "c9e74b96",
   "metadata": {},
   "outputs": [
    {
     "data": {
      "text/plain": [
       "[1, 2, 4, 5]"
      ]
     },
     "execution_count": 119,
     "metadata": {},
     "output_type": "execute_result"
    }
   ],
   "source": [
    "lst"
   ]
  },
  {
   "cell_type": "markdown",
   "id": "ed181e92",
   "metadata": {},
   "source": [
    "Other ways to remove the elements is use of del lst[index]\n",
    "\t•\tDeletes the element at the given index.\n",
    "\t•\tDoes not return the removed item.\n",
    "\n",
    "lst.pop(index)\n",
    "\t•\tRemoves and returns the element at the specified index.\n",
    "\t•\tIf no index is provided, it removes and returns the last item."
   ]
  },
  {
   "cell_type": "markdown",
   "id": "c5a234c4",
   "metadata": {},
   "source": [
    "8. Popping an Element:\n",
    "Given the list [10, 20, 30, 40], pop the last element and print the element and the updated list.\n",
    "\n"
   ]
  },
  {
   "cell_type": "code",
   "execution_count": 120,
   "id": "b3edd624",
   "metadata": {},
   "outputs": [],
   "source": [
    "lst = [10,20,30,40,50]"
   ]
  },
  {
   "cell_type": "code",
   "execution_count": 121,
   "id": "a709a36a",
   "metadata": {},
   "outputs": [
    {
     "data": {
      "text/plain": [
       "50"
      ]
     },
     "execution_count": 121,
     "metadata": {},
     "output_type": "execute_result"
    }
   ],
   "source": [
    "lst.pop(-1)\n",
    "#No need to print the element being popped it gives out the element by default"
   ]
  },
  {
   "cell_type": "code",
   "execution_count": 122,
   "id": "259cf0b3",
   "metadata": {},
   "outputs": [
    {
     "data": {
      "text/plain": [
       "[10, 20, 30, 40]"
      ]
     },
     "execution_count": 122,
     "metadata": {},
     "output_type": "execute_result"
    }
   ],
   "source": [
    "lst"
   ]
  },
  {
   "cell_type": "markdown",
   "id": "ac286f1a",
   "metadata": {},
   "source": [
    "9. Slicing a List:\n",
    "Given the list [0, 1, 2, 3, 4, 5], print a slice that contains the elements from index 2 to 4.\n",
    "\n"
   ]
  },
  {
   "cell_type": "code",
   "execution_count": 123,
   "id": "193eeb79",
   "metadata": {},
   "outputs": [],
   "source": [
    "lst = [0,1,2,3,4,5]"
   ]
  },
  {
   "cell_type": "code",
   "execution_count": 124,
   "id": "57cefe91",
   "metadata": {},
   "outputs": [
    {
     "data": {
      "text/plain": [
       "[2, 3, 4]"
      ]
     },
     "execution_count": 124,
     "metadata": {},
     "output_type": "execute_result"
    }
   ],
   "source": [
    "lst[2:5]"
   ]
  },
  {
   "cell_type": "markdown",
   "id": "ca02a088",
   "metadata": {},
   "source": [
    "10. List Concatenation:\n",
    "Concatenate two lists, e.g., [1, 2, 3] and [4, 5, 6], and print the resulting list.\n",
    "\n"
   ]
  },
  {
   "cell_type": "code",
   "execution_count": 125,
   "id": "b55452bd",
   "metadata": {},
   "outputs": [],
   "source": [
    "lst1 = [1,2,3]\n",
    "lst2 = [4,5,6]"
   ]
  },
  {
   "cell_type": "code",
   "execution_count": 126,
   "id": "cee7b3c5",
   "metadata": {},
   "outputs": [
    {
     "name": "stdout",
     "output_type": "stream",
     "text": [
      "[1, 2, 3, 4, 5, 6]\n"
     ]
    }
   ],
   "source": [
    "combined = lst1 + lst2\n",
    "print(combined)"
   ]
  },
  {
   "cell_type": "markdown",
   "id": "553ca1f8",
   "metadata": {},
   "source": [
    "11.\tRepeating a List:\n",
    "Create a list [1, 2] and print the list repeated three times.\n"
   ]
  },
  {
   "cell_type": "code",
   "execution_count": 127,
   "id": "ae52800b",
   "metadata": {},
   "outputs": [],
   "source": [
    "lst = [1,2]"
   ]
  },
  {
   "cell_type": "code",
   "execution_count": 128,
   "id": "d25240f4",
   "metadata": {},
   "outputs": [
    {
     "name": "stdout",
     "output_type": "stream",
     "text": [
      "[1, 2, 1, 2, 1, 2]\n"
     ]
    }
   ],
   "source": [
    "new_lst = lst * 3\n",
    "print(new_lst)\n",
    "#Muplyinh a list by scalar simply repeats it "
   ]
  },
  {
   "cell_type": "markdown",
   "id": "b22d5f30",
   "metadata": {},
   "source": [
    "12.\tCopying a List:\n",
    "Create a copy of a given list and print both the original and the copy.\n"
   ]
  },
  {
   "cell_type": "code",
   "execution_count": 129,
   "id": "7ce5aa70",
   "metadata": {},
   "outputs": [],
   "source": [
    "lst_copy = lst.copy()"
   ]
  },
  {
   "cell_type": "code",
   "execution_count": 130,
   "id": "6cf599ed",
   "metadata": {},
   "outputs": [
    {
     "name": "stdout",
     "output_type": "stream",
     "text": [
      "Original: [1, 2]\n",
      "Copy: [1, 2]\n"
     ]
    }
   ],
   "source": [
    "print(\"Original:\", lst)\n",
    "print(\"Copy:\", lst_copy)"
   ]
  },
  {
   "cell_type": "markdown",
   "id": "167dd976",
   "metadata": {},
   "source": [
    "13.\tClearing a List:\n",
    "Given any list, use a method to clear all its elements and then print the empty list.\n"
   ]
  },
  {
   "cell_type": "code",
   "execution_count": 131,
   "id": "87e6185d",
   "metadata": {},
   "outputs": [],
   "source": [
    "lst = [1,2,3.5,\"Hello\",False]\n"
   ]
  },
  {
   "cell_type": "code",
   "execution_count": 132,
   "id": "5ffc3539",
   "metadata": {},
   "outputs": [],
   "source": [
    "lst.clear()"
   ]
  },
  {
   "cell_type": "code",
   "execution_count": 133,
   "id": "910f6dc5",
   "metadata": {},
   "outputs": [
    {
     "data": {
      "text/plain": [
       "[]"
      ]
     },
     "execution_count": 133,
     "metadata": {},
     "output_type": "execute_result"
    }
   ],
   "source": [
    "lst"
   ]
  },
  {
   "cell_type": "markdown",
   "id": "3723d8d1",
   "metadata": {},
   "source": [
    "Section 2: Tuples\n"
   ]
  },
  {
   "cell_type": "markdown",
   "id": "40df98e4",
   "metadata": {},
   "source": [
    "1.\tCreate a Tuple:\n",
    "Create a tuple containing the numbers 1, 2, and 3. Print the tuple."
   ]
  },
  {
   "cell_type": "code",
   "execution_count": 134,
   "id": "cb25247b",
   "metadata": {},
   "outputs": [
    {
     "name": "stdout",
     "output_type": "stream",
     "text": [
      "(1, 2, 3)\n"
     ]
    }
   ],
   "source": [
    "t = (1,2,3)\n",
    "print(t)"
   ]
  },
  {
   "cell_type": "markdown",
   "id": "4763a141",
   "metadata": {},
   "source": [
    "2.\tTuple of Strings:\n",
    "Create a tuple of three different color names and print it.\n",
    "\n"
   ]
  },
  {
   "cell_type": "code",
   "execution_count": 135,
   "id": "913d4c10",
   "metadata": {},
   "outputs": [
    {
     "name": "stdout",
     "output_type": "stream",
     "text": [
      "('hello', 'mindrisers', 'python')\n"
     ]
    }
   ],
   "source": [
    "t_string = (\"hello\", \"mindrisers\", \"python\")\n",
    "print(t_string)\n",
    "\n",
    "#In interactive environments like python REPL or Jupyter Notebooks, typing the varaibles return the values. But in a regular python script we will have to use the print() function."
   ]
  },
  {
   "cell_type": "markdown",
   "id": "98e5eb54",
   "metadata": {},
   "source": [
    "3.\tAccessing Tuple Elements:\n",
    "Given the tuple (10, 20, 30, 40), print the second element.\n"
   ]
  },
  {
   "cell_type": "code",
   "execution_count": 136,
   "id": "d41fd63c",
   "metadata": {},
   "outputs": [],
   "source": [
    "t = (10,20,30,40,50)"
   ]
  },
  {
   "cell_type": "code",
   "execution_count": 137,
   "id": "bfcd16c3",
   "metadata": {},
   "outputs": [
    {
     "name": "stdout",
     "output_type": "stream",
     "text": [
      "20\n"
     ]
    }
   ],
   "source": [
    "print(t[1])"
   ]
  },
  {
   "cell_type": "markdown",
   "id": "5ea2fcbb",
   "metadata": {},
   "source": [
    "4.\tTuple Slicing:\n",
    "Using the tuple (0, 1, 2, 3, 4), print a slice that contains elements from index 1 to 3.\n"
   ]
  },
  {
   "cell_type": "code",
   "execution_count": 138,
   "id": "a9e50c1c",
   "metadata": {},
   "outputs": [],
   "source": [
    "t = (0,1,2,3,4)"
   ]
  },
  {
   "cell_type": "code",
   "execution_count": 139,
   "id": "5ef74899",
   "metadata": {},
   "outputs": [
    {
     "name": "stdout",
     "output_type": "stream",
     "text": [
      "(1, 2, 3)\n"
     ]
    }
   ],
   "source": [
    "print(t[1:4])"
   ]
  },
  {
   "cell_type": "markdown",
   "id": "21acd2d1",
   "metadata": {},
   "source": [
    "5.\tConcatenating Tuples:\n",
    "Concatenate two tuples, e.g., (1, 2) and (3, 4), and print the result.\n"
   ]
  },
  {
   "cell_type": "code",
   "execution_count": 140,
   "id": "7e4efc3c",
   "metadata": {},
   "outputs": [
    {
     "name": "stdout",
     "output_type": "stream",
     "text": [
      "(1, 2, 3, 4)\n"
     ]
    }
   ],
   "source": [
    "t1 = (1,2)\n",
    "t2 = (3,4)\n",
    "combined = t1 + t2 \n",
    "print(combined)"
   ]
  },
  {
   "cell_type": "markdown",
   "id": "05572f27",
   "metadata": {},
   "source": [
    "6.\tTuple Unpacking:\n",
    "Store the tuple (\"Alice\", 25, \"New York\") into three variables and print them.\n"
   ]
  },
  {
   "cell_type": "code",
   "execution_count": 141,
   "id": "97ac45a0",
   "metadata": {},
   "outputs": [],
   "source": [
    "t = (\"Alice\", 25, \"New York\")\n",
    "name , age, city = t"
   ]
  },
  {
   "cell_type": "code",
   "execution_count": 142,
   "id": "e352ac15",
   "metadata": {},
   "outputs": [
    {
     "name": "stdout",
     "output_type": "stream",
     "text": [
      "Name:  Alice\n",
      "Age:  25\n",
      "city:  New York\n"
     ]
    }
   ],
   "source": [
    "print(\"Name: \", name)\n",
    "print(\"Age: \", age)\n",
    "print(\"city: \", city)"
   ]
  },
  {
   "cell_type": "markdown",
   "id": "1458d4ba",
   "metadata": {},
   "source": [
    "Note : Tuple unpacking is not limited to tuples only — it works with any iterable, including lists, strings, sets (with care), etc.\n",
    "\n",
    "Why it’s useful:\n",
    "\n",
    "• Readable code: Cleaner and faster than indexing each element.\n",
    "\n",
    "• Multiple returns: Often used with functions that return multiple values.\n",
    "\n",
    "• Swapping values: Like a, b = b, a to swap variables.\n",
    "\n",
    "• Looping: E.g., for key, value in dict.items():"
   ]
  },
  {
   "cell_type": "markdown",
   "id": "399364c6",
   "metadata": {},
   "source": [
    "7.\tConvert List to Tuple:\n",
    "Convert the list [1, 2, 3, 4] into a tuple and print the tuple.\n"
   ]
  },
  {
   "cell_type": "code",
   "execution_count": 143,
   "id": "167f1329",
   "metadata": {},
   "outputs": [
    {
     "name": "stdout",
     "output_type": "stream",
     "text": [
      "(1, 2, 3, 4)\n"
     ]
    }
   ],
   "source": [
    "lst = [1,2,3,4]\n",
    "t = tuple(lst)\n",
    "print(t)\n",
    "#use the tuple function for converting the list to tuple    "
   ]
  },
  {
   "cell_type": "markdown",
   "id": "d09ab302",
   "metadata": {},
   "source": [
    "8.\tCounting Occurrences:\n",
    "Given the tuple (1, 2, 2, 3, 2), count how many times the number 2 appears.\n"
   ]
  },
  {
   "cell_type": "code",
   "execution_count": 144,
   "id": "49691cde",
   "metadata": {},
   "outputs": [
    {
     "data": {
      "text/plain": [
       "3"
      ]
     },
     "execution_count": 144,
     "metadata": {},
     "output_type": "execute_result"
    }
   ],
   "source": [
    "t1 = (1,2,2,3,2)\n",
    "count_2 = t1.count(2)\n",
    "count_2\n",
    "#count function counts the occurances of the elements in List, tuple and string. Its not available for set and dictionary"
   ]
  },
  {
   "cell_type": "markdown",
   "id": "8dc2435d",
   "metadata": {},
   "source": [
    "9.\tFinding an Index:\n",
    "In the tuple (10, 20, 30, 40), find the index of the element 30 and print it.\n"
   ]
  },
  {
   "cell_type": "code",
   "execution_count": 145,
   "id": "2b12c55e",
   "metadata": {},
   "outputs": [
    {
     "name": "stdout",
     "output_type": "stream",
     "text": [
      "2\n"
     ]
    }
   ],
   "source": [
    "t1 = (10,20,30,40)\n",
    "index_30 = t1.index(30)\n",
    "print(index_30)\n"
   ]
  },
  {
   "cell_type": "markdown",
   "id": "0071362e",
   "metadata": {},
   "source": [
    "Its available for list, tuple and strings but is limited to set and dictionary.\n",
    "\n",
    "Sets don’t have .count() and .index() because they are unordered collections—their elements have no fixed position, so indexing doesn’t make sense.\n",
    "\n",
    "Dictionaries don’t have .count() and .index() because they are key-value mappings, accessed by keys rather than positions, so there’s no concept of an index for their items."
   ]
  }
 ],
 "metadata": {
  "kernelspec": {
   "display_name": "modelprep",
   "language": "python",
   "name": "python3"
  },
  "language_info": {
   "codemirror_mode": {
    "name": "ipython",
    "version": 3
   },
   "file_extension": ".py",
   "mimetype": "text/x-python",
   "name": "python",
   "nbconvert_exporter": "python",
   "pygments_lexer": "ipython3",
   "version": "3.10.18"
  }
 },
 "nbformat": 4,
 "nbformat_minor": 5
}
