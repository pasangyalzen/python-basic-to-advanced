{
  "cells": [
    {
      "cell_type": "markdown",
      "metadata": {
        "id": "bmr6K_AB_GB8"
      },
      "source": [
        "Integer & Float Mix\n",
        "\n",
        "•\tCreate an integer a and a float b.\n",
        "\n",
        "•\tPerform addition, subtraction, multiplication, and division on them.\n",
        "\n",
        "•\tPrint the results and observe the type of each result with type().\n"
      ]
    },
    {
      "cell_type": "code",
      "execution_count": 22,
      "metadata": {
        "id": "Ap7sFFcr_II-"
      },
      "outputs": [
        {
          "name": "stdout",
          "output_type": "stream",
          "text": [
            "5\n",
            "6.0\n"
          ]
        }
      ],
      "source": [
        "a = int(5)\n",
        "b = float(6)\n",
        "print(a)\n",
        "print(b)"
      ]
    },
    {
      "cell_type": "code",
      "execution_count": 23,
      "metadata": {},
      "outputs": [
        {
          "name": "stdout",
          "output_type": "stream",
          "text": [
            "Addition : 11.0 \n",
            "Type : <class 'float'>\n",
            "Subtraction : -1.0 \n",
            "Type : <class 'float'>\n",
            "Multiplication : 30.0 \n",
            "Type : <class 'float'>\n",
            "Division : 0.8333333333333334 \n",
            "Type : <class 'float'>\n"
          ]
        }
      ],
      "source": [
        "add = a + b\n",
        "sub = a - b\n",
        "mult = a * b \n",
        "div = a / b\n",
        "print(\"Addition :\", add , \"\\nType :\", type(add))\n",
        "print(\"Subtraction :\", sub, \"\\nType :\", type(sub))\n",
        "print(\"Multiplication :\", mult, \"\\nType :\", type(mult))\n",
        "print(\"Division :\", div, \"\\nType :\", type(div))"
      ]
    },
    {
      "cell_type": "markdown",
      "metadata": {},
      "source": [
        "When carrying any operation that includes float and int.The output will always be a float which preserves the precision because the integer cannot represent decimals."
      ]
    },
    {
      "cell_type": "markdown",
      "metadata": {
        "id": "fm9hY68b_IWU"
      },
      "source": [
        "Large Integers & Type\n",
        "\n",
        "•\tAssign a very large integer to a variable (e.g., in the billions).\n",
        "\n",
        "•\tPrint it and confirm its type is still int in Python or not.\n"
      ]
    },
    {
      "cell_type": "code",
      "execution_count": 24,
      "metadata": {
        "id": "dFA8nOIO_Ifs"
      },
      "outputs": [
        {
          "name": "stdout",
          "output_type": "stream",
          "text": [
            "<class 'int'>\n"
          ]
        }
      ],
      "source": [
        "a = int(100000000000)\n",
        "print(type(a))\n",
        "#The type of the integer even if assigned with billions is still a int"
      ]
    },
    {
      "cell_type": "markdown",
      "metadata": {
        "id": "lrFX9F_N_I3B"
      },
      "source": [
        "Complex Number Basics  \n",
        "\n",
        "•\tCreate a complex number z = 3 + 4j.\n",
        "\n",
        "•\tPrint its real part, imaginary part, and confirm its type is complex.\n",
        "\n",
        "•\tPerform a basic arithmetic operation with another complex number (e.g., (3 + 4j) + (1 + 2j)).\n"
      ]
    },
    {
      "cell_type": "code",
      "execution_count": 25,
      "metadata": {
        "id": "WPsL_5dP_I-G"
      },
      "outputs": [],
      "source": [
        "z = 3 + 4j"
      ]
    },
    {
      "cell_type": "code",
      "execution_count": 26,
      "metadata": {},
      "outputs": [
        {
          "name": "stdout",
          "output_type": "stream",
          "text": [
            "Real Part : 3.0 \n",
            "Type : <class 'float'>\n",
            "Imaginary Part : 4.0 \n",
            "Type : <class 'float'>\n"
          ]
        }
      ],
      "source": [
        "print(\"Real Part :\", z.real, \"\\nType :\", type(z.real))\n",
        "print(\"Imaginary Part :\",z.imag, \"\\nType :\", type(z.imag))\n",
        "#When accessing the real and the imaginary part of a complex number we reference using the variable name of that complex number\n",
        "#The type of the number that is the real and imaginary part is still a float"
      ]
    },
    {
      "cell_type": "code",
      "execution_count": 27,
      "metadata": {},
      "outputs": [
        {
          "name": "stdout",
          "output_type": "stream",
          "text": [
            "(4+6j)\n"
          ]
        }
      ],
      "source": [
        "a = 1 +2j\n",
        "print(z+a)\n",
        "#When doing arithmetic operation between two complex numbers, the correspoding real and the imaginary part will add up"
      ]
    },
    {
      "cell_type": "markdown",
      "metadata": {
        "id": "B6XYmRtm_JVN"
      },
      "source": [
        "Boolean from Comparisons\n",
        "\n",
        "•\tCreate two variables, m = 10 and n = 15.\n",
        "\n",
        "•\tDefine status = (m > n) and print status.\n",
        "\n",
        "•\tConfirm type(status) is bool.\n",
        "\n",
        "•\tAssign status = (m != n) and print again.\n"
      ]
    },
    {
      "cell_type": "code",
      "execution_count": 28,
      "metadata": {
        "id": "oUeWK7xZ_JdY"
      },
      "outputs": [],
      "source": [
        "m = 10 \n",
        "n = 15 "
      ]
    },
    {
      "cell_type": "code",
      "execution_count": 29,
      "metadata": {},
      "outputs": [
        {
          "name": "stdout",
          "output_type": "stream",
          "text": [
            "False\n"
          ]
        }
      ],
      "source": [
        "status = m > n\n",
        "print(status)"
      ]
    },
    {
      "cell_type": "code",
      "execution_count": 30,
      "metadata": {},
      "outputs": [
        {
          "name": "stdout",
          "output_type": "stream",
          "text": [
            "<class 'bool'>\n"
          ]
        }
      ],
      "source": [
        "print(type(status))"
      ]
    },
    {
      "cell_type": "code",
      "execution_count": 31,
      "metadata": {},
      "outputs": [
        {
          "name": "stdout",
          "output_type": "stream",
          "text": [
            "True\n"
          ]
        }
      ],
      "source": [
        "status = (m != n)\n",
        "print(status)"
      ]
    },
    {
      "cell_type": "markdown",
      "metadata": {
        "id": "GzYYzvkI_JsM"
      },
      "source": [
        "String Creation & Indexing\n",
        "\n",
        "•\tCreate a string text = \"HelloWorld\".\n",
        "\n",
        "•\tPrint the first and last characters using positive and negative indexing.\n",
        "\n",
        "•\tComment on the total length of the string.\n"
      ]
    },
    {
      "cell_type": "code",
      "execution_count": 32,
      "metadata": {
        "id": "msHpc7zK_J5p"
      },
      "outputs": [],
      "source": [
        "text = \"HelloWorld\""
      ]
    },
    {
      "cell_type": "code",
      "execution_count": 33,
      "metadata": {},
      "outputs": [
        {
          "name": "stdout",
          "output_type": "stream",
          "text": [
            "H\n",
            "d\n"
          ]
        }
      ],
      "source": [
        "print(text[0])\n",
        "print(text[-1])"
      ]
    },
    {
      "cell_type": "code",
      "execution_count": 34,
      "metadata": {},
      "outputs": [],
      "source": [
        "#The total length of the string is 10"
      ]
    },
    {
      "cell_type": "markdown",
      "metadata": {
        "id": "7UBx7Tlo_KOe"
      },
      "source": [
        "String Slicing\n",
        "\n",
        "•\tWith lang = \"PythonProgramming\", print the substring from index 2 to 8.\n",
        "\n",
        "•\tPrint the substring from the start up to index 5.\n",
        "\n",
        "•\tPrint the entire string in reverse using slicing.\n"
      ]
    },
    {
      "cell_type": "code",
      "execution_count": 35,
      "metadata": {
        "id": "URXp-gmv_KUz"
      },
      "outputs": [
        {
          "name": "stdout",
          "output_type": "stream",
          "text": [
            "thonPro\n"
          ]
        }
      ],
      "source": [
        "lang = \"PythonProgramming\"\n",
        "sub_lang = lang[2:9]\n",
        "print(sub_lang)"
      ]
    },
    {
      "cell_type": "code",
      "execution_count": 36,
      "metadata": {},
      "outputs": [
        {
          "name": "stdout",
          "output_type": "stream",
          "text": [
            "Python\n"
          ]
        }
      ],
      "source": [
        "print(lang[:6])"
      ]
    },
    {
      "cell_type": "code",
      "execution_count": 37,
      "metadata": {},
      "outputs": [
        {
          "name": "stdout",
          "output_type": "stream",
          "text": [
            "gnimmargorPnohtyP\n"
          ]
        }
      ],
      "source": [
        "print(lang[-1::-1])\n",
        "#Starting from the last index till the last and using the step 1 so it moves from the right to left"
      ]
    },
    {
      "cell_type": "markdown",
      "metadata": {
        "id": "NqzkILc6_Koc"
      },
      "source": [
        "String Methods\n",
        "\n",
        "•\tLet phrase = \" Hello, Python World! \".\n",
        "\n",
        "•\tDemonstrate strip(), upper(), and replace() on this string.\n",
        "\n",
        "•\tPrint the results and comment on immutability of strings in Python.\n"
      ]
    },
    {
      "cell_type": "code",
      "execution_count": 38,
      "metadata": {
        "id": "8JhOPPph_KwZ"
      },
      "outputs": [],
      "source": [
        "phrase = \"Hello, Python World!\""
      ]
    },
    {
      "cell_type": "code",
      "execution_count": 39,
      "metadata": {},
      "outputs": [
        {
          "name": "stdout",
          "output_type": "stream",
          "text": [
            "Hello, Python World!\n",
            "HELLO, PYTHON WORLD!\n",
            "Hi, Python World!\n"
          ]
        }
      ],
      "source": [
        "print(phrase.strip())\n",
        "#The use of the strip function is to remove any whitespaces between the start and end of a string \n",
        "print(phrase.upper())\n",
        "#.upper() just changes a certain string to uppercase\n",
        "print(phrase.replace(\"Hello\", \"Hi\"))\n",
        "#Syntax: : .replace(old, new, step)\n",
        "#When step is passed as an argument, the only strings that matches the old strings and the count are replaced where other are left untouched."
      ]
    },
    {
      "cell_type": "markdown",
      "metadata": {},
      "source": [
        "In Python strings are immutable meaning that once a string is created, it cannot be changed. Any operation that tries to make changes in that string will create a new string."
      ]
    },
    {
      "cell_type": "markdown",
      "metadata": {},
      "source": [
        "Uses of .replace() in Data Science:\n",
        "\n",
        "• Replacing missing values like \"?\", \"NA\", or \"-\" with NaN\n",
        "\n",
        "• Converting text labels to numeric values (e.g., \"Yes\" → 1, \"No\" → 0)\n",
        "\n",
        "• Standardizing inconsistent categorical entries (e.g., \"M\", \"Male\" → \"Male\")\n",
        " \n",
        "• Removing or replacing special characters in text columns (e.g., \"@\", \"#\")\n",
        "\n",
        "• Fixing data entry errors or typos (e.g., \"Untied States\" → \"United States\")\n",
        "\n",
        "• Changing units or scales (e.g., \"km\" → \"kilometers\")\n",
        "\n",
        "• Mapping values for feature engineering (e.g., \"Low\", \"Medium\", \"High\" → 1, 2, 3)\n",
        "\n",
        "• Preparing data for machine learning models by making values consistent and usable"
      ]
    },
    {
      "cell_type": "markdown",
      "metadata": {
        "id": "S7iLXHZK_K2c"
      },
      "source": [
        "String Formatting\n",
        "\n",
        "•\tCreate two variables: name = \"Rajesh\" and score = 95.\n",
        "\n",
        "•\tPrint: \"Alice scored 95 points.\" using two methods (concatenation and an f-string or str.format()).\n"
      ]
    },
    {
      "cell_type": "code",
      "execution_count": 40,
      "metadata": {
        "id": "G_It_Q6i_K82"
      },
      "outputs": [],
      "source": [
        "name = \"Rajesh\"\n",
        "score = 45"
      ]
    },
    {
      "cell_type": "code",
      "execution_count": 41,
      "metadata": {},
      "outputs": [
        {
          "name": "stdout",
          "output_type": "stream",
          "text": [
            "Rajesh scored 45 points.\n"
          ]
        }
      ],
      "source": [
        "#Printing the string using concatenation\n",
        "print(name + \" scored \" + str(score) + \" points.\")"
      ]
    },
    {
      "cell_type": "code",
      "execution_count": 42,
      "metadata": {},
      "outputs": [
        {
          "name": "stdout",
          "output_type": "stream",
          "text": [
            "Rajesh scored 45 points.\n"
          ]
        }
      ],
      "source": [
        "\n",
        "#fstring manipulations\n",
        "print(f\"{name} scored {score} points.\")"
      ]
    },
    {
      "cell_type": "code",
      "execution_count": 43,
      "metadata": {},
      "outputs": [
        {
          "name": "stdout",
          "output_type": "stream",
          "text": [
            "Rajesh scored 45 points\n"
          ]
        }
      ],
      "source": [
        "#Using ,foramt for printing a certain string\n",
        "print(\"{} scored {} points\".format(name, score))"
      ]
    },
    {
      "cell_type": "markdown",
      "metadata": {
        "id": "ycbSGfli_LEp"
      },
      "source": [
        "Boolean Operations in Expressions\n",
        "\n",
        "•\tWrite a small expression using and, or, and not with boolean values.\n",
        "\n",
        "•\tExample: result = not(True and False) or (5 > 3).\n",
        "\n",
        "•\tPrint result and explain how Python evaluated the expression.\n"
      ]
    },
    {
      "cell_type": "code",
      "execution_count": 44,
      "metadata": {
        "id": "hAi_A_Oi_LLJ"
      },
      "outputs": [
        {
          "name": "stdout",
          "output_type": "stream",
          "text": [
            "True\n",
            "True\n",
            "False\n"
          ]
        }
      ],
      "source": [
        "print(True & True)\n",
        "print(True | False)\n",
        "print(not(True))\n",
        "\n",
        "#When using NOT in python we use 'not' instead of the \"!\""
      ]
    },
    {
      "cell_type": "code",
      "execution_count": 45,
      "metadata": {},
      "outputs": [
        {
          "name": "stdout",
          "output_type": "stream",
          "text": [
            "True\n",
            "True\n"
          ]
        }
      ],
      "source": [
        "result = not(True and False)\n",
        "print(result)\n",
        "\n",
        "help = (5>3)\n",
        "print(help)"
      ]
    },
    {
      "cell_type": "markdown",
      "metadata": {},
      "source": [
        "The python evaluated the result by applying the OR, AND and not operators and the combination of these."
      ]
    },
    {
      "cell_type": "markdown",
      "metadata": {
        "id": "Qd3G21nm_LgR"
      },
      "source": [
        "List Creation & Access\n",
        "\n",
        "•\tCreate a list of 5 different integers.\n",
        "\n",
        "•\tPrint the first item, middle item, and last item using indexing.\n"
      ]
    },
    {
      "cell_type": "code",
      "execution_count": 46,
      "metadata": {
        "id": "3vTeFHm0_Lm-"
      },
      "outputs": [],
      "source": [
        "lst = [1,3,5,7,9]"
      ]
    },
    {
      "cell_type": "code",
      "execution_count": 47,
      "metadata": {},
      "outputs": [
        {
          "name": "stdout",
          "output_type": "stream",
          "text": [
            "First Item : 1\n",
            "Middle Item : 5\n",
            "Last Item : 9\n"
          ]
        }
      ],
      "source": [
        "print(\"First Item :\", lst[0])\n",
        "print(\"Middle Item :\", lst[2])\n",
        "print(\"Last Item :\", lst[-1])"
      ]
    },
    {
      "cell_type": "markdown",
      "metadata": {
        "id": "xeTFKPfJ_Ltm"
      },
      "source": [
        "List Insertion & Deletion\n",
        "\n",
        "•\tStart with a list nums = [10, 20, 30, 40].\n",
        "\n",
        "•\tInsert 25 at index 2.\n",
        "\n",
        "•\tRemove the last element.\n",
        "\n",
        "•\tPrint the updated list.\n"
      ]
    },
    {
      "cell_type": "code",
      "execution_count": 48,
      "metadata": {
        "id": "2g45g0am_L0K"
      },
      "outputs": [],
      "source": [
        "nums = [10,20,30,40]\n"
      ]
    },
    {
      "cell_type": "code",
      "execution_count": 49,
      "metadata": {},
      "outputs": [
        {
          "data": {
            "text/plain": [
              "[10, 20, 25, 30, 40]"
            ]
          },
          "execution_count": 49,
          "metadata": {},
          "output_type": "execute_result"
        }
      ],
      "source": [
        "nums.insert(2, 25)\n",
        "nums"
      ]
    },
    {
      "cell_type": "code",
      "execution_count": 50,
      "metadata": {},
      "outputs": [
        {
          "data": {
            "text/plain": [
              "[10, 20, 25, 30]"
            ]
          },
          "execution_count": 50,
          "metadata": {},
          "output_type": "execute_result"
        }
      ],
      "source": [
        "nums.remove(40)\n",
        "nums"
      ]
    },
    {
      "cell_type": "code",
      "execution_count": 51,
      "metadata": {},
      "outputs": [
        {
          "name": "stdout",
          "output_type": "stream",
          "text": [
            "Updated list : [10, 20, 25, 30]\n"
          ]
        }
      ],
      "source": [
        "print(\"Updated list :\", nums)"
      ]
    },
    {
      "cell_type": "markdown",
      "metadata": {
        "id": "s4Stw6XL_L7R"
      },
      "source": [
        "List Slicing\n",
        "\n",
        "•\tGiven letters = [\"a\", \"b\", \"c\", \"d\", \"e\"], print the slice that contains only [\"b\", \"c\", \"d\"].\n",
        "\n",
        "•\tPrint the slice that omits the first and the last element.\n"
      ]
    },
    {
      "cell_type": "code",
      "execution_count": 52,
      "metadata": {
        "id": "xi7YQuAR_MDY"
      },
      "outputs": [],
      "source": [
        "letters = [\"a\",\"b\",\"c\",\"d\",\"e\"]"
      ]
    },
    {
      "cell_type": "code",
      "execution_count": 53,
      "metadata": {},
      "outputs": [
        {
          "name": "stdout",
          "output_type": "stream",
          "text": [
            "['b', 'c', 'd']\n"
          ]
        }
      ],
      "source": [
        "print(letters[1:4])"
      ]
    },
    {
      "cell_type": "code",
      "execution_count": 54,
      "metadata": {},
      "outputs": [
        {
          "name": "stdout",
          "output_type": "stream",
          "text": [
            "['b', 'c', 'd']\n"
          ]
        }
      ],
      "source": [
        "print(letters[1:-1])"
      ]
    },
    {
      "cell_type": "markdown",
      "metadata": {},
      "source": [
        "The above two did the same thing and using the negative indexing as the stop came handy this time."
      ]
    },
    {
      "cell_type": "markdown",
      "metadata": {
        "id": "p09Fai27_MJ3"
      },
      "source": [
        "Sorting & Reversing\n",
        "\n",
        "•\tCreate a list of random integers.\n",
        "\n",
        "•\tSort the list in ascending order and print it.\n",
        "\n",
        "•\tReverse the sorted list and print again.\n"
      ]
    },
    {
      "cell_type": "code",
      "execution_count": 55,
      "metadata": {
        "id": "_OOQBFB8_MQ5"
      },
      "outputs": [],
      "source": [
        "lst = [1,266,32,45,35,356,324]"
      ]
    },
    {
      "cell_type": "code",
      "execution_count": 56,
      "metadata": {},
      "outputs": [
        {
          "data": {
            "text/plain": [
              "[1, 32, 35, 45, 266, 324, 356]"
            ]
          },
          "execution_count": 56,
          "metadata": {},
          "output_type": "execute_result"
        }
      ],
      "source": [
        "lst.sort()\n",
        "lst"
      ]
    },
    {
      "cell_type": "code",
      "execution_count": 57,
      "metadata": {},
      "outputs": [],
      "source": [
        "ls = [34,234,5612,23,53]"
      ]
    },
    {
      "cell_type": "code",
      "execution_count": 58,
      "metadata": {},
      "outputs": [
        {
          "data": {
            "text/plain": [
              "[23, 34, 53, 234, 5612]"
            ]
          },
          "execution_count": 58,
          "metadata": {},
          "output_type": "execute_result"
        }
      ],
      "source": [
        "sorted(ls)"
      ]
    },
    {
      "cell_type": "code",
      "execution_count": 59,
      "metadata": {},
      "outputs": [
        {
          "data": {
            "text/plain": [
              "[34, 234, 5612, 23, 53]"
            ]
          },
          "execution_count": 59,
          "metadata": {},
          "output_type": "execute_result"
        }
      ],
      "source": [
        "ls"
      ]
    },
    {
      "cell_type": "code",
      "execution_count": 60,
      "metadata": {},
      "outputs": [
        {
          "data": {
            "text/plain": [
              "[23, 34, 53, 234, 5612]"
            ]
          },
          "execution_count": 60,
          "metadata": {},
          "output_type": "execute_result"
        }
      ],
      "source": [
        "gs = sorted(ls)\n",
        "gs"
      ]
    },
    {
      "cell_type": "markdown",
      "metadata": {},
      "source": [
        "The sort() is mutable because it changes the original list. \n",
        "Whereas using the .sorted() function does not change the orginal list"
      ]
    },
    {
      "cell_type": "code",
      "execution_count": 61,
      "metadata": {
        "id": "qlrDnPVR_Mfl"
      },
      "outputs": [],
      "source": [
        "lst.sort(reverse = True)\n",
        "#Passing the reverse as true reverses the list when sort"
      ]
    },
    {
      "cell_type": "code",
      "execution_count": 62,
      "metadata": {},
      "outputs": [
        {
          "data": {
            "text/plain": [
              "[356, 324, 266, 45, 35, 32, 1]"
            ]
          },
          "execution_count": 62,
          "metadata": {},
          "output_type": "execute_result"
        }
      ],
      "source": [
        "lst"
      ]
    },
    {
      "cell_type": "markdown",
      "metadata": {
        "id": "YANYUOls_MmF"
      },
      "source": [
        "Combining Lists\n",
        "\n",
        "•\tLet list1 = [1, 2, 3] and list2 = [4, 5, 6].\n",
        "\n",
        "•\tCombine them into a single list and print.\n",
        "\n",
        "•\tDemonstrate two ways: using + and using .extend().\n"
      ]
    },
    {
      "cell_type": "code",
      "execution_count": 63,
      "metadata": {
        "id": "CqOp_3at_Mst"
      },
      "outputs": [],
      "source": [
        "list1 = [1,2,3]\n",
        "list2 = [4,5,6]"
      ]
    },
    {
      "cell_type": "code",
      "execution_count": 64,
      "metadata": {},
      "outputs": [
        {
          "name": "stdout",
          "output_type": "stream",
          "text": [
            "[1, 2, 3, 4, 5, 6]\n"
          ]
        }
      ],
      "source": [
        "combined = list1 + list2\n",
        "print(combined)"
      ]
    },
    {
      "cell_type": "code",
      "execution_count": 65,
      "metadata": {},
      "outputs": [
        {
          "data": {
            "text/plain": [
              "[1, 2, 3]"
            ]
          },
          "execution_count": 65,
          "metadata": {},
          "output_type": "execute_result"
        }
      ],
      "source": [
        "list1"
      ]
    },
    {
      "cell_type": "code",
      "execution_count": 66,
      "metadata": {},
      "outputs": [
        {
          "name": "stdout",
          "output_type": "stream",
          "text": [
            "[1, 2, 3, 4, 5, 6]\n"
          ]
        }
      ],
      "source": [
        "#Use of extend \n",
        "list1.extend(list2)\n",
        "print(list1)"
      ]
    },
    {
      "cell_type": "code",
      "execution_count": 67,
      "metadata": {},
      "outputs": [
        {
          "data": {
            "text/plain": [
              "[1, 2, 3, 4, 5, 6]"
            ]
          },
          "execution_count": 67,
          "metadata": {},
          "output_type": "execute_result"
        }
      ],
      "source": [
        "list1"
      ]
    },
    {
      "cell_type": "markdown",
      "metadata": {},
      "source": [
        "The only differences between using the \"+\" also termed as concatenation and use of .extend() is that the .extend() is mutable as it changes the original list as mentioned in the above code."
      ]
    },
    {
      "cell_type": "markdown",
      "metadata": {
        "id": "_YYNGO60_MzR"
      },
      "source": [
        "Aggregating List Values\n",
        "\n",
        "•\tCreate a list of floats, e.g., [2.5, 3.6, 1.2, 5.0].\n",
        "\n",
        "•\tPrint the sum, minimum, and maximum of that list using built-in functions.\n"
      ]
    },
    {
      "cell_type": "code",
      "execution_count": 68,
      "metadata": {
        "id": "SpWjI61R_M5-"
      },
      "outputs": [],
      "source": [
        "list1 = [2.5,3.6,1.2,5.0]"
      ]
    },
    {
      "cell_type": "code",
      "execution_count": 69,
      "metadata": {
        "id": "rNa_lODZ_NFp"
      },
      "outputs": [
        {
          "name": "stdout",
          "output_type": "stream",
          "text": [
            "12.3\n"
          ]
        }
      ],
      "source": [
        "print(sum(list1))"
      ]
    },
    {
      "cell_type": "code",
      "execution_count": 70,
      "metadata": {},
      "outputs": [
        {
          "name": "stdout",
          "output_type": "stream",
          "text": [
            "1.2\n"
          ]
        }
      ],
      "source": [
        "print(min(list1))"
      ]
    },
    {
      "cell_type": "code",
      "execution_count": 71,
      "metadata": {},
      "outputs": [
        {
          "name": "stdout",
          "output_type": "stream",
          "text": [
            "5.0\n"
          ]
        }
      ],
      "source": [
        "print(max(list1))"
      ]
    },
    {
      "cell_type": "code",
      "execution_count": 72,
      "metadata": {},
      "outputs": [],
      "source": [
        "#Passing the sliced part as an input to the above functions"
      ]
    },
    {
      "cell_type": "code",
      "execution_count": 73,
      "metadata": {},
      "outputs": [
        {
          "name": "stdout",
          "output_type": "stream",
          "text": [
            "6.1\n"
          ]
        }
      ],
      "source": [
        "print(sum(list1[:2]))"
      ]
    },
    {
      "cell_type": "code",
      "execution_count": 74,
      "metadata": {},
      "outputs": [
        {
          "name": "stdout",
          "output_type": "stream",
          "text": [
            "2.5\n"
          ]
        }
      ],
      "source": [
        "print(min(list1[:2]))"
      ]
    },
    {
      "cell_type": "code",
      "execution_count": 75,
      "metadata": {},
      "outputs": [
        {
          "name": "stdout",
          "output_type": "stream",
          "text": [
            "3.6\n"
          ]
        }
      ],
      "source": [
        "print(max(list1[:2]))"
      ]
    },
    {
      "cell_type": "markdown",
      "metadata": {},
      "source": [
        "The only thing you need to notice when using the sum(), min() and max() is that it takes the whole list as an input. You can even pass the slice of it for computing the above functions."
      ]
    },
    {
      "cell_type": "markdown",
      "metadata": {
        "id": "u-Vj87iW_NLa"
      },
      "source": [
        "Tuple Creation\n",
        "\n",
        "•\tCreate a tuple t = (10, 20, \"Hello\", True).\n",
        "\n",
        "•\tPrint the tuple and confirm its type with type(t).\n"
      ]
    },
    {
      "cell_type": "code",
      "execution_count": 76,
      "metadata": {
        "id": "5EP2npht_NQ5"
      },
      "outputs": [],
      "source": [
        "t = (10, 20, \"Hello\", True)"
      ]
    },
    {
      "cell_type": "code",
      "execution_count": 77,
      "metadata": {},
      "outputs": [
        {
          "name": "stdout",
          "output_type": "stream",
          "text": [
            "Tuple :  (10, 20, 'Hello', True) \n",
            "Type <class 'tuple'>\n"
          ]
        }
      ],
      "source": [
        "print(\"Tuple : \", t , \"\\nType\", type(t))"
      ]
    },
    {
      "cell_type": "markdown",
      "metadata": {
        "id": "34olRsDTCc5N"
      },
      "source": [
        "Tuple Indexing & Slicing\n",
        "\n",
        "•\tPrint the first two elements of t using slicing.\n",
        "\n",
        "•\tPrint the last element of t using negative indexing.\n"
      ]
    },
    {
      "cell_type": "code",
      "execution_count": 78,
      "metadata": {
        "id": "EA5eKrtsCdG9"
      },
      "outputs": [
        {
          "name": "stdout",
          "output_type": "stream",
          "text": [
            "(10, 20)\n"
          ]
        }
      ],
      "source": [
        "print(t[:2])"
      ]
    },
    {
      "cell_type": "code",
      "execution_count": 79,
      "metadata": {},
      "outputs": [
        {
          "name": "stdout",
          "output_type": "stream",
          "text": [
            "True\n"
          ]
        }
      ],
      "source": [
        "print(t[-1])\n",
        "#Can be even done using t[-1:]"
      ]
    },
    {
      "cell_type": "markdown",
      "metadata": {
        "id": "vhExdPrICdcp"
      },
      "source": [
        "Tuple Unpacking\n",
        "\n",
        "•\tSuppose t2 = (\"Tom\", 25, \"Engineer\").\n",
        "\n",
        "•\tUnpack it into three separate variables: name, age, profession.\n",
        "\n",
        "•\tPrint these variables individually.\n"
      ]
    },
    {
      "cell_type": "code",
      "execution_count": 80,
      "metadata": {
        "id": "LHKoFYmVCdiO"
      },
      "outputs": [],
      "source": [
        "t2 = (\"Tom\", 25, \"Engineer\")"
      ]
    },
    {
      "cell_type": "code",
      "execution_count": 81,
      "metadata": {},
      "outputs": [
        {
          "name": "stdout",
          "output_type": "stream",
          "text": [
            "Name : Tom\n",
            "Age : 25\n",
            "Profession : Engineer\n"
          ]
        }
      ],
      "source": [
        "# Unpacking means assigning the values from a list or tuple to individual variables based on their position (index), where each variable receives the value at its respective index.\n",
        "name, age, profession = t2\n",
        "print(\"Name :\", name)\n",
        "print(\"Age :\", age)\n",
        "print(\"Profession :\", profession)"
      ]
    },
    {
      "cell_type": "markdown",
      "metadata": {
        "id": "DT7Zyqz6CdpJ"
      },
      "source": [
        "Attempt Tuple Mutation\n",
        "\n",
        "•\tTry to change an element of t (t[0] = 999) and observe the error.\n",
        "\n",
        "•\tIn comments, explain why the error occurs.\n"
      ]
    },
    {
      "cell_type": "code",
      "execution_count": 82,
      "metadata": {
        "id": "RaDJe9ChCduz"
      },
      "outputs": [],
      "source": [
        "# t2[0] = 999\n",
        "# t2\n",
        "#We cannot change the elements in a tuple"
      ]
    },
    {
      "cell_type": "markdown",
      "metadata": {},
      "source": [
        "Tuple are immutable and thats what seperates the list from a tuple. We cannot change the elements inside a tuple that means the element cant be added, changed or removed from the tuple.\n",
        "\n",
        "Tuples are not about flexibility — they’re about predictability and structure.\n",
        "In data science, that matters a lot when working with fixed data, function outputs, or performance-sensitive code."
      ]
    },
    {
      "cell_type": "markdown",
      "metadata": {
        "id": "YVi6_CuBCd09"
      },
      "source": [
        "Set Creation & Membership\n",
        "\n",
        "•\tCreate a set my_set = {1, 3, 5, 7}.\n",
        "\n",
        "•\tCheck if 5 is in my_set.\n",
        "\n",
        "•\tCheck if 2 is not in my_set.\n"
      ]
    },
    {
      "cell_type": "code",
      "execution_count": 83,
      "metadata": {
        "id": "LSC5BZKGCd7I"
      },
      "outputs": [],
      "source": [
        "my_set = {1,3,5,7}"
      ]
    },
    {
      "cell_type": "code",
      "execution_count": 84,
      "metadata": {},
      "outputs": [
        {
          "data": {
            "text/plain": [
              "True"
            ]
          },
          "execution_count": 84,
          "metadata": {},
          "output_type": "execute_result"
        }
      ],
      "source": [
        "my_set.issuperset({5})\n",
        "#The issuperset() checks where the given element passed as argument is avilable in the main set or not."
      ]
    },
    {
      "cell_type": "code",
      "execution_count": 85,
      "metadata": {},
      "outputs": [
        {
          "data": {
            "text/plain": [
              "True"
            ]
          },
          "execution_count": 85,
          "metadata": {},
          "output_type": "execute_result"
        }
      ],
      "source": [
        "5 in my_set"
      ]
    },
    {
      "cell_type": "code",
      "execution_count": 86,
      "metadata": {},
      "outputs": [
        {
          "data": {
            "text/plain": [
              "True"
            ]
          },
          "execution_count": 86,
          "metadata": {},
          "output_type": "execute_result"
        }
      ],
      "source": [
        "not my_set.issuperset({2})"
      ]
    },
    {
      "cell_type": "code",
      "execution_count": 87,
      "metadata": {},
      "outputs": [
        {
          "data": {
            "text/plain": [
              "True"
            ]
          },
          "execution_count": 87,
          "metadata": {},
          "output_type": "execute_result"
        }
      ],
      "source": [
        "2 not in my_set"
      ]
    },
    {
      "cell_type": "markdown",
      "metadata": {
        "id": "HImWPczZCeCG"
      },
      "source": [
        "Add & Remove Elements\n",
        "\n",
        "•\tAdd 9 to my_set.\n",
        "\n",
        "•\tRemove 3 from my_set.\n",
        "\n",
        "•\tPrint the updated set.\n"
      ]
    },
    {
      "cell_type": "code",
      "execution_count": 88,
      "metadata": {
        "id": "yqvC6PzOCeH1"
      },
      "outputs": [],
      "source": [
        "my_set.add(9)"
      ]
    },
    {
      "cell_type": "code",
      "execution_count": 89,
      "metadata": {},
      "outputs": [
        {
          "data": {
            "text/plain": [
              "1"
            ]
          },
          "execution_count": 89,
          "metadata": {},
          "output_type": "execute_result"
        }
      ],
      "source": [
        "my_set.pop()\n",
        "#Since sets are unordered pop doesnot accept the index and it removes one random element. \n",
        "#So, for removing an element we use .remove() or .discard() instead."
      ]
    },
    {
      "cell_type": "code",
      "execution_count": 90,
      "metadata": {},
      "outputs": [
        {
          "data": {
            "text/plain": [
              "{3, 5, 7, 9}"
            ]
          },
          "execution_count": 90,
          "metadata": {},
          "output_type": "execute_result"
        }
      ],
      "source": [
        "my_set"
      ]
    },
    {
      "cell_type": "code",
      "execution_count": 91,
      "metadata": {},
      "outputs": [],
      "source": [
        "my_set.remove(3)"
      ]
    },
    {
      "cell_type": "code",
      "execution_count": 92,
      "metadata": {},
      "outputs": [
        {
          "name": "stdout",
          "output_type": "stream",
          "text": [
            "{5, 7, 9}\n"
          ]
        }
      ],
      "source": [
        "print(my_set)"
      ]
    },
    {
      "cell_type": "markdown",
      "metadata": {
        "id": "7TYj5oosCebc"
      },
      "source": [
        "Set Operations\n",
        "\n",
        "•\tCreate two sets: setA = {1, 2, 3} and setB = {3, 4, 5}.\n",
        "\n",
        "•\tPrint the union, intersection, and difference (setA - setB).\n"
      ]
    },
    {
      "cell_type": "code",
      "execution_count": 93,
      "metadata": {
        "id": "Li0WDvmGCeiP"
      },
      "outputs": [],
      "source": [
        "setA = {1,2,3}\n",
        "setB = {3,4,5}"
      ]
    },
    {
      "cell_type": "markdown",
      "metadata": {},
      "source": [
        "Two ways for using the union between two sets"
      ]
    },
    {
      "cell_type": "markdown",
      "metadata": {},
      "source": [
        "Union"
      ]
    },
    {
      "cell_type": "code",
      "execution_count": 94,
      "metadata": {},
      "outputs": [
        {
          "name": "stdout",
          "output_type": "stream",
          "text": [
            "{1, 2, 3, 4, 5}\n"
          ]
        }
      ],
      "source": [
        "print(setA.union(setB))"
      ]
    },
    {
      "cell_type": "code",
      "execution_count": 95,
      "metadata": {},
      "outputs": [
        {
          "name": "stdout",
          "output_type": "stream",
          "text": [
            "{1, 2, 3, 4, 5}\n"
          ]
        }
      ],
      "source": [
        "print(setA | setB)"
      ]
    },
    {
      "cell_type": "markdown",
      "metadata": {},
      "source": [
        "Intersection"
      ]
    },
    {
      "cell_type": "code",
      "execution_count": 96,
      "metadata": {},
      "outputs": [
        {
          "name": "stdout",
          "output_type": "stream",
          "text": [
            "{3}\n"
          ]
        }
      ],
      "source": [
        "print(setA.intersection(setB))"
      ]
    },
    {
      "cell_type": "code",
      "execution_count": 97,
      "metadata": {},
      "outputs": [
        {
          "name": "stdout",
          "output_type": "stream",
          "text": [
            "{3}\n"
          ]
        }
      ],
      "source": [
        "print(setA & setB)"
      ]
    },
    {
      "cell_type": "markdown",
      "metadata": {},
      "source": [
        "Difference"
      ]
    },
    {
      "cell_type": "code",
      "execution_count": 98,
      "metadata": {},
      "outputs": [
        {
          "name": "stdout",
          "output_type": "stream",
          "text": [
            "{1, 2}\n"
          ]
        }
      ],
      "source": [
        "print(setA.difference(setB))"
      ]
    },
    {
      "cell_type": "code",
      "execution_count": 99,
      "metadata": {},
      "outputs": [
        {
          "name": "stdout",
          "output_type": "stream",
          "text": [
            "{1, 2}\n"
          ]
        }
      ],
      "source": [
        "print(setA - setB)"
      ]
    },
    {
      "cell_type": "markdown",
      "metadata": {
        "id": "gTQ36xScCeoJ"
      },
      "source": [
        "Check Unique Values\n",
        "\n",
        "•\tDefine a list vals = [1, 2, 2, 3, 3, 3, 4].\n",
        "\n",
        "•\tConvert it to a set.\n",
        "\n",
        "•\tPrint both the list and the set to show how duplicates are removed.\n"
      ]
    },
    {
      "cell_type": "code",
      "execution_count": 100,
      "metadata": {
        "id": "lnZYnf4FCeuR"
      },
      "outputs": [],
      "source": [
        "vals = [1,2,2,3,3,3,4]"
      ]
    },
    {
      "cell_type": "code",
      "execution_count": 101,
      "metadata": {},
      "outputs": [],
      "source": [
        "new_set = set(vals)"
      ]
    },
    {
      "cell_type": "code",
      "execution_count": 102,
      "metadata": {},
      "outputs": [
        {
          "name": "stdout",
          "output_type": "stream",
          "text": [
            "List [1, 2, 2, 3, 3, 3, 4]\n",
            "Set {1, 2, 3, 4}\n"
          ]
        }
      ],
      "source": [
        "print(\"List\", vals)\n",
        "print(\"Set\",new_set)"
      ]
    },
    {
      "cell_type": "markdown",
      "metadata": {},
      "source": [
        " Uses of Sets in Data Science:\n",
        "\n",
        "• Remove duplicate values from data.\n",
        "\n",
        "• Check if a specific value exists in a dataset (fast membership testing).\n",
        "\n",
        "• Compare columns between two DataFrames (find common or different features).\n",
        "\n",
        "• Identify missing required columns or fields.\n",
        "\n",
        "• Extract unique words from text (useful in NLP tasks).\n",
        "\n",
        "• Get unique categories or labels from a column (e.g., for classification).\n",
        "\n",
        "• Filter data by comparing sets (e.g., valid vs. invalid values).\n",
        "\n",
        "• Validate if all required features are present before modeling.\n",
        "\n",
        "• Simplify lists or arrays to just unique elements using set()."
      ]
    },
    {
      "cell_type": "markdown",
      "metadata": {
        "id": "wFqEdrBPCe1d"
      },
      "source": [
        "Frozenset Creation\n",
        "\n",
        "•\tCreate a frozenset from a list [2, 4, 4, 6].\n",
        "\n",
        "•\tPrint it and observe whether duplicates are preserved.\n"
      ]
    },
    {
      "cell_type": "code",
      "execution_count": 103,
      "metadata": {
        "id": "IdlTmZB3Ce7Z"
      },
      "outputs": [
        {
          "name": "stdout",
          "output_type": "stream",
          "text": [
            "frozenset({2, 4, 6})\n"
          ]
        }
      ],
      "source": [
        "lst = [2,4,4,6]\n",
        "\n",
        "#Firstly the frozenset refer to the set that is immutable as the name frozen suggests. \n",
        "\n",
        "# Why use a frozenset?\n",
        "# \t•\tWhen you want a set that should never change\n",
        "# \t•\tUseful for fixed configurations, caching, or dictionary keys\n",
        "# \t•\tHelps ensure data integrity\n",
        "\n",
        "#Caching is the process of storing data temporarily so that future requests for that data can be served faster.\n",
        "\n",
        "my_frozenset = frozenset(lst)\n",
        "print(my_frozenset)\n",
        "\n",
        "#No the duplicates were not preserved\n",
        "#Hashing is also supported by frozen set since its immutable that means the frozenset itself can be used as a key in dictionaries or an element inside another set.\n",
        "#Hashing is a process that converts data (like a string, number, or file) into a fixed-size string or number called a hash value or hash code."
      ]
    },
    {
      "cell_type": "markdown",
      "metadata": {
        "id": "4dXNaaNDCfBR"
      },
      "source": [
        "Immutability Demonstration\n",
        "\n",
        "•\tAttempt to add an element to your frozenset.\n",
        "\n",
        "•\tObserve and explain the error in comments.\n"
      ]
    },
    {
      "cell_type": "code",
      "execution_count": 104,
      "metadata": {
        "id": "pxj9pJA-CfG5"
      },
      "outputs": [],
      "source": [
        "# my_frozenset.add(4)\n",
        "#We cant add"
      ]
    },
    {
      "cell_type": "markdown",
      "metadata": {},
      "source": [
        "The frozenset is immutable meaning that it is unchangable once created. We cant apply any functions like add remove or an update.\n",
        "#Its sole purpose is to protect the created data so modifying it makes no sense at all"
      ]
    },
    {
      "cell_type": "markdown",
      "metadata": {
        "id": "tS53Umq_CfOx"
      },
      "source": [
        "Frozenset Use as a Dictionary Key\n",
        "\n",
        "•\tCreate a dictionary where the key is your frozenset, e.g., my_dict = {frozenset([1,2,3]): \"value\"}.\n",
        "\n",
        "•\tPrint my_dict and explain why a normal set cannot be used as a key.\n"
      ]
    },
    {
      "cell_type": "code",
      "execution_count": 105,
      "metadata": {
        "id": "oZMmMeD0CfUN"
      },
      "outputs": [
        {
          "data": {
            "text/plain": [
              "{frozenset({1, 2, 3}): 'value'}"
            ]
          },
          "execution_count": 105,
          "metadata": {},
          "output_type": "execute_result"
        }
      ],
      "source": [
        "my_dict = {frozenset([1,2,3]): \"value\"}\n",
        "my_dict"
      ]
    },
    {
      "cell_type": "markdown",
      "metadata": {},
      "source": [
        "The only reason why the normal set cant be used a a key is because the normal set doesnot support hashing."
      ]
    },
    {
      "cell_type": "markdown",
      "metadata": {},
      "source": [
        "Why creating the frozenset as key is useful:\n",
        "\n",
        "• Allows you to map from a group of things to a single value.\n",
        "\n",
        "• Works for any scenario where a set of features, tags, or conditions needs to be used as a key.\n",
        "\n",
        "• Maintains data integrity, since it can’t be changed after creation."
      ]
    },
    {
      "cell_type": "markdown",
      "metadata": {
        "id": "Qr8KgR8GCfZl"
      },
      "source": [
        "Dictionary Creation & Access\n",
        "\n",
        "•\tCreate a dictionary student = {\"name\": \"Ramesh\", \"age\": 20, \"grade\": \"A\"}.\n",
        "\n",
        "•\tPrint the value of \"name\" and \"age\" individually.\n"
      ]
    },
    {
      "cell_type": "code",
      "execution_count": 106,
      "metadata": {
        "id": "V4KZrm8LCfe1"
      },
      "outputs": [],
      "source": [
        "stu = {\"name\" : \"Ramesh\",\n",
        "       \"age\" : 20,\n",
        "       \"grade\" : \"A\"\n",
        "       }"
      ]
    },
    {
      "cell_type": "code",
      "execution_count": 107,
      "metadata": {},
      "outputs": [
        {
          "name": "stdout",
          "output_type": "stream",
          "text": [
            "dict_keys(['name', 'age', 'grade'])\n"
          ]
        }
      ],
      "source": [
        "#Way to print a key\n",
        "print(stu.keys())"
      ]
    },
    {
      "cell_type": "code",
      "execution_count": 108,
      "metadata": {},
      "outputs": [
        {
          "name": "stdout",
          "output_type": "stream",
          "text": [
            "dict_values(['Ramesh', 20, 'A'])\n"
          ]
        }
      ],
      "source": [
        "#Way to print values\n",
        "print(stu.values())"
      ]
    },
    {
      "cell_type": "code",
      "execution_count": 109,
      "metadata": {},
      "outputs": [
        {
          "name": "stdout",
          "output_type": "stream",
          "text": [
            "Ramesh\n"
          ]
        }
      ],
      "source": [
        "#Printing indiviual values using keys\n",
        "print(stu[\"name\"])"
      ]
    },
    {
      "cell_type": "code",
      "execution_count": 110,
      "metadata": {},
      "outputs": [
        {
          "name": "stdout",
          "output_type": "stream",
          "text": [
            "20\n"
          ]
        }
      ],
      "source": [
        "print(stu[\"age\"])"
      ]
    },
    {
      "cell_type": "markdown",
      "metadata": {
        "id": "4M87a19tCfkK"
      },
      "source": [
        "Adding & Updating Keys\n",
        "\n",
        "•\tAdd a new key-value pair: \"city\": \"Kathmandu\" to student.\n",
        "\n",
        "•\tUpdate \"age\" to 21.\n",
        "\n",
        "•\tPrint the dictionary.\n"
      ]
    },
    {
      "cell_type": "code",
      "execution_count": 111,
      "metadata": {
        "id": "-haSJlwICfo6"
      },
      "outputs": [],
      "source": [
        "#Adding a new key value pair to a dictionary by mentioning the key referencing the dictionary and assigning its value\n",
        "stu[\"city\"] = \"Kathmandu\""
      ]
    },
    {
      "cell_type": "code",
      "execution_count": 112,
      "metadata": {},
      "outputs": [],
      "source": [
        "#If the given key is not present it adds the value and if there is that key then it updates the existing one.\n",
        "stu[\"age\"] = 21"
      ]
    },
    {
      "cell_type": "code",
      "execution_count": 113,
      "metadata": {},
      "outputs": [
        {
          "name": "stdout",
          "output_type": "stream",
          "text": [
            "{'name': 'Ramesh', 'age': 21, 'grade': 'A', 'city': 'Kathmandu'}\n"
          ]
        }
      ],
      "source": [
        "print(stu)"
      ]
    },
    {
      "cell_type": "markdown",
      "metadata": {
        "id": "GK0CQWakCfuB"
      },
      "source": [
        "Removing Keys\n",
        "\n",
        "•\tRemove the \"grade\" key from student.\n",
        "\n",
        "•\tPrint the resulting dictionary.\n"
      ]
    },
    {
      "cell_type": "code",
      "execution_count": 114,
      "metadata": {
        "id": "a-PF_5ITCfy3"
      },
      "outputs": [
        {
          "data": {
            "text/plain": [
              "'A'"
            ]
          },
          "execution_count": 114,
          "metadata": {},
          "output_type": "execute_result"
        }
      ],
      "source": [
        "stu.pop(\"grade\")"
      ]
    },
    {
      "cell_type": "code",
      "execution_count": 115,
      "metadata": {},
      "outputs": [
        {
          "name": "stdout",
          "output_type": "stream",
          "text": [
            "{'name': 'Ramesh', 'age': 21, 'city': 'Kathmandu'}\n"
          ]
        }
      ],
      "source": [
        "print(stu)"
      ]
    },
    {
      "cell_type": "markdown",
      "metadata": {},
      "source": [
        "Another way to delete a key is by using :\n",
        "del stu[key] but it does not return a value like that of pop.\n",
        "\n",
        "Why the returned value from the pop is useful?\n",
        "• The returned value is your data — not just removing it, but knowing what you removed.\n",
        "\n",
        "• Helps write cleaner and more efficient code by combining lookup and removal.\n",
        "\n",
        "• Supports conditional logic depending on the removed value."
      ]
    },
    {
      "cell_type": "markdown",
      "metadata": {
        "id": "0gdHLvI4Cf4H"
      },
      "source": [
        "Nested Dictionary Example\n",
        "\n",
        "•\tCreate a dictionary record = {\"id\": 101, \"info\": {\"name\": \"Bob\", \"dept\": \"IT\"}}.\n",
        "\n",
        "•\tPrint the department of Bob.\n"
      ]
    },
    {
      "cell_type": "code",
      "execution_count": 116,
      "metadata": {
        "id": "lfcxCDQ0Cf9W"
      },
      "outputs": [],
      "source": [
        "record = {\n",
        "    \"id\" : 101,\n",
        "    \"info\" :\n",
        "    {\"name\" : \"Bob\",\n",
        "    \"dept\" : \"IT\"}\n",
        "}"
      ]
    },
    {
      "cell_type": "code",
      "execution_count": 117,
      "metadata": {},
      "outputs": [
        {
          "name": "stdout",
          "output_type": "stream",
          "text": [
            "The department of Bob is  IT\n"
          ]
        }
      ],
      "source": [
        "print(\"The department of Bob is \" ,record[\"info\"][\"dept\"])\n",
        "#When accessing the nested dictionary just use the preceeding indexing of that dictionary for that specific index"
      ]
    },
    {
      "cell_type": "markdown",
      "metadata": {
        "id": "U3gASNCkCgC-"
      },
      "source": [
        "Operator Precedence\n",
        "\n",
        "•\tDefine a = 4, b = 2, c = 5.\n",
        "\n",
        "•\tPrint the result of a + b * c vs. (a + b) * c.\n",
        "\n",
        "•\tExplain in comments how the result differs.\n"
      ]
    },
    {
      "cell_type": "code",
      "execution_count": 118,
      "metadata": {
        "id": "S65qno9pCgHl"
      },
      "outputs": [],
      "source": [
        "a = 4\n",
        "b = 2\n",
        "c = 5"
      ]
    },
    {
      "cell_type": "code",
      "execution_count": 119,
      "metadata": {},
      "outputs": [
        {
          "name": "stdout",
          "output_type": "stream",
          "text": [
            "Result 1:  14\n",
            "Result 2: 30\n"
          ]
        }
      ],
      "source": [
        "result1 = a + b * c\n",
        "result2 = (a+b) * c\n",
        "print(\"Result 1: \", result1)\n",
        "print(\"Result 2:\", result2)\n",
        "\n",
        "#The main reason for the difference in the result is because of the priotization of operation within it hieraarchy where brackets for now are given the more priority over other addition and subtraction"
      ]
    },
    {
      "cell_type": "markdown",
      "metadata": {
        "id": "eZZmEo-ZChYZ"
      },
      "source": [
        "Modulo & Floor Division\n",
        "\n",
        "•\tLet x = 17 and y = 4.\n",
        "\n",
        "•\tPrint x % y and x // y.\n",
        "\n",
        "•\tExplain the difference between these two operators in comments.\n"
      ]
    },
    {
      "cell_type": "code",
      "execution_count": 120,
      "metadata": {
        "id": "7hQ2z1OBCheh"
      },
      "outputs": [],
      "source": [
        "x = 17\n",
        "y = 4\n"
      ]
    },
    {
      "cell_type": "code",
      "execution_count": 121,
      "metadata": {},
      "outputs": [
        {
          "name": "stdout",
          "output_type": "stream",
          "text": [
            "1\n",
            "4\n"
          ]
        }
      ],
      "source": [
        "print(x%y)\n",
        "print(x//y)\n",
        "\n",
        "#The difference between these two is that the modulo operator return the remainder and floor division gives us the quotient"
      ]
    },
    {
      "cell_type": "markdown",
      "metadata": {
        "id": "KDMNaDj8Chj4"
      },
      "source": [
        "Power Operator\n",
        "\n",
        "•\tPrint the result of 2 ** 3.\n",
        "\n",
        "•\tWrite a line to calculate 3 ** 4.\n",
        "\n",
        "•\tPrint the addition of both.\n"
      ]
    },
    {
      "cell_type": "code",
      "execution_count": 122,
      "metadata": {
        "id": "v9QxPnzxChrV"
      },
      "outputs": [
        {
          "name": "stdout",
          "output_type": "stream",
          "text": [
            "8\n"
          ]
        }
      ],
      "source": [
        "result = 2 ** 3\n",
        "print(result)"
      ]
    },
    {
      "cell_type": "code",
      "execution_count": 123,
      "metadata": {},
      "outputs": [
        {
          "name": "stdout",
          "output_type": "stream",
          "text": [
            "81\n"
          ]
        }
      ],
      "source": [
        "result2 = (3 ** 4)\n",
        "print(result2)"
      ]
    },
    {
      "cell_type": "code",
      "execution_count": 124,
      "metadata": {},
      "outputs": [
        {
          "name": "stdout",
          "output_type": "stream",
          "text": [
            "95\n"
          ]
        }
      ],
      "source": [
        "add = result1 + result2\n",
        "print(add)"
      ]
    },
    {
      "cell_type": "markdown",
      "metadata": {
        "id": "4hbLzZCtFLSo"
      },
      "source": [
        "String Comparison\n",
        "\n",
        "•\tCompare \"apple\" and \"banana\" with <, >, and ==.\n",
        "\n",
        "•\tPrint the results.\n"
      ]
    },
    {
      "cell_type": "code",
      "execution_count": 125,
      "metadata": {
        "id": "D6ktPbKIFLzZ"
      },
      "outputs": [
        {
          "name": "stdout",
          "output_type": "stream",
          "text": [
            "True\n",
            "False\n",
            "False\n"
          ]
        }
      ],
      "source": [
        "string1 = \"apple\"\n",
        "string2 = \"banana\"\n",
        "\n",
        "print(string1 < string2)\n",
        "print(string1 > string2)\n",
        "print(string1 == string2)\n",
        "# \"==\" this checks if two strings are exactly same.\n",
        "\n",
        "# These comparisons are based on lexicographical (dictionary-like) order,\n",
        "# not string length. 'a' comes before 'b', so \"apple\" < \"banana\".\n"
      ]
    },
    {
      "cell_type": "markdown",
      "metadata": {
        "id": "2s87w20PFMGW"
      },
      "source": [
        "Mixed Type Comparison\n",
        "\n",
        "•\tCompare 5 and 5.0 with ==.\n",
        "\n",
        "•\tCompare 5 and 5.0 with is.\n",
        "\n",
        "•\tDiscuss the results in comment.\n"
      ]
    },
    {
      "cell_type": "code",
      "execution_count": 126,
      "metadata": {
        "id": "ZnSE-ql1FMSt"
      },
      "outputs": [
        {
          "name": "stdout",
          "output_type": "stream",
          "text": [
            "True\n"
          ]
        }
      ],
      "source": [
        "num1 = 5\n",
        "num2 = 5.0\n",
        "print(num1 == num2)"
      ]
    },
    {
      "cell_type": "markdown",
      "metadata": {},
      "source": [
        "• Use == when you want to compare values.\n",
        "\n",
        "• Use is only when you want to compare object identity (like checking if two variables point to the exact same object)."
      ]
    },
    {
      "cell_type": "code",
      "execution_count": 127,
      "metadata": {},
      "outputs": [
        {
          "name": "stdout",
          "output_type": "stream",
          "text": [
            "False\n"
          ]
        }
      ],
      "source": [
        "print(num1 is num2)"
      ]
    },
    {
      "cell_type": "markdown",
      "metadata": {
        "id": "IaJng1d6FMYV"
      },
      "source": [
        "Chain Comparisons\n",
        "\n",
        "•\tEvaluate the expression 2 < 3 < 5.\n",
        "\n",
        "•\tPrint the result and explain how Python handles chained comparisons.\n"
      ]
    },
    {
      "cell_type": "code",
      "execution_count": 128,
      "metadata": {
        "id": "nVS2-rboFMfP"
      },
      "outputs": [
        {
          "name": "stdout",
          "output_type": "stream",
          "text": [
            "True\n"
          ]
        }
      ],
      "source": [
        "print(2<3<5)"
      ]
    },
    {
      "cell_type": "markdown",
      "metadata": {},
      "source": [
        "Python automatically chains the above expression like this (2 < 3) < (3 < 5).\n",
        "\n",
        "Python allows you to chain comparisons without repeating the middle number.\n",
        "\n",
        "Its cleaner and easier to read.\n",
        "\n",
        "It’s faster than writing multiple conditions separately."
      ]
    },
    {
      "cell_type": "markdown",
      "metadata": {
        "id": "pkNdsyv9FMl5"
      },
      "source": [
        "Logical and\n",
        "\n",
        "•\tDefine p = True and q = False.\n",
        "\n",
        "•\tPrint p and q.\n",
        "\n",
        "•\tDemonstrate a real-world example: (age > 18) and (has_ID == True).\n"
      ]
    },
    {
      "cell_type": "code",
      "execution_count": 129,
      "metadata": {
        "id": "Td3Bmc8MFMrt"
      },
      "outputs": [],
      "source": [
        "p = True \n",
        "q = False"
      ]
    },
    {
      "cell_type": "code",
      "execution_count": 130,
      "metadata": {},
      "outputs": [
        {
          "name": "stdout",
          "output_type": "stream",
          "text": [
            "p :  True \n",
            "q :  False\n"
          ]
        }
      ],
      "source": [
        "print(\"p : \", p, \"\\nq : \",q)"
      ]
    },
    {
      "cell_type": "code",
      "execution_count": 131,
      "metadata": {},
      "outputs": [
        {
          "name": "stdout",
          "output_type": "stream",
          "text": [
            "Legit False\n"
          ]
        }
      ],
      "source": [
        "age = 20 \n",
        "has_Id = False\n",
        "legit = (age > 18) & (has_Id == True)\n",
        "print ( \"Legit\", legit)"
      ]
    },
    {
      "cell_type": "markdown",
      "metadata": {
        "id": "4obBp1xEFMzm"
      },
      "source": [
        "Logical or\n",
        "\n",
        "•\tUsing the same p and q, print p or q.\n"
      ]
    },
    {
      "cell_type": "code",
      "execution_count": 132,
      "metadata": {
        "id": "JXW2wXUkFM7-"
      },
      "outputs": [
        {
          "name": "stdout",
          "output_type": "stream",
          "text": [
            "True\n"
          ]
        }
      ],
      "source": [
        "print(p | q)"
      ]
    },
    {
      "cell_type": "markdown",
      "metadata": {
        "id": "NFc6vqziFNCl"
      },
      "source": [
        "Logical not\n",
        "\n",
        "•\tLet r = (10 > 5).\n",
        "\n",
        "•\tPrint r, then print not r.\n"
      ]
    },
    {
      "cell_type": "code",
      "execution_count": 133,
      "metadata": {
        "id": "aoMKakTFFNK5"
      },
      "outputs": [],
      "source": [
        "r = (10 > 5)"
      ]
    },
    {
      "cell_type": "code",
      "execution_count": 134,
      "metadata": {},
      "outputs": [
        {
          "name": "stdout",
          "output_type": "stream",
          "text": [
            "True\n",
            "False\n"
          ]
        }
      ],
      "source": [
        "print(r)\n",
        "\n",
        "print(not(r))\n",
        "\n",
        "# We can't use \"!\" as not in python. We will need to use the \"not\" instead"
      ]
    },
    {
      "cell_type": "markdown",
      "metadata": {
        "id": "CS69ZvS-FNTh"
      },
      "source": [
        "Using len()\n",
        "\n",
        "•\tCreate a list with 7 elements.\n",
        "\n",
        "•\tUse len() to get the total count.\n",
        "\n",
        "•\tPrint the result.\n"
      ]
    },
    {
      "cell_type": "code",
      "execution_count": 135,
      "metadata": {
        "id": "70ibpb0RFNf2"
      },
      "outputs": [],
      "source": [
        "lst = [1,2,3,4,5,6,7]"
      ]
    },
    {
      "cell_type": "code",
      "execution_count": 136,
      "metadata": {},
      "outputs": [],
      "source": [
        "total_count = len(lst)"
      ]
    },
    {
      "cell_type": "code",
      "execution_count": 137,
      "metadata": {},
      "outputs": [
        {
          "name": "stdout",
          "output_type": "stream",
          "text": [
            "7\n"
          ]
        }
      ],
      "source": [
        "print(total_count)"
      ]
    },
    {
      "cell_type": "markdown",
      "metadata": {
        "id": "HQHtwc4WFNnB"
      },
      "source": [
        "Using type()\n",
        "\n",
        "•\tFor each of the following: 10, 10.5, \"ten\", True, 3+2j, print type(...).\n",
        "\n",
        "•\tSummarize in comments the data types you observed.\n"
      ]
    },
    {
      "cell_type": "code",
      "execution_count": 138,
      "metadata": {
        "id": "pFMcKpPLFOO-"
      },
      "outputs": [
        {
          "name": "stdout",
          "output_type": "stream",
          "text": [
            "<class 'int'>\n",
            "<class 'float'>\n",
            "<class 'str'>\n",
            "<class 'bool'>\n",
            "<class 'complex'>\n"
          ]
        }
      ],
      "source": [
        "lst = [10, 10.5, \"ten\", True, 3 + 3j]\n",
        "print(type(lst[0]))\n",
        "print(type(lst[1]))\n",
        "print(type(lst[2]))\n",
        "print(type(lst[3]))\n",
        "print(type(lst[4]))\n"
      ]
    },
    {
      "cell_type": "markdown",
      "metadata": {},
      "source": [
        "The data types that I observed are integer, float, string , boolean and Complex."
      ]
    },
    {
      "cell_type": "markdown",
      "metadata": {
        "id": "ZB34fGL-FOZT"
      },
      "source": [
        "Using abs()\n",
        "\n",
        "•\tPrint abs(10), abs(-10), and abs(-3.5).\n",
        "\n",
        "•\tExplain what abs() does in comments.\n"
      ]
    },
    {
      "cell_type": "code",
      "execution_count": 139,
      "metadata": {
        "id": "KrdCv7QuFOy-"
      },
      "outputs": [
        {
          "name": "stdout",
          "output_type": "stream",
          "text": [
            "10\n",
            "3.5\n"
          ]
        }
      ],
      "source": [
        "print(abs(-10))\n",
        "print(abs(-3.5))\n",
        "#The absolute make the given numbers a positive"
      ]
    },
    {
      "cell_type": "markdown",
      "metadata": {
        "id": "5pvhPaJWFO6R"
      },
      "source": [
        "Using round()\n",
        "\n",
        "•\tDemonstrate round(3.14159, 2).\n",
        "\n",
        "•\tShow how round(2.5) behaves in Python.\n"
      ]
    },
    {
      "cell_type": "code",
      "execution_count": 142,
      "metadata": {
        "id": "32LnMYGbFPA1"
      },
      "outputs": [
        {
          "name": "stdout",
          "output_type": "stream",
          "text": [
            "3.14\n"
          ]
        }
      ],
      "source": [
        "print(round(3.14158, 2))\n",
        "#The syntax is round(number,digits)\n",
        "# This rounds the number to 2 decimal places — the second argument specifies how many digits to keep after the decimal."
      ]
    },
    {
      "cell_type": "code",
      "execution_count": null,
      "metadata": {},
      "outputs": [
        {
          "name": "stdout",
          "output_type": "stream",
          "text": [
            "2\n"
          ]
        }
      ],
      "source": [
        "print(round(2.5))\n",
        "#By default the arguments for digit is 0, so this will return us an int."
      ]
    },
    {
      "cell_type": "markdown",
      "metadata": {
        "id": "EBFiZT1hFPHW"
      },
      "source": [
        "Using sum(), max(), min()\n",
        "\n",
        "•\tCreate a list of numeric values.\n",
        "\n",
        "•\tPrint sum(), max(), and min() of that list.\n"
      ]
    },
    {
      "cell_type": "code",
      "execution_count": 143,
      "metadata": {
        "id": "Fw8GLjw6FPMz"
      },
      "outputs": [],
      "source": [
        "lst = [1,2,3,4,5,6,7,8]"
      ]
    },
    {
      "cell_type": "code",
      "execution_count": 144,
      "metadata": {},
      "outputs": [
        {
          "name": "stdout",
          "output_type": "stream",
          "text": [
            "36\n"
          ]
        }
      ],
      "source": [
        "print(sum(lst))"
      ]
    },
    {
      "cell_type": "code",
      "execution_count": 145,
      "metadata": {},
      "outputs": [
        {
          "name": "stdout",
          "output_type": "stream",
          "text": [
            "8\n"
          ]
        }
      ],
      "source": [
        "print(max(lst))"
      ]
    },
    {
      "cell_type": "code",
      "execution_count": 146,
      "metadata": {},
      "outputs": [
        {
          "name": "stdout",
          "output_type": "stream",
          "text": [
            "1\n"
          ]
        }
      ],
      "source": [
        "print(min(lst))"
      ]
    },
    {
      "cell_type": "markdown",
      "metadata": {
        "id": "Chog1fOAFPSf"
      },
      "source": [
        "Using sorted()\n",
        "\n",
        "•\tCreate a list or tuple vals = (3, 1, 4, 2).\n",
        "\n",
        "•\tUse sorted(vals) and print the result.\n",
        "\n",
        "•\tShow that vals itself is unchanged.\n"
      ]
    },
    {
      "cell_type": "code",
      "execution_count": 147,
      "metadata": {
        "id": "qRZo70bJFPXr"
      },
      "outputs": [],
      "source": [
        "vals = (3,1,4,2)"
      ]
    },
    {
      "cell_type": "code",
      "execution_count": 149,
      "metadata": {},
      "outputs": [
        {
          "name": "stdout",
          "output_type": "stream",
          "text": [
            "[1, 2, 3, 4]\n"
          ]
        }
      ],
      "source": [
        "new_val = sorted(vals)\n",
        "print(new_val)"
      ]
    },
    {
      "cell_type": "code",
      "execution_count": 150,
      "metadata": {},
      "outputs": [
        {
          "data": {
            "text/plain": [
              "(3, 1, 4, 2)"
            ]
          },
          "execution_count": 150,
          "metadata": {},
          "output_type": "execute_result"
        }
      ],
      "source": [
        "vals"
      ]
    },
    {
      "cell_type": "markdown",
      "metadata": {},
      "source": [
        "I have previously mentioned that the sorted doesnot change the original list or a tuple. So if we want it to be mutable we use sort instead."
      ]
    },
    {
      "cell_type": "markdown",
      "metadata": {
        "id": "zZcd9asrFPdL"
      },
      "source": [
        "Using any() / all()\n",
        "\n",
        "•\tCreate a list of booleans, for example [True, False, True].\n",
        "\n",
        "•\tPrint any() on the list, then all() on the list.\n",
        "\n",
        "•\tShow the difference in how they evaluate.\n"
      ]
    },
    {
      "cell_type": "code",
      "execution_count": 151,
      "metadata": {
        "id": "Om_LkYqwFPim"
      },
      "outputs": [],
      "source": [
        "bool_list = [True, False, True]"
      ]
    },
    {
      "cell_type": "code",
      "execution_count": 154,
      "metadata": {},
      "outputs": [
        {
          "name": "stdout",
          "output_type": "stream",
          "text": [
            "True\n"
          ]
        }
      ],
      "source": [
        "print(any(bool_list))\n",
        "#Returns true if any one of the element is true in the given list"
      ]
    },
    {
      "cell_type": "code",
      "execution_count": 155,
      "metadata": {},
      "outputs": [
        {
          "name": "stdout",
          "output_type": "stream",
          "text": [
            "False\n"
          ]
        }
      ],
      "source": [
        "print(all(bool_list))\n",
        "#Retrins true only if all the element in the list is true"
      ]
    },
    {
      "cell_type": "markdown",
      "metadata": {
        "id": "UEB6MvdvFPqu"
      },
      "source": [
        "Storing Booleans from Comparisons\n",
        "\n",
        "•\tCompare two values in separate expressions, e.g., a = (10 > 3), b = (5 == 5).\n",
        "\n",
        "•\tCombine these booleans with and or or.\n",
        "\n",
        "•\tPrint the final result.\n"
      ]
    },
    {
      "cell_type": "code",
      "execution_count": 156,
      "metadata": {
        "id": "jdILaM0zFP4C"
      },
      "outputs": [],
      "source": [
        "a = (10 > 3)\n",
        "b = (5 == 5)"
      ]
    },
    {
      "cell_type": "code",
      "execution_count": 157,
      "metadata": {},
      "outputs": [
        {
          "name": "stdout",
          "output_type": "stream",
          "text": [
            "True\n",
            "True\n"
          ]
        }
      ],
      "source": [
        "print(a and b)\n",
        "print(a | b)"
      ]
    },
    {
      "cell_type": "markdown",
      "metadata": {
        "id": "ADGTfNx7FQZT"
      },
      "source": [
        "Multiline String & Counting\n",
        "\n",
        "•\tCreate a multiline string describing your favorite hobby.\n",
        "\n",
        "•\tUse the string method .count(substring) to count how many times the letter \"a\" appears (case-insensitive).\n",
        "\n",
        "•\tPrint the count and explain any steps taken to handle case sensitivity.\n"
      ]
    },
    {
      "cell_type": "code",
      "execution_count": 158,
      "metadata": {
        "id": "bZM1wrkcFQir"
      },
      "outputs": [],
      "source": [
        "multiline_string = \"My favorite for now has been sitting infront of my laptop and learning data science.\"\n"
      ]
    },
    {
      "cell_type": "code",
      "execution_count": null,
      "metadata": {},
      "outputs": [
        {
          "data": {
            "text/plain": [
              "7"
            ]
          },
          "execution_count": 160,
          "metadata": {},
          "output_type": "execute_result"
        }
      ],
      "source": [
        "multiline_string.lower().count(\"a\")"
      ]
    },
    {
      "cell_type": "markdown",
      "metadata": {},
      "source": [
        "To handle case sensitivity when counting the repitition of a certain character i changed the whole multiline string to lowercase and then applied the count function"
      ]
    },
    {
      "cell_type": "markdown",
      "metadata": {
        "id": "GHEAWBcIFQox"
      },
      "source": [
        "Advanced String Slicing\n",
        "\n",
        "•\tTake the string \"ABCDEFGHIJ\" and slice every second character, resulting in \"ACEGI\".\n",
        "\n",
        "•\tPrint the sliced string.\n",
        "\n",
        "•\tAlso slice in reverse step.\n"
      ]
    },
    {
      "cell_type": "code",
      "execution_count": 162,
      "metadata": {
        "id": "ubXNKG1iFQvc"
      },
      "outputs": [
        {
          "name": "stdout",
          "output_type": "stream",
          "text": [
            "ACEGI\n"
          ]
        }
      ],
      "source": [
        "str = \"ABCDEFGHIJ\"\n",
        "print(str[::2])"
      ]
    },
    {
      "cell_type": "code",
      "execution_count": 166,
      "metadata": {},
      "outputs": [
        {
          "name": "stdout",
          "output_type": "stream",
          "text": [
            "JHFDB\n"
          ]
        }
      ],
      "source": [
        "print(str[::-2])\n",
        "#Here for the reversing the step is what guided it to start from the right and head towards left"
      ]
    },
    {
      "cell_type": "markdown",
      "metadata": {
        "id": "XKuSnFtuFR76"
      },
      "source": [
        "Casefold vs. Lower\n",
        "\n",
        "•\tCreate two strings, \"Case\" and \"case\".\n",
        "\n",
        "•\tCompare them with the regular == operator directly.\n",
        "\n",
        "•\tCompare them again after applying .casefold().\n",
        "\n",
        "•\tPrint results and comment on how .casefold() differs from .lower() in edge cases.\n"
      ]
    },
    {
      "cell_type": "code",
      "execution_count": 167,
      "metadata": {
        "id": "_qG5-7q9FSE-"
      },
      "outputs": [],
      "source": [
        "str1 = \"Case\"\n",
        "str2 = \"case\"\n"
      ]
    },
    {
      "cell_type": "code",
      "execution_count": 168,
      "metadata": {},
      "outputs": [
        {
          "name": "stdout",
          "output_type": "stream",
          "text": [
            "False\n"
          ]
        }
      ],
      "source": [
        "print(str1 == str2)"
      ]
    },
    {
      "cell_type": "code",
      "execution_count": null,
      "metadata": {},
      "outputs": [
        {
          "name": "stdout",
          "output_type": "stream",
          "text": [
            "True\n"
          ]
        }
      ],
      "source": [
        "print(str1.casefold() == str2.casefold())\n",
        "#These doesnot omit the case sensitiveness but changes it to lowercase just like the .lower().count\n",
        "#But the twist is that the casefold() handles the specific characters that the lower() misses."
      ]
    },
    {
      "cell_type": "markdown",
      "metadata": {
        "id": "pLKqzuzVFSbO"
      },
      "source": [
        "Formatted Printing\n",
        "\n",
        "•\tDefine name = \"Ramesh\", product = \"Notebook\", quantity = 2, and price = 12.50.\n",
        "\n",
        "•\tUse an f-string (or str.format()) to print:\n",
        "\n",
        "\"Ramesh purchased 2 Notebook for a total of $25.0.\"\n"
      ]
    },
    {
      "cell_type": "code",
      "execution_count": 173,
      "metadata": {
        "id": "O2iU6W9uFSid"
      },
      "outputs": [],
      "source": [
        "name = \"Ramesh\"\n",
        "product = \"Notebook\"\n",
        "quantity = 2 \n",
        "price = 12.50\n"
      ]
    },
    {
      "cell_type": "code",
      "execution_count": 174,
      "metadata": {},
      "outputs": [
        {
          "name": "stdout",
          "output_type": "stream",
          "text": [
            "Ramesh purchased 2 Notebook for a total of $12.5.\n"
          ]
        }
      ],
      "source": [
        "print(f\"{name} purchased {quantity} {product} for a total of ${price}.\")"
      ]
    },
    {
      "cell_type": "code",
      "execution_count": 178,
      "metadata": {},
      "outputs": [
        {
          "name": "stdout",
          "output_type": "stream",
          "text": [
            "Ramesh purchased 2 Notebook for a total of $12.5.\n"
          ]
        }
      ],
      "source": [
        "print(\"{} purchased {} {} for a total of ${}.\".format(name, quantity, product, price))"
      ]
    },
    {
      "cell_type": "markdown",
      "metadata": {
        "id": "5lR3rTqGFSpd"
      },
      "source": [
        "Type Conversion Chain\n",
        "\n",
        "•\tAsk a user for a string that represents a number, e.g., \"0\".\n",
        "\n",
        "•\tConvert it to a float, then to a bool, and print the intermediate and final results.\n"
      ]
    },
    {
      "cell_type": "code",
      "execution_count": 181,
      "metadata": {
        "id": "vBoOXkuHFSvG"
      },
      "outputs": [
        {
          "name": "stdout",
          "output_type": "stream",
          "text": [
            "2.0\n",
            "True\n"
          ]
        }
      ],
      "source": [
        "input = input(\"Please enter a number :\")\n",
        "float_input = float(input)\n",
        "print(float_input)\n",
        "\n",
        "bool_input = bool(float_input)\n",
        "print(bool_input)\n"
      ]
    },
    {
      "cell_type": "markdown",
      "metadata": {
        "id": "U4XBYYsaFS0x"
      },
      "source": [
        "String List Sorting\n",
        "\n",
        "•\tGiven fruits = [\"apple\", \"banana\", \"cherry\"], sort them in descending alphabetical order.\n",
        "\n",
        "•\tPrint the sorted list, then use the .reverse() method to flip it. Compare the two results.\n"
      ]
    },
    {
      "cell_type": "code",
      "execution_count": 190,
      "metadata": {
        "id": "JVqLG_ZVFS62"
      },
      "outputs": [],
      "source": [
        "fruits = [\"apple\", \"banana\", \"cherry\"]\n",
        "fruits.sort(reverse=True)\n"
      ]
    },
    {
      "cell_type": "code",
      "execution_count": 191,
      "metadata": {},
      "outputs": [
        {
          "name": "stdout",
          "output_type": "stream",
          "text": [
            "['cherry', 'banana', 'apple']\n",
            "Reversed:  ['apple', 'banana', 'cherry']\n"
          ]
        }
      ],
      "source": [
        "print(fruits)\n",
        "\n",
        "fruits.reverse()\n",
        "print(\"Reversed: \", fruits)"
      ]
    },
    {
      "cell_type": "markdown",
      "metadata": {},
      "source": [
        ".sort(reverse=True)\n",
        "\n",
        "• Sorts list in descending order by value.\n",
        "\n",
        "• Changes the list in place.\n",
        "\n",
        "• Use to get highest values first.\n",
        "\n",
        "\n",
        "\n",
        ".reverse()\n",
        "\n",
        "• Reverses the current order of the list.\n",
        "\n",
        "• Changes the list in place.\n",
        "\n",
        "• Use to flip the list without sorting.\n"
      ]
    },
    {
      "cell_type": "markdown",
      "metadata": {
        "id": "DCcwBID9FTBW"
      },
      "source": [
        "Insert Using Slicing\n",
        "\n",
        "•\tStart with a list [2, 5, 7, 1, 9].\n",
        "\n",
        "•\tInsert the value 4 right after the 2 using slicing (not insert() or append()).\n",
        "\n",
        "•\tPrint the modified list.\n"
      ]
    },
    {
      "cell_type": "code",
      "execution_count": 201,
      "metadata": {
        "id": "sw1ntlhyFTIA"
      },
      "outputs": [],
      "source": [
        "lst = [2,5,7,1,9]\n"
      ]
    },
    {
      "cell_type": "code",
      "execution_count": 202,
      "metadata": {},
      "outputs": [
        {
          "data": {
            "text/plain": [
              "[2, 4, 5, 7, 1, 9]"
            ]
          },
          "execution_count": 202,
          "metadata": {},
          "output_type": "execute_result"
        }
      ],
      "source": [
        "lst = lst[:1] + [4] + lst[1:]\n",
        "lst\n",
        "# Here we have created the space for the 4 at the given index by slicing the list before and after it. "
      ]
    },
    {
      "cell_type": "markdown",
      "metadata": {
        "id": "GTRCEi-VGv51"
      },
      "source": [
        "Indexing Within a Mixed List\n",
        "\n",
        "•\tCreate a list info = [\"John\", 28, True, 4500.75].\n",
        "\n",
        "•\tPrint only \"John\" and 4500.75 using their indices.\n"
      ]
    },
    {
      "cell_type": "code",
      "execution_count": 203,
      "metadata": {
        "id": "Huprl-ngGwAK"
      },
      "outputs": [],
      "source": [
        "info = [\"John\", 28, True, 4500.75]"
      ]
    },
    {
      "cell_type": "code",
      "execution_count": 205,
      "metadata": {},
      "outputs": [
        {
          "name": "stdout",
          "output_type": "stream",
          "text": [
            "John 4500.75\n"
          ]
        }
      ],
      "source": [
        "print(info[0], info[-1]) "
      ]
    },
    {
      "cell_type": "markdown",
      "metadata": {
        "id": "OJEsgWMzGwGV"
      },
      "source": [
        "Tuple Concatenation & Replication\n",
        "\n",
        "•\tCreate two tuples (1, 2) and (3, 4).\n",
        "\n",
        "•\tConcatenate them into (1, 2, 3, 4).\n",
        "\n",
        "•\tReplicate (1, 2) 3 times to get (1, 2, 1, 2, 1, 2).\n"
      ]
    },
    {
      "cell_type": "code",
      "execution_count": 206,
      "metadata": {
        "id": "T-dmGokNGwPt"
      },
      "outputs": [],
      "source": [
        "t1 = (1,2)\n",
        "t2 = (3,4)"
      ]
    },
    {
      "cell_type": "code",
      "execution_count": 207,
      "metadata": {},
      "outputs": [
        {
          "name": "stdout",
          "output_type": "stream",
          "text": [
            "(1, 2, 3, 4)\n"
          ]
        }
      ],
      "source": [
        "combined = t1 + t2\n",
        "print(combined)"
      ]
    },
    {
      "cell_type": "code",
      "execution_count": 208,
      "metadata": {},
      "outputs": [
        {
          "name": "stdout",
          "output_type": "stream",
          "text": [
            "(1, 2, 1, 2, 1, 2)\n"
          ]
        }
      ],
      "source": [
        "print(t1 * 3)"
      ]
    },
    {
      "cell_type": "markdown",
      "metadata": {
        "id": "yPDHTJniGwWH"
      },
      "source": [
        "Single-Element Tuple\n",
        "\n",
        "•\tDemonstrate that (42,) is a tuple whereas (42) is just an integer.\n"
      ]
    },
    {
      "cell_type": "code",
      "execution_count": null,
      "metadata": {
        "id": "ac1V-P6QGwez"
      },
      "outputs": [
        {
          "name": "stdout",
          "output_type": "stream",
          "text": [
            "t1 : (42,) Type  <class 'tuple'>\n",
            "t2 : 42 Type  <class 'int'>\n"
          ]
        }
      ],
      "source": [
        "t1 = (42,)\n",
        "t2 = (42)\n",
        "print(\"t1 :\", t1 , \"Type \" , type(t1))\n",
        "print(\"t2 :\", t2 , \"Type \" , type(t2))"
      ]
    },
    {
      "cell_type": "markdown",
      "metadata": {},
      "source": [
        "Comma specifies the python that the given number inside the paranthesis is indeed a tuple not an integer."
      ]
    },
    {
      "cell_type": "markdown",
      "metadata": {
        "id": "hFVvQ7wDGwjw"
      },
      "source": [
        "Intersection & Union\n",
        "\n",
        "•\tLet setA = {1, 2, 3, 4} and setB = {1,2,3}.\n",
        "\n",
        "•\tPrint their intersection using setA & setB.\n",
        "\n",
        "•\tPrint their union using setA | setB.\n"
      ]
    },
    {
      "cell_type": "code",
      "execution_count": 210,
      "metadata": {
        "id": "8UHaev82GwqB"
      },
      "outputs": [],
      "source": [
        "setA = {1,2,3,4}\n",
        "setB = {1,2,3}\n"
      ]
    },
    {
      "cell_type": "code",
      "execution_count": 211,
      "metadata": {},
      "outputs": [
        {
          "name": "stdout",
          "output_type": "stream",
          "text": [
            "{1, 2, 3}\n"
          ]
        }
      ],
      "source": [
        "print(setA & setB)"
      ]
    },
    {
      "cell_type": "code",
      "execution_count": 212,
      "metadata": {},
      "outputs": [
        {
          "name": "stdout",
          "output_type": "stream",
          "text": [
            "{1, 2, 3, 4}\n"
          ]
        }
      ],
      "source": [
        "print(setA | setB)"
      ]
    },
    {
      "cell_type": "markdown",
      "metadata": {
        "id": "WirWGR6WGwve"
      },
      "source": [
        "Subset and Superset\n",
        "\n",
        "•\tCheck if setB is a subset of setA using setB.issubset(setA).\n",
        "\n",
        "•\tCheck if setA is a superset of setB using setA.issuperset(setB).\n",
        "\n",
        "•\tPrint the results.\n"
      ]
    },
    {
      "cell_type": "code",
      "execution_count": 213,
      "metadata": {
        "id": "WDpxrbcHGw13"
      },
      "outputs": [
        {
          "name": "stdout",
          "output_type": "stream",
          "text": [
            "True\n"
          ]
        }
      ],
      "source": [
        "print(setB.issubset(setA))"
      ]
    },
    {
      "cell_type": "code",
      "execution_count": 216,
      "metadata": {},
      "outputs": [
        {
          "name": "stdout",
          "output_type": "stream",
          "text": [
            "True\n"
          ]
        }
      ],
      "source": [
        "print(setA.issuperset(setB))\n",
        "#This must be read as every element in setB is in setA"
      ]
    },
    {
      "cell_type": "markdown",
      "metadata": {
        "id": "6paCr8rPGw-F"
      },
      "source": [
        "Countries and Capitals\n",
        "\n",
        "•\tCreate a dictionary capitals = {\"France\": \"Paris\", \"Germany\": \"Berlin\", \"Italy\": \"Rome\"}.\n",
        "\n",
        "•\tPrint just the keys, then just the values, then all key-value pairs.\n"
      ]
    },
    {
      "cell_type": "code",
      "execution_count": 217,
      "metadata": {
        "id": "5KDKlZJIGxGi"
      },
      "outputs": [],
      "source": [
        "capitals = {\n",
        "    \"France\" :  \"Paris\",\n",
        "    \"Germany\" : \"Berlin\",\n",
        "    \"Italy\" : \"Rome\"\n",
        "}"
      ]
    },
    {
      "cell_type": "code",
      "execution_count": 218,
      "metadata": {},
      "outputs": [
        {
          "name": "stdout",
          "output_type": "stream",
          "text": [
            "dict_keys(['France', 'Germany', 'Italy'])\n"
          ]
        }
      ],
      "source": [
        "print(capitals.keys())"
      ]
    },
    {
      "cell_type": "code",
      "execution_count": 219,
      "metadata": {},
      "outputs": [
        {
          "name": "stdout",
          "output_type": "stream",
          "text": [
            "dict_values(['Paris', 'Berlin', 'Rome'])\n"
          ]
        }
      ],
      "source": [
        "print(capitals.values())"
      ]
    },
    {
      "cell_type": "code",
      "execution_count": 220,
      "metadata": {},
      "outputs": [
        {
          "name": "stdout",
          "output_type": "stream",
          "text": [
            "{'France': 'Paris', 'Germany': 'Berlin', 'Italy': 'Rome'}\n"
          ]
        }
      ],
      "source": [
        "print(capitals)"
      ]
    },
    {
      "cell_type": "markdown",
      "metadata": {
        "id": "Rmq418meHMD-"
      },
      "source": [
        "Summing Dictionary Values\n",
        "\n",
        "•\tCreate a dictionary numbers = {\"x\": 4, \"y\": 10, \"z\": 6}.\n",
        "\n",
        "•\tUse sum(numbers.values()) to sum all values.\n",
        "\n",
        "•\tPrint the sum.\n"
      ]
    },
    {
      "cell_type": "code",
      "execution_count": 221,
      "metadata": {
        "id": "XzWGS5pAHMLL"
      },
      "outputs": [],
      "source": [
        "numbers = {\n",
        "    \"x\" : 4,\n",
        "    \"y\" : 10,\n",
        "    \"z\" : 6\n",
        "}"
      ]
    },
    {
      "cell_type": "code",
      "execution_count": 222,
      "metadata": {},
      "outputs": [],
      "source": [
        "sum = sum(numbers.values())"
      ]
    },
    {
      "cell_type": "code",
      "execution_count": 223,
      "metadata": {},
      "outputs": [
        {
          "name": "stdout",
          "output_type": "stream",
          "text": [
            "20\n"
          ]
        }
      ],
      "source": [
        "print(sum)"
      ]
    },
    {
      "cell_type": "markdown",
      "metadata": {},
      "source": [
        "The End "
      ]
    }
  ],
  "metadata": {
    "colab": {
      "provenance": []
    },
    "kernelspec": {
      "display_name": "modelprep",
      "language": "python",
      "name": "python3"
    },
    "language_info": {
      "codemirror_mode": {
        "name": "ipython",
        "version": 3
      },
      "file_extension": ".py",
      "mimetype": "text/x-python",
      "name": "python",
      "nbconvert_exporter": "python",
      "pygments_lexer": "ipython3",
      "version": "3.10.18"
    }
  },
  "nbformat": 4,
  "nbformat_minor": 0
}
